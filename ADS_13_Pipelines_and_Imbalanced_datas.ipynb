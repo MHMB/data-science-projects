{
  "nbformat": 4,
  "nbformat_minor": 0,
  "metadata": {
    "colab": {
      "provenance": [],
      "toc_visible": true
    },
    "kernelspec": {
      "name": "python3",
      "display_name": "Python 3"
    },
    "language_info": {
      "name": "python"
    }
  },
  "cells": [
    {
      "cell_type": "markdown",
      "source": [
        "# Pipelines, Imbalanced Data and AutoML\n",
        "In this notebook, we are going see some examples on how to use Panda Pipes and Scikit learn's pipelines. Then, we check some of the strategies to deal with imabalanced data. Finally, we check some AutoML tools to help us save time on model selection and tuning."
      ],
      "metadata": {
        "id": "WOLyXwQXI7Vl"
      }
    },
    {
      "cell_type": "markdown",
      "source": [
        "##About the Dataset\n",
        "The dataset we work with in this assignment is orders of **Ubaar** platform. Ubaar is an iranian truck renting plarform. [Here](https://ubaar.ir/) you can visit their platform"
      ],
      "metadata": {
        "id": "QT3iC35-Jmwm"
      }
    },
    {
      "cell_type": "code",
      "execution_count": null,
      "metadata": {
        "colab": {
          "base_uri": "https://localhost:8080/"
        },
        "id": "M1otRpBRIxYB",
        "outputId": "350ab9d4-46cd-4a26-ad6a-d943e77f2237"
      },
      "outputs": [
        {
          "output_type": "stream",
          "name": "stdout",
          "text": [
            "Done!\n"
          ]
        }
      ],
      "source": [
        "#@title Setup Environment\n",
        "import sklearn\n",
        "import pandas as pd\n",
        "import io\n",
        "import os\n",
        "import copy\n",
        "import sklearn\n",
        "import numpy as np\n",
        "import seaborn as sns\n",
        "import matplotlib.pyplot as plt\n",
        "from sklearn.metrics import f1_score, plot_confusion_matrix\n",
        "from sklearn.preprocessing import StandardScaler, MinMaxScaler\n",
        "from sklearn.impute import SimpleImputer\n",
        "%matplotlib inline\n",
        "sns.set(color_codes=True)\n",
        "\n",
        "from google.colab import drive\n",
        "from tqdm.notebook import trange, tqdm\n",
        "from IPython.display import clear_output\n",
        "\n",
        "clear_output()\n",
        "print(\"Done!\")"
      ]
    },
    {
      "cell_type": "code",
      "source": [
        "!pip install xgboost==1.2.0\n",
        "\n",
        "clear_output()\n",
        "print(\"Done!\")"
      ],
      "metadata": {
        "colab": {
          "base_uri": "https://localhost:8080/"
        },
        "id": "7fYL68xuK_mK",
        "outputId": "8abb7e11-f647-474e-d1da-2fa21e876bf8"
      },
      "execution_count": null,
      "outputs": [
        {
          "output_type": "stream",
          "name": "stdout",
          "text": [
            "Done!\n"
          ]
        }
      ]
    },
    {
      "cell_type": "markdown",
      "source": [
        "## Loading the Dataset\n",
        "\n",
        "Now we will load orders dataset from personal google drive. So we must mount the drive and load the dataset from appropriate path."
      ],
      "metadata": {
        "id": "7sJn2TmELeGU"
      }
    },
    {
      "cell_type": "code",
      "source": [
        "#@title Connect to Google Drive\n",
        "\n",
        "drive.mount('/content/drive')"
      ],
      "metadata": {
        "colab": {
          "base_uri": "https://localhost:8080/"
        },
        "id": "ZvA60qo0Lh1V",
        "outputId": "385c956b-1517-47ba-c56c-6dcd619ce865"
      },
      "execution_count": null,
      "outputs": [
        {
          "output_type": "stream",
          "name": "stdout",
          "text": [
            "Drive already mounted at /content/drive; to attempt to forcibly remount, call drive.mount(\"/content/drive\", force_remount=True).\n"
          ]
        }
      ]
    },
    {
      "cell_type": "code",
      "source": [
        "def load_data():\n",
        "  file_path = '/content/drive/MyDrive/Datasets/Ubaar/orders_data.csv'\n",
        "  return pd.read_csv(file_path)"
      ],
      "metadata": {
        "id": "S6GxDxvcaBKH"
      },
      "execution_count": null,
      "outputs": []
    },
    {
      "cell_type": "code",
      "source": [
        "file_path = '/content/drive/MyDrive/Datasets/Ubaar/orders_data.csv'\n",
        "orders_data = load_data()\n",
        "print(\"Orders Dataset Shape: \", orders_data.shape)"
      ],
      "metadata": {
        "colab": {
          "base_uri": "https://localhost:8080/"
        },
        "id": "UvoIoq2ULluI",
        "outputId": "a4bcba56-3251-4ae6-c392-1792c65cf887"
      },
      "execution_count": null,
      "outputs": [
        {
          "output_type": "stream",
          "name": "stdout",
          "text": [
            "Orders Dataset Shape:  (44052, 30)\n"
          ]
        }
      ]
    },
    {
      "cell_type": "markdown",
      "source": [
        "## Getting Some Insights from Our Data\n",
        "\n",
        "Since a good visualization helps a lot in making sense of our data, we will draw some charts to get better insight about the Ubaar orders dataset. Also we will take a brief look at the dataset"
      ],
      "metadata": {
        "id": "mgdHv3MiLjOE"
      }
    },
    {
      "cell_type": "code",
      "source": [
        "orders_data.head(10)"
      ],
      "metadata": {
        "colab": {
          "base_uri": "https://localhost:8080/",
          "height": 627
        },
        "id": "ne-5IN1cLqj6",
        "outputId": "d336d60c-fe6a-4cf2-de80-53f89124a346"
      },
      "execution_count": null,
      "outputs": [
        {
          "output_type": "execute_result",
          "data": {
            "text/plain": [
              "                   Load Type Source City Destination City Source State  \\\n",
              "0                  بار صنعتی         یزد         بندرعباس          یزد   \n",
              "1                  بار صنعتی       قزوین            رودسر        قزوین   \n",
              "2                  بار صنعتی       تهران            همدان        تهران   \n",
              "3                  بار صنعتی         آمل            گرگان     مازندران   \n",
              "4             گلدان پلاستیکی      هشتگرد           اردبیل        البرز   \n",
              "5                  بار صنعتی      کازرون            تهران         فارس   \n",
              "6                  بار صنعتی     خوانسار             دیلم       اصفهان   \n",
              "7                  بار صنعتی      اصفهان       گنبد کاووس       اصفهان   \n",
              "8  انواع رنگ ومواد پاك کننده     اشتهارد             مشهد        البرز   \n",
              "9     انواع سموم وکودشیمیایی       تهران             اراک        تهران   \n",
              "\n",
              "  Destination State       Source Region Destination Region Who Added Role  \\\n",
              "0           هرمزگان                 یزد           بندرعباس      anonymous   \n",
              "1             گیلان               قزوین             چابکسر      anonymous   \n",
              "2             همدان               تهران              همدان      anonymous   \n",
              "3            گلستان                 آمل              گرگان      anonymous   \n",
              "4            اردبیل            پل کردان             اردبیل       baarbari   \n",
              "5             تهران           قیروکازین              تهران      anonymous   \n",
              "6             بوشهر             خوانسار          بندر دیلم      anonymous   \n",
              "7            گلستان              اصفهان         گنبد کاووس      anonymous   \n",
              "8       خراسان رضوی  شهرک صنعتی اشتهارد               مشهد       baarbari   \n",
              "9             مرکزی               تهران               اراک           user   \n",
              "\n",
              "   Driver Income  Weight  ...  Destination Lat  Destination Lng  \\\n",
              "0            0.0    24.0  ...        27.183222        56.266646   \n",
              "1            0.0     5.0  ...        36.980067        50.531772   \n",
              "2            0.0     2.0  ...        34.798857        48.515023   \n",
              "3            0.0    15.0  ...        36.845643        54.439336   \n",
              "4            0.0     2.0  ...        38.256645        48.317509   \n",
              "5            0.0     5.0  ...        35.688905        51.388435   \n",
              "6            0.0    10.0  ...        30.058981        50.167812   \n",
              "7            0.0     5.0  ...        37.238322        55.167322   \n",
              "8      1100000.0     4.0  ...        36.272622        59.600624   \n",
              "9       744000.0    15.0  ...        34.095355        49.701349   \n",
              "\n",
              "  Dispatch Time Delta Pickup Date Time Delta Order Channel  Packaging Type  \\\n",
              "0           23.928889                    NaN           NaN       hichkodam   \n",
              "1           23.970278                    NaN           NaN       hichkodam   \n",
              "2           23.962778                    NaN           NaN       hichkodam   \n",
              "3           23.974722                    NaN           NaN       hichkodam   \n",
              "4           16.749444              68.358889           web          karton   \n",
              "5           23.968056                    NaN           NaN       hichkodam   \n",
              "6           23.978889                    NaN           NaN       hichkodam   \n",
              "7           23.943889                    NaN           NaN       hichkodam   \n",
              "8            0.403056                    NaN       android          falleh   \n",
              "9           39.288611                    NaN       android     kiseh_gooni   \n",
              "\n",
              "                  Creation Datetime Unload Option  Has Comments   Load Status  \n",
              "0  2019-11-05 06:46:15.847289+00:00           NaN             0  reject_price  \n",
              "1  2019-11-05 20:01:46.763769+00:00           NaN             0  reject_price  \n",
              "2  2019-11-06 09:13:13.686217+00:00           NaN             0  reject_price  \n",
              "3  2019-10-31 09:52:30.930302+00:00           NaN             0  reject_price  \n",
              "4  2019-11-20 13:45:01.859383+00:00           day             0     delivered  \n",
              "5  2019-10-31 04:34:54.206605+00:00           NaN             0  reject_price  \n",
              "6  2019-11-02 19:46:15.870573+00:00           NaN             0  reject_price  \n",
              "7  2019-11-03 05:16:21.270880+00:00           NaN             0  reject_price  \n",
              "8  2019-10-15 07:35:48.686186+00:00           day             0     cancelled  \n",
              "9  2019-10-24 13:12:40.461622+00:00           day             1     cancelled  \n",
              "\n",
              "[10 rows x 30 columns]"
            ],
            "text/html": [
              "\n",
              "  <div id=\"df-0c9fff54-7bb1-4f99-a7f4-fa70f8cb2fcb\">\n",
              "    <div class=\"colab-df-container\">\n",
              "      <div>\n",
              "<style scoped>\n",
              "    .dataframe tbody tr th:only-of-type {\n",
              "        vertical-align: middle;\n",
              "    }\n",
              "\n",
              "    .dataframe tbody tr th {\n",
              "        vertical-align: top;\n",
              "    }\n",
              "\n",
              "    .dataframe thead th {\n",
              "        text-align: right;\n",
              "    }\n",
              "</style>\n",
              "<table border=\"1\" class=\"dataframe\">\n",
              "  <thead>\n",
              "    <tr style=\"text-align: right;\">\n",
              "      <th></th>\n",
              "      <th>Load Type</th>\n",
              "      <th>Source City</th>\n",
              "      <th>Destination City</th>\n",
              "      <th>Source State</th>\n",
              "      <th>Destination State</th>\n",
              "      <th>Source Region</th>\n",
              "      <th>Destination Region</th>\n",
              "      <th>Who Added Role</th>\n",
              "      <th>Driver Income</th>\n",
              "      <th>Weight</th>\n",
              "      <th>...</th>\n",
              "      <th>Destination Lat</th>\n",
              "      <th>Destination Lng</th>\n",
              "      <th>Dispatch Time Delta</th>\n",
              "      <th>Pickup Date Time Delta</th>\n",
              "      <th>Order Channel</th>\n",
              "      <th>Packaging Type</th>\n",
              "      <th>Creation Datetime</th>\n",
              "      <th>Unload Option</th>\n",
              "      <th>Has Comments</th>\n",
              "      <th>Load Status</th>\n",
              "    </tr>\n",
              "  </thead>\n",
              "  <tbody>\n",
              "    <tr>\n",
              "      <th>0</th>\n",
              "      <td>بار صنعتی</td>\n",
              "      <td>یزد</td>\n",
              "      <td>بندرعباس</td>\n",
              "      <td>یزد</td>\n",
              "      <td>هرمزگان</td>\n",
              "      <td>یزد</td>\n",
              "      <td>بندرعباس</td>\n",
              "      <td>anonymous</td>\n",
              "      <td>0.0</td>\n",
              "      <td>24.0</td>\n",
              "      <td>...</td>\n",
              "      <td>27.183222</td>\n",
              "      <td>56.266646</td>\n",
              "      <td>23.928889</td>\n",
              "      <td>NaN</td>\n",
              "      <td>NaN</td>\n",
              "      <td>hichkodam</td>\n",
              "      <td>2019-11-05 06:46:15.847289+00:00</td>\n",
              "      <td>NaN</td>\n",
              "      <td>0</td>\n",
              "      <td>reject_price</td>\n",
              "    </tr>\n",
              "    <tr>\n",
              "      <th>1</th>\n",
              "      <td>بار صنعتی</td>\n",
              "      <td>قزوین</td>\n",
              "      <td>رودسر</td>\n",
              "      <td>قزوین</td>\n",
              "      <td>گیلان</td>\n",
              "      <td>قزوین</td>\n",
              "      <td>چابکسر</td>\n",
              "      <td>anonymous</td>\n",
              "      <td>0.0</td>\n",
              "      <td>5.0</td>\n",
              "      <td>...</td>\n",
              "      <td>36.980067</td>\n",
              "      <td>50.531772</td>\n",
              "      <td>23.970278</td>\n",
              "      <td>NaN</td>\n",
              "      <td>NaN</td>\n",
              "      <td>hichkodam</td>\n",
              "      <td>2019-11-05 20:01:46.763769+00:00</td>\n",
              "      <td>NaN</td>\n",
              "      <td>0</td>\n",
              "      <td>reject_price</td>\n",
              "    </tr>\n",
              "    <tr>\n",
              "      <th>2</th>\n",
              "      <td>بار صنعتی</td>\n",
              "      <td>تهران</td>\n",
              "      <td>همدان</td>\n",
              "      <td>تهران</td>\n",
              "      <td>همدان</td>\n",
              "      <td>تهران</td>\n",
              "      <td>همدان</td>\n",
              "      <td>anonymous</td>\n",
              "      <td>0.0</td>\n",
              "      <td>2.0</td>\n",
              "      <td>...</td>\n",
              "      <td>34.798857</td>\n",
              "      <td>48.515023</td>\n",
              "      <td>23.962778</td>\n",
              "      <td>NaN</td>\n",
              "      <td>NaN</td>\n",
              "      <td>hichkodam</td>\n",
              "      <td>2019-11-06 09:13:13.686217+00:00</td>\n",
              "      <td>NaN</td>\n",
              "      <td>0</td>\n",
              "      <td>reject_price</td>\n",
              "    </tr>\n",
              "    <tr>\n",
              "      <th>3</th>\n",
              "      <td>بار صنعتی</td>\n",
              "      <td>آمل</td>\n",
              "      <td>گرگان</td>\n",
              "      <td>مازندران</td>\n",
              "      <td>گلستان</td>\n",
              "      <td>آمل</td>\n",
              "      <td>گرگان</td>\n",
              "      <td>anonymous</td>\n",
              "      <td>0.0</td>\n",
              "      <td>15.0</td>\n",
              "      <td>...</td>\n",
              "      <td>36.845643</td>\n",
              "      <td>54.439336</td>\n",
              "      <td>23.974722</td>\n",
              "      <td>NaN</td>\n",
              "      <td>NaN</td>\n",
              "      <td>hichkodam</td>\n",
              "      <td>2019-10-31 09:52:30.930302+00:00</td>\n",
              "      <td>NaN</td>\n",
              "      <td>0</td>\n",
              "      <td>reject_price</td>\n",
              "    </tr>\n",
              "    <tr>\n",
              "      <th>4</th>\n",
              "      <td>گلدان پلاستیکی</td>\n",
              "      <td>هشتگرد</td>\n",
              "      <td>اردبیل</td>\n",
              "      <td>البرز</td>\n",
              "      <td>اردبیل</td>\n",
              "      <td>پل کردان</td>\n",
              "      <td>اردبیل</td>\n",
              "      <td>baarbari</td>\n",
              "      <td>0.0</td>\n",
              "      <td>2.0</td>\n",
              "      <td>...</td>\n",
              "      <td>38.256645</td>\n",
              "      <td>48.317509</td>\n",
              "      <td>16.749444</td>\n",
              "      <td>68.358889</td>\n",
              "      <td>web</td>\n",
              "      <td>karton</td>\n",
              "      <td>2019-11-20 13:45:01.859383+00:00</td>\n",
              "      <td>day</td>\n",
              "      <td>0</td>\n",
              "      <td>delivered</td>\n",
              "    </tr>\n",
              "    <tr>\n",
              "      <th>5</th>\n",
              "      <td>بار صنعتی</td>\n",
              "      <td>کازرون</td>\n",
              "      <td>تهران</td>\n",
              "      <td>فارس</td>\n",
              "      <td>تهران</td>\n",
              "      <td>قیروکازین</td>\n",
              "      <td>تهران</td>\n",
              "      <td>anonymous</td>\n",
              "      <td>0.0</td>\n",
              "      <td>5.0</td>\n",
              "      <td>...</td>\n",
              "      <td>35.688905</td>\n",
              "      <td>51.388435</td>\n",
              "      <td>23.968056</td>\n",
              "      <td>NaN</td>\n",
              "      <td>NaN</td>\n",
              "      <td>hichkodam</td>\n",
              "      <td>2019-10-31 04:34:54.206605+00:00</td>\n",
              "      <td>NaN</td>\n",
              "      <td>0</td>\n",
              "      <td>reject_price</td>\n",
              "    </tr>\n",
              "    <tr>\n",
              "      <th>6</th>\n",
              "      <td>بار صنعتی</td>\n",
              "      <td>خوانسار</td>\n",
              "      <td>دیلم</td>\n",
              "      <td>اصفهان</td>\n",
              "      <td>بوشهر</td>\n",
              "      <td>خوانسار</td>\n",
              "      <td>بندر دیلم</td>\n",
              "      <td>anonymous</td>\n",
              "      <td>0.0</td>\n",
              "      <td>10.0</td>\n",
              "      <td>...</td>\n",
              "      <td>30.058981</td>\n",
              "      <td>50.167812</td>\n",
              "      <td>23.978889</td>\n",
              "      <td>NaN</td>\n",
              "      <td>NaN</td>\n",
              "      <td>hichkodam</td>\n",
              "      <td>2019-11-02 19:46:15.870573+00:00</td>\n",
              "      <td>NaN</td>\n",
              "      <td>0</td>\n",
              "      <td>reject_price</td>\n",
              "    </tr>\n",
              "    <tr>\n",
              "      <th>7</th>\n",
              "      <td>بار صنعتی</td>\n",
              "      <td>اصفهان</td>\n",
              "      <td>گنبد کاووس</td>\n",
              "      <td>اصفهان</td>\n",
              "      <td>گلستان</td>\n",
              "      <td>اصفهان</td>\n",
              "      <td>گنبد کاووس</td>\n",
              "      <td>anonymous</td>\n",
              "      <td>0.0</td>\n",
              "      <td>5.0</td>\n",
              "      <td>...</td>\n",
              "      <td>37.238322</td>\n",
              "      <td>55.167322</td>\n",
              "      <td>23.943889</td>\n",
              "      <td>NaN</td>\n",
              "      <td>NaN</td>\n",
              "      <td>hichkodam</td>\n",
              "      <td>2019-11-03 05:16:21.270880+00:00</td>\n",
              "      <td>NaN</td>\n",
              "      <td>0</td>\n",
              "      <td>reject_price</td>\n",
              "    </tr>\n",
              "    <tr>\n",
              "      <th>8</th>\n",
              "      <td>انواع رنگ ومواد پاك کننده</td>\n",
              "      <td>اشتهارد</td>\n",
              "      <td>مشهد</td>\n",
              "      <td>البرز</td>\n",
              "      <td>خراسان رضوی</td>\n",
              "      <td>شهرک صنعتی اشتهارد</td>\n",
              "      <td>مشهد</td>\n",
              "      <td>baarbari</td>\n",
              "      <td>1100000.0</td>\n",
              "      <td>4.0</td>\n",
              "      <td>...</td>\n",
              "      <td>36.272622</td>\n",
              "      <td>59.600624</td>\n",
              "      <td>0.403056</td>\n",
              "      <td>NaN</td>\n",
              "      <td>android</td>\n",
              "      <td>falleh</td>\n",
              "      <td>2019-10-15 07:35:48.686186+00:00</td>\n",
              "      <td>day</td>\n",
              "      <td>0</td>\n",
              "      <td>cancelled</td>\n",
              "    </tr>\n",
              "    <tr>\n",
              "      <th>9</th>\n",
              "      <td>انواع سموم وکودشیمیایی</td>\n",
              "      <td>تهران</td>\n",
              "      <td>اراک</td>\n",
              "      <td>تهران</td>\n",
              "      <td>مرکزی</td>\n",
              "      <td>تهران</td>\n",
              "      <td>اراک</td>\n",
              "      <td>user</td>\n",
              "      <td>744000.0</td>\n",
              "      <td>15.0</td>\n",
              "      <td>...</td>\n",
              "      <td>34.095355</td>\n",
              "      <td>49.701349</td>\n",
              "      <td>39.288611</td>\n",
              "      <td>NaN</td>\n",
              "      <td>android</td>\n",
              "      <td>kiseh_gooni</td>\n",
              "      <td>2019-10-24 13:12:40.461622+00:00</td>\n",
              "      <td>day</td>\n",
              "      <td>1</td>\n",
              "      <td>cancelled</td>\n",
              "    </tr>\n",
              "  </tbody>\n",
              "</table>\n",
              "<p>10 rows × 30 columns</p>\n",
              "</div>\n",
              "      <button class=\"colab-df-convert\" onclick=\"convertToInteractive('df-0c9fff54-7bb1-4f99-a7f4-fa70f8cb2fcb')\"\n",
              "              title=\"Convert this dataframe to an interactive table.\"\n",
              "              style=\"display:none;\">\n",
              "        \n",
              "  <svg xmlns=\"http://www.w3.org/2000/svg\" height=\"24px\"viewBox=\"0 0 24 24\"\n",
              "       width=\"24px\">\n",
              "    <path d=\"M0 0h24v24H0V0z\" fill=\"none\"/>\n",
              "    <path d=\"M18.56 5.44l.94 2.06.94-2.06 2.06-.94-2.06-.94-.94-2.06-.94 2.06-2.06.94zm-11 1L8.5 8.5l.94-2.06 2.06-.94-2.06-.94L8.5 2.5l-.94 2.06-2.06.94zm10 10l.94 2.06.94-2.06 2.06-.94-2.06-.94-.94-2.06-.94 2.06-2.06.94z\"/><path d=\"M17.41 7.96l-1.37-1.37c-.4-.4-.92-.59-1.43-.59-.52 0-1.04.2-1.43.59L10.3 9.45l-7.72 7.72c-.78.78-.78 2.05 0 2.83L4 21.41c.39.39.9.59 1.41.59.51 0 1.02-.2 1.41-.59l7.78-7.78 2.81-2.81c.8-.78.8-2.07 0-2.86zM5.41 20L4 18.59l7.72-7.72 1.47 1.35L5.41 20z\"/>\n",
              "  </svg>\n",
              "      </button>\n",
              "      \n",
              "  <style>\n",
              "    .colab-df-container {\n",
              "      display:flex;\n",
              "      flex-wrap:wrap;\n",
              "      gap: 12px;\n",
              "    }\n",
              "\n",
              "    .colab-df-convert {\n",
              "      background-color: #E8F0FE;\n",
              "      border: none;\n",
              "      border-radius: 50%;\n",
              "      cursor: pointer;\n",
              "      display: none;\n",
              "      fill: #1967D2;\n",
              "      height: 32px;\n",
              "      padding: 0 0 0 0;\n",
              "      width: 32px;\n",
              "    }\n",
              "\n",
              "    .colab-df-convert:hover {\n",
              "      background-color: #E2EBFA;\n",
              "      box-shadow: 0px 1px 2px rgba(60, 64, 67, 0.3), 0px 1px 3px 1px rgba(60, 64, 67, 0.15);\n",
              "      fill: #174EA6;\n",
              "    }\n",
              "\n",
              "    [theme=dark] .colab-df-convert {\n",
              "      background-color: #3B4455;\n",
              "      fill: #D2E3FC;\n",
              "    }\n",
              "\n",
              "    [theme=dark] .colab-df-convert:hover {\n",
              "      background-color: #434B5C;\n",
              "      box-shadow: 0px 1px 3px 1px rgba(0, 0, 0, 0.15);\n",
              "      filter: drop-shadow(0px 1px 2px rgba(0, 0, 0, 0.3));\n",
              "      fill: #FFFFFF;\n",
              "    }\n",
              "  </style>\n",
              "\n",
              "      <script>\n",
              "        const buttonEl =\n",
              "          document.querySelector('#df-0c9fff54-7bb1-4f99-a7f4-fa70f8cb2fcb button.colab-df-convert');\n",
              "        buttonEl.style.display =\n",
              "          google.colab.kernel.accessAllowed ? 'block' : 'none';\n",
              "\n",
              "        async function convertToInteractive(key) {\n",
              "          const element = document.querySelector('#df-0c9fff54-7bb1-4f99-a7f4-fa70f8cb2fcb');\n",
              "          const dataTable =\n",
              "            await google.colab.kernel.invokeFunction('convertToInteractive',\n",
              "                                                     [key], {});\n",
              "          if (!dataTable) return;\n",
              "\n",
              "          const docLinkHtml = 'Like what you see? Visit the ' +\n",
              "            '<a target=\"_blank\" href=https://colab.research.google.com/notebooks/data_table.ipynb>data table notebook</a>'\n",
              "            + ' to learn more about interactive tables.';\n",
              "          element.innerHTML = '';\n",
              "          dataTable['output_type'] = 'display_data';\n",
              "          await google.colab.output.renderOutput(dataTable, element);\n",
              "          const docLink = document.createElement('div');\n",
              "          docLink.innerHTML = docLinkHtml;\n",
              "          element.appendChild(docLink);\n",
              "        }\n",
              "      </script>\n",
              "    </div>\n",
              "  </div>\n",
              "  "
            ]
          },
          "metadata": {},
          "execution_count": 6
        }
      ]
    },
    {
      "cell_type": "code",
      "source": [
        "orders_data.describe()"
      ],
      "metadata": {
        "colab": {
          "base_uri": "https://localhost:8080/",
          "height": 300
        },
        "id": "5_Mb_55cLv8Z",
        "outputId": "3e5d231e-ae5a-47b6-92fd-762a41e5d7a7"
      },
      "execution_count": null,
      "outputs": [
        {
          "output_type": "execute_result",
          "data": {
            "text/plain": [
              "       Driver Income        Weight      Distance      Duration  \\\n",
              "count   4.405200e+04  44052.000000  44052.000000  44052.000000   \n",
              "mean    3.677479e+11      7.860764    486.471045      5.681138   \n",
              "std     7.718487e+13      7.912958    440.643799      4.893344   \n",
              "min     0.000000e+00      0.020000      0.000000      0.000000   \n",
              "25%     0.000000e+00      2.000000     50.000000      1.000000   \n",
              "50%     1.800000e+05      4.000000    442.701000      4.861806   \n",
              "75%     1.000000e+06     11.000000    817.966000      9.536319   \n",
              "max     1.620000e+16     25.000000   2622.035000     28.618889   \n",
              "\n",
              "       Transport Cost    Source Lat    Source Lng  Destination Lat  \\\n",
              "count    4.405200e+04  44052.000000  44052.000000     44052.000000   \n",
              "mean     3.677479e+11     34.751266     51.545719        34.018325   \n",
              "std      7.718487e+13      2.201000      2.750519         3.039853   \n",
              "min      0.000000e+00     24.494214     28.953026        24.494214   \n",
              "25%      0.000000e+00     33.640419     50.681933        32.198349   \n",
              "50%      1.850000e+05     35.688905     51.388435        35.490586   \n",
              "75%      1.000000e+06     35.837669     51.667983        36.271035   \n",
              "max      1.620000e+16     41.052112     69.870829        41.052112   \n",
              "\n",
              "       Destination Lng  Dispatch Time Delta  Pickup Date Time Delta  \\\n",
              "count     44052.000000         44052.000000             2808.000000   \n",
              "mean         51.926935            28.755725               27.093312   \n",
              "std           3.837871            59.757645               22.847216   \n",
              "min          28.953026            -4.676944                0.006667   \n",
              "25%          49.587414             3.048333               17.518611   \n",
              "50%          51.388435            18.008333               21.120972   \n",
              "75%          53.031317            24.240069               29.626528   \n",
              "max          69.870829          2204.550833              481.925000   \n",
              "\n",
              "       Has Comments  \n",
              "count  44052.000000  \n",
              "mean       0.362458  \n",
              "std        0.480716  \n",
              "min        0.000000  \n",
              "25%        0.000000  \n",
              "50%        0.000000  \n",
              "75%        1.000000  \n",
              "max        1.000000  "
            ],
            "text/html": [
              "\n",
              "  <div id=\"df-dfba2d6e-f552-4c22-95ca-3d4c83b08aa8\">\n",
              "    <div class=\"colab-df-container\">\n",
              "      <div>\n",
              "<style scoped>\n",
              "    .dataframe tbody tr th:only-of-type {\n",
              "        vertical-align: middle;\n",
              "    }\n",
              "\n",
              "    .dataframe tbody tr th {\n",
              "        vertical-align: top;\n",
              "    }\n",
              "\n",
              "    .dataframe thead th {\n",
              "        text-align: right;\n",
              "    }\n",
              "</style>\n",
              "<table border=\"1\" class=\"dataframe\">\n",
              "  <thead>\n",
              "    <tr style=\"text-align: right;\">\n",
              "      <th></th>\n",
              "      <th>Driver Income</th>\n",
              "      <th>Weight</th>\n",
              "      <th>Distance</th>\n",
              "      <th>Duration</th>\n",
              "      <th>Transport Cost</th>\n",
              "      <th>Source Lat</th>\n",
              "      <th>Source Lng</th>\n",
              "      <th>Destination Lat</th>\n",
              "      <th>Destination Lng</th>\n",
              "      <th>Dispatch Time Delta</th>\n",
              "      <th>Pickup Date Time Delta</th>\n",
              "      <th>Has Comments</th>\n",
              "    </tr>\n",
              "  </thead>\n",
              "  <tbody>\n",
              "    <tr>\n",
              "      <th>count</th>\n",
              "      <td>4.405200e+04</td>\n",
              "      <td>44052.000000</td>\n",
              "      <td>44052.000000</td>\n",
              "      <td>44052.000000</td>\n",
              "      <td>4.405200e+04</td>\n",
              "      <td>44052.000000</td>\n",
              "      <td>44052.000000</td>\n",
              "      <td>44052.000000</td>\n",
              "      <td>44052.000000</td>\n",
              "      <td>44052.000000</td>\n",
              "      <td>2808.000000</td>\n",
              "      <td>44052.000000</td>\n",
              "    </tr>\n",
              "    <tr>\n",
              "      <th>mean</th>\n",
              "      <td>3.677479e+11</td>\n",
              "      <td>7.860764</td>\n",
              "      <td>486.471045</td>\n",
              "      <td>5.681138</td>\n",
              "      <td>3.677479e+11</td>\n",
              "      <td>34.751266</td>\n",
              "      <td>51.545719</td>\n",
              "      <td>34.018325</td>\n",
              "      <td>51.926935</td>\n",
              "      <td>28.755725</td>\n",
              "      <td>27.093312</td>\n",
              "      <td>0.362458</td>\n",
              "    </tr>\n",
              "    <tr>\n",
              "      <th>std</th>\n",
              "      <td>7.718487e+13</td>\n",
              "      <td>7.912958</td>\n",
              "      <td>440.643799</td>\n",
              "      <td>4.893344</td>\n",
              "      <td>7.718487e+13</td>\n",
              "      <td>2.201000</td>\n",
              "      <td>2.750519</td>\n",
              "      <td>3.039853</td>\n",
              "      <td>3.837871</td>\n",
              "      <td>59.757645</td>\n",
              "      <td>22.847216</td>\n",
              "      <td>0.480716</td>\n",
              "    </tr>\n",
              "    <tr>\n",
              "      <th>min</th>\n",
              "      <td>0.000000e+00</td>\n",
              "      <td>0.020000</td>\n",
              "      <td>0.000000</td>\n",
              "      <td>0.000000</td>\n",
              "      <td>0.000000e+00</td>\n",
              "      <td>24.494214</td>\n",
              "      <td>28.953026</td>\n",
              "      <td>24.494214</td>\n",
              "      <td>28.953026</td>\n",
              "      <td>-4.676944</td>\n",
              "      <td>0.006667</td>\n",
              "      <td>0.000000</td>\n",
              "    </tr>\n",
              "    <tr>\n",
              "      <th>25%</th>\n",
              "      <td>0.000000e+00</td>\n",
              "      <td>2.000000</td>\n",
              "      <td>50.000000</td>\n",
              "      <td>1.000000</td>\n",
              "      <td>0.000000e+00</td>\n",
              "      <td>33.640419</td>\n",
              "      <td>50.681933</td>\n",
              "      <td>32.198349</td>\n",
              "      <td>49.587414</td>\n",
              "      <td>3.048333</td>\n",
              "      <td>17.518611</td>\n",
              "      <td>0.000000</td>\n",
              "    </tr>\n",
              "    <tr>\n",
              "      <th>50%</th>\n",
              "      <td>1.800000e+05</td>\n",
              "      <td>4.000000</td>\n",
              "      <td>442.701000</td>\n",
              "      <td>4.861806</td>\n",
              "      <td>1.850000e+05</td>\n",
              "      <td>35.688905</td>\n",
              "      <td>51.388435</td>\n",
              "      <td>35.490586</td>\n",
              "      <td>51.388435</td>\n",
              "      <td>18.008333</td>\n",
              "      <td>21.120972</td>\n",
              "      <td>0.000000</td>\n",
              "    </tr>\n",
              "    <tr>\n",
              "      <th>75%</th>\n",
              "      <td>1.000000e+06</td>\n",
              "      <td>11.000000</td>\n",
              "      <td>817.966000</td>\n",
              "      <td>9.536319</td>\n",
              "      <td>1.000000e+06</td>\n",
              "      <td>35.837669</td>\n",
              "      <td>51.667983</td>\n",
              "      <td>36.271035</td>\n",
              "      <td>53.031317</td>\n",
              "      <td>24.240069</td>\n",
              "      <td>29.626528</td>\n",
              "      <td>1.000000</td>\n",
              "    </tr>\n",
              "    <tr>\n",
              "      <th>max</th>\n",
              "      <td>1.620000e+16</td>\n",
              "      <td>25.000000</td>\n",
              "      <td>2622.035000</td>\n",
              "      <td>28.618889</td>\n",
              "      <td>1.620000e+16</td>\n",
              "      <td>41.052112</td>\n",
              "      <td>69.870829</td>\n",
              "      <td>41.052112</td>\n",
              "      <td>69.870829</td>\n",
              "      <td>2204.550833</td>\n",
              "      <td>481.925000</td>\n",
              "      <td>1.000000</td>\n",
              "    </tr>\n",
              "  </tbody>\n",
              "</table>\n",
              "</div>\n",
              "      <button class=\"colab-df-convert\" onclick=\"convertToInteractive('df-dfba2d6e-f552-4c22-95ca-3d4c83b08aa8')\"\n",
              "              title=\"Convert this dataframe to an interactive table.\"\n",
              "              style=\"display:none;\">\n",
              "        \n",
              "  <svg xmlns=\"http://www.w3.org/2000/svg\" height=\"24px\"viewBox=\"0 0 24 24\"\n",
              "       width=\"24px\">\n",
              "    <path d=\"M0 0h24v24H0V0z\" fill=\"none\"/>\n",
              "    <path d=\"M18.56 5.44l.94 2.06.94-2.06 2.06-.94-2.06-.94-.94-2.06-.94 2.06-2.06.94zm-11 1L8.5 8.5l.94-2.06 2.06-.94-2.06-.94L8.5 2.5l-.94 2.06-2.06.94zm10 10l.94 2.06.94-2.06 2.06-.94-2.06-.94-.94-2.06-.94 2.06-2.06.94z\"/><path d=\"M17.41 7.96l-1.37-1.37c-.4-.4-.92-.59-1.43-.59-.52 0-1.04.2-1.43.59L10.3 9.45l-7.72 7.72c-.78.78-.78 2.05 0 2.83L4 21.41c.39.39.9.59 1.41.59.51 0 1.02-.2 1.41-.59l7.78-7.78 2.81-2.81c.8-.78.8-2.07 0-2.86zM5.41 20L4 18.59l7.72-7.72 1.47 1.35L5.41 20z\"/>\n",
              "  </svg>\n",
              "      </button>\n",
              "      \n",
              "  <style>\n",
              "    .colab-df-container {\n",
              "      display:flex;\n",
              "      flex-wrap:wrap;\n",
              "      gap: 12px;\n",
              "    }\n",
              "\n",
              "    .colab-df-convert {\n",
              "      background-color: #E8F0FE;\n",
              "      border: none;\n",
              "      border-radius: 50%;\n",
              "      cursor: pointer;\n",
              "      display: none;\n",
              "      fill: #1967D2;\n",
              "      height: 32px;\n",
              "      padding: 0 0 0 0;\n",
              "      width: 32px;\n",
              "    }\n",
              "\n",
              "    .colab-df-convert:hover {\n",
              "      background-color: #E2EBFA;\n",
              "      box-shadow: 0px 1px 2px rgba(60, 64, 67, 0.3), 0px 1px 3px 1px rgba(60, 64, 67, 0.15);\n",
              "      fill: #174EA6;\n",
              "    }\n",
              "\n",
              "    [theme=dark] .colab-df-convert {\n",
              "      background-color: #3B4455;\n",
              "      fill: #D2E3FC;\n",
              "    }\n",
              "\n",
              "    [theme=dark] .colab-df-convert:hover {\n",
              "      background-color: #434B5C;\n",
              "      box-shadow: 0px 1px 3px 1px rgba(0, 0, 0, 0.15);\n",
              "      filter: drop-shadow(0px 1px 2px rgba(0, 0, 0, 0.3));\n",
              "      fill: #FFFFFF;\n",
              "    }\n",
              "  </style>\n",
              "\n",
              "      <script>\n",
              "        const buttonEl =\n",
              "          document.querySelector('#df-dfba2d6e-f552-4c22-95ca-3d4c83b08aa8 button.colab-df-convert');\n",
              "        buttonEl.style.display =\n",
              "          google.colab.kernel.accessAllowed ? 'block' : 'none';\n",
              "\n",
              "        async function convertToInteractive(key) {\n",
              "          const element = document.querySelector('#df-dfba2d6e-f552-4c22-95ca-3d4c83b08aa8');\n",
              "          const dataTable =\n",
              "            await google.colab.kernel.invokeFunction('convertToInteractive',\n",
              "                                                     [key], {});\n",
              "          if (!dataTable) return;\n",
              "\n",
              "          const docLinkHtml = 'Like what you see? Visit the ' +\n",
              "            '<a target=\"_blank\" href=https://colab.research.google.com/notebooks/data_table.ipynb>data table notebook</a>'\n",
              "            + ' to learn more about interactive tables.';\n",
              "          element.innerHTML = '';\n",
              "          dataTable['output_type'] = 'display_data';\n",
              "          await google.colab.output.renderOutput(dataTable, element);\n",
              "          const docLink = document.createElement('div');\n",
              "          docLink.innerHTML = docLinkHtml;\n",
              "          element.appendChild(docLink);\n",
              "        }\n",
              "      </script>\n",
              "    </div>\n",
              "  </div>\n",
              "  "
            ]
          },
          "metadata": {},
          "execution_count": 7
        }
      ]
    },
    {
      "cell_type": "code",
      "source": [
        "orders_data.info()"
      ],
      "metadata": {
        "colab": {
          "base_uri": "https://localhost:8080/"
        },
        "id": "RfdYRsrKPKTS",
        "outputId": "22be6f98-c349-4a4f-b152-a1ca83ff5eaf"
      },
      "execution_count": null,
      "outputs": [
        {
          "output_type": "stream",
          "name": "stdout",
          "text": [
            "<class 'pandas.core.frame.DataFrame'>\n",
            "RangeIndex: 44052 entries, 0 to 44051\n",
            "Data columns (total 30 columns):\n",
            " #   Column                  Non-Null Count  Dtype  \n",
            "---  ------                  --------------  -----  \n",
            " 0   Load Type               44052 non-null  object \n",
            " 1   Source City             44052 non-null  object \n",
            " 2   Destination City        44052 non-null  object \n",
            " 3   Source State            44052 non-null  object \n",
            " 4   Destination State       44052 non-null  object \n",
            " 5   Source Region           44052 non-null  object \n",
            " 6   Destination Region      44052 non-null  object \n",
            " 7   Who Added Role          44052 non-null  object \n",
            " 8   Driver Income           44052 non-null  float64\n",
            " 9   Weight                  44052 non-null  float64\n",
            " 10  Distance                44052 non-null  float64\n",
            " 11  Duration                44052 non-null  float64\n",
            " 12  Vehicle Type            44052 non-null  object \n",
            " 13  Vehicle Options         44052 non-null  object \n",
            " 14  Baarnameh Type          38366 non-null  object \n",
            " 15  Transport Cost          44052 non-null  float64\n",
            " 16  Dispatch Date           44052 non-null  object \n",
            " 17  Dipatch Time            44052 non-null  object \n",
            " 18  Source Lat              44052 non-null  float64\n",
            " 19  Source Lng              44052 non-null  float64\n",
            " 20  Destination Lat         44052 non-null  float64\n",
            " 21  Destination Lng         44052 non-null  float64\n",
            " 22  Dispatch Time Delta     44052 non-null  float64\n",
            " 23  Pickup Date Time Delta  2808 non-null   float64\n",
            " 24  Order Channel           35868 non-null  object \n",
            " 25  Packaging Type          44052 non-null  object \n",
            " 26  Creation Datetime       44052 non-null  object \n",
            " 27  Unload Option           37949 non-null  object \n",
            " 28  Has Comments            44052 non-null  int64  \n",
            " 29  Load Status             44052 non-null  object \n",
            "dtypes: float64(11), int64(1), object(18)\n",
            "memory usage: 10.1+ MB\n"
          ]
        }
      ]
    },
    {
      "cell_type": "markdown",
      "source": [
        "It is now time to do some EDA! We just play with different data columns to get more sense about our data."
      ],
      "metadata": {
        "id": "cRiuEbqNMMgj"
      }
    },
    {
      "cell_type": "markdown",
      "source": [
        "Finally, let's check the distribution of packaging types"
      ],
      "metadata": {
        "id": "8vVxA4WeMWau"
      }
    },
    {
      "cell_type": "code",
      "source": [
        "orders_data['Packaging Type'].value_counts().plot.pie(autopct='%1.0f%%',radius=2,ylabel='')\n",
        "plt.title('Packaging Type', y=1.5,fontsize=16)\n",
        "plt.show()"
      ],
      "metadata": {
        "colab": {
          "base_uri": "https://localhost:8080/",
          "height": 447
        },
        "id": "5qS8eIsVMMMV",
        "outputId": "a8339ec9-ec6b-4f10-f075-e95e58ffe73c"
      },
      "execution_count": null,
      "outputs": [
        {
          "output_type": "display_data",
          "data": {
            "text/plain": [
              "<Figure size 432x288 with 1 Axes>"
            ],
            "image/png": "[encoded data removed]"
          },
          "metadata": {}
        }
      ]
    },
    {
      "cell_type": "code",
      "source": [
        "print('Total number of unique positions: %d' %len(orders_data['Packaging Type'].unique()))"
      ],
      "metadata": {
        "colab": {
          "base_uri": "https://localhost:8080/"
        },
        "id": "N_dckJWnMkQE",
        "outputId": "bb991d75-9431-42a3-ca9b-019af04b9579"
      },
      "execution_count": null,
      "outputs": [
        {
          "output_type": "stream",
          "name": "stdout",
          "text": [
            "Total number of unique positions: 7\n"
          ]
        }
      ]
    },
    {
      "cell_type": "markdown",
      "source": [
        "##Panda Pipes\n",
        "\n",
        "In the previous assignments notebook, we performed everything in code blocks. Now let's see how we can achieve the same with panda pipes\n",
        "\n",
        "Now let's define some functions, and join them to build a pipeline."
      ],
      "metadata": {
        "id": "DMSWCCWxM0Qg"
      }
    },
    {
      "cell_type": "code",
      "source": [
        "#@title Reformat Date and Time Columns Utilities\n",
        "def reformat_date(date):\n",
        "  return date.replace(\"-\", '')\n",
        "\n",
        "def reformat_time(time):\n",
        "  time = time.replace(\":\", '')\n",
        "  return time[:-2]\n",
        "\n",
        "def reformat_datetime(datetime):\n",
        "  return datetime[:datetime.find('.')]\n",
        "\n",
        "def extract_date(datetime):\n",
        "  return datetime[:datetime.find(' ')]\n",
        "\n",
        "def extract_time(datetime):\n",
        "  return datetime[datetime.find(' '):]\n",
        "\n",
        "def extract_day(date):\n",
        "  return int(date[-2:])\n",
        "\n",
        "def extract_month(date):\n",
        "  return int(date[-4:-2])\n",
        "\n",
        "def extract_year(date):\n",
        "  return int(date[:4])\n",
        "\n",
        "def extract_hour(time):\n",
        "  return int(time[:-2])\n",
        "\n",
        "def extract_mins(time):\n",
        "  return int(time[-2:])"
      ],
      "metadata": {
        "id": "cHlvFFGgammy"
      },
      "execution_count": null,
      "outputs": []
    },
    {
      "cell_type": "markdown",
      "source": [],
      "metadata": {
        "id": "8LlKAzMbNR_r"
      }
    },
    {
      "cell_type": "code",
      "source": [
        "def reformat_date_times(input_df):\n",
        "  input_df['Dispatch Date'] = input_df['Dispatch Date'].apply(reformat_date)\n",
        "  input_df['Dipatch Time'] = input_df['Dipatch Time'].apply(reformat_time)\n",
        "\n",
        "  input_df['Creation Datetime'] = input_df['Creation Datetime'].apply(reformat_datetime)\n",
        "\n",
        "  input_df['Creation Date'] = input_df['Creation Datetime'].apply(extract_date)\n",
        "  input_df['Creation Time'] = input_df['Creation Datetime'].apply(extract_time)\n",
        "  input_df['Creation Date'] = input_df['Creation Date'].apply(reformat_date)\n",
        "  input_df['Creation Time'] = input_df['Creation Time'].apply(reformat_time)\n",
        "\n",
        "  input_df['Dispatch Month'] = input_df['Dispatch Date'].apply(extract_month)\n",
        "  input_df['Dispatch Day'] = input_df['Dispatch Date'].apply(extract_day)\n",
        "  input_df['Creation Month'] = input_df['Creation Date'].apply(extract_month)\n",
        "  input_df['Creation Day'] = input_df['Creation Date'].apply(extract_day)\n",
        "\n",
        "  input_df['Dispatch Hour'] = input_df['Dipatch Time'].apply(extract_hour)\n",
        "  input_df['Dispatch Minuts'] = input_df['Dipatch Time'].apply(extract_mins)\n",
        "  input_df['Creation Hour'] = input_df['Creation Time'].apply(extract_hour)\n",
        "  input_df['Creation Minuts'] = input_df['Creation Time'].apply(extract_mins)\n",
        "\n",
        "  to_drop_columns = ['Dispatch Date','Dipatch Time', 'Creation Datetime', 'Creation Date', 'Creation Time']\n",
        "  input_df.drop(to_drop_columns, axis=1, inplace=True)\n",
        "  return input_df\n"
      ],
      "metadata": {
        "id": "-ovjMDcGNSVf"
      },
      "execution_count": null,
      "outputs": []
    },
    {
      "cell_type": "code",
      "source": [
        "def fill_categorical_nulls(input_df):\n",
        "  input_df['Order Channel'] = input_df['Order Channel'].fillna('Unknown')\n",
        "  input_df['Baarnameh Type'] = input_df['Baarnameh Type'].fillna('Unknown')\n",
        "  input_df['Unload Option'] = input_df['Unload Option'].fillna('Not_Have')\n",
        "  input_df['Pickup Date Time Delta'] = input_df['Pickup Date Time Delta'].fillna(0)\n",
        "  return input_df"
      ],
      "metadata": {
        "id": "53WMTbAbOgh4"
      },
      "execution_count": null,
      "outputs": []
    },
    {
      "cell_type": "code",
      "source": [
        "from sklearn import preprocessing\n",
        "\n",
        "def encode_categorical_data(input_df):\n",
        "  input_df['vehicle_typ_enc'] = input_df['Vehicle Type'].astype('category').cat.codes\n",
        "  input_df['baarnameh_typ_enc'] = input_df['Baarnameh Type'].astype('category').cat.codes\n",
        "  input_df['order_channel_enc'] = input_df['Order Channel'].astype('category').cat.codes\n",
        "  input_df['unload_option_enc'] = input_df['Unload Option'].astype('category').cat.codes\n",
        "  input_df['who_added_role_enc'] = input_df['Who Added Role'].astype('category').cat.codes\n",
        "  input_df['load_type_enc'] = input_df['Load Type'].astype('category').cat.codes\n",
        "\n",
        "  le = preprocessing.LabelEncoder()\n",
        "  le.fit(input_df['Destination State'])\n",
        "\n",
        "  input_df['source_state_enc'] = le.transform(input_df['Source State'])\n",
        "  input_df['dest_state_enc'] = le.transform(input_df['Destination State'])\n",
        "\n",
        "  return input_df"
      ],
      "metadata": {
        "id": "gjKV84kFYFu9"
      },
      "execution_count": null,
      "outputs": []
    },
    {
      "cell_type": "code",
      "source": [
        "def drop_unnecessary_columns(input_df, cols_list):\n",
        "  to_drop_columns = cols_list\n",
        "  try:\n",
        "    input_df.drop(to_drop_columns, axis=1, inplace=True)\n",
        "  except:\n",
        "    pass\n",
        "  return input_df"
      ],
      "metadata": {
        "id": "DlGfj5-4YcsP"
      },
      "execution_count": null,
      "outputs": []
    },
    {
      "cell_type": "code",
      "source": [
        "def load_type_threshold(input_df, threshold_num):\n",
        "  freq = input_df['Load Type'].value_counts()\n",
        "  idx = freq.values\n",
        "  print(\"Number of unique Load Type values: \",len(freq[freq.values > threshold_num]))\n",
        "  print(\"From raw dataset {0:.2f} will remains after using the above threshold\".format(\n",
        "      (freq[freq.values > threshold_num].sum())/input_df.shape[0]*100)\n",
        "    )\n",
        "  freq_ser = freq[freq.values > threshold_num]\n",
        "  input_df = input_df[input_df['Load Type'].isin(freq_ser.index)]\n",
        "  return input_df"
      ],
      "metadata": {
        "id": "KWkztnfEFl9G"
      },
      "execution_count": null,
      "outputs": []
    },
    {
      "cell_type": "code",
      "source": [
        "to_drop_columns = ['Vehicle Options','Source City', 'Destination City', 'Source State', 'Destination State', 'Source Region', 'Destination Region', 'Has Comments', 'Vehicle Type', 'Baarnameh Type', 'Order Channel', 'Unload Option', 'Who Added Role', 'Load Status', 'Load Type']\n",
        "limit_threshold = 20\n",
        "proc_orders = (load_data()\n",
        "                .pipe(reformat_date_times)\n",
        "                .pipe(fill_categorical_nulls)\n",
        "                .pipe(load_type_threshold, limit_threshold)\n",
        "                .pipe(encode_categorical_data)\n",
        "                .pipe(drop_unnecessary_columns, to_drop_columns)\n",
        "                )"
      ],
      "metadata": {
        "colab": {
          "base_uri": "https://localhost:8080/"
        },
        "id": "qPUsanRxY2xi",
        "outputId": "2d1ef442-d32e-488e-d104-54a39faca23f"
      },
      "execution_count": null,
      "outputs": [
        {
          "output_type": "stream",
          "name": "stdout",
          "text": [
            "Number of unique Load Type values:  128\n",
            "From raw dataset 90.94 will remains after using the above threshold\n"
          ]
        }
      ]
    },
    {
      "cell_type": "code",
      "source": [
        "proc_orders.shape"
      ],
      "metadata": {
        "colab": {
          "base_uri": "https://localhost:8080/"
        },
        "id": "UPmQOPkDapXX",
        "outputId": "2960572e-a9bb-4356-e225-a1b15382e2bc"
      },
      "execution_count": null,
      "outputs": [
        {
          "output_type": "execute_result",
          "data": {
            "text/plain": [
              "(40062, 28)"
            ]
          },
          "metadata": {},
          "execution_count": 18
        }
      ]
    },
    {
      "cell_type": "code",
      "source": [
        "proc_orders.info()"
      ],
      "metadata": {
        "colab": {
          "base_uri": "https://localhost:8080/"
        },
        "id": "mWq5jkRKIZA6",
        "outputId": "cd13f8bf-596e-44e9-8c64-e81f0d2a155a"
      },
      "execution_count": null,
      "outputs": [
        {
          "output_type": "stream",
          "name": "stdout",
          "text": [
            "<class 'pandas.core.frame.DataFrame'>\n",
            "Int64Index: 40062 entries, 0 to 44051\n",
            "Data columns (total 28 columns):\n",
            " #   Column                  Non-Null Count  Dtype  \n",
            "---  ------                  --------------  -----  \n",
            " 0   Driver Income           40062 non-null  float64\n",
            " 1   Weight                  40062 non-null  float64\n",
            " 2   Distance                40062 non-null  float64\n",
            " 3   Duration                40062 non-null  float64\n",
            " 4   Transport Cost          40062 non-null  float64\n",
            " 5   Source Lat              40062 non-null  float64\n",
            " 6   Source Lng              40062 non-null  float64\n",
            " 7   Destination Lat         40062 non-null  float64\n",
            " 8   Destination Lng         40062 non-null  float64\n",
            " 9   Dispatch Time Delta     40062 non-null  float64\n",
            " 10  Pickup Date Time Delta  40062 non-null  float64\n",
            " 11  Packaging Type          40062 non-null  object \n",
            " 12  Dispatch Month          40062 non-null  int64  \n",
            " 13  Dispatch Day            40062 non-null  int64  \n",
            " 14  Creation Month          40062 non-null  int64  \n",
            " 15  Creation Day            40062 non-null  int64  \n",
            " 16  Dispatch Hour           40062 non-null  int64  \n",
            " 17  Dispatch Minuts         40062 non-null  int64  \n",
            " 18  Creation Hour           40062 non-null  int64  \n",
            " 19  Creation Minuts         40062 non-null  int64  \n",
            " 20  vehicle_typ_enc         40062 non-null  int8   \n",
            " 21  baarnameh_typ_enc       40062 non-null  int8   \n",
            " 22  order_channel_enc       40062 non-null  int8   \n",
            " 23  unload_option_enc       40062 non-null  int8   \n",
            " 24  who_added_role_enc      40062 non-null  int8   \n",
            " 25  load_type_enc           40062 non-null  int16  \n",
            " 26  source_state_enc        40062 non-null  int64  \n",
            " 27  dest_state_enc          40062 non-null  int64  \n",
            "dtypes: float64(11), int16(1), int64(10), int8(5), object(1)\n",
            "memory usage: 7.3+ MB\n"
          ]
        }
      ]
    },
    {
      "cell_type": "markdown",
      "source": [
        "### Split Train and Test Sets\n",
        "\n",
        "By now, we have a clean dataset. Now let's separate the train and test sets, then we can apply preprocessing on the training set."
      ],
      "metadata": {
        "id": "IVIJt5TUI2CC"
      }
    },
    {
      "cell_type": "code",
      "source": [
        "from sklearn.model_selection import train_test_split, cross_val_score\n",
        "y = proc_orders.pop('Packaging Type')\n",
        "\n",
        "X_train, X_test, y_train, y_test = train_test_split(proc_orders,y,test_size=0.2)\n",
        "print(X_train.shape)\n",
        "print(X_test.shape)"
      ],
      "metadata": {
        "colab": {
          "base_uri": "https://localhost:8080/"
        },
        "id": "g8Qq2Bd7IaBX",
        "outputId": "fedcf819-b38b-4918-b781-f8477a4a09a6"
      },
      "execution_count": null,
      "outputs": [
        {
          "output_type": "stream",
          "name": "stdout",
          "text": [
            "(32049, 27)\n",
            "(8013, 27)\n"
          ]
        }
      ]
    },
    {
      "cell_type": "code",
      "source": [
        "proc_orders.head(5)"
      ],
      "metadata": {
        "colab": {
          "base_uri": "https://localhost:8080/",
          "height": 297
        },
        "id": "JzGyqwPd7c3M",
        "outputId": "ad793558-709a-491f-aea0-b3fa09668072"
      },
      "execution_count": null,
      "outputs": [
        {
          "output_type": "execute_result",
          "data": {
            "text/plain": [
              "   Driver Income  Weight  Distance   Duration  Transport Cost  Source Lat  \\\n",
              "0            0.0    24.0   658.672   7.296944             0.0   31.899421   \n",
              "1            0.0     5.0     0.000   0.000000             0.0   36.271035   \n",
              "2            0.0     2.0   319.570   3.578056             0.0   35.688905   \n",
              "3            0.0    15.0   206.191   2.859444             0.0   36.467626   \n",
              "5            0.0     5.0  1146.483  12.883611             0.0   28.355906   \n",
              "\n",
              "   Source Lng  Destination Lat  Destination Lng  Dispatch Time Delta  ...  \\\n",
              "0   54.360979        27.183222        56.266646            23.928889  ...   \n",
              "1   50.012455        36.980067        50.531772            23.970278  ...   \n",
              "2   51.388435        34.798857        48.515023            23.962778  ...   \n",
              "3   52.350694        36.845643        54.439336            23.974722  ...   \n",
              "5   52.959966        35.688905        51.388435            23.968056  ...   \n",
              "\n",
              "   Creation Hour  Creation Minuts  vehicle_typ_enc  baarnameh_typ_enc  \\\n",
              "0              6               46                4                  0   \n",
              "1             20                1                1                  0   \n",
              "2              9               13                2                  0   \n",
              "3              9               52                0                  0   \n",
              "5              4               34                1                  0   \n",
              "\n",
              "   order_channel_enc  unload_option_enc  who_added_role_enc  load_type_enc  \\\n",
              "0                  0                  0                   1             24   \n",
              "1                  0                  0                   1             24   \n",
              "2                  0                  0                   1             24   \n",
              "3                  0                  0                   1             24   \n",
              "5                  0                  0                   1             24   \n",
              "\n",
              "   source_state_enc  dest_state_enc  \n",
              "0                35              24  \n",
              "1                19              34  \n",
              "2                 8              25  \n",
              "3                22              33  \n",
              "5                18               8  \n",
              "\n",
              "[5 rows x 27 columns]"
            ],
            "text/html": [
              "\n",
              "  <div id=\"df-5937c9a5-3bd9-4114-97fb-3ee93ebe5e83\">\n",
              "    <div class=\"colab-df-container\">\n",
              "      <div>\n",
              "<style scoped>\n",
              "    .dataframe tbody tr th:only-of-type {\n",
              "        vertical-align: middle;\n",
              "    }\n",
              "\n",
              "    .dataframe tbody tr th {\n",
              "        vertical-align: top;\n",
              "    }\n",
              "\n",
              "    .dataframe thead th {\n",
              "        text-align: right;\n",
              "    }\n",
              "</style>\n",
              "<table border=\"1\" class=\"dataframe\">\n",
              "  <thead>\n",
              "    <tr style=\"text-align: right;\">\n",
              "      <th></th>\n",
              "      <th>Driver Income</th>\n",
              "      <th>Weight</th>\n",
              "      <th>Distance</th>\n",
              "      <th>Duration</th>\n",
              "      <th>Transport Cost</th>\n",
              "      <th>Source Lat</th>\n",
              "      <th>Source Lng</th>\n",
              "      <th>Destination Lat</th>\n",
              "      <th>Destination Lng</th>\n",
              "      <th>Dispatch Time Delta</th>\n",
              "      <th>...</th>\n",
              "      <th>Creation Hour</th>\n",
              "      <th>Creation Minuts</th>\n",
              "      <th>vehicle_typ_enc</th>\n",
              "      <th>baarnameh_typ_enc</th>\n",
              "      <th>order_channel_enc</th>\n",
              "      <th>unload_option_enc</th>\n",
              "      <th>who_added_role_enc</th>\n",
              "      <th>load_type_enc</th>\n",
              "      <th>source_state_enc</th>\n",
              "      <th>dest_state_enc</th>\n",
              "    </tr>\n",
              "  </thead>\n",
              "  <tbody>\n",
              "    <tr>\n",
              "      <th>0</th>\n",
              "      <td>0.0</td>\n",
              "      <td>24.0</td>\n",
              "      <td>658.672</td>\n",
              "      <td>7.296944</td>\n",
              "      <td>0.0</td>\n",
              "      <td>31.899421</td>\n",
              "      <td>54.360979</td>\n",
              "      <td>27.183222</td>\n",
              "      <td>56.266646</td>\n",
              "      <td>23.928889</td>\n",
              "      <td>...</td>\n",
              "      <td>6</td>\n",
              "      <td>46</td>\n",
              "      <td>4</td>\n",
              "      <td>0</td>\n",
              "      <td>0</td>\n",
              "      <td>0</td>\n",
              "      <td>1</td>\n",
              "      <td>24</td>\n",
              "      <td>35</td>\n",
              "      <td>24</td>\n",
              "    </tr>\n",
              "    <tr>\n",
              "      <th>1</th>\n",
              "      <td>0.0</td>\n",
              "      <td>5.0</td>\n",
              "      <td>0.000</td>\n",
              "      <td>0.000000</td>\n",
              "      <td>0.0</td>\n",
              "      <td>36.271035</td>\n",
              "      <td>50.012455</td>\n",
              "      <td>36.980067</td>\n",
              "      <td>50.531772</td>\n",
              "      <td>23.970278</td>\n",
              "      <td>...</td>\n",
              "      <td>20</td>\n",
              "      <td>1</td>\n",
              "      <td>1</td>\n",
              "      <td>0</td>\n",
              "      <td>0</td>\n",
              "      <td>0</td>\n",
              "      <td>1</td>\n",
              "      <td>24</td>\n",
              "      <td>19</td>\n",
              "      <td>34</td>\n",
              "    </tr>\n",
              "    <tr>\n",
              "      <th>2</th>\n",
              "      <td>0.0</td>\n",
              "      <td>2.0</td>\n",
              "      <td>319.570</td>\n",
              "      <td>3.578056</td>\n",
              "      <td>0.0</td>\n",
              "      <td>35.688905</td>\n",
              "      <td>51.388435</td>\n",
              "      <td>34.798857</td>\n",
              "      <td>48.515023</td>\n",
              "      <td>23.962778</td>\n",
              "      <td>...</td>\n",
              "      <td>9</td>\n",
              "      <td>13</td>\n",
              "      <td>2</td>\n",
              "      <td>0</td>\n",
              "      <td>0</td>\n",
              "      <td>0</td>\n",
              "      <td>1</td>\n",
              "      <td>24</td>\n",
              "      <td>8</td>\n",
              "      <td>25</td>\n",
              "    </tr>\n",
              "    <tr>\n",
              "      <th>3</th>\n",
              "      <td>0.0</td>\n",
              "      <td>15.0</td>\n",
              "      <td>206.191</td>\n",
              "      <td>2.859444</td>\n",
              "      <td>0.0</td>\n",
              "      <td>36.467626</td>\n",
              "      <td>52.350694</td>\n",
              "      <td>36.845643</td>\n",
              "      <td>54.439336</td>\n",
              "      <td>23.974722</td>\n",
              "      <td>...</td>\n",
              "      <td>9</td>\n",
              "      <td>52</td>\n",
              "      <td>0</td>\n",
              "      <td>0</td>\n",
              "      <td>0</td>\n",
              "      <td>0</td>\n",
              "      <td>1</td>\n",
              "      <td>24</td>\n",
              "      <td>22</td>\n",
              "      <td>33</td>\n",
              "    </tr>\n",
              "    <tr>\n",
              "      <th>5</th>\n",
              "      <td>0.0</td>\n",
              "      <td>5.0</td>\n",
              "      <td>1146.483</td>\n",
              "      <td>12.883611</td>\n",
              "      <td>0.0</td>\n",
              "      <td>28.355906</td>\n",
              "      <td>52.959966</td>\n",
              "      <td>35.688905</td>\n",
              "      <td>51.388435</td>\n",
              "      <td>23.968056</td>\n",
              "      <td>...</td>\n",
              "      <td>4</td>\n",
              "      <td>34</td>\n",
              "      <td>1</td>\n",
              "      <td>0</td>\n",
              "      <td>0</td>\n",
              "      <td>0</td>\n",
              "      <td>1</td>\n",
              "      <td>24</td>\n",
              "      <td>18</td>\n",
              "      <td>8</td>\n",
              "    </tr>\n",
              "  </tbody>\n",
              "</table>\n",
              "<p>5 rows × 27 columns</p>\n",
              "</div>\n",
              "      <button class=\"colab-df-convert\" onclick=\"convertToInteractive('df-5937c9a5-3bd9-4114-97fb-3ee93ebe5e83')\"\n",
              "              title=\"Convert this dataframe to an interactive table.\"\n",
              "              style=\"display:none;\">\n",
              "        \n",
              "  <svg xmlns=\"http://www.w3.org/2000/svg\" height=\"24px\"viewBox=\"0 0 24 24\"\n",
              "       width=\"24px\">\n",
              "    <path d=\"M0 0h24v24H0V0z\" fill=\"none\"/>\n",
              "    <path d=\"M18.56 5.44l.94 2.06.94-2.06 2.06-.94-2.06-.94-.94-2.06-.94 2.06-2.06.94zm-11 1L8.5 8.5l.94-2.06 2.06-.94-2.06-.94L8.5 2.5l-.94 2.06-2.06.94zm10 10l.94 2.06.94-2.06 2.06-.94-2.06-.94-.94-2.06-.94 2.06-2.06.94z\"/><path d=\"M17.41 7.96l-1.37-1.37c-.4-.4-.92-.59-1.43-.59-.52 0-1.04.2-1.43.59L10.3 9.45l-7.72 7.72c-.78.78-.78 2.05 0 2.83L4 21.41c.39.39.9.59 1.41.59.51 0 1.02-.2 1.41-.59l7.78-7.78 2.81-2.81c.8-.78.8-2.07 0-2.86zM5.41 20L4 18.59l7.72-7.72 1.47 1.35L5.41 20z\"/>\n",
              "  </svg>\n",
              "      </button>\n",
              "      \n",
              "  <style>\n",
              "    .colab-df-container {\n",
              "      display:flex;\n",
              "      flex-wrap:wrap;\n",
              "      gap: 12px;\n",
              "    }\n",
              "\n",
              "    .colab-df-convert {\n",
              "      background-color: #E8F0FE;\n",
              "      border: none;\n",
              "      border-radius: 50%;\n",
              "      cursor: pointer;\n",
              "      display: none;\n",
              "      fill: #1967D2;\n",
              "      height: 32px;\n",
              "      padding: 0 0 0 0;\n",
              "      width: 32px;\n",
              "    }\n",
              "\n",
              "    .colab-df-convert:hover {\n",
              "      background-color: #E2EBFA;\n",
              "      box-shadow: 0px 1px 2px rgba(60, 64, 67, 0.3), 0px 1px 3px 1px rgba(60, 64, 67, 0.15);\n",
              "      fill: #174EA6;\n",
              "    }\n",
              "\n",
              "    [theme=dark] .colab-df-convert {\n",
              "      background-color: #3B4455;\n",
              "      fill: #D2E3FC;\n",
              "    }\n",
              "\n",
              "    [theme=dark] .colab-df-convert:hover {\n",
              "      background-color: #434B5C;\n",
              "      box-shadow: 0px 1px 3px 1px rgba(0, 0, 0, 0.15);\n",
              "      filter: drop-shadow(0px 1px 2px rgba(0, 0, 0, 0.3));\n",
              "      fill: #FFFFFF;\n",
              "    }\n",
              "  </style>\n",
              "\n",
              "      <script>\n",
              "        const buttonEl =\n",
              "          document.querySelector('#df-5937c9a5-3bd9-4114-97fb-3ee93ebe5e83 button.colab-df-convert');\n",
              "        buttonEl.style.display =\n",
              "          google.colab.kernel.accessAllowed ? 'block' : 'none';\n",
              "\n",
              "        async function convertToInteractive(key) {\n",
              "          const element = document.querySelector('#df-5937c9a5-3bd9-4114-97fb-3ee93ebe5e83');\n",
              "          const dataTable =\n",
              "            await google.colab.kernel.invokeFunction('convertToInteractive',\n",
              "                                                     [key], {});\n",
              "          if (!dataTable) return;\n",
              "\n",
              "          const docLinkHtml = 'Like what you see? Visit the ' +\n",
              "            '<a target=\"_blank\" href=https://colab.research.google.com/notebooks/data_table.ipynb>data table notebook</a>'\n",
              "            + ' to learn more about interactive tables.';\n",
              "          element.innerHTML = '';\n",
              "          dataTable['output_type'] = 'display_data';\n",
              "          await google.colab.output.renderOutput(dataTable, element);\n",
              "          const docLink = document.createElement('div');\n",
              "          docLink.innerHTML = docLinkHtml;\n",
              "          element.appendChild(docLink);\n",
              "        }\n",
              "      </script>\n",
              "    </div>\n",
              "  </div>\n",
              "  "
            ]
          },
          "metadata": {},
          "execution_count": 31
        }
      ]
    },
    {
      "cell_type": "markdown",
      "source": [
        "## Sklearn Piplines\n",
        "\n",
        "So far, we have seen how we can use Pandas pipes to simplify our code and make it more reusable. In the same spirit, we can use Scikit-learn's pipelines to simplify the code for preprocessing and training our algorithm.\n",
        "\n",
        "\n",
        "To demonstrate how we can use sklearn's pipelines, we start by normalizing all the columns so that they have a \"similar\" range. To this end, we will use scikit-learn's SatndardScaler and MinMaxScaler."
      ],
      "metadata": {
        "id": "1jUg6r9sKqrp"
      }
    },
    {
      "cell_type": "markdown",
      "source": [
        "### Preprocessing: Normalization/Stadardization\n",
        "\n"
      ],
      "metadata": {
        "id": "C8uudiuJ0IO-"
      }
    },
    {
      "cell_type": "code",
      "source": [
        "from sklearn.pipeline import Pipeline"
      ],
      "metadata": {
        "id": "JcMO5m0jTlnh"
      },
      "execution_count": null,
      "outputs": []
    },
    {
      "cell_type": "markdown",
      "metadata": {
        "id": "5JO2GL_y_c9H"
      },
      "source": [
        "First, let's define a *transformer*, for SatandardScaler."
      ]
    },
    {
      "cell_type": "code",
      "execution_count": null,
      "metadata": {
        "id": "oGnRGqV_CfA4"
      },
      "outputs": [],
      "source": [
        "standard_transformer = Pipeline(steps=[\n",
        "    ('imputer', SimpleImputer(strategy='median')),    # The imputer is of no use for our dataset, but could be handy in real life\n",
        "    ('standard_scaler', StandardScaler())])"
      ]
    },
    {
      "cell_type": "markdown",
      "metadata": {
        "id": "CMyeJFxY_XNr"
      },
      "source": [
        "Let's define another *transformer*, for MinMaxScaler."
      ]
    },
    {
      "cell_type": "code",
      "execution_count": null,
      "metadata": {
        "id": "MemL1pQC_Wu3"
      },
      "outputs": [],
      "source": [
        "minmax_transformer = Pipeline(steps=[\n",
        "    ('imputer', SimpleImputer(strategy='median')),\n",
        "    ('minmax_scaler', MinMaxScaler())])"
      ]
    },
    {
      "cell_type": "markdown",
      "metadata": {
        "id": "2pzaGbC-_XWr"
      },
      "source": [
        "Now let's put them together"
      ]
    },
    {
      "cell_type": "code",
      "execution_count": null,
      "metadata": {
        "id": "GfCGTbtvAN8C"
      },
      "outputs": [],
      "source": [
        "standard_scale_columns = ['Driver Income','Weight','Distance','Duration','Transport Cost']\n",
        "minmax_scale_columns = list(set(proc_orders.columns)-set(standard_scale_columns))"
      ]
    },
    {
      "cell_type": "code",
      "execution_count": null,
      "metadata": {
        "id": "kp1AGxrBLVPn"
      },
      "outputs": [],
      "source": [
        "from sklearn.compose import ColumnTransformer\n",
        "preprocessor = ColumnTransformer(\n",
        "    transformers=[\n",
        "        ('satandard', standard_transformer, standard_scale_columns),\n",
        "        ('minmax', minmax_transformer, minmax_scale_columns)])"
      ]
    },
    {
      "cell_type": "markdown",
      "source": [
        "### Classification\n",
        "\n",
        "Now that our data is ready, it is time to test classification algorithms in action. We will use XGBoost as an example."
      ],
      "metadata": {
        "id": "r4sXwrCO0WVA"
      }
    },
    {
      "cell_type": "code",
      "source": [
        "from xgboost import XGBClassifier"
      ],
      "metadata": {
        "id": "dSw10A8z0e4R"
      },
      "execution_count": null,
      "outputs": []
    },
    {
      "cell_type": "markdown",
      "source": [
        "We can attach the model to the pipeline too. To make whole process as smooth as possible."
      ],
      "metadata": {
        "id": "vRgimMx-0hyt"
      }
    },
    {
      "cell_type": "code",
      "source": [
        "complete_model = Pipeline(steps=[\n",
        "                      ('preprocessor', preprocessor),\n",
        "                      ('classifier', XGBClassifier(n_estimators=50,max_depth=10,eta=0.1,subsample=0.8))])"
      ],
      "metadata": {
        "id": "5hGf3fwj0iH_"
      },
      "execution_count": null,
      "outputs": []
    },
    {
      "cell_type": "markdown",
      "source": [
        "Now all we need to do, is to fit the model on the training set.\n",
        "\n",
        "Note that this command not only performs the training of the ML algorithm, but also **handles preprocessing steps** before that."
      ],
      "metadata": {
        "id": "-Dmz6R7c0k4p"
      }
    },
    {
      "cell_type": "code",
      "source": [
        "complete_model.fit(X_train, y_train)"
      ],
      "metadata": {
        "colab": {
          "base_uri": "https://localhost:8080/"
        },
        "id": "GV9EKwTR0oK5",
        "outputId": "1f1ecb94-b75e-4826-ca05-d96310be2131"
      },
      "execution_count": null,
      "outputs": [
        {
          "output_type": "execute_result",
          "data": {
            "text/plain": [
              "Pipeline(steps=[('preprocessor',\n",
              "                 ColumnTransformer(transformers=[('satandard',\n",
              "                                                  Pipeline(steps=[('imputer',\n",
              "                                                                   SimpleImputer(strategy='median')),\n",
              "                                                                  ('standard_scaler',\n",
              "                                                                   StandardScaler())]),\n",
              "                                                  ['Driver Income', 'Weight',\n",
              "                                                   'Distance', 'Duration',\n",
              "                                                   'Transport Cost']),\n",
              "                                                 ('minmax',\n",
              "                                                  Pipeline(steps=[('imputer',\n",
              "                                                                   SimpleImputer(strategy='median')),\n",
              "                                                                  ('minmax_scaler',\n",
              "                                                                   MinMaxScaler())]),\n",
              "                                                  ['...\n",
              "                               importance_type='gain',\n",
              "                               interaction_constraints='',\n",
              "                               learning_rate=0.100000001, max_delta_step=0,\n",
              "                               max_depth=10, min_child_weight=1, missing=nan,\n",
              "                               monotone_constraints='()', n_estimators=50,\n",
              "                               n_jobs=0, num_parallel_tree=1,\n",
              "                               objective='multi:softprob', random_state=0,\n",
              "                               reg_alpha=0, reg_lambda=1, scale_pos_weight=None,\n",
              "                               subsample=0.8, tree_method='exact',\n",
              "                               validate_parameters=1, verbosity=None))])"
            ]
          },
          "metadata": {},
          "execution_count": 30
        }
      ]
    },
    {
      "cell_type": "markdown",
      "source": [
        "### Results\n",
        "\n",
        "Now, we will see the F1 score and confusion matrix for this classification"
      ],
      "metadata": {
        "id": "y4SCC_wD0vRT"
      }
    },
    {
      "cell_type": "code",
      "source": [
        "predictions = complete_model.predict(X_test)\n",
        "print('Macro F1-score is %.3f' %f1_score(y_test, predictions, average='macro'))"
      ],
      "metadata": {
        "colab": {
          "base_uri": "https://localhost:8080/"
        },
        "id": "EHHk013E0sBl",
        "outputId": "583e0126-e79e-4e44-960d-5b5c8f57291f"
      },
      "execution_count": null,
      "outputs": [
        {
          "output_type": "stream",
          "name": "stdout",
          "text": [
            "Macro F1-score is 0.861\n"
          ]
        }
      ]
    },
    {
      "cell_type": "code",
      "source": [
        "fig, ax = plt.subplots(figsize=(10, 10))\n",
        "plot_confusion_matrix(complete_model, X_test, y_test,ax=ax)\n",
        "plt.show()"
      ],
      "metadata": {
        "colab": {
          "base_uri": "https://localhost:8080/",
          "height": 635
        },
        "id": "2CfiZEqL0uNz",
        "outputId": "fcbc895e-fa8e-487e-d7ed-e9995021b7e6"
      },
      "execution_count": null,
      "outputs": [
        {
          "output_type": "stream",
          "name": "stderr",
          "text": [
            "/usr/local/lib/python3.8/dist-packages/sklearn/utils/deprecation.py:87: FutureWarning: Function plot_confusion_matrix is deprecated; Function `plot_confusion_matrix` is deprecated in 1.0 and will be removed in 1.2. Use one of the class methods: ConfusionMatrixDisplay.from_predictions or ConfusionMatrixDisplay.from_estimator.\n",
            "  warnings.warn(msg, category=FutureWarning)\n"
          ]
        },
        {
          "output_type": "display_data",
          "data": {
            "text/plain": [
              "<Figure size 720x720 with 2 Axes>"
            ],
            "image/png": "[encoded data removed]"
          },
          "metadata": {}
        }
      ]
    },
    {
      "cell_type": "markdown",
      "source": [
        "## Imbalanced Data\n",
        "\n",
        "Some of the classes in our dataset were hugely imbalanced (e.g. bandil, roll, kartoon). Let's see some strategies to alleviate the situation. We are going to use pyton's imblearn library. First we will use undersampling startegies and then oversampling and finally, we use SMOTE oversampling to perform a better oversampling. We train the classifer each time and compare the results.\n",
        "\n",
        "Let's see Packaging Type distribution again."
      ],
      "metadata": {
        "id": "4jMVDG5SAKnB"
      }
    },
    {
      "cell_type": "code",
      "source": [
        "y_train.value_counts().plot.pie(autopct='%1.0f%%',radius=2,ylabel='')\n",
        "plt.title('Packaging Type', y=1.5,fontsize=16)\n",
        "plt.show()"
      ],
      "metadata": {
        "colab": {
          "base_uri": "https://localhost:8080/",
          "height": 448
        },
        "id": "PbO-k6tBAmUu",
        "outputId": "e0ab0d3d-0b98-442e-b7b2-86787c5f980b"
      },
      "execution_count": null,
      "outputs": [
        {
          "output_type": "display_data",
          "data": {
            "text/plain": [
              "<Figure size 432x288 with 1 Axes>"
            ],
            "image/png": "[encoded data removed]"
          },
          "metadata": {}
        }
      ]
    },
    {
      "cell_type": "markdown",
      "source": [
        "### Undersampling\n",
        "There are multiple undersapling startegies:\n",
        "\n",
        "* float (only available for binary classification): the desired ratio of the number of samples in the minority class over the number of samples in the majority class after resampling\n",
        "* 'majority': resample only the majority class;\n",
        "* 'not minority': resample all classes but the minority class;\n",
        "* 'not majority': resample all classes but the majority class;\n",
        "* 'all': resample all classes;\n",
        "* 'auto': equivalent to 'not minority'."
      ],
      "metadata": {
        "id": "OKsdQlayA4VL"
      }
    },
    {
      "cell_type": "code",
      "source": [
        "from imblearn.under_sampling import RandomUnderSampler\n",
        "rus = RandomUnderSampler(sampling_strategy='not minority')"
      ],
      "metadata": {
        "id": "Wf_JN7l3A3l0"
      },
      "execution_count": null,
      "outputs": []
    },
    {
      "cell_type": "code",
      "source": [
        "X_resampled, y_resampled = rus.fit_resample(X_train, y_train)"
      ],
      "metadata": {
        "id": "pwo-_PbAAuCF"
      },
      "execution_count": null,
      "outputs": []
    },
    {
      "cell_type": "markdown",
      "source": [
        "Let's take a look at the new distribution:"
      ],
      "metadata": {
        "id": "ZUlze_x7Bg5h"
      }
    },
    {
      "cell_type": "code",
      "source": [
        "y_resampled.value_counts()[0:10].plot.pie(autopct='%1.0f%%',radius=2,ylabel='')\n",
        "plt.title('Packaging Type', y=1.5,fontsize=20)\n",
        "plt.show()"
      ],
      "metadata": {
        "colab": {
          "base_uri": "https://localhost:8080/",
          "height": 463
        },
        "id": "3Y96HwqPBgJh",
        "outputId": "0733da74-fa67-42cc-db33-3fb010e0b4d8"
      },
      "execution_count": null,
      "outputs": [
        {
          "output_type": "display_data",
          "data": {
            "text/plain": [
              "<Figure size 432x288 with 1 Axes>"
            ],
            "image/png": "[encoded data removed]"
          },
          "metadata": {}
        }
      ]
    },
    {
      "cell_type": "markdown",
      "metadata": {
        "id": "mnX1KMdSmCkr"
      },
      "source": [
        "Pretty neat! But we have lost quite a lot of data:"
      ]
    },
    {
      "cell_type": "code",
      "execution_count": null,
      "metadata": {
        "id": "7vu60rzdmBdJ",
        "colab": {
          "base_uri": "https://localhost:8080/"
        },
        "outputId": "57f9888b-81d9-4404-ffc4-673c9c22ff66"
      },
      "outputs": [
        {
          "output_type": "execute_result",
          "data": {
            "text/plain": [
              "(4060,)"
            ]
          },
          "metadata": {},
          "execution_count": 40
        }
      ],
      "source": [
        "y_resampled.shape"
      ]
    },
    {
      "cell_type": "code",
      "source": [
        "print(\"We lost about {} of clean data\".format(1-(y_resampled.shape[0]/X_test.shape[0])))"
      ],
      "metadata": {
        "colab": {
          "base_uri": "https://localhost:8080/"
        },
        "id": "Lbt1ujKcB1Pf",
        "outputId": "79b5ed32-0b8f-4bc0-9c78-0123fb48972f"
      },
      "execution_count": null,
      "outputs": [
        {
          "output_type": "stream",
          "name": "stdout",
          "text": [
            "We lost about 0.4933233495569699 of clean data\n"
          ]
        }
      ]
    },
    {
      "cell_type": "code",
      "execution_count": null,
      "metadata": {
        "id": "9q1TWuPFKYJd"
      },
      "outputs": [],
      "source": [
        "from imblearn.pipeline import make_pipeline as imb_make_pipeline"
      ]
    },
    {
      "cell_type": "code",
      "execution_count": null,
      "metadata": {
        "id": "KQ8usLveKYJe"
      },
      "outputs": [],
      "source": [
        "new_pipeline = imb_make_pipeline(\n",
        "    ColumnTransformer(transformers=[\n",
        "        ('satandard', StandardScaler(), standard_scale_columns),\n",
        "        ('minmax', MinMaxScaler(), minmax_scale_columns)]),\n",
        "    XGBClassifier(n_estimators=50,max_depth=10,eta=0.1,subsample=0.8),\n",
        ")\n"
      ]
    },
    {
      "cell_type": "code",
      "execution_count": null,
      "metadata": {
        "id": "E8ia6gewKYJe"
      },
      "outputs": [],
      "source": [
        "new_pipeline.steps.insert(-1,('sampling',RandomUnderSampler(sampling_strategy='not minority'),)) # Step as one step before the last"
      ]
    },
    {
      "cell_type": "code",
      "execution_count": null,
      "metadata": {
        "colab": {
          "base_uri": "https://localhost:8080/"
        },
        "outputId": "9c2cbd06-2df0-4c1b-cde6-87024b2b2741",
        "id": "mSRIrv-KKYJe"
      },
      "outputs": [
        {
          "output_type": "execute_result",
          "data": {
            "text/plain": [
              "[('columntransformer',\n",
              "  ColumnTransformer(transformers=[('satandard', StandardScaler(),\n",
              "                                   ['Driver Income', 'Weight', 'Distance',\n",
              "                                    'Duration', 'Transport Cost']),\n",
              "                                  ('minmax', MinMaxScaler(),\n",
              "                                   ['Dispatch Day', 'Destination Lng',\n",
              "                                    'Source Lng', 'Destination Lat',\n",
              "                                    'load_type_enc', 'who_added_role_enc',\n",
              "                                    'order_channel_enc', 'Dispatch Time Delta',\n",
              "                                    'Creation Hour', 'Creation Minuts',\n",
              "                                    'Creation Month', 'baarnameh_typ_enc',\n",
              "                                    'Creation Day', 'Dispatch Hour',\n",
              "                                    'Dispatch Minuts', 'source_state_enc',\n",
              "                                    'dest_state_enc', 'Dispatch Month',\n",
              "                                    'unload_option_enc', 'Source Lat',\n",
              "                                    'vehicle_typ_enc',\n",
              "                                    'Pickup Date Time Delta'])])),\n",
              " ('sampling', RandomUnderSampler(sampling_strategy='not minority')),\n",
              " ('xgbclassifier',\n",
              "  XGBClassifier(base_score=None, booster=None, colsample_bylevel=None,\n",
              "                colsample_bynode=None, colsample_bytree=None, eta=0.1, gamma=None,\n",
              "                gpu_id=None, importance_type='gain', interaction_constraints=None,\n",
              "                learning_rate=None, max_delta_step=None, max_depth=10,\n",
              "                min_child_weight=None, missing=nan, monotone_constraints=None,\n",
              "                n_estimators=50, n_jobs=None, num_parallel_tree=None,\n",
              "                random_state=None, reg_alpha=None, reg_lambda=None,\n",
              "                scale_pos_weight=None, subsample=0.8, tree_method=None,\n",
              "                validate_parameters=None, verbosity=None))]"
            ]
          },
          "metadata": {},
          "execution_count": 102
        }
      ],
      "source": [
        "new_pipeline.steps"
      ]
    },
    {
      "cell_type": "code",
      "execution_count": null,
      "metadata": {
        "colab": {
          "base_uri": "https://localhost:8080/"
        },
        "outputId": "9ff373ec-d634-4a65-d4b7-f1ee998a4c71",
        "id": "uYeKrEcNKYJe"
      },
      "outputs": [
        {
          "output_type": "stream",
          "name": "stdout",
          "text": [
            "Macro F1-score is 0.651\n"
          ]
        }
      ],
      "source": [
        "new_pipeline.fit(X_train, y_train)\n",
        "predictions = new_pipeline.predict(X_test)\n",
        "print('Macro F1-score is %.3f' %f1_score(y_test, predictions, average='macro'))"
      ]
    },
    {
      "cell_type": "markdown",
      "source": [
        "The score is not so good, which is not totally unexpected, as we have thrown away a lot of our data!"
      ],
      "metadata": {
        "id": "yQUxVGIuK1Ni"
      }
    },
    {
      "cell_type": "markdown",
      "metadata": {
        "id": "epPZQfwXpkC5"
      },
      "source": [
        "### RandomOversampling\n",
        "So let's try oversampling instead of undersampling"
      ]
    },
    {
      "cell_type": "code",
      "execution_count": null,
      "metadata": {
        "id": "5ZZtbJYCpq4t"
      },
      "outputs": [],
      "source": [
        "from imblearn.over_sampling import RandomOverSampler\n",
        "ros = RandomOverSampler(sampling_strategy='minority')"
      ]
    },
    {
      "cell_type": "code",
      "execution_count": null,
      "metadata": {
        "id": "6FmhYPwkptW6"
      },
      "outputs": [],
      "source": [
        "X_resampled, y_resampled = ros.fit_resample(X_train, y_train)"
      ]
    },
    {
      "cell_type": "code",
      "execution_count": null,
      "metadata": {
        "id": "Git-wF_3qDxp",
        "colab": {
          "base_uri": "https://localhost:8080/",
          "height": 463
        },
        "outputId": "37900385-3f53-4bf7-9913-654c4c172262"
      },
      "outputs": [
        {
          "output_type": "display_data",
          "data": {
            "text/plain": [
              "<Figure size 432x288 with 1 Axes>"
            ],
            "image/png": "[encoded data removed]"
          },
          "metadata": {}
        }
      ],
      "source": [
        "y_resampled.value_counts()[0:10].plot.pie(autopct='%1.0f%%',radius=2,ylabel='')\n",
        "plt.title('Packaging Type', y=1.5,fontsize=20)\n",
        "plt.show()"
      ]
    },
    {
      "cell_type": "markdown",
      "metadata": {
        "id": "3LIH5Yt8qJEO"
      },
      "source": [
        "Note that the above strategy has over-sample only the minority class, which works fine in binary classification.\n",
        "\n",
        "But since we have multiple under-represented classes, we need to do this step for those too. To this end, we can use a different oversampling strategy and pass a dictionary, with the desired number of samples in the minority classes:"
      ]
    },
    {
      "cell_type": "code",
      "execution_count": null,
      "metadata": {
        "id": "mvw3LCRRvqMn",
        "colab": {
          "base_uri": "https://localhost:8080/"
        },
        "outputId": "3cb94e85-4906-424b-cbd3-a73d40a1eb69"
      },
      "outputs": [
        {
          "output_type": "execute_result",
          "data": {
            "text/plain": [
              "4561"
            ]
          },
          "metadata": {},
          "execution_count": 94
        }
      ],
      "source": [
        "sum(y_train=='falleh')"
      ]
    },
    {
      "cell_type": "code",
      "execution_count": null,
      "metadata": {
        "id": "1MiUbkAnvnuo"
      },
      "outputs": [],
      "source": [
        "# The numbers are the desired number of samples, after oversmapling\n",
        "sampling_dict = {'roll':2000,'pallet':4000,'kiseh_gooni':5000, 'bandil': 2000, 'falleh': 5000, 'kiseh_gooni': 4500}"
      ]
    },
    {
      "cell_type": "code",
      "execution_count": null,
      "metadata": {
        "id": "lkxLpt0DvkHW"
      },
      "outputs": [],
      "source": [
        "ros = RandomOverSampler(sampling_strategy=sampling_dict)"
      ]
    },
    {
      "cell_type": "code",
      "execution_count": null,
      "metadata": {
        "id": "5ukMapVYqJTv"
      },
      "outputs": [],
      "source": [
        "X_resampled, y_resampled = ros.fit_resample(X_train, y_train)"
      ]
    },
    {
      "cell_type": "code",
      "execution_count": null,
      "metadata": {
        "id": "MOACMoZ9rBqD",
        "colab": {
          "base_uri": "https://localhost:8080/",
          "height": 464
        },
        "outputId": "88d591c3-bbda-41f7-bb31-d4dfd68210d5"
      },
      "outputs": [
        {
          "output_type": "display_data",
          "data": {
            "text/plain": [
              "<Figure size 432x288 with 1 Axes>"
            ],
            "image/png": "[encoded data removed]"
          },
          "metadata": {}
        }
      ],
      "source": [
        "y_resampled.value_counts()[0:10].plot.pie(autopct='%1.0f%%',radius=2,ylabel='')\n",
        "plt.title('Packaging Type', y=1.5,fontsize=20)\n",
        "plt.show()"
      ]
    },
    {
      "cell_type": "markdown",
      "metadata": {
        "id": "-A7hKwSzrE-Z"
      },
      "source": [
        "Looks better! We could have also integrated these steps in the pipelines."
      ]
    },
    {
      "cell_type": "code",
      "execution_count": null,
      "metadata": {
        "id": "RCZXgbU3rD4u",
        "colab": {
          "base_uri": "https://localhost:8080/"
        },
        "outputId": "29bb9783-eed2-4f00-ea65-ff5e9bbf979b"
      },
      "outputs": [
        {
          "output_type": "execute_result",
          "data": {
            "text/plain": [
              "[('columntransformer',\n",
              "  ColumnTransformer(transformers=[('satandard', StandardScaler(),\n",
              "                                   ['Driver Income', 'Weight', 'Distance',\n",
              "                                    'Duration', 'Transport Cost']),\n",
              "                                  ('minmax', MinMaxScaler(),\n",
              "                                   ['Dispatch Day', 'Destination Lng',\n",
              "                                    'Source Lng', 'Destination Lat',\n",
              "                                    'load_type_enc', 'who_added_role_enc',\n",
              "                                    'order_channel_enc', 'Dispatch Time Delta',\n",
              "                                    'Creation Hour', 'Creation Minuts',\n",
              "                                    'Creation Month', 'baarnameh_typ_enc',\n",
              "                                    'Creation Day', 'Dispatch Hour',\n",
              "                                    'Dispatch Minuts', 'source_state_enc',\n",
              "                                    'dest_state_enc', 'Dispatch Month',\n",
              "                                    'unload_option_enc', 'Source Lat',\n",
              "                                    'vehicle_typ_enc',\n",
              "                                    'Pickup Date Time Delta'])])),\n",
              " ('over_sampling',\n",
              "  RandomOverSampler(sampling_strategy={'bandil': 2000, 'falleh': 5000,\n",
              "                                       'kiseh_gooni': 4500, 'pallet': 4000,\n",
              "                                       'roll': 2000})),\n",
              " ('xgbclassifier',\n",
              "  XGBClassifier(base_score=0.5, booster='gbtree', colsample_bylevel=1,\n",
              "                colsample_bynode=1, colsample_bytree=1, eta=0.1, gamma=0,\n",
              "                gpu_id=-1, importance_type='gain', interaction_constraints='',\n",
              "                learning_rate=0.100000001, max_delta_step=0, max_depth=10,\n",
              "                min_child_weight=1, missing=nan, monotone_constraints='()',\n",
              "                n_estimators=50, n_jobs=0, num_parallel_tree=1,\n",
              "                objective='multi:softprob', random_state=0, reg_alpha=0,\n",
              "                reg_lambda=1, scale_pos_weight=None, subsample=0.8,\n",
              "                tree_method='exact', validate_parameters=1, verbosity=None))]"
            ]
          },
          "metadata": {},
          "execution_count": 107
        }
      ],
      "source": [
        "# First let's pop the undersampler out\n",
        "new_pipeline.steps.pop(-2)\n",
        "new_pipeline.steps.insert(-1,('over_sampling',RandomOverSampler(sampling_strategy=sampling_dict),))\n",
        "new_pipeline.steps"
      ]
    },
    {
      "cell_type": "code",
      "execution_count": null,
      "metadata": {
        "id": "dkzQeBHQrpUV",
        "colab": {
          "base_uri": "https://localhost:8080/"
        },
        "outputId": "3b6c9684-6779-48d0-e5db-c73254312ae9"
      },
      "outputs": [
        {
          "output_type": "stream",
          "name": "stdout",
          "text": [
            "Macro F1-score is 0.874\n"
          ]
        }
      ],
      "source": [
        "new_pipeline.fit(X_train, y_train)\n",
        "predictions = new_pipeline.predict(X_test)\n",
        "print('Macro F1-score is %.3f' %f1_score(y_test, predictions, average='macro'))"
      ]
    },
    {
      "cell_type": "markdown",
      "metadata": {
        "id": "TH_Jgc-csSg6"
      },
      "source": [
        "The score is improved quite nicely, Hooray! Let's see if we can improve it even further."
      ]
    },
    {
      "cell_type": "markdown",
      "source": [
        "### SMOTE: Synthetic Minority Over-sampling Technique.\n",
        "SMOTE is a technique to *artificially create* new samples for the under-represented classes. It was introduced in 2011 and here is the [link to the paper](https://arxiv.org/abs/1106.1813) that mentioned this idea.\n"
      ],
      "metadata": {
        "id": "uXIeugFnLgFs"
      }
    },
    {
      "cell_type": "code",
      "source": [
        "from imblearn.over_sampling import SMOTE\n",
        "smote = SMOTE(sampling_strategy=sampling_dict)"
      ],
      "metadata": {
        "id": "EQFw4lacLkS6"
      },
      "execution_count": null,
      "outputs": []
    },
    {
      "cell_type": "code",
      "source": [
        "X_resampled, y_resampled = smote.fit_resample(X_train, y_train)\n",
        "y_resampled.value_counts()[0:10].plot.pie(autopct='%1.0f%%',radius=2,ylabel='')\n",
        "plt.title('Packaging Type', y=1.5,fontsize=20)\n",
        "plt.show()"
      ],
      "metadata": {
        "colab": {
          "base_uri": "https://localhost:8080/",
          "height": 459
        },
        "id": "wma-ssDrLmG9",
        "outputId": "41c36c67-13e8-4ee3-8f6c-5bcac1375702"
      },
      "execution_count": null,
      "outputs": [
        {
          "output_type": "display_data",
          "data": {
            "text/plain": [
              "<Figure size 432x288 with 1 Axes>"
            ],
            "image/png": "[encoded data removed]"
          },
          "metadata": {}
        }
      ]
    },
    {
      "cell_type": "markdown",
      "metadata": {
        "id": "hItqVarQxIZj"
      },
      "source": [
        "The end result looks the same (obviously!). Let's see if this strategy has an effect on the performance."
      ]
    },
    {
      "cell_type": "code",
      "execution_count": null,
      "metadata": {
        "id": "0sY41DuAxPJC",
        "colab": {
          "base_uri": "https://localhost:8080/"
        },
        "outputId": "6cc0d55d-e2b6-449f-e229-d224f92adb01"
      },
      "outputs": [
        {
          "output_type": "execute_result",
          "data": {
            "text/plain": [
              "[('columntransformer',\n",
              "  ColumnTransformer(transformers=[('satandard', StandardScaler(),\n",
              "                                   ['Driver Income', 'Weight', 'Distance',\n",
              "                                    'Duration', 'Transport Cost']),\n",
              "                                  ('minmax', MinMaxScaler(),\n",
              "                                   ['Dispatch Day', 'Destination Lng',\n",
              "                                    'Source Lng', 'Destination Lat',\n",
              "                                    'load_type_enc', 'who_added_role_enc',\n",
              "                                    'order_channel_enc', 'Dispatch Time Delta',\n",
              "                                    'Creation Hour', 'Creation Minuts',\n",
              "                                    'Creation Month', 'baarnameh_typ_enc',\n",
              "                                    'Creation Day', 'Dispatch Hour',\n",
              "                                    'Dispatch Minuts', 'source_state_enc',\n",
              "                                    'dest_state_enc', 'Dispatch Month',\n",
              "                                    'unload_option_enc', 'Source Lat',\n",
              "                                    'vehicle_typ_enc',\n",
              "                                    'Pickup Date Time Delta'])])),\n",
              " ('over_sampling',\n",
              "  SMOTE(sampling_strategy={'bandil': 2000, 'falleh': 5000, 'kiseh_gooni': 4500,\n",
              "                           'pallet': 4000, 'roll': 2000})),\n",
              " ('xgbclassifier',\n",
              "  XGBClassifier(base_score=0.5, booster='gbtree', colsample_bylevel=1,\n",
              "                colsample_bynode=1, colsample_bytree=1, eta=0.1, gamma=0,\n",
              "                gpu_id=-1, importance_type='gain', interaction_constraints='',\n",
              "                learning_rate=0.100000001, max_delta_step=0, max_depth=10,\n",
              "                min_child_weight=1, missing=nan, monotone_constraints='()',\n",
              "                n_estimators=50, n_jobs=0, num_parallel_tree=1,\n",
              "                objective='multi:softprob', random_state=0, reg_alpha=0,\n",
              "                reg_lambda=1, scale_pos_weight=None, subsample=0.8,\n",
              "                tree_method='exact', validate_parameters=1, verbosity=None))]"
            ]
          },
          "metadata": {},
          "execution_count": 123
        }
      ],
      "source": [
        "# First let's pop the last oversampling layer out\n",
        "new_pipeline.steps.pop(-2)\n",
        "new_pipeline.steps.insert(-1,('over_sampling',SMOTE(sampling_strategy={'roll':2000,'pallet':4000,'kiseh_gooni':5000, 'bandil': 2000, 'falleh': 5000, 'kiseh_gooni': 4500}),))\n",
        "new_pipeline.steps"
      ]
    },
    {
      "cell_type": "code",
      "execution_count": null,
      "metadata": {
        "id": "MzXTKaCsxXIp",
        "colab": {
          "base_uri": "https://localhost:8080/"
        },
        "outputId": "63ada945-f7b2-48c8-a44a-52aff3d9e0f5"
      },
      "outputs": [
        {
          "output_type": "stream",
          "name": "stdout",
          "text": [
            "Macro F1-score is 0.863\n"
          ]
        }
      ],
      "source": [
        "new_pipeline.fit(X_train, y_train)\n",
        "predictions = new_pipeline.predict(X_test)\n",
        "print('Macro F1-score is %.3f' %f1_score(y_test, predictions, average='macro'))"
      ]
    },
    {
      "cell_type": "markdown",
      "metadata": {
        "id": "hoKHy98CxtR4"
      },
      "source": [
        "The performance is quite the nice.\n",
        "But in general, as we discussed in the class, SMOTE is probably more suitable in the scenarios where there is nice distinction between classes in some high-dimensional space (which would be more difficult in the case of multiclass classification)."
      ]
    },
    {
      "cell_type": "markdown",
      "source": [
        "### Cost-sensitive Training\n",
        "Another startegy to alleviate the problem of imbalanced data is to use a cost-sensitive classifier, where misclasffiying different classes will have different penalities.\n",
        "\n",
        "Several classiffication methods that we have seen in this course, support an option to add \"weights\" to classes, to emphasize their importance to the algorithm."
      ],
      "metadata": {
        "id": "8COMRa3yNJcB"
      }
    },
    {
      "cell_type": "markdown",
      "source": [
        "First, let's calculate class weights. What we have to is to create a vector, **the same size the training set**, where each entry has a weight corresponding the portion of records having that label."
      ],
      "metadata": {
        "id": "LEiLpQqNNVDb"
      }
    },
    {
      "cell_type": "code",
      "source": [
        "from sklearn.utils.class_weight import compute_sample_weight\n",
        "sample_weights = compute_sample_weight(\n",
        "    class_weight='balanced',\n",
        "    y=y_train,\n",
        ")\n",
        "sample_weights.shape"
      ],
      "metadata": {
        "colab": {
          "base_uri": "https://localhost:8080/"
        },
        "id": "jcT_DY_WNOpu",
        "outputId": "16fdcee3-9554-4551-abb9-d63454286834"
      },
      "execution_count": null,
      "outputs": [
        {
          "output_type": "execute_result",
          "data": {
            "text/plain": [
              "(32049,)"
            ]
          },
          "metadata": {},
          "execution_count": 125
        }
      ]
    },
    {
      "cell_type": "markdown",
      "metadata": {
        "id": "y6z1z35X4eFW"
      },
      "source": [
        "As an example, let's check the first few values:"
      ]
    },
    {
      "cell_type": "code",
      "execution_count": null,
      "metadata": {
        "id": "SxpbPCtb4hMt",
        "colab": {
          "base_uri": "https://localhost:8080/"
        },
        "outputId": "8d72731a-e493-448c-c61f-b396187163d5"
      },
      "outputs": [
        {
          "output_type": "stream",
          "name": "stdout",
          "text": [
            "Label 0 is: falleh, sample weight is 1.004, manual calculation is 0.703\n",
            "Label 1 is: hichkodam, sample weight is 0.408, manual calculation is 0.285\n",
            "Label 2 is: karton, sample weight is 0.540, manual calculation is 0.378\n",
            "Label 3 is: falleh, sample weight is 1.004, manual calculation is 0.703\n",
            "Label 4 is: kiseh_gooni, sample weight is 1.149, manual calculation is 0.804\n",
            "Label 5 is: hichkodam, sample weight is 0.408, manual calculation is 0.285\n",
            "Label 6 is: karton, sample weight is 0.540, manual calculation is 0.378\n"
          ]
        }
      ],
      "source": [
        "for i in range(7):\n",
        "  l = y_train.values[i]\n",
        "  f = len(y_train)/(10*sum(y_train==l))\n",
        "  print('Label %d is: %s, sample weight is %.3f, manual calculation is %.3f' %(i,l,sample_weights[i],f))"
      ]
    },
    {
      "cell_type": "code",
      "source": [
        "from xgboost import XGBClassifier"
      ],
      "metadata": {
        "id": "l7xmv65UNvz4"
      },
      "execution_count": null,
      "outputs": []
    },
    {
      "cell_type": "markdown",
      "metadata": {
        "id": "oyLBdapL6Glq"
      },
      "source": [
        "Now, we can add sample_weights to our XGBoost classifier and see how it performs."
      ]
    },
    {
      "cell_type": "code",
      "execution_count": null,
      "metadata": {
        "id": "Ek2iz_932a6H",
        "colab": {
          "base_uri": "https://localhost:8080/"
        },
        "outputId": "46aace5f-5ae2-4acf-c3b3-fca3ffe6d998"
      },
      "outputs": [
        {
          "output_type": "execute_result",
          "data": {
            "text/plain": [
              "[('columntransformer',\n",
              "  ColumnTransformer(transformers=[('satandard', StandardScaler(),\n",
              "                                   ['Driver Income', 'Weight', 'Distance',\n",
              "                                    'Duration', 'Transport Cost']),\n",
              "                                  ('minmax', MinMaxScaler(),\n",
              "                                   ['Dispatch Day', 'Destination Lng',\n",
              "                                    'Source Lng', 'Destination Lat',\n",
              "                                    'load_type_enc', 'who_added_role_enc',\n",
              "                                    'order_channel_enc', 'Dispatch Time Delta',\n",
              "                                    'Creation Hour', 'Creation Minuts',\n",
              "                                    'Creation Month', 'baarnameh_typ_enc',\n",
              "                                    'Creation Day', 'Dispatch Hour',\n",
              "                                    'Dispatch Minuts', 'source_state_enc',\n",
              "                                    'dest_state_enc', 'Dispatch Month',\n",
              "                                    'unload_option_enc', 'Source Lat',\n",
              "                                    'vehicle_typ_enc',\n",
              "                                    'Pickup Date Time Delta'])])),\n",
              " ('over_sampling',\n",
              "  SMOTE(sampling_strategy={'bandil': 2000, 'falleh': 5000, 'kiseh_gooni': 4500,\n",
              "                           'pallet': 4000, 'roll': 2000})),\n",
              " ('classifier',\n",
              "  XGBClassifier(base_score=None, booster=None, colsample_bylevel=None,\n",
              "                colsample_bynode=None, colsample_bytree=None, eta=0.1, gamma=None,\n",
              "                gpu_id=None, importance_type='gain', interaction_constraints=None,\n",
              "                learning_rate=None, max_delta_step=None, max_depth=10,\n",
              "                min_child_weight=None, missing=nan, monotone_constraints=None,\n",
              "                n_estimators=50, n_jobs=None, num_parallel_tree=None,\n",
              "                random_state=None, reg_alpha=None, reg_lambda=None,\n",
              "                sample_weights=array([1.00382122, 0.40751478, 0.53965448, ..., 1.8619067 , 1.00382122,\n",
              "         0.53965448]),\n",
              "                scale_pos_weight=None, subsample=0.8, tree_method=None,\n",
              "                use_label_encoder=False, validate_parameters=None,\n",
              "                verbosity=None))]"
            ]
          },
          "metadata": {},
          "execution_count": 128
        }
      ],
      "source": [
        "# First let's pop the last pipe, corresponding to the current XGBClassifier without class weights:\n",
        "new_pipeline.steps.pop(-1)\n",
        "new_pipeline.steps.append(\n",
        "    ('classifier',XGBClassifier(sample_weights=sample_weights,n_estimators=50,max_depth=10,eta=0.1,subsample=0.8,use_label_encoder=False),)\n",
        ")\n",
        "new_pipeline.steps"
      ]
    },
    {
      "cell_type": "code",
      "execution_count": null,
      "metadata": {
        "id": "Eq87t-fw2Ozh",
        "colab": {
          "base_uri": "https://localhost:8080/"
        },
        "outputId": "71450568-019d-485e-9238-01b13cc63e64"
      },
      "outputs": [
        {
          "output_type": "stream",
          "name": "stdout",
          "text": [
            "Macro F1-score is 0.862\n"
          ]
        }
      ],
      "source": [
        "new_pipeline.fit(X_train, y_train)\n",
        "predictions = new_pipeline.predict(X_test)\n",
        "clear_output()\n",
        "print('Macro F1-score is %.3f' %f1_score(y_test, predictions, average='macro'))"
      ]
    },
    {
      "cell_type": "markdown",
      "source": [
        "## AutoML\n",
        "As we discussed previously, there are multiple options available. We explore some of them in what follows.\n"
      ],
      "metadata": {
        "id": "6YZDLFotOHNl"
      }
    },
    {
      "cell_type": "markdown",
      "metadata": {
        "id": "Y39wWmATyWwv"
      },
      "source": [
        "### AutoSklearn\n",
        "One of the libraries that can help us do AutoML is AutoSklearn."
      ]
    },
    {
      "cell_type": "markdown",
      "metadata": {
        "id": "iMHoBfMY2znA"
      },
      "source": [
        "We first need to install the library in the Google Colab Notebook, which is a bit nasty, but it works."
      ]
    },
    {
      "cell_type": "code",
      "execution_count": null,
      "metadata": {
        "collapsed": true,
        "id": "O564k-tYyX_E",
        "colab": {
          "base_uri": "https://localhost:8080/"
        },
        "outputId": "f9e287dc-9f5d-4680-98bc-4b8092ab7da1"
      },
      "outputs": [
        {
          "output_type": "stream",
          "name": "stdout",
          "text": [
            "Done!\n"
          ]
        }
      ],
      "source": [
        "#@title Install packages\n",
        "!sudo apt-get install build-essential swig\n",
        "!curl https://raw.githubusercontent.com/automl/auto-sklearn/master/requirements.txt | xargs -n 1 -L 1 pip install\n",
        "!pip install auto-sklearn\n",
        "clear_output()\n",
        "print(\"Done!\")"
      ]
    },
    {
      "cell_type": "code",
      "execution_count": null,
      "metadata": {
        "id": "dvepon3_lH70"
      },
      "outputs": [],
      "source": [
        "import autosklearn\n",
        "from autosklearn.metrics import f1,precision,average_precision,recall,log_loss\n",
        "from autosklearn.classification import AutoSklearnClassifier"
      ]
    },
    {
      "cell_type": "code",
      "execution_count": null,
      "metadata": {
        "id": "EN359o_SyD3E"
      },
      "outputs": [],
      "source": [
        "from sklearn.model_selection import KFold, StratifiedKFold, RepeatedStratifiedKFold"
      ]
    },
    {
      "cell_type": "markdown",
      "metadata": {
        "id": "begy9pQO2qd3"
      },
      "source": [
        "The main module we are going to work with is `AutoSklearnClassifier`. It takes care of a lot of stuff we have been doing manually. Some of its options are:\n",
        "* `time_left_for_this_task`: Maximum allowed training time (in seconds)\n",
        "* `max_models_on_disc`: Maximum number of allowed models to keep\n",
        "* `memory_limit`: The amount of memory (in MB) allowed to use by the algorithm\n",
        "* `resampling_strategy`: usd for cross validation\n",
        "* `ensemble_size`: Number of models to include in the ensemble.\n",
        "   * Basically, when a nice model found, this option allowes the algorithm to create an ensemble of those models to boost the performance.\n",
        "* `metric`: A metric which we want to optimize\n",
        "* `scoring_function`: One or more metrics which we want to evaluate the model on"
      ]
    },
    {
      "cell_type": "code",
      "execution_count": null,
      "metadata": {
        "id": "TaIU2FU12khV"
      },
      "outputs": [],
      "source": [
        "#kf = StratifiedKFold(n_splits=5)\n",
        "\n",
        "model = AutoSklearnClassifier(time_left_for_this_task=3600,\n",
        "                            max_models_on_disc=5,\n",
        "                            memory_limit = 10240,\n",
        "                            #resampling_strategy=kf,\n",
        "                            #metric = average_precision,\n",
        "                            scoring_functions=[recall,precision])"
      ]
    },
    {
      "cell_type": "code",
      "execution_count": null,
      "metadata": {
        "cellView": "form",
        "id": "MO1T97L7-oem"
      },
      "outputs": [],
      "source": [
        "#@title\n",
        "from sklearn.preprocessing import LabelEncoder,OneHotEncoder\n",
        "le = LabelEncoder()\n",
        "le.fit(y)\n",
        "y_resampled_enc = le.transform(y_resampled)\n",
        "y_test_enc = le.transform(y_test)"
      ]
    },
    {
      "cell_type": "code",
      "execution_count": null,
      "metadata": {
        "id": "EPdlfua83xG4",
        "colab": {
          "base_uri": "https://localhost:8080/"
        },
        "outputId": "2d7f331f-6b7e-4cd6-8f96-500b30c098da"
      },
      "outputs": [
        {
          "output_type": "execute_result",
          "data": {
            "text/plain": [
              "AutoSklearnClassifier(ensemble_class=<class 'autosklearn.ensembles.ensemble_selection.EnsembleSelection'>,\n",
              "                      max_models_on_disc=5, memory_limit=10240,\n",
              "                      per_run_time_limit=360,\n",
              "                      scoring_functions=[recall, precision])"
            ]
          },
          "metadata": {},
          "execution_count": 137
        }
      ],
      "source": [
        "model.fit(X = X_resampled, y = y_resampled)"
      ]
    },
    {
      "cell_type": "code",
      "execution_count": null,
      "metadata": {
        "id": "7wqFBMB77OdW",
        "colab": {
          "base_uri": "https://localhost:8080/",
          "height": 1000
        },
        "outputId": "260d1bc6-f5f3-48f7-e6bb-f10b3b620cd6"
      },
      "outputs": [
        {
          "output_type": "execute_result",
          "data": {
            "text/plain": [
              "    mean_test_score  rank_test_scores  metric_recall  metric_precision  \\\n",
              "20         0.936579                 1            NaN               NaN   \n",
              "27         0.935276                 2            NaN               NaN   \n",
              "2          0.932834                 3            NaN               NaN   \n",
              "12         0.931124                 4            NaN               NaN   \n",
              "0          0.929822                 5            NaN               NaN   \n",
              "16         0.926891                 6            NaN               NaN   \n",
              "32         0.925263                 7            NaN               NaN   \n",
              "21         0.924937                 8            NaN               NaN   \n",
              "17         0.917040                 9            NaN               NaN   \n",
              "23         0.901246                10            NaN               NaN   \n",
              "26         0.895954                11            NaN               NaN   \n",
              "3          0.892860                12            NaN               NaN   \n",
              "11         0.869006                13            NaN               NaN   \n",
              "19         0.861516                14            NaN               NaN   \n",
              "5          0.855817                15            NaN               NaN   \n",
              "9          0.828544                16            NaN               NaN   \n",
              "8          0.795897                17            NaN               NaN   \n",
              "25         0.749817                18            NaN               NaN   \n",
              "24         0.743955                19            NaN               NaN   \n",
              "1          0.685582                20            NaN               NaN   \n",
              "14         0.667752                21            NaN               NaN   \n",
              "13         0.664496                22            NaN               NaN   \n",
              "15         0.599446                23            NaN               NaN   \n",
              "22         0.584304                24            NaN               NaN   \n",
              "31         0.426036                25            NaN               NaN   \n",
              "29         0.381096                26            NaN               NaN   \n",
              "10         0.377595                27            NaN               NaN   \n",
              "33         0.301881                28            NaN               NaN   \n",
              "18         0.229016                29            NaN               NaN   \n",
              "6          0.000000                30            NaN               NaN   \n",
              "4          0.000000                30            NaN               NaN   \n",
              "28         0.000000                30            NaN               NaN   \n",
              "30         0.000000                30            NaN               NaN   \n",
              "7          0.000000                30            NaN               NaN   \n",
              "34         0.000000                30            NaN               NaN   \n",
              "\n",
              "    mean_fit_time                                             params   status  \\\n",
              "20      70.164444  {'balancing:strategy': 'weighting', 'classifie...  Success   \n",
              "27      66.602454  {'balancing:strategy': 'weighting', 'classifie...  Success   \n",
              "2       70.639716  {'balancing:strategy': 'none', 'classifier:__c...  Success   \n",
              "12     243.771864  {'balancing:strategy': 'weighting', 'classifie...  Success   \n",
              "0       49.011335  {'balancing:strategy': 'none', 'classifier:__c...  Success   \n",
              "16      44.795756  {'balancing:strategy': 'weighting', 'classifie...  Success   \n",
              "32      34.369603  {'balancing:strategy': 'none', 'classifier:__c...  Success   \n",
              "21      26.512857  {'balancing:strategy': 'weighting', 'classifie...  Success   \n",
              "17      22.612165  {'balancing:strategy': 'none', 'classifier:__c...  Success   \n",
              "23      37.964725  {'balancing:strategy': 'none', 'classifier:__c...  Success   \n",
              "26      65.584810  {'balancing:strategy': 'weighting', 'classifie...  Success   \n",
              "3       56.340680  {'balancing:strategy': 'none', 'classifier:__c...  Success   \n",
              "11      24.437369  {'balancing:strategy': 'weighting', 'classifie...  Success   \n",
              "19      41.846896  {'balancing:strategy': 'weighting', 'classifie...  Success   \n",
              "5       46.705858  {'balancing:strategy': 'none', 'classifier:__c...  Success   \n",
              "9      143.338843  {'balancing:strategy': 'weighting', 'classifie...  Success   \n",
              "8       32.675320  {'balancing:strategy': 'none', 'classifier:__c...  Success   \n",
              "25     131.892644  {'balancing:strategy': 'weighting', 'classifie...  Success   \n",
              "24       1.110767  {'balancing:strategy': 'weighting', 'classifie...  Success   \n",
              "1      226.749362  {'balancing:strategy': 'none', 'classifier:__c...  Success   \n",
              "14      21.239815  {'balancing:strategy': 'none', 'classifier:__c...  Success   \n",
              "13      66.131095  {'balancing:strategy': 'weighting', 'classifie...  Success   \n",
              "15      35.311717  {'balancing:strategy': 'none', 'classifier:__c...  Success   \n",
              "22      12.662720  {'balancing:strategy': 'weighting', 'classifie...  Success   \n",
              "31       2.300163  {'balancing:strategy': 'weighting', 'classifie...  Success   \n",
              "29       2.416635  {'balancing:strategy': 'weighting', 'classifie...  Success   \n",
              "10     119.500290  {'balancing:strategy': 'weighting', 'classifie...  Success   \n",
              "33       7.101794  {'balancing:strategy': 'none', 'classifier:__c...  Success   \n",
              "18      15.007099  {'balancing:strategy': 'none', 'classifier:__c...  Success   \n",
              "6      360.039890  {'balancing:strategy': 'weighting', 'classifie...  Timeout   \n",
              "4      360.110055  {'balancing:strategy': 'none', 'classifier:__c...  Timeout   \n",
              "28     360.109019  {'balancing:strategy': 'weighting', 'classifie...  Timeout   \n",
              "30     360.098305  {'balancing:strategy': 'none', 'classifier:__c...  Timeout   \n",
              "7      360.029177  {'balancing:strategy': 'none', 'classifier:__c...  Timeout   \n",
              "34      36.027746  {'balancing:strategy': 'weighting', 'classifie...  Timeout   \n",
              "\n",
              "    budgets param_balancing:strategy param_classifier:__choice__  ...  \\\n",
              "20      0.0                weighting           gradient_boosting  ...   \n",
              "27      0.0                weighting           gradient_boosting  ...   \n",
              "2       0.0                     none           gradient_boosting  ...   \n",
              "12      0.0                weighting           gradient_boosting  ...   \n",
              "0       0.0                     none               random_forest  ...   \n",
              "16      0.0                weighting               random_forest  ...   \n",
              "32      0.0                     none           gradient_boosting  ...   \n",
              "21      0.0                weighting           gradient_boosting  ...   \n",
              "17      0.0                     none               random_forest  ...   \n",
              "23      0.0                     none               random_forest  ...   \n",
              "26      0.0                weighting           gradient_boosting  ...   \n",
              "3       0.0                     none           gradient_boosting  ...   \n",
              "11      0.0                weighting           gradient_boosting  ...   \n",
              "19      0.0                weighting           gradient_boosting  ...   \n",
              "5       0.0                     none               random_forest  ...   \n",
              "9       0.0                weighting                  libsvm_svc  ...   \n",
              "8       0.0                     none           gradient_boosting  ...   \n",
              "25      0.0                weighting                  libsvm_svc  ...   \n",
              "24      0.0                weighting         k_nearest_neighbors  ...   \n",
              "1       0.0                     none                  libsvm_svc  ...   \n",
              "14      0.0                     none                         lda  ...   \n",
              "13      0.0                weighting                         mlp  ...   \n",
              "15      0.0                     none                         mlp  ...   \n",
              "22      0.0                weighting               random_forest  ...   \n",
              "31      0.0                weighting                bernoulli_nb  ...   \n",
              "29      0.0                weighting         k_nearest_neighbors  ...   \n",
              "10      0.0                weighting                  libsvm_svc  ...   \n",
              "33      0.0                     none                         mlp  ...   \n",
              "18      0.0                     none           gradient_boosting  ...   \n",
              "6       0.0                weighting           gradient_boosting  ...   \n",
              "4       0.0                     none               random_forest  ...   \n",
              "28      0.0                weighting               liblinear_svc  ...   \n",
              "30      0.0                     none         k_nearest_neighbors  ...   \n",
              "7       0.0                     none           gradient_boosting  ...   \n",
              "34      0.0                weighting           gradient_boosting  ...   \n",
              "\n",
              "   param_data_preprocessor:feature_type:numerical_transformer:rescaling:robust_scaler:q_max  \\\n",
              "20                                                NaN                                         \n",
              "27                                                NaN                                         \n",
              "2                                                 NaN                                         \n",
              "12                                           0.965272                                         \n",
              "0                                                 NaN                                         \n",
              "16                                           0.750000                                         \n",
              "32                                                NaN                                         \n",
              "21                                                NaN                                         \n",
              "17                                                NaN                                         \n",
              "23                                                NaN                                         \n",
              "26                                                NaN                                         \n",
              "3                                            0.883087                                         \n",
              "11                                           0.766357                                         \n",
              "19                                                NaN                                         \n",
              "5                                                 NaN                                         \n",
              "9                                            0.759067                                         \n",
              "8                                                 NaN                                         \n",
              "25                                                NaN                                         \n",
              "24                                                NaN                                         \n",
              "1                                                 NaN                                         \n",
              "14                                                NaN                                         \n",
              "13                                                NaN                                         \n",
              "15                                                NaN                                         \n",
              "22                                           0.735635                                         \n",
              "31                                                NaN                                         \n",
              "29                                           0.740253                                         \n",
              "10                                                NaN                                         \n",
              "33                                                NaN                                         \n",
              "18                                                NaN                                         \n",
              "6                                                 NaN                                         \n",
              "4                                                 NaN                                         \n",
              "28                                                NaN                                         \n",
              "30                                                NaN                                         \n",
              "7                                            0.967364                                         \n",
              "34                                                NaN                                         \n",
              "\n",
              "   param_data_preprocessor:feature_type:numerical_transformer:rescaling:robust_scaler:q_min  \\\n",
              "20                                                NaN                                         \n",
              "27                                                NaN                                         \n",
              "2                                                 NaN                                         \n",
              "12                                           0.041903                                         \n",
              "0                                                 NaN                                         \n",
              "16                                           0.250000                                         \n",
              "32                                                NaN                                         \n",
              "21                                                NaN                                         \n",
              "17                                                NaN                                         \n",
              "23                                                NaN                                         \n",
              "26                                                NaN                                         \n",
              "3                                            0.122059                                         \n",
              "11                                           0.255619                                         \n",
              "19                                                NaN                                         \n",
              "5                                                 NaN                                         \n",
              "9                                            0.238219                                         \n",
              "8                                                 NaN                                         \n",
              "25                                                NaN                                         \n",
              "24                                                NaN                                         \n",
              "1                                                 NaN                                         \n",
              "14                                                NaN                                         \n",
              "13                                                NaN                                         \n",
              "15                                                NaN                                         \n",
              "22                                           0.290211                                         \n",
              "31                                                NaN                                         \n",
              "29                                           0.290055                                         \n",
              "10                                                NaN                                         \n",
              "33                                                NaN                                         \n",
              "18                                                NaN                                         \n",
              "6                                                 NaN                                         \n",
              "4                                                 NaN                                         \n",
              "28                                                NaN                                         \n",
              "30                                                NaN                                         \n",
              "7                                            0.204455                                         \n",
              "34                                                NaN                                         \n",
              "\n",
              "    param_feature_preprocessor:fast_ica:n_components  \\\n",
              "20                                               NaN   \n",
              "27                                               NaN   \n",
              "2                                                NaN   \n",
              "12                                               NaN   \n",
              "0                                                NaN   \n",
              "16                                               NaN   \n",
              "32                                               NaN   \n",
              "21                                               NaN   \n",
              "17                                               NaN   \n",
              "23                                               NaN   \n",
              "26                                               NaN   \n",
              "3                                                NaN   \n",
              "11                                               NaN   \n",
              "19                                               NaN   \n",
              "5                                                NaN   \n",
              "9                                                NaN   \n",
              "8                                              588.0   \n",
              "25                                               NaN   \n",
              "24                                               NaN   \n",
              "1                                                NaN   \n",
              "14                                               NaN   \n",
              "13                                               NaN   \n",
              "15                                               NaN   \n",
              "22                                               NaN   \n",
              "31                                               NaN   \n",
              "29                                               NaN   \n",
              "10                                               NaN   \n",
              "33                                               NaN   \n",
              "18                                               NaN   \n",
              "6                                                NaN   \n",
              "4                                                NaN   \n",
              "28                                               NaN   \n",
              "30                                               NaN   \n",
              "7                                                NaN   \n",
              "34                                               NaN   \n",
              "\n",
              "    param_feature_preprocessor:kernel_pca:coef0  \\\n",
              "20                                          NaN   \n",
              "27                                          NaN   \n",
              "2                                           NaN   \n",
              "12                                          NaN   \n",
              "0                                           NaN   \n",
              "16                                          NaN   \n",
              "32                                          NaN   \n",
              "21                                          NaN   \n",
              "17                                          NaN   \n",
              "23                                          NaN   \n",
              "26                                          NaN   \n",
              "3                                           NaN   \n",
              "11                                          NaN   \n",
              "19                                          NaN   \n",
              "5                                           NaN   \n",
              "9                                           NaN   \n",
              "8                                           NaN   \n",
              "25                                          NaN   \n",
              "24                                          NaN   \n",
              "1                                           NaN   \n",
              "14                                          NaN   \n",
              "13                                          NaN   \n",
              "15                                          NaN   \n",
              "22                                          NaN   \n",
              "31                                          NaN   \n",
              "29                                          NaN   \n",
              "10                                          NaN   \n",
              "33                                          NaN   \n",
              "18                                          NaN   \n",
              "6                                           NaN   \n",
              "4                                           NaN   \n",
              "28                                          NaN   \n",
              "30                                          NaN   \n",
              "7                                           NaN   \n",
              "34                                          NaN   \n",
              "\n",
              "    param_feature_preprocessor:kernel_pca:degree  \\\n",
              "20                                           NaN   \n",
              "27                                           NaN   \n",
              "2                                            NaN   \n",
              "12                                           NaN   \n",
              "0                                            NaN   \n",
              "16                                           NaN   \n",
              "32                                           NaN   \n",
              "21                                           NaN   \n",
              "17                                           NaN   \n",
              "23                                           NaN   \n",
              "26                                           NaN   \n",
              "3                                            NaN   \n",
              "11                                           NaN   \n",
              "19                                           NaN   \n",
              "5                                            NaN   \n",
              "9                                            NaN   \n",
              "8                                            NaN   \n",
              "25                                           NaN   \n",
              "24                                           NaN   \n",
              "1                                            NaN   \n",
              "14                                           NaN   \n",
              "13                                           NaN   \n",
              "15                                           NaN   \n",
              "22                                           NaN   \n",
              "31                                           NaN   \n",
              "29                                           NaN   \n",
              "10                                           NaN   \n",
              "33                                           NaN   \n",
              "18                                           NaN   \n",
              "6                                            NaN   \n",
              "4                                            NaN   \n",
              "28                                           NaN   \n",
              "30                                           NaN   \n",
              "7                                            NaN   \n",
              "34                                           NaN   \n",
              "\n",
              "    param_feature_preprocessor:kernel_pca:gamma  \\\n",
              "20                                          NaN   \n",
              "27                                          NaN   \n",
              "2                                           NaN   \n",
              "12                                          NaN   \n",
              "0                                           NaN   \n",
              "16                                          NaN   \n",
              "32                                          NaN   \n",
              "21                                          NaN   \n",
              "17                                          NaN   \n",
              "23                                          NaN   \n",
              "26                                          NaN   \n",
              "3                                           NaN   \n",
              "11                                          NaN   \n",
              "19                                          NaN   \n",
              "5                                           NaN   \n",
              "9                                           NaN   \n",
              "8                                           NaN   \n",
              "25                                          NaN   \n",
              "24                                          NaN   \n",
              "1                                           NaN   \n",
              "14                                          NaN   \n",
              "13                                          NaN   \n",
              "15                                          NaN   \n",
              "22                                          NaN   \n",
              "31                                          NaN   \n",
              "29                                          NaN   \n",
              "10                                          NaN   \n",
              "33                                          NaN   \n",
              "18                                          NaN   \n",
              "6                                           NaN   \n",
              "4                                           NaN   \n",
              "28                                          NaN   \n",
              "30                                          NaN   \n",
              "7                                           NaN   \n",
              "34                                          NaN   \n",
              "\n",
              "    param_feature_preprocessor:nystroem_sampler:coef0  \\\n",
              "20                                                NaN   \n",
              "27                                                NaN   \n",
              "2                                                 NaN   \n",
              "12                                                NaN   \n",
              "0                                                 NaN   \n",
              "16                                                NaN   \n",
              "32                                                NaN   \n",
              "21                                                NaN   \n",
              "17                                                NaN   \n",
              "23                                                NaN   \n",
              "26                                                NaN   \n",
              "3                                                 NaN   \n",
              "11                                                NaN   \n",
              "19                                                NaN   \n",
              "5                                                 NaN   \n",
              "9                                                 NaN   \n",
              "8                                                 NaN   \n",
              "25                                                NaN   \n",
              "24                                                NaN   \n",
              "1                                                 NaN   \n",
              "14                                                NaN   \n",
              "13                                                NaN   \n",
              "15                                                NaN   \n",
              "22                                                NaN   \n",
              "31                                                NaN   \n",
              "29                                                NaN   \n",
              "10                                                NaN   \n",
              "33                                                NaN   \n",
              "18                                                NaN   \n",
              "6                                                 NaN   \n",
              "4                                                 NaN   \n",
              "28                                                NaN   \n",
              "30                                                NaN   \n",
              "7                                                 NaN   \n",
              "34                                                NaN   \n",
              "\n",
              "   param_feature_preprocessor:nystroem_sampler:degree  \\\n",
              "20                                                NaN   \n",
              "27                                                NaN   \n",
              "2                                                 NaN   \n",
              "12                                                NaN   \n",
              "0                                                 NaN   \n",
              "16                                                NaN   \n",
              "32                                                NaN   \n",
              "21                                                NaN   \n",
              "17                                                NaN   \n",
              "23                                                NaN   \n",
              "26                                                NaN   \n",
              "3                                                 NaN   \n",
              "11                                                NaN   \n",
              "19                                                NaN   \n",
              "5                                                 NaN   \n",
              "9                                                 NaN   \n",
              "8                                                 NaN   \n",
              "25                                                NaN   \n",
              "24                                                NaN   \n",
              "1                                                 NaN   \n",
              "14                                                NaN   \n",
              "13                                                NaN   \n",
              "15                                                NaN   \n",
              "22                                                NaN   \n",
              "31                                                NaN   \n",
              "29                                                NaN   \n",
              "10                                                NaN   \n",
              "33                                                NaN   \n",
              "18                                                NaN   \n",
              "6                                                 NaN   \n",
              "4                                                 NaN   \n",
              "28                                                NaN   \n",
              "30                                                NaN   \n",
              "7                                                 NaN   \n",
              "34                                                NaN   \n",
              "\n",
              "    param_feature_preprocessor:nystroem_sampler:gamma  \\\n",
              "20                                                NaN   \n",
              "27                                                NaN   \n",
              "2                                                 NaN   \n",
              "12                                                NaN   \n",
              "0                                                 NaN   \n",
              "16                                                NaN   \n",
              "32                                                NaN   \n",
              "21                                                NaN   \n",
              "17                                                NaN   \n",
              "23                                                NaN   \n",
              "26                                                NaN   \n",
              "3                                                 NaN   \n",
              "11                                                NaN   \n",
              "19                                                NaN   \n",
              "5                                                 NaN   \n",
              "9                                                 NaN   \n",
              "8                                                 NaN   \n",
              "25                                                NaN   \n",
              "24                                                NaN   \n",
              "1                                                 NaN   \n",
              "14                                                NaN   \n",
              "13                                                NaN   \n",
              "15                                                NaN   \n",
              "22                                                NaN   \n",
              "31                                                NaN   \n",
              "29                                                NaN   \n",
              "10                                                NaN   \n",
              "33                                                NaN   \n",
              "18                                                NaN   \n",
              "6                                                 NaN   \n",
              "4                                                 NaN   \n",
              "28                                                NaN   \n",
              "30                                                NaN   \n",
              "7                                                 NaN   \n",
              "34                                                NaN   \n",
              "\n",
              "    param_feature_preprocessor:select_rates_classification:mode  \n",
              "20                                                NaN            \n",
              "27                                                NaN            \n",
              "2                                                 NaN            \n",
              "12                                                NaN            \n",
              "0                                                 NaN            \n",
              "16                                                NaN            \n",
              "32                                                NaN            \n",
              "21                                                NaN            \n",
              "17                                                NaN            \n",
              "23                                                NaN            \n",
              "26                                                NaN            \n",
              "3                                                 NaN            \n",
              "11                                                NaN            \n",
              "19                                                fpr            \n",
              "5                                                 NaN            \n",
              "9                                                 fdr            \n",
              "8                                                 NaN            \n",
              "25                                                NaN            \n",
              "24                                                NaN            \n",
              "1                                                 NaN            \n",
              "14                                                NaN            \n",
              "13                                                NaN            \n",
              "15                                                NaN            \n",
              "22                                                NaN            \n",
              "31                                                fpr            \n",
              "29                                                NaN            \n",
              "10                                                NaN            \n",
              "33                                                NaN            \n",
              "18                                                NaN            \n",
              "6                                                 NaN            \n",
              "4                                                 NaN            \n",
              "28                                                NaN            \n",
              "30                                                NaN            \n",
              "7                                                 NaN            \n",
              "34                                                NaN            \n",
              "\n",
              "[35 rows x 173 columns]"
            ],
            "text/html": [
              "\n",
              "  <div id=\"df-55bf93e7-4552-45c7-9fd0-03013b1a5bd9\">\n",
              "    <div class=\"colab-df-container\">\n",
              "      <div>\n",
              "<style scoped>\n",
              "    .dataframe tbody tr th:only-of-type {\n",
              "        vertical-align: middle;\n",
              "    }\n",
              "\n",
              "    .dataframe tbody tr th {\n",
              "        vertical-align: top;\n",
              "    }\n",
              "\n",
              "    .dataframe thead th {\n",
              "        text-align: right;\n",
              "    }\n",
              "</style>\n",
              "<table border=\"1\" class=\"dataframe\">\n",
              "  <thead>\n",
              "    <tr style=\"text-align: right;\">\n",
              "      <th></th>\n",
              "      <th>mean_test_score</th>\n",
              "      <th>rank_test_scores</th>\n",
              "      <th>metric_recall</th>\n",
              "      <th>metric_precision</th>\n",
              "      <th>mean_fit_time</th>\n",
              "      <th>params</th>\n",
              "      <th>status</th>\n",
              "      <th>budgets</th>\n",
              "      <th>param_balancing:strategy</th>\n",
              "      <th>param_classifier:__choice__</th>\n",
              "      <th>...</th>\n",
              "      <th>param_data_preprocessor:feature_type:numerical_transformer:rescaling:robust_scaler:q_max</th>\n",
              "      <th>param_data_preprocessor:feature_type:numerical_transformer:rescaling:robust_scaler:q_min</th>\n",
              "      <th>param_feature_preprocessor:fast_ica:n_components</th>\n",
              "      <th>param_feature_preprocessor:kernel_pca:coef0</th>\n",
              "      <th>param_feature_preprocessor:kernel_pca:degree</th>\n",
              "      <th>param_feature_preprocessor:kernel_pca:gamma</th>\n",
              "      <th>param_feature_preprocessor:nystroem_sampler:coef0</th>\n",
              "      <th>param_feature_preprocessor:nystroem_sampler:degree</th>\n",
              "      <th>param_feature_preprocessor:nystroem_sampler:gamma</th>\n",
              "      <th>param_feature_preprocessor:select_rates_classification:mode</th>\n",
              "    </tr>\n",
              "  </thead>\n",
              "  <tbody>\n",
              "    <tr>\n",
              "      <th>20</th>\n",
              "      <td>0.936579</td>\n",
              "      <td>1</td>\n",
              "      <td>NaN</td>\n",
              "      <td>NaN</td>\n",
              "      <td>70.164444</td>\n",
              "      <td>{'balancing:strategy': 'weighting', 'classifie...</td>\n",
              "      <td>Success</td>\n",
              "      <td>0.0</td>\n",
              "      <td>weighting</td>\n",
              "      <td>gradient_boosting</td>\n",
              "      <td>...</td>\n",
              "      <td>NaN</td>\n",
              "      <td>NaN</td>\n",
              "      <td>NaN</td>\n",
              "      <td>NaN</td>\n",
              "      <td>NaN</td>\n",
              "      <td>NaN</td>\n",
              "      <td>NaN</td>\n",
              "      <td>NaN</td>\n",
              "      <td>NaN</td>\n",
              "      <td>NaN</td>\n",
              "    </tr>\n",
              "    <tr>\n",
              "      <th>27</th>\n",
              "      <td>0.935276</td>\n",
              "      <td>2</td>\n",
              "      <td>NaN</td>\n",
              "      <td>NaN</td>\n",
              "      <td>66.602454</td>\n",
              "      <td>{'balancing:strategy': 'weighting', 'classifie...</td>\n",
              "      <td>Success</td>\n",
              "      <td>0.0</td>\n",
              "      <td>weighting</td>\n",
              "      <td>gradient_boosting</td>\n",
              "      <td>...</td>\n",
              "      <td>NaN</td>\n",
              "      <td>NaN</td>\n",
              "      <td>NaN</td>\n",
              "      <td>NaN</td>\n",
              "      <td>NaN</td>\n",
              "      <td>NaN</td>\n",
              "      <td>NaN</td>\n",
              "      <td>NaN</td>\n",
              "      <td>NaN</td>\n",
              "      <td>NaN</td>\n",
              "    </tr>\n",
              "    <tr>\n",
              "      <th>2</th>\n",
              "      <td>0.932834</td>\n",
              "      <td>3</td>\n",
              "      <td>NaN</td>\n",
              "      <td>NaN</td>\n",
              "      <td>70.639716</td>\n",
              "      <td>{'balancing:strategy': 'none', 'classifier:__c...</td>\n",
              "      <td>Success</td>\n",
              "      <td>0.0</td>\n",
              "      <td>none</td>\n",
              "      <td>gradient_boosting</td>\n",
              "      <td>...</td>\n",
              "      <td>NaN</td>\n",
              "      <td>NaN</td>\n",
              "      <td>NaN</td>\n",
              "      <td>NaN</td>\n",
              "      <td>NaN</td>\n",
              "      <td>NaN</td>\n",
              "      <td>NaN</td>\n",
              "      <td>NaN</td>\n",
              "      <td>NaN</td>\n",
              "      <td>NaN</td>\n",
              "    </tr>\n",
              "    <tr>\n",
              "      <th>12</th>\n",
              "      <td>0.931124</td>\n",
              "      <td>4</td>\n",
              "      <td>NaN</td>\n",
              "      <td>NaN</td>\n",
              "      <td>243.771864</td>\n",
              "      <td>{'balancing:strategy': 'weighting', 'classifie...</td>\n",
              "      <td>Success</td>\n",
              "      <td>0.0</td>\n",
              "      <td>weighting</td>\n",
              "      <td>gradient_boosting</td>\n",
              "      <td>...</td>\n",
              "      <td>0.965272</td>\n",
              "      <td>0.041903</td>\n",
              "      <td>NaN</td>\n",
              "      <td>NaN</td>\n",
              "      <td>NaN</td>\n",
              "      <td>NaN</td>\n",
              "      <td>NaN</td>\n",
              "      <td>NaN</td>\n",
              "      <td>NaN</td>\n",
              "      <td>NaN</td>\n",
              "    </tr>\n",
              "    <tr>\n",
              "      <th>0</th>\n",
              "      <td>0.929822</td>\n",
              "      <td>5</td>\n",
              "      <td>NaN</td>\n",
              "      <td>NaN</td>\n",
              "      <td>49.011335</td>\n",
              "      <td>{'balancing:strategy': 'none', 'classifier:__c...</td>\n",
              "      <td>Success</td>\n",
              "      <td>0.0</td>\n",
              "      <td>none</td>\n",
              "      <td>random_forest</td>\n",
              "      <td>...</td>\n",
              "      <td>NaN</td>\n",
              "      <td>NaN</td>\n",
              "      <td>NaN</td>\n",
              "      <td>NaN</td>\n",
              "      <td>NaN</td>\n",
              "      <td>NaN</td>\n",
              "      <td>NaN</td>\n",
              "      <td>NaN</td>\n",
              "      <td>NaN</td>\n",
              "      <td>NaN</td>\n",
              "    </tr>\n",
              "    <tr>\n",
              "      <th>16</th>\n",
              "      <td>0.926891</td>\n",
              "      <td>6</td>\n",
              "      <td>NaN</td>\n",
              "      <td>NaN</td>\n",
              "      <td>44.795756</td>\n",
              "      <td>{'balancing:strategy': 'weighting', 'classifie...</td>\n",
              "      <td>Success</td>\n",
              "      <td>0.0</td>\n",
              "      <td>weighting</td>\n",
              "      <td>random_forest</td>\n",
              "      <td>...</td>\n",
              "      <td>0.750000</td>\n",
              "      <td>0.250000</td>\n",
              "      <td>NaN</td>\n",
              "      <td>NaN</td>\n",
              "      <td>NaN</td>\n",
              "      <td>NaN</td>\n",
              "      <td>NaN</td>\n",
              "      <td>NaN</td>\n",
              "      <td>NaN</td>\n",
              "      <td>NaN</td>\n",
              "    </tr>\n",
              "    <tr>\n",
              "      <th>32</th>\n",
              "      <td>0.925263</td>\n",
              "      <td>7</td>\n",
              "      <td>NaN</td>\n",
              "      <td>NaN</td>\n",
              "      <td>34.369603</td>\n",
              "      <td>{'balancing:strategy': 'none', 'classifier:__c...</td>\n",
              "      <td>Success</td>\n",
              "      <td>0.0</td>\n",
              "      <td>none</td>\n",
              "      <td>gradient_boosting</td>\n",
              "      <td>...</td>\n",
              "      <td>NaN</td>\n",
              "      <td>NaN</td>\n",
              "      <td>NaN</td>\n",
              "      <td>NaN</td>\n",
              "      <td>NaN</td>\n",
              "      <td>NaN</td>\n",
              "      <td>NaN</td>\n",
              "      <td>NaN</td>\n",
              "      <td>NaN</td>\n",
              "      <td>NaN</td>\n",
              "    </tr>\n",
              "    <tr>\n",
              "      <th>21</th>\n",
              "      <td>0.924937</td>\n",
              "      <td>8</td>\n",
              "      <td>NaN</td>\n",
              "      <td>NaN</td>\n",
              "      <td>26.512857</td>\n",
              "      <td>{'balancing:strategy': 'weighting', 'classifie...</td>\n",
              "      <td>Success</td>\n",
              "      <td>0.0</td>\n",
              "      <td>weighting</td>\n",
              "      <td>gradient_boosting</td>\n",
              "      <td>...</td>\n",
              "      <td>NaN</td>\n",
              "      <td>NaN</td>\n",
              "      <td>NaN</td>\n",
              "      <td>NaN</td>\n",
              "      <td>NaN</td>\n",
              "      <td>NaN</td>\n",
              "      <td>NaN</td>\n",
              "      <td>NaN</td>\n",
              "      <td>NaN</td>\n",
              "      <td>NaN</td>\n",
              "    </tr>\n",
              "    <tr>\n",
              "      <th>17</th>\n",
              "      <td>0.917040</td>\n",
              "      <td>9</td>\n",
              "      <td>NaN</td>\n",
              "      <td>NaN</td>\n",
              "      <td>22.612165</td>\n",
              "      <td>{'balancing:strategy': 'none', 'classifier:__c...</td>\n",
              "      <td>Success</td>\n",
              "      <td>0.0</td>\n",
              "      <td>none</td>\n",
              "      <td>random_forest</td>\n",
              "      <td>...</td>\n",
              "      <td>NaN</td>\n",
              "      <td>NaN</td>\n",
              "      <td>NaN</td>\n",
              "      <td>NaN</td>\n",
              "      <td>NaN</td>\n",
              "      <td>NaN</td>\n",
              "      <td>NaN</td>\n",
              "      <td>NaN</td>\n",
              "      <td>NaN</td>\n",
              "      <td>NaN</td>\n",
              "    </tr>\n",
              "    <tr>\n",
              "      <th>23</th>\n",
              "      <td>0.901246</td>\n",
              "      <td>10</td>\n",
              "      <td>NaN</td>\n",
              "      <td>NaN</td>\n",
              "      <td>37.964725</td>\n",
              "      <td>{'balancing:strategy': 'none', 'classifier:__c...</td>\n",
              "      <td>Success</td>\n",
              "      <td>0.0</td>\n",
              "      <td>none</td>\n",
              "      <td>random_forest</td>\n",
              "      <td>...</td>\n",
              "      <td>NaN</td>\n",
              "      <td>NaN</td>\n",
              "      <td>NaN</td>\n",
              "      <td>NaN</td>\n",
              "      <td>NaN</td>\n",
              "      <td>NaN</td>\n",
              "      <td>NaN</td>\n",
              "      <td>NaN</td>\n",
              "      <td>NaN</td>\n",
              "      <td>NaN</td>\n",
              "    </tr>\n",
              "    <tr>\n",
              "      <th>26</th>\n",
              "      <td>0.895954</td>\n",
              "      <td>11</td>\n",
              "      <td>NaN</td>\n",
              "      <td>NaN</td>\n",
              "      <td>65.584810</td>\n",
              "      <td>{'balancing:strategy': 'weighting', 'classifie...</td>\n",
              "      <td>Success</td>\n",
              "      <td>0.0</td>\n",
              "      <td>weighting</td>\n",
              "      <td>gradient_boosting</td>\n",
              "      <td>...</td>\n",
              "      <td>NaN</td>\n",
              "      <td>NaN</td>\n",
              "      <td>NaN</td>\n",
              "      <td>NaN</td>\n",
              "      <td>NaN</td>\n",
              "      <td>NaN</td>\n",
              "      <td>NaN</td>\n",
              "      <td>NaN</td>\n",
              "      <td>NaN</td>\n",
              "      <td>NaN</td>\n",
              "    </tr>\n",
              "    <tr>\n",
              "      <th>3</th>\n",
              "      <td>0.892860</td>\n",
              "      <td>12</td>\n",
              "      <td>NaN</td>\n",
              "      <td>NaN</td>\n",
              "      <td>56.340680</td>\n",
              "      <td>{'balancing:strategy': 'none', 'classifier:__c...</td>\n",
              "      <td>Success</td>\n",
              "      <td>0.0</td>\n",
              "      <td>none</td>\n",
              "      <td>gradient_boosting</td>\n",
              "      <td>...</td>\n",
              "      <td>0.883087</td>\n",
              "      <td>0.122059</td>\n",
              "      <td>NaN</td>\n",
              "      <td>NaN</td>\n",
              "      <td>NaN</td>\n",
              "      <td>NaN</td>\n",
              "      <td>NaN</td>\n",
              "      <td>NaN</td>\n",
              "      <td>NaN</td>\n",
              "      <td>NaN</td>\n",
              "    </tr>\n",
              "    <tr>\n",
              "      <th>11</th>\n",
              "      <td>0.869006</td>\n",
              "      <td>13</td>\n",
              "      <td>NaN</td>\n",
              "      <td>NaN</td>\n",
              "      <td>24.437369</td>\n",
              "      <td>{'balancing:strategy': 'weighting', 'classifie...</td>\n",
              "      <td>Success</td>\n",
              "      <td>0.0</td>\n",
              "      <td>weighting</td>\n",
              "      <td>gradient_boosting</td>\n",
              "      <td>...</td>\n",
              "      <td>0.766357</td>\n",
              "      <td>0.255619</td>\n",
              "      <td>NaN</td>\n",
              "      <td>NaN</td>\n",
              "      <td>NaN</td>\n",
              "      <td>NaN</td>\n",
              "      <td>NaN</td>\n",
              "      <td>NaN</td>\n",
              "      <td>NaN</td>\n",
              "      <td>NaN</td>\n",
              "    </tr>\n",
              "    <tr>\n",
              "      <th>19</th>\n",
              "      <td>0.861516</td>\n",
              "      <td>14</td>\n",
              "      <td>NaN</td>\n",
              "      <td>NaN</td>\n",
              "      <td>41.846896</td>\n",
              "      <td>{'balancing:strategy': 'weighting', 'classifie...</td>\n",
              "      <td>Success</td>\n",
              "      <td>0.0</td>\n",
              "      <td>weighting</td>\n",
              "      <td>gradient_boosting</td>\n",
              "      <td>...</td>\n",
              "      <td>NaN</td>\n",
              "      <td>NaN</td>\n",
              "      <td>NaN</td>\n",
              "      <td>NaN</td>\n",
              "      <td>NaN</td>\n",
              "      <td>NaN</td>\n",
              "      <td>NaN</td>\n",
              "      <td>NaN</td>\n",
              "      <td>NaN</td>\n",
              "      <td>fpr</td>\n",
              "    </tr>\n",
              "    <tr>\n",
              "      <th>5</th>\n",
              "      <td>0.855817</td>\n",
              "      <td>15</td>\n",
              "      <td>NaN</td>\n",
              "      <td>NaN</td>\n",
              "      <td>46.705858</td>\n",
              "      <td>{'balancing:strategy': 'none', 'classifier:__c...</td>\n",
              "      <td>Success</td>\n",
              "      <td>0.0</td>\n",
              "      <td>none</td>\n",
              "      <td>random_forest</td>\n",
              "      <td>...</td>\n",
              "      <td>NaN</td>\n",
              "      <td>NaN</td>\n",
              "      <td>NaN</td>\n",
              "      <td>NaN</td>\n",
              "      <td>NaN</td>\n",
              "      <td>NaN</td>\n",
              "      <td>NaN</td>\n",
              "      <td>NaN</td>\n",
              "      <td>NaN</td>\n",
              "      <td>NaN</td>\n",
              "    </tr>\n",
              "    <tr>\n",
              "      <th>9</th>\n",
              "      <td>0.828544</td>\n",
              "      <td>16</td>\n",
              "      <td>NaN</td>\n",
              "      <td>NaN</td>\n",
              "      <td>143.338843</td>\n",
              "      <td>{'balancing:strategy': 'weighting', 'classifie...</td>\n",
              "      <td>Success</td>\n",
              "      <td>0.0</td>\n",
              "      <td>weighting</td>\n",
              "      <td>libsvm_svc</td>\n",
              "      <td>...</td>\n",
              "      <td>0.759067</td>\n",
              "      <td>0.238219</td>\n",
              "      <td>NaN</td>\n",
              "      <td>NaN</td>\n",
              "      <td>NaN</td>\n",
              "      <td>NaN</td>\n",
              "      <td>NaN</td>\n",
              "      <td>NaN</td>\n",
              "      <td>NaN</td>\n",
              "      <td>fdr</td>\n",
              "    </tr>\n",
              "    <tr>\n",
              "      <th>8</th>\n",
              "      <td>0.795897</td>\n",
              "      <td>17</td>\n",
              "      <td>NaN</td>\n",
              "      <td>NaN</td>\n",
              "      <td>32.675320</td>\n",
              "      <td>{'balancing:strategy': 'none', 'classifier:__c...</td>\n",
              "      <td>Success</td>\n",
              "      <td>0.0</td>\n",
              "      <td>none</td>\n",
              "      <td>gradient_boosting</td>\n",
              "      <td>...</td>\n",
              "      <td>NaN</td>\n",
              "      <td>NaN</td>\n",
              "      <td>588.0</td>\n",
              "      <td>NaN</td>\n",
              "      <td>NaN</td>\n",
              "      <td>NaN</td>\n",
              "      <td>NaN</td>\n",
              "      <td>NaN</td>\n",
              "      <td>NaN</td>\n",
              "      <td>NaN</td>\n",
              "    </tr>\n",
              "    <tr>\n",
              "      <th>25</th>\n",
              "      <td>0.749817</td>\n",
              "      <td>18</td>\n",
              "      <td>NaN</td>\n",
              "      <td>NaN</td>\n",
              "      <td>131.892644</td>\n",
              "      <td>{'balancing:strategy': 'weighting', 'classifie...</td>\n",
              "      <td>Success</td>\n",
              "      <td>0.0</td>\n",
              "      <td>weighting</td>\n",
              "      <td>libsvm_svc</td>\n",
              "      <td>...</td>\n",
              "      <td>NaN</td>\n",
              "      <td>NaN</td>\n",
              "      <td>NaN</td>\n",
              "      <td>NaN</td>\n",
              "      <td>NaN</td>\n",
              "      <td>NaN</td>\n",
              "      <td>NaN</td>\n",
              "      <td>NaN</td>\n",
              "      <td>NaN</td>\n",
              "      <td>NaN</td>\n",
              "    </tr>\n",
              "    <tr>\n",
              "      <th>24</th>\n",
              "      <td>0.743955</td>\n",
              "      <td>19</td>\n",
              "      <td>NaN</td>\n",
              "      <td>NaN</td>\n",
              "      <td>1.110767</td>\n",
              "      <td>{'balancing:strategy': 'weighting', 'classifie...</td>\n",
              "      <td>Success</td>\n",
              "      <td>0.0</td>\n",
              "      <td>weighting</td>\n",
              "      <td>k_nearest_neighbors</td>\n",
              "      <td>...</td>\n",
              "      <td>NaN</td>\n",
              "      <td>NaN</td>\n",
              "      <td>NaN</td>\n",
              "      <td>NaN</td>\n",
              "      <td>NaN</td>\n",
              "      <td>NaN</td>\n",
              "      <td>NaN</td>\n",
              "      <td>NaN</td>\n",
              "      <td>NaN</td>\n",
              "      <td>NaN</td>\n",
              "    </tr>\n",
              "    <tr>\n",
              "      <th>1</th>\n",
              "      <td>0.685582</td>\n",
              "      <td>20</td>\n",
              "      <td>NaN</td>\n",
              "      <td>NaN</td>\n",
              "      <td>226.749362</td>\n",
              "      <td>{'balancing:strategy': 'none', 'classifier:__c...</td>\n",
              "      <td>Success</td>\n",
              "      <td>0.0</td>\n",
              "      <td>none</td>\n",
              "      <td>libsvm_svc</td>\n",
              "      <td>...</td>\n",
              "      <td>NaN</td>\n",
              "      <td>NaN</td>\n",
              "      <td>NaN</td>\n",
              "      <td>NaN</td>\n",
              "      <td>NaN</td>\n",
              "      <td>NaN</td>\n",
              "      <td>NaN</td>\n",
              "      <td>NaN</td>\n",
              "      <td>NaN</td>\n",
              "      <td>NaN</td>\n",
              "    </tr>\n",
              "    <tr>\n",
              "      <th>14</th>\n",
              "      <td>0.667752</td>\n",
              "      <td>21</td>\n",
              "      <td>NaN</td>\n",
              "      <td>NaN</td>\n",
              "      <td>21.239815</td>\n",
              "      <td>{'balancing:strategy': 'none', 'classifier:__c...</td>\n",
              "      <td>Success</td>\n",
              "      <td>0.0</td>\n",
              "      <td>none</td>\n",
              "      <td>lda</td>\n",
              "      <td>...</td>\n",
              "      <td>NaN</td>\n",
              "      <td>NaN</td>\n",
              "      <td>NaN</td>\n",
              "      <td>NaN</td>\n",
              "      <td>NaN</td>\n",
              "      <td>NaN</td>\n",
              "      <td>NaN</td>\n",
              "      <td>NaN</td>\n",
              "      <td>NaN</td>\n",
              "      <td>NaN</td>\n",
              "    </tr>\n",
              "    <tr>\n",
              "      <th>13</th>\n",
              "      <td>0.664496</td>\n",
              "      <td>22</td>\n",
              "      <td>NaN</td>\n",
              "      <td>NaN</td>\n",
              "      <td>66.131095</td>\n",
              "      <td>{'balancing:strategy': 'weighting', 'classifie...</td>\n",
              "      <td>Success</td>\n",
              "      <td>0.0</td>\n",
              "      <td>weighting</td>\n",
              "      <td>mlp</td>\n",
              "      <td>...</td>\n",
              "      <td>NaN</td>\n",
              "      <td>NaN</td>\n",
              "      <td>NaN</td>\n",
              "      <td>NaN</td>\n",
              "      <td>NaN</td>\n",
              "      <td>NaN</td>\n",
              "      <td>NaN</td>\n",
              "      <td>NaN</td>\n",
              "      <td>NaN</td>\n",
              "      <td>NaN</td>\n",
              "    </tr>\n",
              "    <tr>\n",
              "      <th>15</th>\n",
              "      <td>0.599446</td>\n",
              "      <td>23</td>\n",
              "      <td>NaN</td>\n",
              "      <td>NaN</td>\n",
              "      <td>35.311717</td>\n",
              "      <td>{'balancing:strategy': 'none', 'classifier:__c...</td>\n",
              "      <td>Success</td>\n",
              "      <td>0.0</td>\n",
              "      <td>none</td>\n",
              "      <td>mlp</td>\n",
              "      <td>...</td>\n",
              "      <td>NaN</td>\n",
              "      <td>NaN</td>\n",
              "      <td>NaN</td>\n",
              "      <td>NaN</td>\n",
              "      <td>NaN</td>\n",
              "      <td>NaN</td>\n",
              "      <td>NaN</td>\n",
              "      <td>NaN</td>\n",
              "      <td>NaN</td>\n",
              "      <td>NaN</td>\n",
              "    </tr>\n",
              "    <tr>\n",
              "      <th>22</th>\n",
              "      <td>0.584304</td>\n",
              "      <td>24</td>\n",
              "      <td>NaN</td>\n",
              "      <td>NaN</td>\n",
              "      <td>12.662720</td>\n",
              "      <td>{'balancing:strategy': 'weighting', 'classifie...</td>\n",
              "      <td>Success</td>\n",
              "      <td>0.0</td>\n",
              "      <td>weighting</td>\n",
              "      <td>random_forest</td>\n",
              "      <td>...</td>\n",
              "      <td>0.735635</td>\n",
              "      <td>0.290211</td>\n",
              "      <td>NaN</td>\n",
              "      <td>NaN</td>\n",
              "      <td>NaN</td>\n",
              "      <td>NaN</td>\n",
              "      <td>NaN</td>\n",
              "      <td>NaN</td>\n",
              "      <td>NaN</td>\n",
              "      <td>NaN</td>\n",
              "    </tr>\n",
              "    <tr>\n",
              "      <th>31</th>\n",
              "      <td>0.426036</td>\n",
              "      <td>25</td>\n",
              "      <td>NaN</td>\n",
              "      <td>NaN</td>\n",
              "      <td>2.300163</td>\n",
              "      <td>{'balancing:strategy': 'weighting', 'classifie...</td>\n",
              "      <td>Success</td>\n",
              "      <td>0.0</td>\n",
              "      <td>weighting</td>\n",
              "      <td>bernoulli_nb</td>\n",
              "      <td>...</td>\n",
              "      <td>NaN</td>\n",
              "      <td>NaN</td>\n",
              "      <td>NaN</td>\n",
              "      <td>NaN</td>\n",
              "      <td>NaN</td>\n",
              "      <td>NaN</td>\n",
              "      <td>NaN</td>\n",
              "      <td>NaN</td>\n",
              "      <td>NaN</td>\n",
              "      <td>fpr</td>\n",
              "    </tr>\n",
              "    <tr>\n",
              "      <th>29</th>\n",
              "      <td>0.381096</td>\n",
              "      <td>26</td>\n",
              "      <td>NaN</td>\n",
              "      <td>NaN</td>\n",
              "      <td>2.416635</td>\n",
              "      <td>{'balancing:strategy': 'weighting', 'classifie...</td>\n",
              "      <td>Success</td>\n",
              "      <td>0.0</td>\n",
              "      <td>weighting</td>\n",
              "      <td>k_nearest_neighbors</td>\n",
              "      <td>...</td>\n",
              "      <td>0.740253</td>\n",
              "      <td>0.290055</td>\n",
              "      <td>NaN</td>\n",
              "      <td>NaN</td>\n",
              "      <td>NaN</td>\n",
              "      <td>NaN</td>\n",
              "      <td>NaN</td>\n",
              "      <td>NaN</td>\n",
              "      <td>NaN</td>\n",
              "      <td>NaN</td>\n",
              "    </tr>\n",
              "    <tr>\n",
              "      <th>10</th>\n",
              "      <td>0.377595</td>\n",
              "      <td>27</td>\n",
              "      <td>NaN</td>\n",
              "      <td>NaN</td>\n",
              "      <td>119.500290</td>\n",
              "      <td>{'balancing:strategy': 'weighting', 'classifie...</td>\n",
              "      <td>Success</td>\n",
              "      <td>0.0</td>\n",
              "      <td>weighting</td>\n",
              "      <td>libsvm_svc</td>\n",
              "      <td>...</td>\n",
              "      <td>NaN</td>\n",
              "      <td>NaN</td>\n",
              "      <td>NaN</td>\n",
              "      <td>NaN</td>\n",
              "      <td>NaN</td>\n",
              "      <td>NaN</td>\n",
              "      <td>NaN</td>\n",
              "      <td>NaN</td>\n",
              "      <td>NaN</td>\n",
              "      <td>NaN</td>\n",
              "    </tr>\n",
              "    <tr>\n",
              "      <th>33</th>\n",
              "      <td>0.301881</td>\n",
              "      <td>28</td>\n",
              "      <td>NaN</td>\n",
              "      <td>NaN</td>\n",
              "      <td>7.101794</td>\n",
              "      <td>{'balancing:strategy': 'none', 'classifier:__c...</td>\n",
              "      <td>Success</td>\n",
              "      <td>0.0</td>\n",
              "      <td>none</td>\n",
              "      <td>mlp</td>\n",
              "      <td>...</td>\n",
              "      <td>NaN</td>\n",
              "      <td>NaN</td>\n",
              "      <td>NaN</td>\n",
              "      <td>NaN</td>\n",
              "      <td>NaN</td>\n",
              "      <td>NaN</td>\n",
              "      <td>NaN</td>\n",
              "      <td>NaN</td>\n",
              "      <td>NaN</td>\n",
              "      <td>NaN</td>\n",
              "    </tr>\n",
              "    <tr>\n",
              "      <th>18</th>\n",
              "      <td>0.229016</td>\n",
              "      <td>29</td>\n",
              "      <td>NaN</td>\n",
              "      <td>NaN</td>\n",
              "      <td>15.007099</td>\n",
              "      <td>{'balancing:strategy': 'none', 'classifier:__c...</td>\n",
              "      <td>Success</td>\n",
              "      <td>0.0</td>\n",
              "      <td>none</td>\n",
              "      <td>gradient_boosting</td>\n",
              "      <td>...</td>\n",
              "      <td>NaN</td>\n",
              "      <td>NaN</td>\n",
              "      <td>NaN</td>\n",
              "      <td>NaN</td>\n",
              "      <td>NaN</td>\n",
              "      <td>NaN</td>\n",
              "      <td>NaN</td>\n",
              "      <td>NaN</td>\n",
              "      <td>NaN</td>\n",
              "      <td>NaN</td>\n",
              "    </tr>\n",
              "    <tr>\n",
              "      <th>6</th>\n",
              "      <td>0.000000</td>\n",
              "      <td>30</td>\n",
              "      <td>NaN</td>\n",
              "      <td>NaN</td>\n",
              "      <td>360.039890</td>\n",
              "      <td>{'balancing:strategy': 'weighting', 'classifie...</td>\n",
              "      <td>Timeout</td>\n",
              "      <td>0.0</td>\n",
              "      <td>weighting</td>\n",
              "      <td>gradient_boosting</td>\n",
              "      <td>...</td>\n",
              "      <td>NaN</td>\n",
              "      <td>NaN</td>\n",
              "      <td>NaN</td>\n",
              "      <td>NaN</td>\n",
              "      <td>NaN</td>\n",
              "      <td>NaN</td>\n",
              "      <td>NaN</td>\n",
              "      <td>NaN</td>\n",
              "      <td>NaN</td>\n",
              "      <td>NaN</td>\n",
              "    </tr>\n",
              "    <tr>\n",
              "      <th>4</th>\n",
              "      <td>0.000000</td>\n",
              "      <td>30</td>\n",
              "      <td>NaN</td>\n",
              "      <td>NaN</td>\n",
              "      <td>360.110055</td>\n",
              "      <td>{'balancing:strategy': 'none', 'classifier:__c...</td>\n",
              "      <td>Timeout</td>\n",
              "      <td>0.0</td>\n",
              "      <td>none</td>\n",
              "      <td>random_forest</td>\n",
              "      <td>...</td>\n",
              "      <td>NaN</td>\n",
              "      <td>NaN</td>\n",
              "      <td>NaN</td>\n",
              "      <td>NaN</td>\n",
              "      <td>NaN</td>\n",
              "      <td>NaN</td>\n",
              "      <td>NaN</td>\n",
              "      <td>NaN</td>\n",
              "      <td>NaN</td>\n",
              "      <td>NaN</td>\n",
              "    </tr>\n",
              "    <tr>\n",
              "      <th>28</th>\n",
              "      <td>0.000000</td>\n",
              "      <td>30</td>\n",
              "      <td>NaN</td>\n",
              "      <td>NaN</td>\n",
              "      <td>360.109019</td>\n",
              "      <td>{'balancing:strategy': 'weighting', 'classifie...</td>\n",
              "      <td>Timeout</td>\n",
              "      <td>0.0</td>\n",
              "      <td>weighting</td>\n",
              "      <td>liblinear_svc</td>\n",
              "      <td>...</td>\n",
              "      <td>NaN</td>\n",
              "      <td>NaN</td>\n",
              "      <td>NaN</td>\n",
              "      <td>NaN</td>\n",
              "      <td>NaN</td>\n",
              "      <td>NaN</td>\n",
              "      <td>NaN</td>\n",
              "      <td>NaN</td>\n",
              "      <td>NaN</td>\n",
              "      <td>NaN</td>\n",
              "    </tr>\n",
              "    <tr>\n",
              "      <th>30</th>\n",
              "      <td>0.000000</td>\n",
              "      <td>30</td>\n",
              "      <td>NaN</td>\n",
              "      <td>NaN</td>\n",
              "      <td>360.098305</td>\n",
              "      <td>{'balancing:strategy': 'none', 'classifier:__c...</td>\n",
              "      <td>Timeout</td>\n",
              "      <td>0.0</td>\n",
              "      <td>none</td>\n",
              "      <td>k_nearest_neighbors</td>\n",
              "      <td>...</td>\n",
              "      <td>NaN</td>\n",
              "      <td>NaN</td>\n",
              "      <td>NaN</td>\n",
              "      <td>NaN</td>\n",
              "      <td>NaN</td>\n",
              "      <td>NaN</td>\n",
              "      <td>NaN</td>\n",
              "      <td>NaN</td>\n",
              "      <td>NaN</td>\n",
              "      <td>NaN</td>\n",
              "    </tr>\n",
              "    <tr>\n",
              "      <th>7</th>\n",
              "      <td>0.000000</td>\n",
              "      <td>30</td>\n",
              "      <td>NaN</td>\n",
              "      <td>NaN</td>\n",
              "      <td>360.029177</td>\n",
              "      <td>{'balancing:strategy': 'none', 'classifier:__c...</td>\n",
              "      <td>Timeout</td>\n",
              "      <td>0.0</td>\n",
              "      <td>none</td>\n",
              "      <td>gradient_boosting</td>\n",
              "      <td>...</td>\n",
              "      <td>0.967364</td>\n",
              "      <td>0.204455</td>\n",
              "      <td>NaN</td>\n",
              "      <td>NaN</td>\n",
              "      <td>NaN</td>\n",
              "      <td>NaN</td>\n",
              "      <td>NaN</td>\n",
              "      <td>NaN</td>\n",
              "      <td>NaN</td>\n",
              "      <td>NaN</td>\n",
              "    </tr>\n",
              "    <tr>\n",
              "      <th>34</th>\n",
              "      <td>0.000000</td>\n",
              "      <td>30</td>\n",
              "      <td>NaN</td>\n",
              "      <td>NaN</td>\n",
              "      <td>36.027746</td>\n",
              "      <td>{'balancing:strategy': 'weighting', 'classifie...</td>\n",
              "      <td>Timeout</td>\n",
              "      <td>0.0</td>\n",
              "      <td>weighting</td>\n",
              "      <td>gradient_boosting</td>\n",
              "      <td>...</td>\n",
              "      <td>NaN</td>\n",
              "      <td>NaN</td>\n",
              "      <td>NaN</td>\n",
              "      <td>NaN</td>\n",
              "      <td>NaN</td>\n",
              "      <td>NaN</td>\n",
              "      <td>NaN</td>\n",
              "      <td>NaN</td>\n",
              "      <td>NaN</td>\n",
              "      <td>NaN</td>\n",
              "    </tr>\n",
              "  </tbody>\n",
              "</table>\n",
              "<p>35 rows × 173 columns</p>\n",
              "</div>\n",
              "      <button class=\"colab-df-convert\" onclick=\"convertToInteractive('df-55bf93e7-4552-45c7-9fd0-03013b1a5bd9')\"\n",
              "              title=\"Convert this dataframe to an interactive table.\"\n",
              "              style=\"display:none;\">\n",
              "        \n",
              "  <svg xmlns=\"http://www.w3.org/2000/svg\" height=\"24px\"viewBox=\"0 0 24 24\"\n",
              "       width=\"24px\">\n",
              "    <path d=\"M0 0h24v24H0V0z\" fill=\"none\"/>\n",
              "    <path d=\"M18.56 5.44l.94 2.06.94-2.06 2.06-.94-2.06-.94-.94-2.06-.94 2.06-2.06.94zm-11 1L8.5 8.5l.94-2.06 2.06-.94-2.06-.94L8.5 2.5l-.94 2.06-2.06.94zm10 10l.94 2.06.94-2.06 2.06-.94-2.06-.94-.94-2.06-.94 2.06-2.06.94z\"/><path d=\"M17.41 7.96l-1.37-1.37c-.4-.4-.92-.59-1.43-.59-.52 0-1.04.2-1.43.59L10.3 9.45l-7.72 7.72c-.78.78-.78 2.05 0 2.83L4 21.41c.39.39.9.59 1.41.59.51 0 1.02-.2 1.41-.59l7.78-7.78 2.81-2.81c.8-.78.8-2.07 0-2.86zM5.41 20L4 18.59l7.72-7.72 1.47 1.35L5.41 20z\"/>\n",
              "  </svg>\n",
              "      </button>\n",
              "      \n",
              "  <style>\n",
              "    .colab-df-container {\n",
              "      display:flex;\n",
              "      flex-wrap:wrap;\n",
              "      gap: 12px;\n",
              "    }\n",
              "\n",
              "    .colab-df-convert {\n",
              "      background-color: #E8F0FE;\n",
              "      border: none;\n",
              "      border-radius: 50%;\n",
              "      cursor: pointer;\n",
              "      display: none;\n",
              "      fill: #1967D2;\n",
              "      height: 32px;\n",
              "      padding: 0 0 0 0;\n",
              "      width: 32px;\n",
              "    }\n",
              "\n",
              "    .colab-df-convert:hover {\n",
              "      background-color: #E2EBFA;\n",
              "      box-shadow: 0px 1px 2px rgba(60, 64, 67, 0.3), 0px 1px 3px 1px rgba(60, 64, 67, 0.15);\n",
              "      fill: #174EA6;\n",
              "    }\n",
              "\n",
              "    [theme=dark] .colab-df-convert {\n",
              "      background-color: #3B4455;\n",
              "      fill: #D2E3FC;\n",
              "    }\n",
              "\n",
              "    [theme=dark] .colab-df-convert:hover {\n",
              "      background-color: #434B5C;\n",
              "      box-shadow: 0px 1px 3px 1px rgba(0, 0, 0, 0.15);\n",
              "      filter: drop-shadow(0px 1px 2px rgba(0, 0, 0, 0.3));\n",
              "      fill: #FFFFFF;\n",
              "    }\n",
              "  </style>\n",
              "\n",
              "      <script>\n",
              "        const buttonEl =\n",
              "          document.querySelector('#df-55bf93e7-4552-45c7-9fd0-03013b1a5bd9 button.colab-df-convert');\n",
              "        buttonEl.style.display =\n",
              "          google.colab.kernel.accessAllowed ? 'block' : 'none';\n",
              "\n",
              "        async function convertToInteractive(key) {\n",
              "          const element = document.querySelector('#df-55bf93e7-4552-45c7-9fd0-03013b1a5bd9');\n",
              "          const dataTable =\n",
              "            await google.colab.kernel.invokeFunction('convertToInteractive',\n",
              "                                                     [key], {});\n",
              "          if (!dataTable) return;\n",
              "\n",
              "          const docLinkHtml = 'Like what you see? Visit the ' +\n",
              "            '<a target=\"_blank\" href=https://colab.research.google.com/notebooks/data_table.ipynb>data table notebook</a>'\n",
              "            + ' to learn more about interactive tables.';\n",
              "          element.innerHTML = '';\n",
              "          dataTable['output_type'] = 'display_data';\n",
              "          await google.colab.output.renderOutput(dataTable, element);\n",
              "          const docLink = document.createElement('div');\n",
              "          docLink.innerHTML = docLinkHtml;\n",
              "          element.appendChild(docLink);\n",
              "        }\n",
              "      </script>\n",
              "    </div>\n",
              "  </div>\n",
              "  "
            ]
          },
          "metadata": {},
          "execution_count": 138
        }
      ],
      "source": [
        "df_cv_results = pd.DataFrame(model.cv_results_).sort_values(by = 'mean_test_score', ascending = False)\n",
        "df_cv_results"
      ]
    },
    {
      "cell_type": "code",
      "execution_count": null,
      "metadata": {
        "id": "eAe_WK107AEV",
        "colab": {
          "base_uri": "https://localhost:8080/"
        },
        "outputId": "12b3b563-1b8a-493a-8a82-f6752fe32fc5"
      },
      "outputs": [
        {
          "output_type": "stream",
          "name": "stdout",
          "text": [
            "Macro F1-score is 0.903\n"
          ]
        }
      ],
      "source": [
        "predictions = model.predict(X_test)\n",
        "print('Macro F1-score is %.3f' %f1_score(y_test, predictions, average='macro'))"
      ]
    },
    {
      "cell_type": "markdown",
      "source": [
        "### TPOT (Tree-based Pipeline Optimization Tool)\n",
        "TPOT is one of most popular AutoML libraries and may be one of the pinoeers of this area. Like AutoSklearn, it takes care of a lot of the steps we have been doing manually"
      ],
      "metadata": {
        "id": "mkwSsJ9-SPZ-"
      }
    },
    {
      "cell_type": "code",
      "source": [
        "#@title Install packages\n",
        "!pip install tpot\n",
        "\n",
        "clear_output()\n",
        "print(\"Done!\")"
      ],
      "metadata": {
        "colab": {
          "base_uri": "https://localhost:8080/"
        },
        "id": "PuxT6MavSRqT",
        "outputId": "c362b3e7-3734-4232-96c6-5c278b28c8cc"
      },
      "execution_count": null,
      "outputs": [
        {
          "output_type": "stream",
          "name": "stdout",
          "text": [
            "Done!\n"
          ]
        }
      ]
    },
    {
      "cell_type": "code",
      "source": [
        "import tpot\n",
        "from tpot import TPOTClassifier"
      ],
      "metadata": {
        "id": "DGHKQivRSdBH"
      },
      "execution_count": null,
      "outputs": []
    },
    {
      "cell_type": "markdown",
      "metadata": {
        "id": "sYoNoxR082F9"
      },
      "source": [
        "Now, we can simply create the instance and let TPOT take care of the rest for us. Some of the available options are:\n",
        "\n",
        "* `generations`: number of iterations to run the pipeline optimization process\n",
        "* `population_size`: number of individuals to retain in the GP population every generation. Generally, TPOT will work better when you give it more individuals (and therefore time) to optimize the pipeline.\n",
        "* `cv`: number of cross-validation folds\n",
        "* `max_eval_time_mins`: optimization time **per pipeline** (in minutes)\n",
        "* `max_time_mins`: the maximum allowed overal running time (in minutes)\n",
        "* `n_jobs`: number of CPU cores to use\n",
        "\n",
        "Note that since TPOT uses genetics algorithms to optimize the hyper parameters, name of parameters are chosen according to evolutionary mechanisms.\n",
        "\n",
        "A complete list is available [here](http://epistasislab.github.io/tpot/using/). You can also find a short cheat sheet [Here](https://www.simonwenkel.com/publications/cheatsheets/pdf/cheatsheet_tpot.pdf)."
      ]
    },
    {
      "cell_type": "code",
      "execution_count": null,
      "metadata": {
        "id": "jc0Cb5LZ73No"
      },
      "outputs": [],
      "source": [
        "cv = RepeatedStratifiedKFold(n_splits=5, n_repeats=2)\n",
        "\n",
        "model = TPOTClassifier(\n",
        "    generations=20,\n",
        "    population_size=30,\n",
        "    cv=cv,\n",
        "    scoring='f1_macro',\n",
        "    max_time_mins=30,\n",
        "    verbosity=1,\n",
        "    n_jobs=4)\n"
      ]
    },
    {
      "cell_type": "markdown",
      "metadata": {
        "id": "SM86pdcyCcUP"
      },
      "source": [
        "Finally, we can fit the model. But bear in mind that TPOT usually takes a while (depending on the settings) to run."
      ]
    },
    {
      "cell_type": "code",
      "execution_count": null,
      "metadata": {
        "id": "JP2v-oiwAB4g",
        "colab": {
          "base_uri": "https://localhost:8080/"
        },
        "outputId": "580e52a7-9019-47f8-9769-6fedc62e7dfc"
      },
      "outputs": [
        {
          "output_type": "stream",
          "name": "stdout",
          "text": [
            "\n",
            "31.29 minutes have elapsed. TPOT will close down.\n",
            "TPOT closed during evaluation in one generation.\n",
            "WARNING: TPOT may not provide a good pipeline if TPOT is stopped/interrupted in a early generation.\n",
            "\n",
            "\n",
            "TPOT closed prematurely. Will use the current best pipeline.\n",
            "Best pipeline: KNeighborsClassifier(input_matrix, n_neighbors=40, p=1, weights=distance)\n"
          ]
        },
        {
          "output_type": "execute_result",
          "data": {
            "text/plain": [
              "TPOTClassifier(cv=RepeatedStratifiedKFold(n_repeats=2, n_splits=5, random_state=None),\n",
              "               generations=20, max_time_mins=30, n_jobs=4, population_size=30,\n",
              "               scoring='f1_macro', verbosity=1)"
            ]
          },
          "metadata": {},
          "execution_count": 144
        }
      ],
      "source": [
        "model.fit(X_resampled,y_resampled)"
      ]
    },
    {
      "cell_type": "code",
      "execution_count": null,
      "metadata": {
        "id": "-ugixohDAJ_T",
        "colab": {
          "base_uri": "https://localhost:8080/"
        },
        "outputId": "2629a061-dc16-4ac5-bca2-e3f0f5d5691d"
      },
      "outputs": [
        {
          "output_type": "stream",
          "name": "stdout",
          "text": [
            "Macro F1-score is 0.749\n"
          ]
        }
      ],
      "source": [
        "predictions = model.predict(X_test)\n",
        "print('Macro F1-score is %.3f' %f1_score(y_test, predictions, average='macro'))"
      ]
    },
    {
      "cell_type": "markdown",
      "metadata": {
        "id": "3ZtDUDrW89KE"
      },
      "source": [
        "One of the interesting capabilities of TPOT is that it exports the code to create the winning pipeline!"
      ]
    },
    {
      "cell_type": "code",
      "execution_count": null,
      "metadata": {
        "id": "AR4dTttDHoR7",
        "colab": {
          "base_uri": "https://localhost:8080/"
        },
        "outputId": "b2556230-9aa6-4eb6-8958-9e246f8bc8fe"
      },
      "outputs": [
        {
          "output_type": "stream",
          "name": "stdout",
          "text": [
            "import numpy as np\n",
            "import pandas as pd\n",
            "from sklearn.model_selection import train_test_split\n",
            "from sklearn.neighbors import KNeighborsClassifier\n",
            "\n",
            "# NOTE: Make sure that the outcome column is labeled 'target' in the data file\n",
            "tpot_data = pd.read_csv('PATH/TO/DATA/FILE', sep='COLUMN_SEPARATOR', dtype=np.float64)\n",
            "features = tpot_data.drop('target', axis=1)\n",
            "training_features, testing_features, training_target, testing_target = \\\n",
            "            train_test_split(features, tpot_data['target'], random_state=None)\n",
            "\n",
            "# Average CV score on the training set was: 0.8363908624649403\n",
            "exported_pipeline = KNeighborsClassifier(n_neighbors=40, p=1, weights=\"distance\")\n",
            "\n",
            "exported_pipeline.fit(training_features, training_target)\n",
            "results = exported_pipeline.predict(testing_features)\n",
            "\n"
          ]
        }
      ],
      "source": [
        "print(model.export())"
      ]
    },
    {
      "cell_type": "code",
      "execution_count": null,
      "metadata": {
        "id": "jTuS8R1MHbFu"
      },
      "outputs": [],
      "source": [
        "# export the best model\n",
        "model.export('tpot_best_model.py')"
      ]
    },
    {
      "cell_type": "markdown",
      "source": [
        "## Conclusion\n",
        "\n",
        "Finally, in this notebook we learned how to deal with imbalanced data and how to over and undersampling. Also we worked with piplines. At the end, we used AutoML tools to train a model over the dataset."
      ],
      "metadata": {
        "id": "NYH2gOtCqGw1"
      }
    }
  ]
}