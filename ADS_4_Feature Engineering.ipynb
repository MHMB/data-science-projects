{
  "nbformat": 4,
  "nbformat_minor": 0,
  "metadata": {
    "colab": {
      "provenance": []
    },
    "kernelspec": {
      "name": "python3",
      "display_name": "Python 3"
    },
    "language_info": {
      "name": "python"
    }
  },
  "cells": [
    {
      "cell_type": "markdown",
      "source": [
        "## Setup"
      ],
      "metadata": {
        "id": "H437uBLjfYLg"
      }
    },
    {
      "cell_type": "code",
      "execution_count": null,
      "metadata": {
        "id": "O0UQ-gXUZ-EN"
      },
      "outputs": [],
      "source": [
        "import pandas as pd\n",
        "import io\n",
        "import numpy as np\n",
        "import seaborn as sns\n",
        "import matplotlib.pyplot as plt\n",
        "%matplotlib inline\n",
        "sns.set(color_codes=True)"
      ]
    },
    {
      "cell_type": "code",
      "source": [
        "from google.colab import drive\n",
        "drive.mount('/content/drive')\n",
        "\n",
        "df = pd.read_csv('drive/MyDrive/ADS/ubaar-data.csv')\n",
        "print(df.shape)"
      ],
      "metadata": {
        "colab": {
          "base_uri": "https://localhost:8080/"
        },
        "id": "n-rSyIxSeVjN",
        "outputId": "6e13d0f7-25cf-41da-8a27-b05254f9fdc6"
      },
      "execution_count": null,
      "outputs": [
        {
          "output_type": "stream",
          "name": "stdout",
          "text": [
            "Drive already mounted at /content/drive; to attempt to forcibly remount, call drive.mount(\"/content/drive\", force_remount=True).\n",
            "(44052, 30)\n"
          ]
        }
      ]
    },
    {
      "cell_type": "code",
      "source": [
        "df.head(5)"
      ],
      "metadata": {
        "colab": {
          "base_uri": "https://localhost:8080/"
        },
        "id": "NpcMp9x9e-hZ",
        "outputId": "8315567c-8165-4029-d824-e4ccbcaec98c"
      },
      "execution_count": null,
      "outputs": [
        {
          "output_type": "execute_result",
          "data": {
            "text/plain": [
              "        Load Type Source City Destination City Source State Destination State  \\\n",
              "0       بار صنعتی         یزد         بندرعباس          یزد           هرمزگان   \n",
              "1       بار صنعتی       قزوین            رودسر        قزوین             گیلان   \n",
              "2       بار صنعتی       تهران            همدان        تهران             همدان   \n",
              "3       بار صنعتی         آمل            گرگان     مازندران            گلستان   \n",
              "4  گلدان پلاستیکی      هشتگرد           اردبیل        البرز            اردبیل   \n",
              "\n",
              "  Source Region Destination Region Who Added Role  Driver Income  Weight  ...  \\\n",
              "0           یزد           بندرعباس      anonymous            0.0    24.0  ...   \n",
              "1         قزوین             چابکسر      anonymous            0.0     5.0  ...   \n",
              "2         تهران              همدان      anonymous            0.0     2.0  ...   \n",
              "3           آمل              گرگان      anonymous            0.0    15.0  ...   \n",
              "4      پل کردان             اردبیل       baarbari            0.0     2.0  ...   \n",
              "\n",
              "   Destination Lat  Destination Lng Dispatch Time Delta  \\\n",
              "0        27.183222        56.266646           23.928889   \n",
              "1        36.980067        50.531772           23.970278   \n",
              "2        34.798857        48.515023           23.962778   \n",
              "3        36.845643        54.439336           23.974722   \n",
              "4        38.256645        48.317509           16.749444   \n",
              "\n",
              "  Pickup Date Time Delta Order Channel  Packaging Type  \\\n",
              "0                    NaN           NaN       hichkodam   \n",
              "1                    NaN           NaN       hichkodam   \n",
              "2                    NaN           NaN       hichkodam   \n",
              "3                    NaN           NaN       hichkodam   \n",
              "4              68.358889           web          karton   \n",
              "\n",
              "                  Creation Datetime Unload Option  Has Comments   Load Status  \n",
              "0  2019-11-05 06:46:15.847289+00:00           NaN             0  reject_price  \n",
              "1  2019-11-05 20:01:46.763769+00:00           NaN             0  reject_price  \n",
              "2  2019-11-06 09:13:13.686217+00:00           NaN             0  reject_price  \n",
              "3  2019-10-31 09:52:30.930302+00:00           NaN             0  reject_price  \n",
              "4  2019-11-20 13:45:01.859383+00:00           day             0     delivered  \n",
              "\n",
              "[5 rows x 30 columns]"
            ],
            "text/html": [
              "\n",
              "  <div id=\"df-b060cb88-feb6-4deb-88ed-b0a1b2433996\">\n",
              "    <div class=\"colab-df-container\">\n",
              "      <div>\n",
              "<style scoped>\n",
              "    .dataframe tbody tr th:only-of-type {\n",
              "        vertical-align: middle;\n",
              "    }\n",
              "\n",
              "    .dataframe tbody tr th {\n",
              "        vertical-align: top;\n",
              "    }\n",
              "\n",
              "    .dataframe thead th {\n",
              "        text-align: right;\n",
              "    }\n",
              "</style>\n",
              "<table border=\"1\" class=\"dataframe\">\n",
              "  <thead>\n",
              "    <tr style=\"text-align: right;\">\n",
              "      <th></th>\n",
              "      <th>Load Type</th>\n",
              "      <th>Source City</th>\n",
              "      <th>Destination City</th>\n",
              "      <th>Source State</th>\n",
              "      <th>Destination State</th>\n",
              "      <th>Source Region</th>\n",
              "      <th>Destination Region</th>\n",
              "      <th>Who Added Role</th>\n",
              "      <th>Driver Income</th>\n",
              "      <th>Weight</th>\n",
              "      <th>...</th>\n",
              "      <th>Destination Lat</th>\n",
              "      <th>Destination Lng</th>\n",
              "      <th>Dispatch Time Delta</th>\n",
              "      <th>Pickup Date Time Delta</th>\n",
              "      <th>Order Channel</th>\n",
              "      <th>Packaging Type</th>\n",
              "      <th>Creation Datetime</th>\n",
              "      <th>Unload Option</th>\n",
              "      <th>Has Comments</th>\n",
              "      <th>Load Status</th>\n",
              "    </tr>\n",
              "  </thead>\n",
              "  <tbody>\n",
              "    <tr>\n",
              "      <th>0</th>\n",
              "      <td>بار صنعتی</td>\n",
              "      <td>یزد</td>\n",
              "      <td>بندرعباس</td>\n",
              "      <td>یزد</td>\n",
              "      <td>هرمزگان</td>\n",
              "      <td>یزد</td>\n",
              "      <td>بندرعباس</td>\n",
              "      <td>anonymous</td>\n",
              "      <td>0.0</td>\n",
              "      <td>24.0</td>\n",
              "      <td>...</td>\n",
              "      <td>27.183222</td>\n",
              "      <td>56.266646</td>\n",
              "      <td>23.928889</td>\n",
              "      <td>NaN</td>\n",
              "      <td>NaN</td>\n",
              "      <td>hichkodam</td>\n",
              "      <td>2019-11-05 06:46:15.847289+00:00</td>\n",
              "      <td>NaN</td>\n",
              "      <td>0</td>\n",
              "      <td>reject_price</td>\n",
              "    </tr>\n",
              "    <tr>\n",
              "      <th>1</th>\n",
              "      <td>بار صنعتی</td>\n",
              "      <td>قزوین</td>\n",
              "      <td>رودسر</td>\n",
              "      <td>قزوین</td>\n",
              "      <td>گیلان</td>\n",
              "      <td>قزوین</td>\n",
              "      <td>چابکسر</td>\n",
              "      <td>anonymous</td>\n",
              "      <td>0.0</td>\n",
              "      <td>5.0</td>\n",
              "      <td>...</td>\n",
              "      <td>36.980067</td>\n",
              "      <td>50.531772</td>\n",
              "      <td>23.970278</td>\n",
              "      <td>NaN</td>\n",
              "      <td>NaN</td>\n",
              "      <td>hichkodam</td>\n",
              "      <td>2019-11-05 20:01:46.763769+00:00</td>\n",
              "      <td>NaN</td>\n",
              "      <td>0</td>\n",
              "      <td>reject_price</td>\n",
              "    </tr>\n",
              "    <tr>\n",
              "      <th>2</th>\n",
              "      <td>بار صنعتی</td>\n",
              "      <td>تهران</td>\n",
              "      <td>همدان</td>\n",
              "      <td>تهران</td>\n",
              "      <td>همدان</td>\n",
              "      <td>تهران</td>\n",
              "      <td>همدان</td>\n",
              "      <td>anonymous</td>\n",
              "      <td>0.0</td>\n",
              "      <td>2.0</td>\n",
              "      <td>...</td>\n",
              "      <td>34.798857</td>\n",
              "      <td>48.515023</td>\n",
              "      <td>23.962778</td>\n",
              "      <td>NaN</td>\n",
              "      <td>NaN</td>\n",
              "      <td>hichkodam</td>\n",
              "      <td>2019-11-06 09:13:13.686217+00:00</td>\n",
              "      <td>NaN</td>\n",
              "      <td>0</td>\n",
              "      <td>reject_price</td>\n",
              "    </tr>\n",
              "    <tr>\n",
              "      <th>3</th>\n",
              "      <td>بار صنعتی</td>\n",
              "      <td>آمل</td>\n",
              "      <td>گرگان</td>\n",
              "      <td>مازندران</td>\n",
              "      <td>گلستان</td>\n",
              "      <td>آمل</td>\n",
              "      <td>گرگان</td>\n",
              "      <td>anonymous</td>\n",
              "      <td>0.0</td>\n",
              "      <td>15.0</td>\n",
              "      <td>...</td>\n",
              "      <td>36.845643</td>\n",
              "      <td>54.439336</td>\n",
              "      <td>23.974722</td>\n",
              "      <td>NaN</td>\n",
              "      <td>NaN</td>\n",
              "      <td>hichkodam</td>\n",
              "      <td>2019-10-31 09:52:30.930302+00:00</td>\n",
              "      <td>NaN</td>\n",
              "      <td>0</td>\n",
              "      <td>reject_price</td>\n",
              "    </tr>\n",
              "    <tr>\n",
              "      <th>4</th>\n",
              "      <td>گلدان پلاستیکی</td>\n",
              "      <td>هشتگرد</td>\n",
              "      <td>اردبیل</td>\n",
              "      <td>البرز</td>\n",
              "      <td>اردبیل</td>\n",
              "      <td>پل کردان</td>\n",
              "      <td>اردبیل</td>\n",
              "      <td>baarbari</td>\n",
              "      <td>0.0</td>\n",
              "      <td>2.0</td>\n",
              "      <td>...</td>\n",
              "      <td>38.256645</td>\n",
              "      <td>48.317509</td>\n",
              "      <td>16.749444</td>\n",
              "      <td>68.358889</td>\n",
              "      <td>web</td>\n",
              "      <td>karton</td>\n",
              "      <td>2019-11-20 13:45:01.859383+00:00</td>\n",
              "      <td>day</td>\n",
              "      <td>0</td>\n",
              "      <td>delivered</td>\n",
              "    </tr>\n",
              "  </tbody>\n",
              "</table>\n",
              "<p>5 rows × 30 columns</p>\n",
              "</div>\n",
              "      <button class=\"colab-df-convert\" onclick=\"convertToInteractive('df-b060cb88-feb6-4deb-88ed-b0a1b2433996')\"\n",
              "              title=\"Convert this dataframe to an interactive table.\"\n",
              "              style=\"display:none;\">\n",
              "        \n",
              "  <svg xmlns=\"http://www.w3.org/2000/svg\" height=\"24px\"viewBox=\"0 0 24 24\"\n",
              "       width=\"24px\">\n",
              "    <path d=\"M0 0h24v24H0V0z\" fill=\"none\"/>\n",
              "    <path d=\"M18.56 5.44l.94 2.06.94-2.06 2.06-.94-2.06-.94-.94-2.06-.94 2.06-2.06.94zm-11 1L8.5 8.5l.94-2.06 2.06-.94-2.06-.94L8.5 2.5l-.94 2.06-2.06.94zm10 10l.94 2.06.94-2.06 2.06-.94-2.06-.94-.94-2.06-.94 2.06-2.06.94z\"/><path d=\"M17.41 7.96l-1.37-1.37c-.4-.4-.92-.59-1.43-.59-.52 0-1.04.2-1.43.59L10.3 9.45l-7.72 7.72c-.78.78-.78 2.05 0 2.83L4 21.41c.39.39.9.59 1.41.59.51 0 1.02-.2 1.41-.59l7.78-7.78 2.81-2.81c.8-.78.8-2.07 0-2.86zM5.41 20L4 18.59l7.72-7.72 1.47 1.35L5.41 20z\"/>\n",
              "  </svg>\n",
              "      </button>\n",
              "      \n",
              "  <style>\n",
              "    .colab-df-container {\n",
              "      display:flex;\n",
              "      flex-wrap:wrap;\n",
              "      gap: 12px;\n",
              "    }\n",
              "\n",
              "    .colab-df-convert {\n",
              "      background-color: #E8F0FE;\n",
              "      border: none;\n",
              "      border-radius: 50%;\n",
              "      cursor: pointer;\n",
              "      display: none;\n",
              "      fill: #1967D2;\n",
              "      height: 32px;\n",
              "      padding: 0 0 0 0;\n",
              "      width: 32px;\n",
              "    }\n",
              "\n",
              "    .colab-df-convert:hover {\n",
              "      background-color: #E2EBFA;\n",
              "      box-shadow: 0px 1px 2px rgba(60, 64, 67, 0.3), 0px 1px 3px 1px rgba(60, 64, 67, 0.15);\n",
              "      fill: #174EA6;\n",
              "    }\n",
              "\n",
              "    [theme=dark] .colab-df-convert {\n",
              "      background-color: #3B4455;\n",
              "      fill: #D2E3FC;\n",
              "    }\n",
              "\n",
              "    [theme=dark] .colab-df-convert:hover {\n",
              "      background-color: #434B5C;\n",
              "      box-shadow: 0px 1px 3px 1px rgba(0, 0, 0, 0.15);\n",
              "      filter: drop-shadow(0px 1px 2px rgba(0, 0, 0, 0.3));\n",
              "      fill: #FFFFFF;\n",
              "    }\n",
              "  </style>\n",
              "\n",
              "      <script>\n",
              "        const buttonEl =\n",
              "          document.querySelector('#df-b060cb88-feb6-4deb-88ed-b0a1b2433996 button.colab-df-convert');\n",
              "        buttonEl.style.display =\n",
              "          google.colab.kernel.accessAllowed ? 'block' : 'none';\n",
              "\n",
              "        async function convertToInteractive(key) {\n",
              "          const element = document.querySelector('#df-b060cb88-feb6-4deb-88ed-b0a1b2433996');\n",
              "          const dataTable =\n",
              "            await google.colab.kernel.invokeFunction('convertToInteractive',\n",
              "                                                     [key], {});\n",
              "          if (!dataTable) return;\n",
              "\n",
              "          const docLinkHtml = 'Like what you see? Visit the ' +\n",
              "            '<a target=\"_blank\" href=https://colab.research.google.com/notebooks/data_table.ipynb>data table notebook</a>'\n",
              "            + ' to learn more about interactive tables.';\n",
              "          element.innerHTML = '';\n",
              "          dataTable['output_type'] = 'display_data';\n",
              "          await google.colab.output.renderOutput(dataTable, element);\n",
              "          const docLink = document.createElement('div');\n",
              "          docLink.innerHTML = docLinkHtml;\n",
              "          element.appendChild(docLink);\n",
              "        }\n",
              "      </script>\n",
              "    </div>\n",
              "  </div>\n",
              "  "
            ]
          },
          "metadata": {},
          "execution_count": 304
        }
      ]
    },
    {
      "cell_type": "code",
      "source": [
        "df.info()"
      ],
      "metadata": {
        "colab": {
          "base_uri": "https://localhost:8080/"
        },
        "id": "r5pM3enDfBJB",
        "outputId": "12bd4384-0f10-471b-b29d-a8bb90813b88"
      },
      "execution_count": null,
      "outputs": [
        {
          "output_type": "stream",
          "name": "stdout",
          "text": [
            "<class 'pandas.core.frame.DataFrame'>\n",
            "RangeIndex: 44052 entries, 0 to 44051\n",
            "Data columns (total 30 columns):\n",
            " #   Column                  Non-Null Count  Dtype  \n",
            "---  ------                  --------------  -----  \n",
            " 0   Load Type               44052 non-null  object \n",
            " 1   Source City             44052 non-null  object \n",
            " 2   Destination City        44052 non-null  object \n",
            " 3   Source State            44052 non-null  object \n",
            " 4   Destination State       44052 non-null  object \n",
            " 5   Source Region           44052 non-null  object \n",
            " 6   Destination Region      44052 non-null  object \n",
            " 7   Who Added Role          44052 non-null  object \n",
            " 8   Driver Income           44052 non-null  float64\n",
            " 9   Weight                  44052 non-null  float64\n",
            " 10  Distance                44052 non-null  float64\n",
            " 11  Duration                44052 non-null  float64\n",
            " 12  Vehicle Type            44052 non-null  object \n",
            " 13  Vehicle Options         44052 non-null  object \n",
            " 14  Baarnameh Type          38366 non-null  object \n",
            " 15  Transport Cost          44052 non-null  float64\n",
            " 16  Dispatch Date           44052 non-null  object \n",
            " 17  Dipatch Time            44052 non-null  object \n",
            " 18  Source Lat              44052 non-null  float64\n",
            " 19  Source Lng              44052 non-null  float64\n",
            " 20  Destination Lat         44052 non-null  float64\n",
            " 21  Destination Lng         44052 non-null  float64\n",
            " 22  Dispatch Time Delta     44052 non-null  float64\n",
            " 23  Pickup Date Time Delta  2808 non-null   float64\n",
            " 24  Order Channel           35868 non-null  object \n",
            " 25  Packaging Type          44052 non-null  object \n",
            " 26  Creation Datetime       44052 non-null  object \n",
            " 27  Unload Option           37949 non-null  object \n",
            " 28  Has Comments            44052 non-null  int64  \n",
            " 29  Load Status             44052 non-null  object \n",
            "dtypes: float64(11), int64(1), object(18)\n",
            "memory usage: 10.1+ MB\n"
          ]
        }
      ]
    },
    {
      "cell_type": "code",
      "source": [
        "df.describe()"
      ],
      "metadata": {
        "colab": {
          "base_uri": "https://localhost:8080/"
        },
        "id": "5mcf1-_3fHQn",
        "outputId": "91b08d28-ffb6-4089-e95f-bad74e545522"
      },
      "execution_count": null,
      "outputs": [
        {
          "output_type": "execute_result",
          "data": {
            "text/plain": [
              "       Driver Income        Weight      Distance      Duration  \\\n",
              "count   4.405200e+04  44052.000000  44052.000000  44052.000000   \n",
              "mean    3.677479e+11      7.860764    486.471045      5.681138   \n",
              "std     7.718487e+13      7.912958    440.643799      4.893344   \n",
              "min     0.000000e+00      0.020000      0.000000      0.000000   \n",
              "25%     0.000000e+00      2.000000     50.000000      1.000000   \n",
              "50%     1.800000e+05      4.000000    442.701000      4.861806   \n",
              "75%     1.000000e+06     11.000000    817.966000      9.536319   \n",
              "max     1.620000e+16     25.000000   2622.035000     28.618889   \n",
              "\n",
              "       Transport Cost    Source Lat    Source Lng  Destination Lat  \\\n",
              "count    4.405200e+04  44052.000000  44052.000000     44052.000000   \n",
              "mean     3.677479e+11     34.751266     51.545719        34.018325   \n",
              "std      7.718487e+13      2.201000      2.750519         3.039853   \n",
              "min      0.000000e+00     24.494214     28.953026        24.494214   \n",
              "25%      0.000000e+00     33.640419     50.681933        32.198349   \n",
              "50%      1.850000e+05     35.688905     51.388435        35.490586   \n",
              "75%      1.000000e+06     35.837669     51.667983        36.271035   \n",
              "max      1.620000e+16     41.052112     69.870829        41.052112   \n",
              "\n",
              "       Destination Lng  Dispatch Time Delta  Pickup Date Time Delta  \\\n",
              "count     44052.000000         44052.000000             2808.000000   \n",
              "mean         51.926935            28.755725               27.093312   \n",
              "std           3.837871            59.757645               22.847216   \n",
              "min          28.953026            -4.676944                0.006667   \n",
              "25%          49.587414             3.048333               17.518611   \n",
              "50%          51.388435            18.008333               21.120972   \n",
              "75%          53.031317            24.240069               29.626528   \n",
              "max          69.870829          2204.550833              481.925000   \n",
              "\n",
              "       Has Comments  \n",
              "count  44052.000000  \n",
              "mean       0.362458  \n",
              "std        0.480716  \n",
              "min        0.000000  \n",
              "25%        0.000000  \n",
              "50%        0.000000  \n",
              "75%        1.000000  \n",
              "max        1.000000  "
            ],
            "text/html": [
              "\n",
              "  <div id=\"df-0ad8f7d6-1d7d-4a8c-92ce-21f601d91b29\">\n",
              "    <div class=\"colab-df-container\">\n",
              "      <div>\n",
              "<style scoped>\n",
              "    .dataframe tbody tr th:only-of-type {\n",
              "        vertical-align: middle;\n",
              "    }\n",
              "\n",
              "    .dataframe tbody tr th {\n",
              "        vertical-align: top;\n",
              "    }\n",
              "\n",
              "    .dataframe thead th {\n",
              "        text-align: right;\n",
              "    }\n",
              "</style>\n",
              "<table border=\"1\" class=\"dataframe\">\n",
              "  <thead>\n",
              "    <tr style=\"text-align: right;\">\n",
              "      <th></th>\n",
              "      <th>Driver Income</th>\n",
              "      <th>Weight</th>\n",
              "      <th>Distance</th>\n",
              "      <th>Duration</th>\n",
              "      <th>Transport Cost</th>\n",
              "      <th>Source Lat</th>\n",
              "      <th>Source Lng</th>\n",
              "      <th>Destination Lat</th>\n",
              "      <th>Destination Lng</th>\n",
              "      <th>Dispatch Time Delta</th>\n",
              "      <th>Pickup Date Time Delta</th>\n",
              "      <th>Has Comments</th>\n",
              "    </tr>\n",
              "  </thead>\n",
              "  <tbody>\n",
              "    <tr>\n",
              "      <th>count</th>\n",
              "      <td>4.405200e+04</td>\n",
              "      <td>44052.000000</td>\n",
              "      <td>44052.000000</td>\n",
              "      <td>44052.000000</td>\n",
              "      <td>4.405200e+04</td>\n",
              "      <td>44052.000000</td>\n",
              "      <td>44052.000000</td>\n",
              "      <td>44052.000000</td>\n",
              "      <td>44052.000000</td>\n",
              "      <td>44052.000000</td>\n",
              "      <td>2808.000000</td>\n",
              "      <td>44052.000000</td>\n",
              "    </tr>\n",
              "    <tr>\n",
              "      <th>mean</th>\n",
              "      <td>3.677479e+11</td>\n",
              "      <td>7.860764</td>\n",
              "      <td>486.471045</td>\n",
              "      <td>5.681138</td>\n",
              "      <td>3.677479e+11</td>\n",
              "      <td>34.751266</td>\n",
              "      <td>51.545719</td>\n",
              "      <td>34.018325</td>\n",
              "      <td>51.926935</td>\n",
              "      <td>28.755725</td>\n",
              "      <td>27.093312</td>\n",
              "      <td>0.362458</td>\n",
              "    </tr>\n",
              "    <tr>\n",
              "      <th>std</th>\n",
              "      <td>7.718487e+13</td>\n",
              "      <td>7.912958</td>\n",
              "      <td>440.643799</td>\n",
              "      <td>4.893344</td>\n",
              "      <td>7.718487e+13</td>\n",
              "      <td>2.201000</td>\n",
              "      <td>2.750519</td>\n",
              "      <td>3.039853</td>\n",
              "      <td>3.837871</td>\n",
              "      <td>59.757645</td>\n",
              "      <td>22.847216</td>\n",
              "      <td>0.480716</td>\n",
              "    </tr>\n",
              "    <tr>\n",
              "      <th>min</th>\n",
              "      <td>0.000000e+00</td>\n",
              "      <td>0.020000</td>\n",
              "      <td>0.000000</td>\n",
              "      <td>0.000000</td>\n",
              "      <td>0.000000e+00</td>\n",
              "      <td>24.494214</td>\n",
              "      <td>28.953026</td>\n",
              "      <td>24.494214</td>\n",
              "      <td>28.953026</td>\n",
              "      <td>-4.676944</td>\n",
              "      <td>0.006667</td>\n",
              "      <td>0.000000</td>\n",
              "    </tr>\n",
              "    <tr>\n",
              "      <th>25%</th>\n",
              "      <td>0.000000e+00</td>\n",
              "      <td>2.000000</td>\n",
              "      <td>50.000000</td>\n",
              "      <td>1.000000</td>\n",
              "      <td>0.000000e+00</td>\n",
              "      <td>33.640419</td>\n",
              "      <td>50.681933</td>\n",
              "      <td>32.198349</td>\n",
              "      <td>49.587414</td>\n",
              "      <td>3.048333</td>\n",
              "      <td>17.518611</td>\n",
              "      <td>0.000000</td>\n",
              "    </tr>\n",
              "    <tr>\n",
              "      <th>50%</th>\n",
              "      <td>1.800000e+05</td>\n",
              "      <td>4.000000</td>\n",
              "      <td>442.701000</td>\n",
              "      <td>4.861806</td>\n",
              "      <td>1.850000e+05</td>\n",
              "      <td>35.688905</td>\n",
              "      <td>51.388435</td>\n",
              "      <td>35.490586</td>\n",
              "      <td>51.388435</td>\n",
              "      <td>18.008333</td>\n",
              "      <td>21.120972</td>\n",
              "      <td>0.000000</td>\n",
              "    </tr>\n",
              "    <tr>\n",
              "      <th>75%</th>\n",
              "      <td>1.000000e+06</td>\n",
              "      <td>11.000000</td>\n",
              "      <td>817.966000</td>\n",
              "      <td>9.536319</td>\n",
              "      <td>1.000000e+06</td>\n",
              "      <td>35.837669</td>\n",
              "      <td>51.667983</td>\n",
              "      <td>36.271035</td>\n",
              "      <td>53.031317</td>\n",
              "      <td>24.240069</td>\n",
              "      <td>29.626528</td>\n",
              "      <td>1.000000</td>\n",
              "    </tr>\n",
              "    <tr>\n",
              "      <th>max</th>\n",
              "      <td>1.620000e+16</td>\n",
              "      <td>25.000000</td>\n",
              "      <td>2622.035000</td>\n",
              "      <td>28.618889</td>\n",
              "      <td>1.620000e+16</td>\n",
              "      <td>41.052112</td>\n",
              "      <td>69.870829</td>\n",
              "      <td>41.052112</td>\n",
              "      <td>69.870829</td>\n",
              "      <td>2204.550833</td>\n",
              "      <td>481.925000</td>\n",
              "      <td>1.000000</td>\n",
              "    </tr>\n",
              "  </tbody>\n",
              "</table>\n",
              "</div>\n",
              "      <button class=\"colab-df-convert\" onclick=\"convertToInteractive('df-0ad8f7d6-1d7d-4a8c-92ce-21f601d91b29')\"\n",
              "              title=\"Convert this dataframe to an interactive table.\"\n",
              "              style=\"display:none;\">\n",
              "        \n",
              "  <svg xmlns=\"http://www.w3.org/2000/svg\" height=\"24px\"viewBox=\"0 0 24 24\"\n",
              "       width=\"24px\">\n",
              "    <path d=\"M0 0h24v24H0V0z\" fill=\"none\"/>\n",
              "    <path d=\"M18.56 5.44l.94 2.06.94-2.06 2.06-.94-2.06-.94-.94-2.06-.94 2.06-2.06.94zm-11 1L8.5 8.5l.94-2.06 2.06-.94-2.06-.94L8.5 2.5l-.94 2.06-2.06.94zm10 10l.94 2.06.94-2.06 2.06-.94-2.06-.94-.94-2.06-.94 2.06-2.06.94z\"/><path d=\"M17.41 7.96l-1.37-1.37c-.4-.4-.92-.59-1.43-.59-.52 0-1.04.2-1.43.59L10.3 9.45l-7.72 7.72c-.78.78-.78 2.05 0 2.83L4 21.41c.39.39.9.59 1.41.59.51 0 1.02-.2 1.41-.59l7.78-7.78 2.81-2.81c.8-.78.8-2.07 0-2.86zM5.41 20L4 18.59l7.72-7.72 1.47 1.35L5.41 20z\"/>\n",
              "  </svg>\n",
              "      </button>\n",
              "      \n",
              "  <style>\n",
              "    .colab-df-container {\n",
              "      display:flex;\n",
              "      flex-wrap:wrap;\n",
              "      gap: 12px;\n",
              "    }\n",
              "\n",
              "    .colab-df-convert {\n",
              "      background-color: #E8F0FE;\n",
              "      border: none;\n",
              "      border-radius: 50%;\n",
              "      cursor: pointer;\n",
              "      display: none;\n",
              "      fill: #1967D2;\n",
              "      height: 32px;\n",
              "      padding: 0 0 0 0;\n",
              "      width: 32px;\n",
              "    }\n",
              "\n",
              "    .colab-df-convert:hover {\n",
              "      background-color: #E2EBFA;\n",
              "      box-shadow: 0px 1px 2px rgba(60, 64, 67, 0.3), 0px 1px 3px 1px rgba(60, 64, 67, 0.15);\n",
              "      fill: #174EA6;\n",
              "    }\n",
              "\n",
              "    [theme=dark] .colab-df-convert {\n",
              "      background-color: #3B4455;\n",
              "      fill: #D2E3FC;\n",
              "    }\n",
              "\n",
              "    [theme=dark] .colab-df-convert:hover {\n",
              "      background-color: #434B5C;\n",
              "      box-shadow: 0px 1px 3px 1px rgba(0, 0, 0, 0.15);\n",
              "      filter: drop-shadow(0px 1px 2px rgba(0, 0, 0, 0.3));\n",
              "      fill: #FFFFFF;\n",
              "    }\n",
              "  </style>\n",
              "\n",
              "      <script>\n",
              "        const buttonEl =\n",
              "          document.querySelector('#df-0ad8f7d6-1d7d-4a8c-92ce-21f601d91b29 button.colab-df-convert');\n",
              "        buttonEl.style.display =\n",
              "          google.colab.kernel.accessAllowed ? 'block' : 'none';\n",
              "\n",
              "        async function convertToInteractive(key) {\n",
              "          const element = document.querySelector('#df-0ad8f7d6-1d7d-4a8c-92ce-21f601d91b29');\n",
              "          const dataTable =\n",
              "            await google.colab.kernel.invokeFunction('convertToInteractive',\n",
              "                                                     [key], {});\n",
              "          if (!dataTable) return;\n",
              "\n",
              "          const docLinkHtml = 'Like what you see? Visit the ' +\n",
              "            '<a target=\"_blank\" href=https://colab.research.google.com/notebooks/data_table.ipynb>data table notebook</a>'\n",
              "            + ' to learn more about interactive tables.';\n",
              "          element.innerHTML = '';\n",
              "          dataTable['output_type'] = 'display_data';\n",
              "          await google.colab.output.renderOutput(dataTable, element);\n",
              "          const docLink = document.createElement('div');\n",
              "          docLink.innerHTML = docLinkHtml;\n",
              "          element.appendChild(docLink);\n",
              "        }\n",
              "      </script>\n",
              "    </div>\n",
              "  </div>\n",
              "  "
            ]
          },
          "metadata": {},
          "execution_count": 306
        }
      ]
    },
    {
      "cell_type": "markdown",
      "source": [
        "# EDA and Cleaning\n"
      ],
      "metadata": {
        "id": "fPnn5VYjfT6Q"
      }
    },
    {
      "cell_type": "markdown",
      "source": [
        "## Getting Some Insights"
      ],
      "metadata": {
        "id": "GZG1DYVBu9fe"
      }
    },
    {
      "cell_type": "code",
      "source": [
        "df['Packaging Type'].value_counts()"
      ],
      "metadata": {
        "colab": {
          "base_uri": "https://localhost:8080/"
        },
        "id": "Hlk5RdyUfOgX",
        "outputId": "38a7ba3b-c55f-4eb7-eae8-1ee60e3b6d9a"
      },
      "execution_count": null,
      "outputs": [
        {
          "output_type": "execute_result",
          "data": {
            "text/plain": [
              "hichkodam      15319\n",
              "karton         11464\n",
              "falleh          6341\n",
              "kiseh_gooni     5647\n",
              "pallet          3443\n",
              "roll            1042\n",
              "bandil           796\n",
              "Name: Packaging Type, dtype: int64"
            ]
          },
          "metadata": {},
          "execution_count": 307
        }
      ]
    },
    {
      "cell_type": "code",
      "source": [
        "  df['Packaging Type'].value_counts().plot.pie(autopct='%1.0f%%',radius=2,ylabel='')\n",
        "  plt.title('Packaging Type', y=1.5,fontsize=16)\n",
        "  plt.show()\n"
      ],
      "metadata": {
        "colab": {
          "base_uri": "https://localhost:8080/"
        },
        "id": "EcbSyURegfCi",
        "outputId": "50d42827-1f8f-47c5-c430-f659d4703f3a"
      },
      "execution_count": null,
      "outputs": [
        {
          "output_type": "display_data",
          "data": {
            "text/plain": [
              "<Figure size 432x288 with 1 Axes>"
            ],
            "image/png": "[encoded data removed]"
          },
          "metadata": {}
        }
      ]
    },
    {
      "cell_type": "code",
      "source": [
        "df['Source City'].value_counts()[:20].plot.bar(figsize=(16, 4),title='Source Cities')"
      ],
      "metadata": {
        "colab": {
          "base_uri": "https://localhost:8080/"
        },
        "id": "BB0FNpMFfwEM",
        "outputId": "af0d9bed-f6f4-4f08-ba92-554d3ad3251e"
      },
      "execution_count": null,
      "outputs": [
        {
          "output_type": "execute_result",
          "data": {
            "text/plain": [
              "<matplotlib.axes._subplots.AxesSubplot at 0x7f0a3da55810>"
            ]
          },
          "metadata": {},
          "execution_count": 309
        },
        {
          "output_type": "display_data",
          "data": {
            "text/plain": [
              "<Figure size 1152x288 with 1 Axes>"
            ],
            "image/png": "[encoded data removed]"
          },
          "metadata": {}
        }
      ]
    },
    {
      "cell_type": "code",
      "source": [
        "df2 = df[df['Transport Cost'] < 1e10]  # Remove outlier\n",
        "df2.plot(kind='scatter', x='Distance', y='Transport Cost', color='b',figsize=(10, 6))"
      ],
      "metadata": {
        "colab": {
          "base_uri": "https://localhost:8080/"
        },
        "id": "hYywZfoLf5Mv",
        "outputId": "b8175901-5cc5-4e57-97d1-08623f0f717a"
      },
      "execution_count": null,
      "outputs": [
        {
          "output_type": "execute_result",
          "data": {
            "text/plain": [
              "<matplotlib.axes._subplots.AxesSubplot at 0x7f0a3d88e810>"
            ]
          },
          "metadata": {},
          "execution_count": 310
        },
        {
          "output_type": "display_data",
          "data": {
            "text/plain": [
              "<Figure size 720x432 with 1 Axes>"
            ],
            "image/png": "[encoded data removed]"
          },
          "metadata": {}
        }
      ]
    },
    {
      "cell_type": "code",
      "source": [
        "df2 = df[df['Driver Income'] < 2e10]  # Remove outlier\n",
        "df2.boxplot('Driver Income', by='Vehicle Type',figsize=(10, 6))"
      ],
      "metadata": {
        "colab": {
          "base_uri": "https://localhost:8080/"
        },
        "id": "MqbcVEh1hZtl",
        "outputId": "f38898ad-f4fd-4936-ba60-c19dfb9d89c2"
      },
      "execution_count": null,
      "outputs": [
        {
          "output_type": "stream",
          "name": "stderr",
          "text": [
            "/usr/local/lib/python3.7/dist-packages/matplotlib/cbook/__init__.py:1376: VisibleDeprecationWarning: Creating an ndarray from ragged nested sequences (which is a list-or-tuple of lists-or-tuples-or ndarrays with different lengths or shapes) is deprecated. If you meant to do this, you must specify 'dtype=object' when creating the ndarray.\n",
            "  X = np.atleast_1d(X.T if isinstance(X, np.ndarray) else np.asarray(X))\n"
          ]
        },
        {
          "output_type": "execute_result",
          "data": {
            "text/plain": [
              "<matplotlib.axes._subplots.AxesSubplot at 0x7f0a3d883210>"
            ]
          },
          "metadata": {},
          "execution_count": 311
        },
        {
          "output_type": "display_data",
          "data": {
            "text/plain": [
              "<Figure size 720x432 with 1 Axes>"
            ],
            "image/png": "[encoded data removed]"
          },
          "metadata": {}
        }
      ]
    },
    {
      "cell_type": "code",
      "source": [
        "df[df[\"Vehicle Type\"] == \"nissan\"]['Order Channel'].value_counts()"
      ],
      "metadata": {
        "colab": {
          "base_uri": "https://localhost:8080/"
        },
        "id": "FcJ-QqVMih_V",
        "outputId": "e7742c2e-7197-4d25-f8a1-5752d898981f"
      },
      "execution_count": null,
      "outputs": [
        {
          "output_type": "execute_result",
          "data": {
            "text/plain": [
              "android    5243\n",
              "web        2120\n",
              "Name: Order Channel, dtype: int64"
            ]
          },
          "metadata": {},
          "execution_count": 312
        }
      ]
    },
    {
      "cell_type": "code",
      "source": [
        "df[df[\"Vehicle Type\"] == \"nissan\"]['Load Type'].value_counts()"
      ],
      "metadata": {
        "colab": {
          "base_uri": "https://localhost:8080/"
        },
        "id": "N77qBB5klf1Y",
        "outputId": "1497711a-91a3-44f5-e1ab-b41e909f2b1b"
      },
      "execution_count": null,
      "outputs": [
        {
          "output_type": "execute_result",
          "data": {
            "text/plain": [
              "میوه                       1612\n",
              "بار صنعتی                  1517\n",
              "اثاث منزل                  1204\n",
              "مواد غذایی                  768\n",
              "سایر                        535\n",
              "                           ... \n",
              "دستگاه اسپرسو ساز صنعتی       1\n",
              "گلدان                         1\n",
              "تردمیل                        1\n",
              "مخزن                          1\n",
              "کالای خواب                    1\n",
              "Name: Load Type, Length: 234, dtype: int64"
            ]
          },
          "metadata": {},
          "execution_count": 313
        }
      ]
    },
    {
      "cell_type": "code",
      "source": [
        "fig = plt.figure(figsize=(20, 6)) # Create matplotlib figure\n",
        "\n",
        "ax = fig.add_subplot(111) # Create matplotlib axes\n",
        "\n",
        "width = 0.1\n",
        "\n",
        "load_types = df[df[\"Vehicle Type\"] == \"nissan\"]['Load Type'].value_counts()[:10].index\n",
        "colors = [\"red\", \"orange\", \"blue\", \"green\", \"black\"]\n",
        "\n",
        "\n",
        "lns1 = df[(df[\"Vehicle Type\"] == \"nissan\") & (df['Order Channel'] == 'android')].groupby(['Load Type']).size().sort_values()[-10:].plot(kind='bar', color='red', width=width, position=1,label=\"android\")\n",
        "lns1 = df[(df[\"Vehicle Type\"] == \"nissan\") & (df['Order Channel'] == 'web')].groupby(['Load Type']).size().sort_values()[-10:].plot(kind='bar', color='blue', width=width, position=0,label=\"web\")\n",
        "\n",
        "\n",
        "\n",
        "ax.set_ylabel('Number of Orders')\n",
        "\n",
        "plt.legend(loc='upper right')\n",
        "ax.set_title('Number of orders per load type for Nissan vehicles')\n",
        "plt.show()\n"
      ],
      "metadata": {
        "colab": {
          "base_uri": "https://localhost:8080/"
        },
        "id": "J2LX2ZLjmCKs",
        "outputId": "a6aac720-dd51-4a93-f0db-248d2aa6fdb0"
      },
      "execution_count": null,
      "outputs": [
        {
          "output_type": "display_data",
          "data": {
            "text/plain": [
              "<Figure size 1440x432 with 1 Axes>"
            ],
            "image/png": "[encoded data removed]"
          },
          "metadata": {}
        }
      ]
    },
    {
      "cell_type": "markdown",
      "source": [
        "## Data Cleaning"
      ],
      "metadata": {
        "id": "XjRnLlHTnjpw"
      }
    },
    {
      "cell_type": "markdown",
      "source": [
        "### Missing Values"
      ],
      "metadata": {
        "id": "Huu0dloZrBtv"
      }
    },
    {
      "cell_type": "code",
      "source": [
        "df.isnull().sum()"
      ],
      "metadata": {
        "colab": {
          "base_uri": "https://localhost:8080/"
        },
        "id": "JiJi6G10n79J",
        "outputId": "ef8d3297-1842-443f-e47d-bd1636605da5"
      },
      "execution_count": null,
      "outputs": [
        {
          "output_type": "execute_result",
          "data": {
            "text/plain": [
              "Load Type                     0\n",
              "Source City                   0\n",
              "Destination City              0\n",
              "Source State                  0\n",
              "Destination State             0\n",
              "Source Region                 0\n",
              "Destination Region            0\n",
              "Who Added Role                0\n",
              "Driver Income                 0\n",
              "Weight                        0\n",
              "Distance                      0\n",
              "Duration                      0\n",
              "Vehicle Type                  0\n",
              "Vehicle Options               0\n",
              "Baarnameh Type             5686\n",
              "Transport Cost                0\n",
              "Dispatch Date                 0\n",
              "Dipatch Time                  0\n",
              "Source Lat                    0\n",
              "Source Lng                    0\n",
              "Destination Lat               0\n",
              "Destination Lng               0\n",
              "Dispatch Time Delta           0\n",
              "Pickup Date Time Delta    41244\n",
              "Order Channel              8184\n",
              "Packaging Type                0\n",
              "Creation Datetime             0\n",
              "Unload Option              6103\n",
              "Has Comments                  0\n",
              "Load Status                   0\n",
              "dtype: int64"
            ]
          },
          "metadata": {},
          "execution_count": 315
        }
      ]
    },
    {
      "cell_type": "markdown",
      "source": [
        "Almost all the rows miss the value of `Pickup Date Time Delta`. So we drop this column"
      ],
      "metadata": {
        "id": "k1_wWVwJow2V"
      }
    },
    {
      "cell_type": "code",
      "source": [
        "df.drop(['Pickup Date Time Delta'], axis=1, inplace=True)\n",
        "df.shape"
      ],
      "metadata": {
        "colab": {
          "base_uri": "https://localhost:8080/"
        },
        "id": "dl2wAOxOo44L",
        "outputId": "5d3a195b-c06b-462e-e061-85b76ca1c05e"
      },
      "execution_count": null,
      "outputs": [
        {
          "output_type": "execute_result",
          "data": {
            "text/plain": [
              "(44052, 29)"
            ]
          },
          "metadata": {},
          "execution_count": 316
        }
      ]
    },
    {
      "cell_type": "code",
      "source": [
        "df[df['Baarnameh Type'].isnull() | df['Order Channel'].isnull() | df['Unload Option'].isnull()]"
      ],
      "metadata": {
        "colab": {
          "base_uri": "https://localhost:8080/"
        },
        "id": "FjzkLmw4qFmE",
        "outputId": "73dee845-0827-4918-970b-b6a91661cd83"
      },
      "execution_count": null,
      "outputs": [
        {
          "output_type": "execute_result",
          "data": {
            "text/plain": [
              "       Load Type Source City Destination City Source State Destination State  \\\n",
              "0      بار صنعتی         یزد         بندرعباس          یزد           هرمزگان   \n",
              "1      بار صنعتی       قزوین            رودسر        قزوین             گیلان   \n",
              "2      بار صنعتی       تهران            همدان        تهران             همدان   \n",
              "3      بار صنعتی         آمل            گرگان     مازندران            گلستان   \n",
              "5      بار صنعتی      کازرون            تهران         فارس             تهران   \n",
              "...          ...         ...              ...          ...               ...   \n",
              "44035  بار صنعتی         یزد            تهران          یزد             تهران   \n",
              "44036  بار صنعتی       میناب            تهران      هرمزگان             تهران   \n",
              "44037  بار صنعتی    فلاورجان            اهواز       اصفهان           خوزستان   \n",
              "44048  بار صنعتی       تهران              نور        تهران          مازندران   \n",
              "44049  بار صنعتی    نظر آباد           ارومیه        البرز    آذربایجان غربی   \n",
              "\n",
              "      Source Region Destination Region Who Added Role  Driver Income  Weight  \\\n",
              "0               یزد           بندرعباس      anonymous            0.0    24.0   \n",
              "1             قزوین             چابکسر      anonymous            0.0     5.0   \n",
              "2             تهران              همدان      anonymous            0.0     2.0   \n",
              "3               آمل              گرگان      anonymous            0.0    15.0   \n",
              "5         قیروکازین              تهران      anonymous            0.0     5.0   \n",
              "...             ...                ...            ...            ...     ...   \n",
              "44035           یزد              تهران      anonymous            0.0     5.0   \n",
              "44036         میناب         شمال تهران      anonymous            0.0    10.0   \n",
              "44037      قهدریجان              اهواز      anonymous            0.0    10.0   \n",
              "44048         تهران              رویان      anonymous            0.0     2.0   \n",
              "44049      نظر آباد             ارومیه      anonymous            0.0     5.0   \n",
              "\n",
              "       ...  Source Lng  Destination Lat Destination Lng Dispatch Time Delta  \\\n",
              "0      ...   54.360979        27.183222       56.266646           23.928889   \n",
              "1      ...   50.012455        36.980067       50.531772           23.970278   \n",
              "2      ...   51.388435        34.798857       48.515023           23.962778   \n",
              "3      ...   52.350694        36.845643       54.439336           23.974722   \n",
              "5      ...   52.959966        35.688905       51.388435           23.968056   \n",
              "...    ...         ...              ...             ...                 ...   \n",
              "44035  ...   54.360979        35.688905       51.388435           23.973056   \n",
              "44036  ...   57.067503        35.787602       51.425803           23.963056   \n",
              "44037  ...   51.444482        31.326073       48.674809           23.982778   \n",
              "44048  ...   51.388435        36.566512       51.960662           24.012500   \n",
              "44049  ...   50.619571        37.567440       45.077215           23.975278   \n",
              "\n",
              "      Order Channel  Packaging Type                 Creation Datetime  \\\n",
              "0               NaN       hichkodam  2019-11-05 06:46:15.847289+00:00   \n",
              "1               NaN       hichkodam  2019-11-05 20:01:46.763769+00:00   \n",
              "2               NaN       hichkodam  2019-11-06 09:13:13.686217+00:00   \n",
              "3               NaN       hichkodam  2019-10-31 09:52:30.930302+00:00   \n",
              "5               NaN       hichkodam  2019-10-31 04:34:54.206605+00:00   \n",
              "...             ...             ...                               ...   \n",
              "44035           NaN       hichkodam  2019-11-01 20:01:36.927110+00:00   \n",
              "44036           NaN       hichkodam  2019-11-02 14:49:12.334306+00:00   \n",
              "44037           NaN       hichkodam  2019-10-31 04:00:01.257789+00:00   \n",
              "44048           NaN       hichkodam  2019-11-02 09:18:14.193466+00:00   \n",
              "44049           NaN       hichkodam  2019-11-02 09:47:28.545246+00:00   \n",
              "\n",
              "      Unload Option  Has Comments   Load Status  \n",
              "0               NaN             0  reject_price  \n",
              "1               NaN             0  reject_price  \n",
              "2               NaN             0  reject_price  \n",
              "3               NaN             0  reject_price  \n",
              "5               NaN             0  reject_price  \n",
              "...             ...           ...           ...  \n",
              "44035           NaN             0  reject_price  \n",
              "44036           NaN             0  reject_price  \n",
              "44037           NaN             1  reject_price  \n",
              "44048           NaN             0  reject_price  \n",
              "44049           NaN             0  reject_price  \n",
              "\n",
              "[8184 rows x 29 columns]"
            ],
            "text/html": [
              "\n",
              "  <div id=\"df-afe5a53d-46b0-4a1e-870a-584f962afb8f\">\n",
              "    <div class=\"colab-df-container\">\n",
              "      <div>\n",
              "<style scoped>\n",
              "    .dataframe tbody tr th:only-of-type {\n",
              "        vertical-align: middle;\n",
              "    }\n",
              "\n",
              "    .dataframe tbody tr th {\n",
              "        vertical-align: top;\n",
              "    }\n",
              "\n",
              "    .dataframe thead th {\n",
              "        text-align: right;\n",
              "    }\n",
              "</style>\n",
              "<table border=\"1\" class=\"dataframe\">\n",
              "  <thead>\n",
              "    <tr style=\"text-align: right;\">\n",
              "      <th></th>\n",
              "      <th>Load Type</th>\n",
              "      <th>Source City</th>\n",
              "      <th>Destination City</th>\n",
              "      <th>Source State</th>\n",
              "      <th>Destination State</th>\n",
              "      <th>Source Region</th>\n",
              "      <th>Destination Region</th>\n",
              "      <th>Who Added Role</th>\n",
              "      <th>Driver Income</th>\n",
              "      <th>Weight</th>\n",
              "      <th>...</th>\n",
              "      <th>Source Lng</th>\n",
              "      <th>Destination Lat</th>\n",
              "      <th>Destination Lng</th>\n",
              "      <th>Dispatch Time Delta</th>\n",
              "      <th>Order Channel</th>\n",
              "      <th>Packaging Type</th>\n",
              "      <th>Creation Datetime</th>\n",
              "      <th>Unload Option</th>\n",
              "      <th>Has Comments</th>\n",
              "      <th>Load Status</th>\n",
              "    </tr>\n",
              "  </thead>\n",
              "  <tbody>\n",
              "    <tr>\n",
              "      <th>0</th>\n",
              "      <td>بار صنعتی</td>\n",
              "      <td>یزد</td>\n",
              "      <td>بندرعباس</td>\n",
              "      <td>یزد</td>\n",
              "      <td>هرمزگان</td>\n",
              "      <td>یزد</td>\n",
              "      <td>بندرعباس</td>\n",
              "      <td>anonymous</td>\n",
              "      <td>0.0</td>\n",
              "      <td>24.0</td>\n",
              "      <td>...</td>\n",
              "      <td>54.360979</td>\n",
              "      <td>27.183222</td>\n",
              "      <td>56.266646</td>\n",
              "      <td>23.928889</td>\n",
              "      <td>NaN</td>\n",
              "      <td>hichkodam</td>\n",
              "      <td>2019-11-05 06:46:15.847289+00:00</td>\n",
              "      <td>NaN</td>\n",
              "      <td>0</td>\n",
              "      <td>reject_price</td>\n",
              "    </tr>\n",
              "    <tr>\n",
              "      <th>1</th>\n",
              "      <td>بار صنعتی</td>\n",
              "      <td>قزوین</td>\n",
              "      <td>رودسر</td>\n",
              "      <td>قزوین</td>\n",
              "      <td>گیلان</td>\n",
              "      <td>قزوین</td>\n",
              "      <td>چابکسر</td>\n",
              "      <td>anonymous</td>\n",
              "      <td>0.0</td>\n",
              "      <td>5.0</td>\n",
              "      <td>...</td>\n",
              "      <td>50.012455</td>\n",
              "      <td>36.980067</td>\n",
              "      <td>50.531772</td>\n",
              "      <td>23.970278</td>\n",
              "      <td>NaN</td>\n",
              "      <td>hichkodam</td>\n",
              "      <td>2019-11-05 20:01:46.763769+00:00</td>\n",
              "      <td>NaN</td>\n",
              "      <td>0</td>\n",
              "      <td>reject_price</td>\n",
              "    </tr>\n",
              "    <tr>\n",
              "      <th>2</th>\n",
              "      <td>بار صنعتی</td>\n",
              "      <td>تهران</td>\n",
              "      <td>همدان</td>\n",
              "      <td>تهران</td>\n",
              "      <td>همدان</td>\n",
              "      <td>تهران</td>\n",
              "      <td>همدان</td>\n",
              "      <td>anonymous</td>\n",
              "      <td>0.0</td>\n",
              "      <td>2.0</td>\n",
              "      <td>...</td>\n",
              "      <td>51.388435</td>\n",
              "      <td>34.798857</td>\n",
              "      <td>48.515023</td>\n",
              "      <td>23.962778</td>\n",
              "      <td>NaN</td>\n",
              "      <td>hichkodam</td>\n",
              "      <td>2019-11-06 09:13:13.686217+00:00</td>\n",
              "      <td>NaN</td>\n",
              "      <td>0</td>\n",
              "      <td>reject_price</td>\n",
              "    </tr>\n",
              "    <tr>\n",
              "      <th>3</th>\n",
              "      <td>بار صنعتی</td>\n",
              "      <td>آمل</td>\n",
              "      <td>گرگان</td>\n",
              "      <td>مازندران</td>\n",
              "      <td>گلستان</td>\n",
              "      <td>آمل</td>\n",
              "      <td>گرگان</td>\n",
              "      <td>anonymous</td>\n",
              "      <td>0.0</td>\n",
              "      <td>15.0</td>\n",
              "      <td>...</td>\n",
              "      <td>52.350694</td>\n",
              "      <td>36.845643</td>\n",
              "      <td>54.439336</td>\n",
              "      <td>23.974722</td>\n",
              "      <td>NaN</td>\n",
              "      <td>hichkodam</td>\n",
              "      <td>2019-10-31 09:52:30.930302+00:00</td>\n",
              "      <td>NaN</td>\n",
              "      <td>0</td>\n",
              "      <td>reject_price</td>\n",
              "    </tr>\n",
              "    <tr>\n",
              "      <th>5</th>\n",
              "      <td>بار صنعتی</td>\n",
              "      <td>کازرون</td>\n",
              "      <td>تهران</td>\n",
              "      <td>فارس</td>\n",
              "      <td>تهران</td>\n",
              "      <td>قیروکازین</td>\n",
              "      <td>تهران</td>\n",
              "      <td>anonymous</td>\n",
              "      <td>0.0</td>\n",
              "      <td>5.0</td>\n",
              "      <td>...</td>\n",
              "      <td>52.959966</td>\n",
              "      <td>35.688905</td>\n",
              "      <td>51.388435</td>\n",
              "      <td>23.968056</td>\n",
              "      <td>NaN</td>\n",
              "      <td>hichkodam</td>\n",
              "      <td>2019-10-31 04:34:54.206605+00:00</td>\n",
              "      <td>NaN</td>\n",
              "      <td>0</td>\n",
              "      <td>reject_price</td>\n",
              "    </tr>\n",
              "    <tr>\n",
              "      <th>...</th>\n",
              "      <td>...</td>\n",
              "      <td>...</td>\n",
              "      <td>...</td>\n",
              "      <td>...</td>\n",
              "      <td>...</td>\n",
              "      <td>...</td>\n",
              "      <td>...</td>\n",
              "      <td>...</td>\n",
              "      <td>...</td>\n",
              "      <td>...</td>\n",
              "      <td>...</td>\n",
              "      <td>...</td>\n",
              "      <td>...</td>\n",
              "      <td>...</td>\n",
              "      <td>...</td>\n",
              "      <td>...</td>\n",
              "      <td>...</td>\n",
              "      <td>...</td>\n",
              "      <td>...</td>\n",
              "      <td>...</td>\n",
              "      <td>...</td>\n",
              "    </tr>\n",
              "    <tr>\n",
              "      <th>44035</th>\n",
              "      <td>بار صنعتی</td>\n",
              "      <td>یزد</td>\n",
              "      <td>تهران</td>\n",
              "      <td>یزد</td>\n",
              "      <td>تهران</td>\n",
              "      <td>یزد</td>\n",
              "      <td>تهران</td>\n",
              "      <td>anonymous</td>\n",
              "      <td>0.0</td>\n",
              "      <td>5.0</td>\n",
              "      <td>...</td>\n",
              "      <td>54.360979</td>\n",
              "      <td>35.688905</td>\n",
              "      <td>51.388435</td>\n",
              "      <td>23.973056</td>\n",
              "      <td>NaN</td>\n",
              "      <td>hichkodam</td>\n",
              "      <td>2019-11-01 20:01:36.927110+00:00</td>\n",
              "      <td>NaN</td>\n",
              "      <td>0</td>\n",
              "      <td>reject_price</td>\n",
              "    </tr>\n",
              "    <tr>\n",
              "      <th>44036</th>\n",
              "      <td>بار صنعتی</td>\n",
              "      <td>میناب</td>\n",
              "      <td>تهران</td>\n",
              "      <td>هرمزگان</td>\n",
              "      <td>تهران</td>\n",
              "      <td>میناب</td>\n",
              "      <td>شمال تهران</td>\n",
              "      <td>anonymous</td>\n",
              "      <td>0.0</td>\n",
              "      <td>10.0</td>\n",
              "      <td>...</td>\n",
              "      <td>57.067503</td>\n",
              "      <td>35.787602</td>\n",
              "      <td>51.425803</td>\n",
              "      <td>23.963056</td>\n",
              "      <td>NaN</td>\n",
              "      <td>hichkodam</td>\n",
              "      <td>2019-11-02 14:49:12.334306+00:00</td>\n",
              "      <td>NaN</td>\n",
              "      <td>0</td>\n",
              "      <td>reject_price</td>\n",
              "    </tr>\n",
              "    <tr>\n",
              "      <th>44037</th>\n",
              "      <td>بار صنعتی</td>\n",
              "      <td>فلاورجان</td>\n",
              "      <td>اهواز</td>\n",
              "      <td>اصفهان</td>\n",
              "      <td>خوزستان</td>\n",
              "      <td>قهدریجان</td>\n",
              "      <td>اهواز</td>\n",
              "      <td>anonymous</td>\n",
              "      <td>0.0</td>\n",
              "      <td>10.0</td>\n",
              "      <td>...</td>\n",
              "      <td>51.444482</td>\n",
              "      <td>31.326073</td>\n",
              "      <td>48.674809</td>\n",
              "      <td>23.982778</td>\n",
              "      <td>NaN</td>\n",
              "      <td>hichkodam</td>\n",
              "      <td>2019-10-31 04:00:01.257789+00:00</td>\n",
              "      <td>NaN</td>\n",
              "      <td>1</td>\n",
              "      <td>reject_price</td>\n",
              "    </tr>\n",
              "    <tr>\n",
              "      <th>44048</th>\n",
              "      <td>بار صنعتی</td>\n",
              "      <td>تهران</td>\n",
              "      <td>نور</td>\n",
              "      <td>تهران</td>\n",
              "      <td>مازندران</td>\n",
              "      <td>تهران</td>\n",
              "      <td>رویان</td>\n",
              "      <td>anonymous</td>\n",
              "      <td>0.0</td>\n",
              "      <td>2.0</td>\n",
              "      <td>...</td>\n",
              "      <td>51.388435</td>\n",
              "      <td>36.566512</td>\n",
              "      <td>51.960662</td>\n",
              "      <td>24.012500</td>\n",
              "      <td>NaN</td>\n",
              "      <td>hichkodam</td>\n",
              "      <td>2019-11-02 09:18:14.193466+00:00</td>\n",
              "      <td>NaN</td>\n",
              "      <td>0</td>\n",
              "      <td>reject_price</td>\n",
              "    </tr>\n",
              "    <tr>\n",
              "      <th>44049</th>\n",
              "      <td>بار صنعتی</td>\n",
              "      <td>نظر آباد</td>\n",
              "      <td>ارومیه</td>\n",
              "      <td>البرز</td>\n",
              "      <td>آذربایجان غربی</td>\n",
              "      <td>نظر آباد</td>\n",
              "      <td>ارومیه</td>\n",
              "      <td>anonymous</td>\n",
              "      <td>0.0</td>\n",
              "      <td>5.0</td>\n",
              "      <td>...</td>\n",
              "      <td>50.619571</td>\n",
              "      <td>37.567440</td>\n",
              "      <td>45.077215</td>\n",
              "      <td>23.975278</td>\n",
              "      <td>NaN</td>\n",
              "      <td>hichkodam</td>\n",
              "      <td>2019-11-02 09:47:28.545246+00:00</td>\n",
              "      <td>NaN</td>\n",
              "      <td>0</td>\n",
              "      <td>reject_price</td>\n",
              "    </tr>\n",
              "  </tbody>\n",
              "</table>\n",
              "<p>8184 rows × 29 columns</p>\n",
              "</div>\n",
              "      <button class=\"colab-df-convert\" onclick=\"convertToInteractive('df-afe5a53d-46b0-4a1e-870a-584f962afb8f')\"\n",
              "              title=\"Convert this dataframe to an interactive table.\"\n",
              "              style=\"display:none;\">\n",
              "        \n",
              "  <svg xmlns=\"http://www.w3.org/2000/svg\" height=\"24px\"viewBox=\"0 0 24 24\"\n",
              "       width=\"24px\">\n",
              "    <path d=\"M0 0h24v24H0V0z\" fill=\"none\"/>\n",
              "    <path d=\"M18.56 5.44l.94 2.06.94-2.06 2.06-.94-2.06-.94-.94-2.06-.94 2.06-2.06.94zm-11 1L8.5 8.5l.94-2.06 2.06-.94-2.06-.94L8.5 2.5l-.94 2.06-2.06.94zm10 10l.94 2.06.94-2.06 2.06-.94-2.06-.94-.94-2.06-.94 2.06-2.06.94z\"/><path d=\"M17.41 7.96l-1.37-1.37c-.4-.4-.92-.59-1.43-.59-.52 0-1.04.2-1.43.59L10.3 9.45l-7.72 7.72c-.78.78-.78 2.05 0 2.83L4 21.41c.39.39.9.59 1.41.59.51 0 1.02-.2 1.41-.59l7.78-7.78 2.81-2.81c.8-.78.8-2.07 0-2.86zM5.41 20L4 18.59l7.72-7.72 1.47 1.35L5.41 20z\"/>\n",
              "  </svg>\n",
              "      </button>\n",
              "      \n",
              "  <style>\n",
              "    .colab-df-container {\n",
              "      display:flex;\n",
              "      flex-wrap:wrap;\n",
              "      gap: 12px;\n",
              "    }\n",
              "\n",
              "    .colab-df-convert {\n",
              "      background-color: #E8F0FE;\n",
              "      border: none;\n",
              "      border-radius: 50%;\n",
              "      cursor: pointer;\n",
              "      display: none;\n",
              "      fill: #1967D2;\n",
              "      height: 32px;\n",
              "      padding: 0 0 0 0;\n",
              "      width: 32px;\n",
              "    }\n",
              "\n",
              "    .colab-df-convert:hover {\n",
              "      background-color: #E2EBFA;\n",
              "      box-shadow: 0px 1px 2px rgba(60, 64, 67, 0.3), 0px 1px 3px 1px rgba(60, 64, 67, 0.15);\n",
              "      fill: #174EA6;\n",
              "    }\n",
              "\n",
              "    [theme=dark] .colab-df-convert {\n",
              "      background-color: #3B4455;\n",
              "      fill: #D2E3FC;\n",
              "    }\n",
              "\n",
              "    [theme=dark] .colab-df-convert:hover {\n",
              "      background-color: #434B5C;\n",
              "      box-shadow: 0px 1px 3px 1px rgba(0, 0, 0, 0.15);\n",
              "      filter: drop-shadow(0px 1px 2px rgba(0, 0, 0, 0.3));\n",
              "      fill: #FFFFFF;\n",
              "    }\n",
              "  </style>\n",
              "\n",
              "      <script>\n",
              "        const buttonEl =\n",
              "          document.querySelector('#df-afe5a53d-46b0-4a1e-870a-584f962afb8f button.colab-df-convert');\n",
              "        buttonEl.style.display =\n",
              "          google.colab.kernel.accessAllowed ? 'block' : 'none';\n",
              "\n",
              "        async function convertToInteractive(key) {\n",
              "          const element = document.querySelector('#df-afe5a53d-46b0-4a1e-870a-584f962afb8f');\n",
              "          const dataTable =\n",
              "            await google.colab.kernel.invokeFunction('convertToInteractive',\n",
              "                                                     [key], {});\n",
              "          if (!dataTable) return;\n",
              "\n",
              "          const docLinkHtml = 'Like what you see? Visit the ' +\n",
              "            '<a target=\"_blank\" href=https://colab.research.google.com/notebooks/data_table.ipynb>data table notebook</a>'\n",
              "            + ' to learn more about interactive tables.';\n",
              "          element.innerHTML = '';\n",
              "          dataTable['output_type'] = 'display_data';\n",
              "          await google.colab.output.renderOutput(dataTable, element);\n",
              "          const docLink = document.createElement('div');\n",
              "          docLink.innerHTML = docLinkHtml;\n",
              "          element.appendChild(docLink);\n",
              "        }\n",
              "      </script>\n",
              "    </div>\n",
              "  </div>\n",
              "  "
            ]
          },
          "metadata": {},
          "execution_count": 317
        }
      ]
    },
    {
      "cell_type": "code",
      "source": [
        "df[df['Baarnameh Type'].isnull() | df['Order Channel'].isnull() | df['Unload Option'].isnull()].shape"
      ],
      "metadata": {
        "colab": {
          "base_uri": "https://localhost:8080/"
        },
        "id": "Su8KMmx1nnqc",
        "outputId": "3cc05a77-bfe3-45c5-ae62-1d417e99fca2"
      },
      "execution_count": null,
      "outputs": [
        {
          "output_type": "execute_result",
          "data": {
            "text/plain": [
              "(8184, 29)"
            ]
          },
          "metadata": {},
          "execution_count": 318
        }
      ]
    },
    {
      "cell_type": "markdown",
      "source": [
        "For remaining missinng values, there is no easy way to estimate them or find them from external sources. In addition to that, we can see the rows with missing values from different columns have a large intersection. Therefore, by dropping all these rows we will not loose too much of the rows."
      ],
      "metadata": {
        "id": "8m1ESHcKqKlL"
      }
    },
    {
      "cell_type": "code",
      "source": [
        "df.dropna(inplace=True)\n",
        "df.shape"
      ],
      "metadata": {
        "colab": {
          "base_uri": "https://localhost:8080/"
        },
        "id": "CWae3kCXn4w1",
        "outputId": "977dd0c1-a15e-4a79-eefc-a115a97a9971"
      },
      "execution_count": null,
      "outputs": [
        {
          "output_type": "execute_result",
          "data": {
            "text/plain": [
              "(35868, 29)"
            ]
          },
          "metadata": {},
          "execution_count": 319
        }
      ]
    },
    {
      "cell_type": "markdown",
      "source": [
        "### Invalid Data"
      ],
      "metadata": {
        "id": "8nifGeTcrEcd"
      }
    },
    {
      "cell_type": "code",
      "source": [
        "df.describe()"
      ],
      "metadata": {
        "colab": {
          "base_uri": "https://localhost:8080/"
        },
        "id": "KhU2lrOoq6q5",
        "outputId": "24c39d25-f40d-4eda-b34a-96ff75f7203c"
      },
      "execution_count": null,
      "outputs": [
        {
          "output_type": "execute_result",
          "data": {
            "text/plain": [
              "       Driver Income        Weight      Distance      Duration  \\\n",
              "count   3.586800e+04  35868.000000  35868.000000  35868.000000   \n",
              "mean    4.516569e+11      7.717787    478.915209      5.608270   \n",
              "std     8.553846e+13      7.894982    440.805794      4.905950   \n",
              "min     0.000000e+00      0.020000      0.000000      0.000000   \n",
              "25%     0.000000e+00      2.000000     50.000000      0.866111   \n",
              "50%     3.840000e+05      4.000000    419.147000      4.809722   \n",
              "75%     1.212000e+06     11.000000    804.962000      9.476944   \n",
              "max     1.620000e+16     25.000000   2622.035000     28.618889   \n",
              "\n",
              "       Transport Cost    Source Lat    Source Lng  Destination Lat  \\\n",
              "count    3.586800e+04  35868.000000  35868.000000     35868.000000   \n",
              "mean     4.516569e+11     34.752736     51.519125        33.997342   \n",
              "std      8.553846e+13      2.172747      2.741126         3.023800   \n",
              "min      0.000000e+00     24.494214     28.953026        24.494214   \n",
              "25%      0.000000e+00     33.691995     50.619571        32.056827   \n",
              "50%      3.800000e+05     35.670677     51.388435        35.458503   \n",
              "75%      1.210000e+06     35.837669     51.696110        36.271035   \n",
              "max      1.620000e+16     41.052112     69.870829        41.052112   \n",
              "\n",
              "       Destination Lng  Dispatch Time Delta  Has Comments  \n",
              "count     35868.000000         35868.000000  35868.000000  \n",
              "mean         51.922903            29.046785      0.393136  \n",
              "std           3.840593            63.479663      0.488453  \n",
              "min          28.953026            -4.676944      0.000000  \n",
              "25%          49.587414             2.028333      0.000000  \n",
              "50%          51.388435            14.916111      0.000000  \n",
              "75%          53.031317            24.394167      1.000000  \n",
              "max          69.870829          2204.550833      1.000000  "
            ],
            "text/html": [
              "\n",
              "  <div id=\"df-0e7505bf-c24a-4fc8-8881-76ec2e9df0c0\">\n",
              "    <div class=\"colab-df-container\">\n",
              "      <div>\n",
              "<style scoped>\n",
              "    .dataframe tbody tr th:only-of-type {\n",
              "        vertical-align: middle;\n",
              "    }\n",
              "\n",
              "    .dataframe tbody tr th {\n",
              "        vertical-align: top;\n",
              "    }\n",
              "\n",
              "    .dataframe thead th {\n",
              "        text-align: right;\n",
              "    }\n",
              "</style>\n",
              "<table border=\"1\" class=\"dataframe\">\n",
              "  <thead>\n",
              "    <tr style=\"text-align: right;\">\n",
              "      <th></th>\n",
              "      <th>Driver Income</th>\n",
              "      <th>Weight</th>\n",
              "      <th>Distance</th>\n",
              "      <th>Duration</th>\n",
              "      <th>Transport Cost</th>\n",
              "      <th>Source Lat</th>\n",
              "      <th>Source Lng</th>\n",
              "      <th>Destination Lat</th>\n",
              "      <th>Destination Lng</th>\n",
              "      <th>Dispatch Time Delta</th>\n",
              "      <th>Has Comments</th>\n",
              "    </tr>\n",
              "  </thead>\n",
              "  <tbody>\n",
              "    <tr>\n",
              "      <th>count</th>\n",
              "      <td>3.586800e+04</td>\n",
              "      <td>35868.000000</td>\n",
              "      <td>35868.000000</td>\n",
              "      <td>35868.000000</td>\n",
              "      <td>3.586800e+04</td>\n",
              "      <td>35868.000000</td>\n",
              "      <td>35868.000000</td>\n",
              "      <td>35868.000000</td>\n",
              "      <td>35868.000000</td>\n",
              "      <td>35868.000000</td>\n",
              "      <td>35868.000000</td>\n",
              "    </tr>\n",
              "    <tr>\n",
              "      <th>mean</th>\n",
              "      <td>4.516569e+11</td>\n",
              "      <td>7.717787</td>\n",
              "      <td>478.915209</td>\n",
              "      <td>5.608270</td>\n",
              "      <td>4.516569e+11</td>\n",
              "      <td>34.752736</td>\n",
              "      <td>51.519125</td>\n",
              "      <td>33.997342</td>\n",
              "      <td>51.922903</td>\n",
              "      <td>29.046785</td>\n",
              "      <td>0.393136</td>\n",
              "    </tr>\n",
              "    <tr>\n",
              "      <th>std</th>\n",
              "      <td>8.553846e+13</td>\n",
              "      <td>7.894982</td>\n",
              "      <td>440.805794</td>\n",
              "      <td>4.905950</td>\n",
              "      <td>8.553846e+13</td>\n",
              "      <td>2.172747</td>\n",
              "      <td>2.741126</td>\n",
              "      <td>3.023800</td>\n",
              "      <td>3.840593</td>\n",
              "      <td>63.479663</td>\n",
              "      <td>0.488453</td>\n",
              "    </tr>\n",
              "    <tr>\n",
              "      <th>min</th>\n",
              "      <td>0.000000e+00</td>\n",
              "      <td>0.020000</td>\n",
              "      <td>0.000000</td>\n",
              "      <td>0.000000</td>\n",
              "      <td>0.000000e+00</td>\n",
              "      <td>24.494214</td>\n",
              "      <td>28.953026</td>\n",
              "      <td>24.494214</td>\n",
              "      <td>28.953026</td>\n",
              "      <td>-4.676944</td>\n",
              "      <td>0.000000</td>\n",
              "    </tr>\n",
              "    <tr>\n",
              "      <th>25%</th>\n",
              "      <td>0.000000e+00</td>\n",
              "      <td>2.000000</td>\n",
              "      <td>50.000000</td>\n",
              "      <td>0.866111</td>\n",
              "      <td>0.000000e+00</td>\n",
              "      <td>33.691995</td>\n",
              "      <td>50.619571</td>\n",
              "      <td>32.056827</td>\n",
              "      <td>49.587414</td>\n",
              "      <td>2.028333</td>\n",
              "      <td>0.000000</td>\n",
              "    </tr>\n",
              "    <tr>\n",
              "      <th>50%</th>\n",
              "      <td>3.840000e+05</td>\n",
              "      <td>4.000000</td>\n",
              "      <td>419.147000</td>\n",
              "      <td>4.809722</td>\n",
              "      <td>3.800000e+05</td>\n",
              "      <td>35.670677</td>\n",
              "      <td>51.388435</td>\n",
              "      <td>35.458503</td>\n",
              "      <td>51.388435</td>\n",
              "      <td>14.916111</td>\n",
              "      <td>0.000000</td>\n",
              "    </tr>\n",
              "    <tr>\n",
              "      <th>75%</th>\n",
              "      <td>1.212000e+06</td>\n",
              "      <td>11.000000</td>\n",
              "      <td>804.962000</td>\n",
              "      <td>9.476944</td>\n",
              "      <td>1.210000e+06</td>\n",
              "      <td>35.837669</td>\n",
              "      <td>51.696110</td>\n",
              "      <td>36.271035</td>\n",
              "      <td>53.031317</td>\n",
              "      <td>24.394167</td>\n",
              "      <td>1.000000</td>\n",
              "    </tr>\n",
              "    <tr>\n",
              "      <th>max</th>\n",
              "      <td>1.620000e+16</td>\n",
              "      <td>25.000000</td>\n",
              "      <td>2622.035000</td>\n",
              "      <td>28.618889</td>\n",
              "      <td>1.620000e+16</td>\n",
              "      <td>41.052112</td>\n",
              "      <td>69.870829</td>\n",
              "      <td>41.052112</td>\n",
              "      <td>69.870829</td>\n",
              "      <td>2204.550833</td>\n",
              "      <td>1.000000</td>\n",
              "    </tr>\n",
              "  </tbody>\n",
              "</table>\n",
              "</div>\n",
              "      <button class=\"colab-df-convert\" onclick=\"convertToInteractive('df-0e7505bf-c24a-4fc8-8881-76ec2e9df0c0')\"\n",
              "              title=\"Convert this dataframe to an interactive table.\"\n",
              "              style=\"display:none;\">\n",
              "        \n",
              "  <svg xmlns=\"http://www.w3.org/2000/svg\" height=\"24px\"viewBox=\"0 0 24 24\"\n",
              "       width=\"24px\">\n",
              "    <path d=\"M0 0h24v24H0V0z\" fill=\"none\"/>\n",
              "    <path d=\"M18.56 5.44l.94 2.06.94-2.06 2.06-.94-2.06-.94-.94-2.06-.94 2.06-2.06.94zm-11 1L8.5 8.5l.94-2.06 2.06-.94-2.06-.94L8.5 2.5l-.94 2.06-2.06.94zm10 10l.94 2.06.94-2.06 2.06-.94-2.06-.94-.94-2.06-.94 2.06-2.06.94z\"/><path d=\"M17.41 7.96l-1.37-1.37c-.4-.4-.92-.59-1.43-.59-.52 0-1.04.2-1.43.59L10.3 9.45l-7.72 7.72c-.78.78-.78 2.05 0 2.83L4 21.41c.39.39.9.59 1.41.59.51 0 1.02-.2 1.41-.59l7.78-7.78 2.81-2.81c.8-.78.8-2.07 0-2.86zM5.41 20L4 18.59l7.72-7.72 1.47 1.35L5.41 20z\"/>\n",
              "  </svg>\n",
              "      </button>\n",
              "      \n",
              "  <style>\n",
              "    .colab-df-container {\n",
              "      display:flex;\n",
              "      flex-wrap:wrap;\n",
              "      gap: 12px;\n",
              "    }\n",
              "\n",
              "    .colab-df-convert {\n",
              "      background-color: #E8F0FE;\n",
              "      border: none;\n",
              "      border-radius: 50%;\n",
              "      cursor: pointer;\n",
              "      display: none;\n",
              "      fill: #1967D2;\n",
              "      height: 32px;\n",
              "      padding: 0 0 0 0;\n",
              "      width: 32px;\n",
              "    }\n",
              "\n",
              "    .colab-df-convert:hover {\n",
              "      background-color: #E2EBFA;\n",
              "      box-shadow: 0px 1px 2px rgba(60, 64, 67, 0.3), 0px 1px 3px 1px rgba(60, 64, 67, 0.15);\n",
              "      fill: #174EA6;\n",
              "    }\n",
              "\n",
              "    [theme=dark] .colab-df-convert {\n",
              "      background-color: #3B4455;\n",
              "      fill: #D2E3FC;\n",
              "    }\n",
              "\n",
              "    [theme=dark] .colab-df-convert:hover {\n",
              "      background-color: #434B5C;\n",
              "      box-shadow: 0px 1px 3px 1px rgba(0, 0, 0, 0.15);\n",
              "      filter: drop-shadow(0px 1px 2px rgba(0, 0, 0, 0.3));\n",
              "      fill: #FFFFFF;\n",
              "    }\n",
              "  </style>\n",
              "\n",
              "      <script>\n",
              "        const buttonEl =\n",
              "          document.querySelector('#df-0e7505bf-c24a-4fc8-8881-76ec2e9df0c0 button.colab-df-convert');\n",
              "        buttonEl.style.display =\n",
              "          google.colab.kernel.accessAllowed ? 'block' : 'none';\n",
              "\n",
              "        async function convertToInteractive(key) {\n",
              "          const element = document.querySelector('#df-0e7505bf-c24a-4fc8-8881-76ec2e9df0c0');\n",
              "          const dataTable =\n",
              "            await google.colab.kernel.invokeFunction('convertToInteractive',\n",
              "                                                     [key], {});\n",
              "          if (!dataTable) return;\n",
              "\n",
              "          const docLinkHtml = 'Like what you see? Visit the ' +\n",
              "            '<a target=\"_blank\" href=https://colab.research.google.com/notebooks/data_table.ipynb>data table notebook</a>'\n",
              "            + ' to learn more about interactive tables.';\n",
              "          element.innerHTML = '';\n",
              "          dataTable['output_type'] = 'display_data';\n",
              "          await google.colab.output.renderOutput(dataTable, element);\n",
              "          const docLink = document.createElement('div');\n",
              "          docLink.innerHTML = docLinkHtml;\n",
              "          element.appendChild(docLink);\n",
              "        }\n",
              "      </script>\n",
              "    </div>\n",
              "  </div>\n",
              "  "
            ]
          },
          "metadata": {},
          "execution_count": 320
        }
      ]
    },
    {
      "cell_type": "markdown",
      "source": [
        "* `Lat, Lng` columns seem okay. The values are within Iran.\n",
        "* `Has Comments` is okay. It is a boolean column.\n",
        "* `Weight` seems okay. The range of values is [0.02, 25] perhaps in 1K Kgs scale.\n",
        "* `Dispatch Time Delta` has negative values and also very large values. Needs more investigation.\n",
        "* The columns `Driver Income, Distance, Duration, Transport Cost` have zero min. It is not possible for a valid real order. Is it a king of missing value indicator? Needs more investigation.\n",
        "* The `1e16` seems off as the maximum value for `Driver Income` and `Transport Cost`. Does not feel real."
      ],
      "metadata": {
        "id": "9Ubh7y3NskVa"
      }
    },
    {
      "cell_type": "code",
      "source": [
        "df[['Dispatch Date', 'Dipatch Time', 'Creation Datetime', 'Dispatch Time Delta']]"
      ],
      "metadata": {
        "colab": {
          "base_uri": "https://localhost:8080/"
        },
        "id": "1s8ri4eavPxN",
        "outputId": "5afbe112-e526-4670-d6bf-1e4cc6765279"
      },
      "execution_count": null,
      "outputs": [
        {
          "output_type": "execute_result",
          "data": {
            "text/plain": [
              "      Dispatch Date Dipatch Time                 Creation Datetime  \\\n",
              "4        1398-08-30     10:00:00  2019-11-20 13:45:01.859383+00:00   \n",
              "8        1398-07-23     11:30:00  2019-10-15 07:35:48.686186+00:00   \n",
              "9        1398-08-04      8:00:00  2019-10-24 13:12:40.461622+00:00   \n",
              "10       1398-08-16     10:00:00  2019-11-06 17:01:01.501348+00:00   \n",
              "14       1398-08-11     15:00:00  2019-11-02 07:24:31.415289+00:00   \n",
              "...             ...          ...                               ...   \n",
              "44045    1398-08-10     11:00:00  2019-10-29 05:00:23.122293+00:00   \n",
              "44046    1398-08-16     12:30:00  2019-11-07 05:07:52.473923+00:00   \n",
              "44047    1398-08-09      3:00:00  2019-10-30 23:18:56.706587+00:00   \n",
              "44050    1398-08-16      9:30:00  2019-11-07 05:37:41.824758+00:00   \n",
              "44051    1398-08-08     16:30:00  2019-10-30 11:40:19.695926+00:00   \n",
              "\n",
              "       Dispatch Time Delta  \n",
              "4                16.749444  \n",
              "8                 0.403056  \n",
              "9                39.288611  \n",
              "10               13.482778  \n",
              "14                4.091111  \n",
              "...                    ...  \n",
              "44045            74.493333  \n",
              "44046             3.868611  \n",
              "44047             0.184167  \n",
              "44050             0.371667  \n",
              "44051             1.327778  \n",
              "\n",
              "[35868 rows x 4 columns]"
            ],
            "text/html": [
              "\n",
              "  <div id=\"df-5f29cee3-bfc7-4454-a564-7cbcb49b2c35\">\n",
              "    <div class=\"colab-df-container\">\n",
              "      <div>\n",
              "<style scoped>\n",
              "    .dataframe tbody tr th:only-of-type {\n",
              "        vertical-align: middle;\n",
              "    }\n",
              "\n",
              "    .dataframe tbody tr th {\n",
              "        vertical-align: top;\n",
              "    }\n",
              "\n",
              "    .dataframe thead th {\n",
              "        text-align: right;\n",
              "    }\n",
              "</style>\n",
              "<table border=\"1\" class=\"dataframe\">\n",
              "  <thead>\n",
              "    <tr style=\"text-align: right;\">\n",
              "      <th></th>\n",
              "      <th>Dispatch Date</th>\n",
              "      <th>Dipatch Time</th>\n",
              "      <th>Creation Datetime</th>\n",
              "      <th>Dispatch Time Delta</th>\n",
              "    </tr>\n",
              "  </thead>\n",
              "  <tbody>\n",
              "    <tr>\n",
              "      <th>4</th>\n",
              "      <td>1398-08-30</td>\n",
              "      <td>10:00:00</td>\n",
              "      <td>2019-11-20 13:45:01.859383+00:00</td>\n",
              "      <td>16.749444</td>\n",
              "    </tr>\n",
              "    <tr>\n",
              "      <th>8</th>\n",
              "      <td>1398-07-23</td>\n",
              "      <td>11:30:00</td>\n",
              "      <td>2019-10-15 07:35:48.686186+00:00</td>\n",
              "      <td>0.403056</td>\n",
              "    </tr>\n",
              "    <tr>\n",
              "      <th>9</th>\n",
              "      <td>1398-08-04</td>\n",
              "      <td>8:00:00</td>\n",
              "      <td>2019-10-24 13:12:40.461622+00:00</td>\n",
              "      <td>39.288611</td>\n",
              "    </tr>\n",
              "    <tr>\n",
              "      <th>10</th>\n",
              "      <td>1398-08-16</td>\n",
              "      <td>10:00:00</td>\n",
              "      <td>2019-11-06 17:01:01.501348+00:00</td>\n",
              "      <td>13.482778</td>\n",
              "    </tr>\n",
              "    <tr>\n",
              "      <th>14</th>\n",
              "      <td>1398-08-11</td>\n",
              "      <td>15:00:00</td>\n",
              "      <td>2019-11-02 07:24:31.415289+00:00</td>\n",
              "      <td>4.091111</td>\n",
              "    </tr>\n",
              "    <tr>\n",
              "      <th>...</th>\n",
              "      <td>...</td>\n",
              "      <td>...</td>\n",
              "      <td>...</td>\n",
              "      <td>...</td>\n",
              "    </tr>\n",
              "    <tr>\n",
              "      <th>44045</th>\n",
              "      <td>1398-08-10</td>\n",
              "      <td>11:00:00</td>\n",
              "      <td>2019-10-29 05:00:23.122293+00:00</td>\n",
              "      <td>74.493333</td>\n",
              "    </tr>\n",
              "    <tr>\n",
              "      <th>44046</th>\n",
              "      <td>1398-08-16</td>\n",
              "      <td>12:30:00</td>\n",
              "      <td>2019-11-07 05:07:52.473923+00:00</td>\n",
              "      <td>3.868611</td>\n",
              "    </tr>\n",
              "    <tr>\n",
              "      <th>44047</th>\n",
              "      <td>1398-08-09</td>\n",
              "      <td>3:00:00</td>\n",
              "      <td>2019-10-30 23:18:56.706587+00:00</td>\n",
              "      <td>0.184167</td>\n",
              "    </tr>\n",
              "    <tr>\n",
              "      <th>44050</th>\n",
              "      <td>1398-08-16</td>\n",
              "      <td>9:30:00</td>\n",
              "      <td>2019-11-07 05:37:41.824758+00:00</td>\n",
              "      <td>0.371667</td>\n",
              "    </tr>\n",
              "    <tr>\n",
              "      <th>44051</th>\n",
              "      <td>1398-08-08</td>\n",
              "      <td>16:30:00</td>\n",
              "      <td>2019-10-30 11:40:19.695926+00:00</td>\n",
              "      <td>1.327778</td>\n",
              "    </tr>\n",
              "  </tbody>\n",
              "</table>\n",
              "<p>35868 rows × 4 columns</p>\n",
              "</div>\n",
              "      <button class=\"colab-df-convert\" onclick=\"convertToInteractive('df-5f29cee3-bfc7-4454-a564-7cbcb49b2c35')\"\n",
              "              title=\"Convert this dataframe to an interactive table.\"\n",
              "              style=\"display:none;\">\n",
              "        \n",
              "  <svg xmlns=\"http://www.w3.org/2000/svg\" height=\"24px\"viewBox=\"0 0 24 24\"\n",
              "       width=\"24px\">\n",
              "    <path d=\"M0 0h24v24H0V0z\" fill=\"none\"/>\n",
              "    <path d=\"M18.56 5.44l.94 2.06.94-2.06 2.06-.94-2.06-.94-.94-2.06-.94 2.06-2.06.94zm-11 1L8.5 8.5l.94-2.06 2.06-.94-2.06-.94L8.5 2.5l-.94 2.06-2.06.94zm10 10l.94 2.06.94-2.06 2.06-.94-2.06-.94-.94-2.06-.94 2.06-2.06.94z\"/><path d=\"M17.41 7.96l-1.37-1.37c-.4-.4-.92-.59-1.43-.59-.52 0-1.04.2-1.43.59L10.3 9.45l-7.72 7.72c-.78.78-.78 2.05 0 2.83L4 21.41c.39.39.9.59 1.41.59.51 0 1.02-.2 1.41-.59l7.78-7.78 2.81-2.81c.8-.78.8-2.07 0-2.86zM5.41 20L4 18.59l7.72-7.72 1.47 1.35L5.41 20z\"/>\n",
              "  </svg>\n",
              "      </button>\n",
              "      \n",
              "  <style>\n",
              "    .colab-df-container {\n",
              "      display:flex;\n",
              "      flex-wrap:wrap;\n",
              "      gap: 12px;\n",
              "    }\n",
              "\n",
              "    .colab-df-convert {\n",
              "      background-color: #E8F0FE;\n",
              "      border: none;\n",
              "      border-radius: 50%;\n",
              "      cursor: pointer;\n",
              "      display: none;\n",
              "      fill: #1967D2;\n",
              "      height: 32px;\n",
              "      padding: 0 0 0 0;\n",
              "      width: 32px;\n",
              "    }\n",
              "\n",
              "    .colab-df-convert:hover {\n",
              "      background-color: #E2EBFA;\n",
              "      box-shadow: 0px 1px 2px rgba(60, 64, 67, 0.3), 0px 1px 3px 1px rgba(60, 64, 67, 0.15);\n",
              "      fill: #174EA6;\n",
              "    }\n",
              "\n",
              "    [theme=dark] .colab-df-convert {\n",
              "      background-color: #3B4455;\n",
              "      fill: #D2E3FC;\n",
              "    }\n",
              "\n",
              "    [theme=dark] .colab-df-convert:hover {\n",
              "      background-color: #434B5C;\n",
              "      box-shadow: 0px 1px 3px 1px rgba(0, 0, 0, 0.15);\n",
              "      filter: drop-shadow(0px 1px 2px rgba(0, 0, 0, 0.3));\n",
              "      fill: #FFFFFF;\n",
              "    }\n",
              "  </style>\n",
              "\n",
              "      <script>\n",
              "        const buttonEl =\n",
              "          document.querySelector('#df-5f29cee3-bfc7-4454-a564-7cbcb49b2c35 button.colab-df-convert');\n",
              "        buttonEl.style.display =\n",
              "          google.colab.kernel.accessAllowed ? 'block' : 'none';\n",
              "\n",
              "        async function convertToInteractive(key) {\n",
              "          const element = document.querySelector('#df-5f29cee3-bfc7-4454-a564-7cbcb49b2c35');\n",
              "          const dataTable =\n",
              "            await google.colab.kernel.invokeFunction('convertToInteractive',\n",
              "                                                     [key], {});\n",
              "          if (!dataTable) return;\n",
              "\n",
              "          const docLinkHtml = 'Like what you see? Visit the ' +\n",
              "            '<a target=\"_blank\" href=https://colab.research.google.com/notebooks/data_table.ipynb>data table notebook</a>'\n",
              "            + ' to learn more about interactive tables.';\n",
              "          element.innerHTML = '';\n",
              "          dataTable['output_type'] = 'display_data';\n",
              "          await google.colab.output.renderOutput(dataTable, element);\n",
              "          const docLink = document.createElement('div');\n",
              "          docLink.innerHTML = docLinkHtml;\n",
              "          element.appendChild(docLink);\n",
              "        }\n",
              "      </script>\n",
              "    </div>\n",
              "  </div>\n",
              "  "
            ]
          },
          "metadata": {},
          "execution_count": 321
        }
      ]
    },
    {
      "cell_type": "markdown",
      "source": [
        "We can see no clue from other datetime fields to decide whether negative values for `Dispatch Time Delta` are invalid. So we leave it there."
      ],
      "metadata": {
        "id": "nkJTlJWjECBh"
      }
    },
    {
      "cell_type": "code",
      "source": [
        "print(df[df['Duration'] ==0].shape)\n",
        "print(df[(df['Duration'] ==0) | (df['Distance'] ==0)].shape)\n",
        "print(df[df['Transport Cost'] ==0].shape)\n",
        "print(df[(df['Transport Cost'] ==0) | (df['Driver Income'] ==0)].shape)\n",
        "print(df[(df['Transport Cost'] ==0) | (df['Duration'] ==0)].shape)"
      ],
      "metadata": {
        "colab": {
          "base_uri": "https://localhost:8080/"
        },
        "id": "iAw5b4ZYrJMy",
        "outputId": "b1e6f0ac-2d13-4fb6-a505-2a9f7c768588"
      },
      "execution_count": null,
      "outputs": [
        {
          "output_type": "stream",
          "name": "stdout",
          "text": [
            "(6841, 29)\n",
            "(6841, 29)\n",
            "(12895, 29)\n",
            "(12895, 29)\n",
            "(16355, 29)\n"
          ]
        }
      ]
    },
    {
      "cell_type": "code",
      "source": [
        "df[df['Distance'] ==0]['Load Status'].value_counts()"
      ],
      "metadata": {
        "colab": {
          "base_uri": "https://localhost:8080/"
        },
        "id": "b0BJhMHHCMaN",
        "outputId": "5861fa1e-95ff-4fe1-865a-7ab52be9a269"
      },
      "execution_count": null,
      "outputs": [
        {
          "output_type": "execute_result",
          "data": {
            "text/plain": [
              "reject_price    2961\n",
              "notfound        2749\n",
              "cancelled        915\n",
              "delivered        158\n",
              "pickedup          58\n",
              "Name: Load Status, dtype: int64"
            ]
          },
          "metadata": {},
          "execution_count": 323
        }
      ]
    },
    {
      "cell_type": "code",
      "source": [
        "df[df['Transport Cost'] == 0]['Load Status'].value_counts()"
      ],
      "metadata": {
        "colab": {
          "base_uri": "https://localhost:8080/"
        },
        "id": "6rNjA5ZlCjdT",
        "outputId": "4f7810a9-9131-4dde-9e09-6703bee50de5"
      },
      "execution_count": null,
      "outputs": [
        {
          "output_type": "execute_result",
          "data": {
            "text/plain": [
              "reject_price    10135\n",
              "notfound         2119\n",
              "cancelled         600\n",
              "delivered          26\n",
              "pickedup           15\n",
              "Name: Load Status, dtype: int64"
            ]
          },
          "metadata": {},
          "execution_count": 324
        }
      ]
    },
    {
      "cell_type": "markdown",
      "source": [
        "As we can see the pair of columns `Driver Income` and `Transport Cost` and the pair of `Distance` and `Duration` are zero at the same time.\n",
        "\n",
        "Dropping these rows almost cuts the dataset size in half. Taking such a decision is dependent on the analysis objective. For example, if the neccessary API is provided distance can be calculated based on source and destination points.\n",
        "\n",
        "For now, we drop such rows."
      ],
      "metadata": {
        "id": "gh1ovZeQGPua"
      }
    },
    {
      "cell_type": "code",
      "source": [
        "df.drop(df[(df['Transport Cost'] ==0) | (df['Duration'] ==0)].index, inplace=True)\n",
        "df.shape"
      ],
      "metadata": {
        "colab": {
          "base_uri": "https://localhost:8080/"
        },
        "id": "_OYp70hBC2-2",
        "outputId": "bcd6e2f8-c03e-467d-950b-c71fc2c00739"
      },
      "execution_count": null,
      "outputs": [
        {
          "output_type": "execute_result",
          "data": {
            "text/plain": [
              "(19513, 29)"
            ]
          },
          "metadata": {},
          "execution_count": 325
        }
      ]
    },
    {
      "cell_type": "markdown",
      "source": [
        "### Dealing with outliers"
      ],
      "metadata": {
        "id": "ULusxxzEH8pH"
      }
    },
    {
      "cell_type": "markdown",
      "source": [
        "As we stated before, there seems to be some odd large values for `Transport Cost'. Lets look closer."
      ],
      "metadata": {
        "id": "6Ijv6FUvIR6x"
      }
    },
    {
      "cell_type": "code",
      "source": [
        "df.boxplot(column=['Transport Cost'])"
      ],
      "metadata": {
        "colab": {
          "base_uri": "https://localhost:8080/"
        },
        "id": "9Xb_fu6IH55P",
        "outputId": "81089710-f9c9-4c80-9768-ac15b4fcfcfc"
      },
      "execution_count": null,
      "outputs": [
        {
          "output_type": "execute_result",
          "data": {
            "text/plain": [
              "<matplotlib.axes._subplots.AxesSubplot at 0x7f0a3d246710>"
            ]
          },
          "metadata": {},
          "execution_count": 326
        },
        {
          "output_type": "display_data",
          "data": {
            "text/plain": [
              "<Figure size 432x288 with 1 Axes>"
            ],
            "image/png": "[encoded data removed]"
          },
          "metadata": {}
        }
      ]
    },
    {
      "cell_type": "markdown",
      "source": [
        "Okay! Let's get rid of this really odd record!"
      ],
      "metadata": {
        "id": "oeNzI5nSIlPV"
      }
    },
    {
      "cell_type": "code",
      "source": [
        "df = df[df['Transport Cost'] < 1e10]\n"
      ],
      "metadata": {
        "id": "QdoHrd8XIf1o"
      },
      "execution_count": null,
      "outputs": []
    },
    {
      "cell_type": "code",
      "source": [
        "df.boxplot(column=['Transport Cost'])"
      ],
      "metadata": {
        "colab": {
          "base_uri": "https://localhost:8080/"
        },
        "id": "Z74SJ-SCJBG9",
        "outputId": "1ff6343a-4e96-4ced-febe-ec245bb1c709"
      },
      "execution_count": null,
      "outputs": [
        {
          "output_type": "execute_result",
          "data": {
            "text/plain": [
              "<matplotlib.axes._subplots.AxesSubplot at 0x7f0a3d1b2d10>"
            ]
          },
          "metadata": {},
          "execution_count": 328
        },
        {
          "output_type": "display_data",
          "data": {
            "text/plain": [
              "<Figure size 432x288 with 1 Axes>"
            ],
            "image/png": "[encoded data removed]"
          },
          "metadata": {}
        }
      ]
    },
    {
      "cell_type": "markdown",
      "source": [
        "Still there are some outliers. Let's go more aggressive."
      ],
      "metadata": {
        "id": "8UmCsToIJWQk"
      }
    },
    {
      "cell_type": "code",
      "source": [
        "col = ['Transport Cost']\n",
        "Q1 = df[col].quantile(0.1)  # Find first quantile range\n",
        "Q4 = df[col].quantile(0.9)  # and 5th quantile range\n",
        "IQR = Q4 - Q1\n",
        "df = df[~((df[col] < (Q1 - 1.5 * IQR)) |(df[col] > (Q4 + 1.5 * IQR))).any(axis=1)]"
      ],
      "metadata": {
        "id": "L1OqzzRhJCZJ"
      },
      "execution_count": null,
      "outputs": []
    },
    {
      "cell_type": "code",
      "source": [
        "df.boxplot(column=['Transport Cost', 'Driver Income'])"
      ],
      "metadata": {
        "colab": {
          "base_uri": "https://localhost:8080/"
        },
        "id": "FL7NGdtcJlRr",
        "outputId": "7a09bffd-119d-4c35-d20a-e9bd374f8e53"
      },
      "execution_count": null,
      "outputs": [
        {
          "output_type": "execute_result",
          "data": {
            "text/plain": [
              "<matplotlib.axes._subplots.AxesSubplot at 0x7f0a3d15a050>"
            ]
          },
          "metadata": {},
          "execution_count": 330
        },
        {
          "output_type": "display_data",
          "data": {
            "text/plain": [
              "<Figure size 432x288 with 1 Axes>"
            ],
            "image/png": "[encoded data removed]"
          },
          "metadata": {}
        }
      ]
    },
    {
      "cell_type": "code",
      "source": [
        "df.boxplot(column=['Distance'])\n"
      ],
      "metadata": {
        "colab": {
          "base_uri": "https://localhost:8080/"
        },
        "id": "bj7KXAmdJndh",
        "outputId": "d4d6c884-e9e5-46f7-bdea-0414448add82"
      },
      "execution_count": null,
      "outputs": [
        {
          "output_type": "execute_result",
          "data": {
            "text/plain": [
              "<matplotlib.axes._subplots.AxesSubplot at 0x7f0a3cc22150>"
            ]
          },
          "metadata": {},
          "execution_count": 331
        },
        {
          "output_type": "display_data",
          "data": {
            "text/plain": [
              "<Figure size 432x288 with 1 Axes>"
            ],
            "image/png": "[encoded data removed]"
          },
          "metadata": {}
        }
      ]
    },
    {
      "cell_type": "markdown",
      "source": [
        "Now things look okay!"
      ],
      "metadata": {
        "id": "uzAT_D9qKuUk"
      }
    },
    {
      "cell_type": "markdown",
      "source": [
        "## Data Preproccessing"
      ],
      "metadata": {
        "id": "WCYhBFkIK1QK"
      }
    },
    {
      "cell_type": "code",
      "source": [
        "df.columns"
      ],
      "metadata": {
        "colab": {
          "base_uri": "https://localhost:8080/"
        },
        "id": "EN3QJva3L5Og",
        "outputId": "53b0688c-1cb5-4d80-d15e-3982d260a42f"
      },
      "execution_count": null,
      "outputs": [
        {
          "output_type": "execute_result",
          "data": {
            "text/plain": [
              "Index(['Load Type', 'Source City', 'Destination City', 'Source State',\n",
              "       'Destination State', 'Source Region', 'Destination Region',\n",
              "       'Who Added Role', 'Driver Income', 'Weight', 'Distance', 'Duration',\n",
              "       'Vehicle Type', 'Vehicle Options', 'Baarnameh Type', 'Transport Cost',\n",
              "       'Dispatch Date', 'Dipatch Time', 'Source Lat', 'Source Lng',\n",
              "       'Destination Lat', 'Destination Lng', 'Dispatch Time Delta',\n",
              "       'Order Channel', 'Packaging Type', 'Creation Datetime', 'Unload Option',\n",
              "       'Has Comments', 'Load Status'],\n",
              "      dtype='object')"
            ]
          },
          "metadata": {},
          "execution_count": 332
        }
      ]
    },
    {
      "cell_type": "markdown",
      "source": [
        "DateTime columns!"
      ],
      "metadata": {
        "id": "KLwtjsxSNdSz"
      }
    },
    {
      "cell_type": "code",
      "source": [
        "!pip install jdatetime\n",
        "\n",
        "df['Creation Datetime'] = pd.to_datetime(df['Creation Datetime'])\n",
        "\n",
        "import jdatetime as jdt\n",
        "def read_dispatch_datetime(x):\n",
        "  t = x['Dipatch Time']\n",
        "  if len(t) < 8:\n",
        "    t = '0' + t\n",
        "  return jdt.datetime.strptime(x['Dispatch Date'] + 'T' + t, \"%Y-%m-%dT%H:%M:%S\").togregorian()\n",
        "\n",
        "df['Dispatch Datetime'] = df.apply(read_dispatch_datetime, axis=1)"
      ],
      "metadata": {
        "colab": {
          "base_uri": "https://localhost:8080/"
        },
        "id": "VVE82Va-NMCC",
        "outputId": "07dfea66-7b7d-4fbb-e494-2aa0770ba931"
      },
      "execution_count": null,
      "outputs": [
        {
          "output_type": "stream",
          "name": "stdout",
          "text": [
            "Looking in indexes: https://pypi.org/simple, https://us-python.pkg.dev/colab-wheels/public/simple/\n",
            "Requirement already satisfied: jdatetime in /usr/local/lib/python3.7/dist-packages (4.1.0)\n"
          ]
        }
      ]
    },
    {
      "cell_type": "code",
      "source": [
        "df[['Creation Datetime', 'Dispatch Datetime']].head()"
      ],
      "metadata": {
        "colab": {
          "base_uri": "https://localhost:8080/"
        },
        "id": "LQE07scdRgXb",
        "outputId": "513596e4-a4e5-4299-ea5b-0ee391edee3e"
      },
      "execution_count": null,
      "outputs": [
        {
          "output_type": "execute_result",
          "data": {
            "text/plain": [
              "                  Creation Datetime   Dispatch Datetime\n",
              "8  2019-10-15 07:35:48.686186+00:00 2019-10-15 11:30:00\n",
              "9  2019-10-24 13:12:40.461622+00:00 2019-10-26 08:00:00\n",
              "14 2019-11-02 07:24:31.415289+00:00 2019-11-02 15:00:00\n",
              "16 2019-11-16 16:46:24.042161+00:00 2019-11-16 22:00:00\n",
              "17 2019-12-11 11:14:22.545866+00:00 2019-12-12 04:00:00"
            ],
            "text/html": [
              "\n",
              "  <div id=\"df-d9c6c7f7-e953-492e-ab12-de5508552bdc\">\n",
              "    <div class=\"colab-df-container\">\n",
              "      <div>\n",
              "<style scoped>\n",
              "    .dataframe tbody tr th:only-of-type {\n",
              "        vertical-align: middle;\n",
              "    }\n",
              "\n",
              "    .dataframe tbody tr th {\n",
              "        vertical-align: top;\n",
              "    }\n",
              "\n",
              "    .dataframe thead th {\n",
              "        text-align: right;\n",
              "    }\n",
              "</style>\n",
              "<table border=\"1\" class=\"dataframe\">\n",
              "  <thead>\n",
              "    <tr style=\"text-align: right;\">\n",
              "      <th></th>\n",
              "      <th>Creation Datetime</th>\n",
              "      <th>Dispatch Datetime</th>\n",
              "    </tr>\n",
              "  </thead>\n",
              "  <tbody>\n",
              "    <tr>\n",
              "      <th>8</th>\n",
              "      <td>2019-10-15 07:35:48.686186+00:00</td>\n",
              "      <td>2019-10-15 11:30:00</td>\n",
              "    </tr>\n",
              "    <tr>\n",
              "      <th>9</th>\n",
              "      <td>2019-10-24 13:12:40.461622+00:00</td>\n",
              "      <td>2019-10-26 08:00:00</td>\n",
              "    </tr>\n",
              "    <tr>\n",
              "      <th>14</th>\n",
              "      <td>2019-11-02 07:24:31.415289+00:00</td>\n",
              "      <td>2019-11-02 15:00:00</td>\n",
              "    </tr>\n",
              "    <tr>\n",
              "      <th>16</th>\n",
              "      <td>2019-11-16 16:46:24.042161+00:00</td>\n",
              "      <td>2019-11-16 22:00:00</td>\n",
              "    </tr>\n",
              "    <tr>\n",
              "      <th>17</th>\n",
              "      <td>2019-12-11 11:14:22.545866+00:00</td>\n",
              "      <td>2019-12-12 04:00:00</td>\n",
              "    </tr>\n",
              "  </tbody>\n",
              "</table>\n",
              "</div>\n",
              "      <button class=\"colab-df-convert\" onclick=\"convertToInteractive('df-d9c6c7f7-e953-492e-ab12-de5508552bdc')\"\n",
              "              title=\"Convert this dataframe to an interactive table.\"\n",
              "              style=\"display:none;\">\n",
              "        \n",
              "  <svg xmlns=\"http://www.w3.org/2000/svg\" height=\"24px\"viewBox=\"0 0 24 24\"\n",
              "       width=\"24px\">\n",
              "    <path d=\"M0 0h24v24H0V0z\" fill=\"none\"/>\n",
              "    <path d=\"M18.56 5.44l.94 2.06.94-2.06 2.06-.94-2.06-.94-.94-2.06-.94 2.06-2.06.94zm-11 1L8.5 8.5l.94-2.06 2.06-.94-2.06-.94L8.5 2.5l-.94 2.06-2.06.94zm10 10l.94 2.06.94-2.06 2.06-.94-2.06-.94-.94-2.06-.94 2.06-2.06.94z\"/><path d=\"M17.41 7.96l-1.37-1.37c-.4-.4-.92-.59-1.43-.59-.52 0-1.04.2-1.43.59L10.3 9.45l-7.72 7.72c-.78.78-.78 2.05 0 2.83L4 21.41c.39.39.9.59 1.41.59.51 0 1.02-.2 1.41-.59l7.78-7.78 2.81-2.81c.8-.78.8-2.07 0-2.86zM5.41 20L4 18.59l7.72-7.72 1.47 1.35L5.41 20z\"/>\n",
              "  </svg>\n",
              "      </button>\n",
              "      \n",
              "  <style>\n",
              "    .colab-df-container {\n",
              "      display:flex;\n",
              "      flex-wrap:wrap;\n",
              "      gap: 12px;\n",
              "    }\n",
              "\n",
              "    .colab-df-convert {\n",
              "      background-color: #E8F0FE;\n",
              "      border: none;\n",
              "      border-radius: 50%;\n",
              "      cursor: pointer;\n",
              "      display: none;\n",
              "      fill: #1967D2;\n",
              "      height: 32px;\n",
              "      padding: 0 0 0 0;\n",
              "      width: 32px;\n",
              "    }\n",
              "\n",
              "    .colab-df-convert:hover {\n",
              "      background-color: #E2EBFA;\n",
              "      box-shadow: 0px 1px 2px rgba(60, 64, 67, 0.3), 0px 1px 3px 1px rgba(60, 64, 67, 0.15);\n",
              "      fill: #174EA6;\n",
              "    }\n",
              "\n",
              "    [theme=dark] .colab-df-convert {\n",
              "      background-color: #3B4455;\n",
              "      fill: #D2E3FC;\n",
              "    }\n",
              "\n",
              "    [theme=dark] .colab-df-convert:hover {\n",
              "      background-color: #434B5C;\n",
              "      box-shadow: 0px 1px 3px 1px rgba(0, 0, 0, 0.15);\n",
              "      filter: drop-shadow(0px 1px 2px rgba(0, 0, 0, 0.3));\n",
              "      fill: #FFFFFF;\n",
              "    }\n",
              "  </style>\n",
              "\n",
              "      <script>\n",
              "        const buttonEl =\n",
              "          document.querySelector('#df-d9c6c7f7-e953-492e-ab12-de5508552bdc button.colab-df-convert');\n",
              "        buttonEl.style.display =\n",
              "          google.colab.kernel.accessAllowed ? 'block' : 'none';\n",
              "\n",
              "        async function convertToInteractive(key) {\n",
              "          const element = document.querySelector('#df-d9c6c7f7-e953-492e-ab12-de5508552bdc');\n",
              "          const dataTable =\n",
              "            await google.colab.kernel.invokeFunction('convertToInteractive',\n",
              "                                                     [key], {});\n",
              "          if (!dataTable) return;\n",
              "\n",
              "          const docLinkHtml = 'Like what you see? Visit the ' +\n",
              "            '<a target=\"_blank\" href=https://colab.research.google.com/notebooks/data_table.ipynb>data table notebook</a>'\n",
              "            + ' to learn more about interactive tables.';\n",
              "          element.innerHTML = '';\n",
              "          dataTable['output_type'] = 'display_data';\n",
              "          await google.colab.output.renderOutput(dataTable, element);\n",
              "          const docLink = document.createElement('div');\n",
              "          docLink.innerHTML = docLinkHtml;\n",
              "          element.appendChild(docLink);\n",
              "        }\n",
              "      </script>\n",
              "    </div>\n",
              "  </div>\n",
              "  "
            ]
          },
          "metadata": {},
          "execution_count": 334
        }
      ]
    },
    {
      "cell_type": "code",
      "source": [
        "df.info()"
      ],
      "metadata": {
        "colab": {
          "base_uri": "https://localhost:8080/"
        },
        "id": "695RBJqdvf_y",
        "outputId": "f2df1708-5264-44ff-f75a-c1a619ab46a5"
      },
      "execution_count": null,
      "outputs": [
        {
          "output_type": "stream",
          "name": "stdout",
          "text": [
            "<class 'pandas.core.frame.DataFrame'>\n",
            "Int64Index: 19455 entries, 8 to 44050\n",
            "Data columns (total 30 columns):\n",
            " #   Column               Non-Null Count  Dtype              \n",
            "---  ------               --------------  -----              \n",
            " 0   Load Type            19455 non-null  object             \n",
            " 1   Source City          19455 non-null  object             \n",
            " 2   Destination City     19455 non-null  object             \n",
            " 3   Source State         19455 non-null  object             \n",
            " 4   Destination State    19455 non-null  object             \n",
            " 5   Source Region        19455 non-null  object             \n",
            " 6   Destination Region   19455 non-null  object             \n",
            " 7   Who Added Role       19455 non-null  object             \n",
            " 8   Driver Income        19455 non-null  float64            \n",
            " 9   Weight               19455 non-null  float64            \n",
            " 10  Distance             19455 non-null  float64            \n",
            " 11  Duration             19455 non-null  float64            \n",
            " 12  Vehicle Type         19455 non-null  object             \n",
            " 13  Vehicle Options      19455 non-null  object             \n",
            " 14  Baarnameh Type       19455 non-null  object             \n",
            " 15  Transport Cost       19455 non-null  float64            \n",
            " 16  Dispatch Date        19455 non-null  object             \n",
            " 17  Dipatch Time         19455 non-null  object             \n",
            " 18  Source Lat           19455 non-null  float64            \n",
            " 19  Source Lng           19455 non-null  float64            \n",
            " 20  Destination Lat      19455 non-null  float64            \n",
            " 21  Destination Lng      19455 non-null  float64            \n",
            " 22  Dispatch Time Delta  19455 non-null  float64            \n",
            " 23  Order Channel        19455 non-null  object             \n",
            " 24  Packaging Type       19455 non-null  object             \n",
            " 25  Creation Datetime    19455 non-null  datetime64[ns, UTC]\n",
            " 26  Unload Option        19455 non-null  object             \n",
            " 27  Has Comments         19455 non-null  int64              \n",
            " 28  Load Status          19455 non-null  object             \n",
            " 29  Dispatch Datetime    19455 non-null  datetime64[ns]     \n",
            "dtypes: datetime64[ns, UTC](1), datetime64[ns](1), float64(10), int64(1), object(17)\n",
            "memory usage: 4.6+ MB\n"
          ]
        }
      ]
    },
    {
      "cell_type": "markdown",
      "source": [
        "# Feature Engineering"
      ],
      "metadata": {
        "id": "Qjq5TTekgQ3s"
      }
    },
    {
      "cell_type": "markdown",
      "source": [
        "## Feture Construction/Extraction"
      ],
      "metadata": {
        "id": "ljLkU7g_gU5V"
      }
    },
    {
      "cell_type": "markdown",
      "source": [
        "### Combining columns\n",
        "\n",
        "We have lat/lng values from source and destination. We can use them to calculate geodesic distance between source and destination. We utilize `geopy` package."
      ],
      "metadata": {
        "id": "zfSKKPoigzcK"
      }
    },
    {
      "cell_type": "code",
      "source": [
        "!pip install geopy\n",
        "from geopy import distance\n",
        "\n",
        "\n",
        "def geo_distance(input_df):\n",
        "  return distance.distance(\n",
        "      (input_df['Source Lat'], input_df['Source Lng']),\n",
        "      (input_df['Destination Lat'], input_df['Destination Lng'])\n",
        "  ).km\n",
        "\n",
        "df['Geo Distance'] = df.apply(geo_distance, axis=1)"
      ],
      "metadata": {
        "colab": {
          "base_uri": "https://localhost:8080/"
        },
        "id": "LttOALAfgeDd",
        "outputId": "b814f628-a60d-47c2-d76a-4809a5e540ed"
      },
      "execution_count": null,
      "outputs": [
        {
          "output_type": "stream",
          "name": "stdout",
          "text": [
            "Looking in indexes: https://pypi.org/simple, https://us-python.pkg.dev/colab-wheels/public/simple/\n",
            "Requirement already satisfied: geopy in /usr/local/lib/python3.7/dist-packages (1.17.0)\n",
            "Requirement already satisfied: geographiclib<2,>=1.49 in /usr/local/lib/python3.7/dist-packages (from geopy) (1.52)\n"
          ]
        }
      ]
    },
    {
      "cell_type": "code",
      "source": [
        "df['Geo Distance'].plot.box()"
      ],
      "metadata": {
        "colab": {
          "base_uri": "https://localhost:8080/"
        },
        "id": "OH3EtsVCiQps",
        "outputId": "ee4cfa7f-97f4-410c-ae5b-17a7c4d86327"
      },
      "execution_count": null,
      "outputs": [
        {
          "output_type": "execute_result",
          "data": {
            "text/plain": [
              "<matplotlib.axes._subplots.AxesSubplot at 0x7f0a3d5fd9d0>"
            ]
          },
          "metadata": {},
          "execution_count": 337
        },
        {
          "output_type": "display_data",
          "data": {
            "text/plain": [
              "<Figure size 432x288 with 1 Axes>"
            ],
            "image/png": "[encoded data removed]"
          },
          "metadata": {}
        }
      ]
    },
    {
      "cell_type": "markdown",
      "source": [
        "Now let's combine vehicle type and packaging type"
      ],
      "metadata": {
        "id": "OGTYnGs5ixCs"
      }
    },
    {
      "cell_type": "code",
      "source": [
        "df['Vehicle/Packaging Type'] = df[['Vehicle Type', 'Packaging Type']].agg('_'.join, axis=1)\n",
        "df['Vehicle/Packaging Type'].value_counts()[:10]"
      ],
      "metadata": {
        "colab": {
          "base_uri": "https://localhost:8080/"
        },
        "id": "2FHwmTV3iXgr",
        "outputId": "707989f2-9ddc-43c6-888d-604d442d5410"
      },
      "execution_count": null,
      "outputs": [
        {
          "output_type": "execute_result",
          "data": {
            "text/plain": [
              "khavar_karton         2695\n",
              "nissan_hichkodam      2091\n",
              "khavar_hichkodam      1667\n",
              "nissan_karton         1280\n",
              "treili_falleh         1027\n",
              "treili_pallet          949\n",
              "treili_hichkodam       778\n",
              "khavar_kiseh_gooni     731\n",
              "joft_falleh            670\n",
              "tak_hichkodam          653\n",
              "Name: Vehicle/Packaging Type, dtype: int64"
            ]
          },
          "metadata": {},
          "execution_count": 338
        }
      ]
    },
    {
      "cell_type": "markdown",
      "source": [
        "### Splitting Columns"
      ],
      "metadata": {
        "id": "LUIKZ1F5k_Jp"
      }
    },
    {
      "cell_type": "markdown",
      "source": [
        "Split creation datetime"
      ],
      "metadata": {
        "id": "MVqQweZKlFGx"
      }
    },
    {
      "cell_type": "code",
      "source": [
        "# Now, let's breake the dates into several different columns\n",
        "df['CYear'] = df['Creation Datetime'].dt.year\n",
        "df['CMonth'] = df['Creation Datetime'].dt.month\n",
        "df['CDay'] = df['Creation Datetime'].dt.day\n",
        "df['CSeason'] = df['Creation Datetime'].dt.quarter\n",
        "df['CDay_of_Week'] = df['Creation Datetime'].dt.dayofweek    # Monday=0, Sunday=6\n",
        "\n",
        "# Let's convert the date into numerical value\n",
        "df['CTimestamp'] = df['Creation Datetime'].astype('int64') // 10**9    # Convert date to timestamp (an integer)\n",
        "\n",
        "df[['Creation Datetime','CYear','CMonth','CDay','CDay_of_Week','CSeason','CTimestamp']].head()"
      ],
      "metadata": {
        "colab": {
          "base_uri": "https://localhost:8080/"
        },
        "id": "K1hDzjt_lIX8",
        "outputId": "aab03f61-1475-4ae6-86d3-21ef88e6c01f"
      },
      "execution_count": null,
      "outputs": [
        {
          "output_type": "stream",
          "name": "stderr",
          "text": [
            "/usr/local/lib/python3.7/dist-packages/ipykernel_launcher.py:9: FutureWarning: casting datetime64[ns, UTC] values to int64 with .astype(...) is deprecated and will raise in a future version. Use .view(...) instead.\n",
            "  if __name__ == '__main__':\n"
          ]
        },
        {
          "output_type": "execute_result",
          "data": {
            "text/plain": [
              "                  Creation Datetime  CYear  CMonth  CDay  CDay_of_Week  \\\n",
              "8  2019-10-15 07:35:48.686186+00:00   2019      10    15             1   \n",
              "9  2019-10-24 13:12:40.461622+00:00   2019      10    24             3   \n",
              "14 2019-11-02 07:24:31.415289+00:00   2019      11     2             5   \n",
              "16 2019-11-16 16:46:24.042161+00:00   2019      11    16             5   \n",
              "17 2019-12-11 11:14:22.545866+00:00   2019      12    11             2   \n",
              "\n",
              "    CSeason  CTimestamp  \n",
              "8         4  1571124948  \n",
              "9         4  1571922760  \n",
              "14        4  1572679471  \n",
              "16        4  1573922784  \n",
              "17        4  1576062862  "
            ],
            "text/html": [
              "\n",
              "  <div id=\"df-4eedc0b7-c83c-4492-943a-4cfc7d33612d\">\n",
              "    <div class=\"colab-df-container\">\n",
              "      <div>\n",
              "<style scoped>\n",
              "    .dataframe tbody tr th:only-of-type {\n",
              "        vertical-align: middle;\n",
              "    }\n",
              "\n",
              "    .dataframe tbody tr th {\n",
              "        vertical-align: top;\n",
              "    }\n",
              "\n",
              "    .dataframe thead th {\n",
              "        text-align: right;\n",
              "    }\n",
              "</style>\n",
              "<table border=\"1\" class=\"dataframe\">\n",
              "  <thead>\n",
              "    <tr style=\"text-align: right;\">\n",
              "      <th></th>\n",
              "      <th>Creation Datetime</th>\n",
              "      <th>CYear</th>\n",
              "      <th>CMonth</th>\n",
              "      <th>CDay</th>\n",
              "      <th>CDay_of_Week</th>\n",
              "      <th>CSeason</th>\n",
              "      <th>CTimestamp</th>\n",
              "    </tr>\n",
              "  </thead>\n",
              "  <tbody>\n",
              "    <tr>\n",
              "      <th>8</th>\n",
              "      <td>2019-10-15 07:35:48.686186+00:00</td>\n",
              "      <td>2019</td>\n",
              "      <td>10</td>\n",
              "      <td>15</td>\n",
              "      <td>1</td>\n",
              "      <td>4</td>\n",
              "      <td>1571124948</td>\n",
              "    </tr>\n",
              "    <tr>\n",
              "      <th>9</th>\n",
              "      <td>2019-10-24 13:12:40.461622+00:00</td>\n",
              "      <td>2019</td>\n",
              "      <td>10</td>\n",
              "      <td>24</td>\n",
              "      <td>3</td>\n",
              "      <td>4</td>\n",
              "      <td>1571922760</td>\n",
              "    </tr>\n",
              "    <tr>\n",
              "      <th>14</th>\n",
              "      <td>2019-11-02 07:24:31.415289+00:00</td>\n",
              "      <td>2019</td>\n",
              "      <td>11</td>\n",
              "      <td>2</td>\n",
              "      <td>5</td>\n",
              "      <td>4</td>\n",
              "      <td>1572679471</td>\n",
              "    </tr>\n",
              "    <tr>\n",
              "      <th>16</th>\n",
              "      <td>2019-11-16 16:46:24.042161+00:00</td>\n",
              "      <td>2019</td>\n",
              "      <td>11</td>\n",
              "      <td>16</td>\n",
              "      <td>5</td>\n",
              "      <td>4</td>\n",
              "      <td>1573922784</td>\n",
              "    </tr>\n",
              "    <tr>\n",
              "      <th>17</th>\n",
              "      <td>2019-12-11 11:14:22.545866+00:00</td>\n",
              "      <td>2019</td>\n",
              "      <td>12</td>\n",
              "      <td>11</td>\n",
              "      <td>2</td>\n",
              "      <td>4</td>\n",
              "      <td>1576062862</td>\n",
              "    </tr>\n",
              "  </tbody>\n",
              "</table>\n",
              "</div>\n",
              "      <button class=\"colab-df-convert\" onclick=\"convertToInteractive('df-4eedc0b7-c83c-4492-943a-4cfc7d33612d')\"\n",
              "              title=\"Convert this dataframe to an interactive table.\"\n",
              "              style=\"display:none;\">\n",
              "        \n",
              "  <svg xmlns=\"http://www.w3.org/2000/svg\" height=\"24px\"viewBox=\"0 0 24 24\"\n",
              "       width=\"24px\">\n",
              "    <path d=\"M0 0h24v24H0V0z\" fill=\"none\"/>\n",
              "    <path d=\"M18.56 5.44l.94 2.06.94-2.06 2.06-.94-2.06-.94-.94-2.06-.94 2.06-2.06.94zm-11 1L8.5 8.5l.94-2.06 2.06-.94-2.06-.94L8.5 2.5l-.94 2.06-2.06.94zm10 10l.94 2.06.94-2.06 2.06-.94-2.06-.94-.94-2.06-.94 2.06-2.06.94z\"/><path d=\"M17.41 7.96l-1.37-1.37c-.4-.4-.92-.59-1.43-.59-.52 0-1.04.2-1.43.59L10.3 9.45l-7.72 7.72c-.78.78-.78 2.05 0 2.83L4 21.41c.39.39.9.59 1.41.59.51 0 1.02-.2 1.41-.59l7.78-7.78 2.81-2.81c.8-.78.8-2.07 0-2.86zM5.41 20L4 18.59l7.72-7.72 1.47 1.35L5.41 20z\"/>\n",
              "  </svg>\n",
              "      </button>\n",
              "      \n",
              "  <style>\n",
              "    .colab-df-container {\n",
              "      display:flex;\n",
              "      flex-wrap:wrap;\n",
              "      gap: 12px;\n",
              "    }\n",
              "\n",
              "    .colab-df-convert {\n",
              "      background-color: #E8F0FE;\n",
              "      border: none;\n",
              "      border-radius: 50%;\n",
              "      cursor: pointer;\n",
              "      display: none;\n",
              "      fill: #1967D2;\n",
              "      height: 32px;\n",
              "      padding: 0 0 0 0;\n",
              "      width: 32px;\n",
              "    }\n",
              "\n",
              "    .colab-df-convert:hover {\n",
              "      background-color: #E2EBFA;\n",
              "      box-shadow: 0px 1px 2px rgba(60, 64, 67, 0.3), 0px 1px 3px 1px rgba(60, 64, 67, 0.15);\n",
              "      fill: #174EA6;\n",
              "    }\n",
              "\n",
              "    [theme=dark] .colab-df-convert {\n",
              "      background-color: #3B4455;\n",
              "      fill: #D2E3FC;\n",
              "    }\n",
              "\n",
              "    [theme=dark] .colab-df-convert:hover {\n",
              "      background-color: #434B5C;\n",
              "      box-shadow: 0px 1px 3px 1px rgba(0, 0, 0, 0.15);\n",
              "      filter: drop-shadow(0px 1px 2px rgba(0, 0, 0, 0.3));\n",
              "      fill: #FFFFFF;\n",
              "    }\n",
              "  </style>\n",
              "\n",
              "      <script>\n",
              "        const buttonEl =\n",
              "          document.querySelector('#df-4eedc0b7-c83c-4492-943a-4cfc7d33612d button.colab-df-convert');\n",
              "        buttonEl.style.display =\n",
              "          google.colab.kernel.accessAllowed ? 'block' : 'none';\n",
              "\n",
              "        async function convertToInteractive(key) {\n",
              "          const element = document.querySelector('#df-4eedc0b7-c83c-4492-943a-4cfc7d33612d');\n",
              "          const dataTable =\n",
              "            await google.colab.kernel.invokeFunction('convertToInteractive',\n",
              "                                                     [key], {});\n",
              "          if (!dataTable) return;\n",
              "\n",
              "          const docLinkHtml = 'Like what you see? Visit the ' +\n",
              "            '<a target=\"_blank\" href=https://colab.research.google.com/notebooks/data_table.ipynb>data table notebook</a>'\n",
              "            + ' to learn more about interactive tables.';\n",
              "          element.innerHTML = '';\n",
              "          dataTable['output_type'] = 'display_data';\n",
              "          await google.colab.output.renderOutput(dataTable, element);\n",
              "          const docLink = document.createElement('div');\n",
              "          docLink.innerHTML = docLinkHtml;\n",
              "          element.appendChild(docLink);\n",
              "        }\n",
              "      </script>\n",
              "    </div>\n",
              "  </div>\n",
              "  "
            ]
          },
          "metadata": {},
          "execution_count": 339
        }
      ]
    },
    {
      "cell_type": "markdown",
      "source": [
        "### Ratio"
      ],
      "metadata": {
        "id": "JdgjoRjdvLqP"
      }
    },
    {
      "cell_type": "markdown",
      "source": [
        "Income by distance"
      ],
      "metadata": {
        "id": "TPPij2f7vRJa"
      }
    },
    {
      "cell_type": "code",
      "source": [
        "df['Duration_per_KM'] = df['Duration'] / df['Distance']"
      ],
      "metadata": {
        "id": "l1vo7aaJjLxA"
      },
      "execution_count": null,
      "outputs": []
    },
    {
      "cell_type": "markdown",
      "source": [
        "We can investigate if the duration per KM has changed over time."
      ],
      "metadata": {
        "id": "EvA68qvbmXgv"
      }
    },
    {
      "cell_type": "code",
      "source": [
        "df.plot(kind = 'scatter', y='Duration_per_KM',x='Creation Datetime',figsize=(12,6), s=40)"
      ],
      "metadata": {
        "colab": {
          "base_uri": "https://localhost:8080/"
        },
        "id": "ER3KGDkmvnFN",
        "outputId": "83ced386-67fd-4664-bee3-b4228120cbd3"
      },
      "execution_count": null,
      "outputs": [
        {
          "output_type": "stream",
          "name": "stderr",
          "text": [
            "WARNING:matplotlib.axes._axes:*c* argument looks like a single numeric RGB or RGBA sequence, which should be avoided as value-mapping will have precedence in case its length matches with *x* & *y*.  Please use the *color* keyword-argument or provide a 2-D array with a single row if you intend to specify the same RGB or RGBA value for all points.\n"
          ]
        },
        {
          "output_type": "execute_result",
          "data": {
            "text/plain": [
              "<matplotlib.axes._subplots.AxesSubplot at 0x7f0a3cdf6750>"
            ]
          },
          "metadata": {},
          "execution_count": 341
        },
        {
          "output_type": "display_data",
          "data": {
            "text/plain": [
              "<Figure size 864x432 with 1 Axes>"
            ],
            "image/png": "[encoded data removed]"
          },
          "metadata": {}
        }
      ]
    },
    {
      "cell_type": "markdown",
      "source": [
        "As we can see the time window of the data is narrow and not much relation with can be identified. Let's see its relation with weight."
      ],
      "metadata": {
        "id": "T0lH0dEJmkFh"
      }
    },
    {
      "cell_type": "code",
      "source": [
        "df.plot(kind = 'scatter', y='Duration_per_KM',x='Weight',figsize=(12,6), s=40)"
      ],
      "metadata": {
        "id": "-_uTwOUlwHN3",
        "colab": {
          "base_uri": "https://localhost:8080/"
        },
        "outputId": "ab64e6e3-0578-4300-d728-2acc68131a97"
      },
      "execution_count": null,
      "outputs": [
        {
          "output_type": "stream",
          "name": "stderr",
          "text": [
            "WARNING:matplotlib.axes._axes:*c* argument looks like a single numeric RGB or RGBA sequence, which should be avoided as value-mapping will have precedence in case its length matches with *x* & *y*.  Please use the *color* keyword-argument or provide a 2-D array with a single row if you intend to specify the same RGB or RGBA value for all points.\n"
          ]
        },
        {
          "output_type": "execute_result",
          "data": {
            "text/plain": [
              "<matplotlib.axes._subplots.AxesSubplot at 0x7f0a3c414f90>"
            ]
          },
          "metadata": {},
          "execution_count": 342
        },
        {
          "output_type": "display_data",
          "data": {
            "text/plain": [
              "<Figure size 864x432 with 1 Axes>"
            ],
            "image/png": "[encoded data removed]"
          },
          "metadata": {}
        }
      ]
    },
    {
      "cell_type": "markdown",
      "source": [
        "### Bining"
      ],
      "metadata": {
        "id": "N2LP3yXynJ_2"
      }
    },
    {
      "cell_type": "markdown",
      "source": [
        "As we can see in the figure above, values from weight column are somehow discrete. Therefore, its a good choice for binning."
      ],
      "metadata": {
        "id": "GWaBjbCTpogT"
      }
    },
    {
      "cell_type": "code",
      "source": [
        "no_bins = 10\n",
        "bin_step = int((df['Weight'].max() - df['Weight'].min())/no_bins)\n",
        "bins = np.arange(int(df['Weight'].min()), int(df['Weight'].max()) + 1, bin_step)\n",
        "labels = np.arange(1,len(bins))\n",
        "df['Binned_Weight'] = pd.cut(df['Weight'], bins=bins, labels=labels)\n"
      ],
      "metadata": {
        "id": "6cR_Bl7Ym1UX"
      },
      "execution_count": null,
      "outputs": []
    },
    {
      "cell_type": "code",
      "source": [
        "df['Binned_Weight'].hist(figsize=(10,5))"
      ],
      "metadata": {
        "colab": {
          "base_uri": "https://localhost:8080/"
        },
        "id": "txdVbDAYqM0e",
        "outputId": "4a7139c5-35c7-45bc-89ce-70dd39b2ec0a"
      },
      "execution_count": null,
      "outputs": [
        {
          "output_type": "execute_result",
          "data": {
            "text/plain": [
              "<matplotlib.axes._subplots.AxesSubplot at 0x7f0a388f3710>"
            ]
          },
          "metadata": {},
          "execution_count": 344
        },
        {
          "output_type": "display_data",
          "data": {
            "text/plain": [
              "<Figure size 720x360 with 1 Axes>"
            ],
            "image/png": "[encoded data removed]"
          },
          "metadata": {}
        }
      ]
    },
    {
      "cell_type": "markdown",
      "source": [
        "### Mathematical Function of a Column"
      ],
      "metadata": {
        "id": "WvFrfUYBq7qq"
      }
    },
    {
      "cell_type": "markdown",
      "source": [
        "We have removed outliers. Here let's visualize relations between important numerical attributes."
      ],
      "metadata": {
        "id": "LWdBwihCq96l"
      }
    },
    {
      "cell_type": "code",
      "source": [
        "# Create two subplots\n",
        "df = df[df['Geo Distance'] < 2000]\n",
        "fig, axes = plt.subplots(nrows=1, ncols=3)\n",
        "\n",
        "# Plot the variables\n",
        "df.plot(ax=axes[0], kind = 'scatter', y='Driver Income',x='Distance',figsize=(12,6),stacked=True,s=40)\n",
        "df.plot(ax=axes[1], kind = 'scatter', y='Driver Income',x='Duration',figsize=(12,6),stacked=True,s=40)\n",
        "df.plot(ax=axes[2], kind = 'scatter', y='Driver Income',x='Geo Distance',figsize=(12,6),stacked=True,s=40)\n",
        "\n",
        "# Now let's setup the labels, titles and format y axis as percentages\n",
        "axes[0].set_xlabel('Distance',fontsize=16)\n",
        "axes[0].set_ylabel('Driver Income',fontsize=16)\n",
        "\n",
        "axes[1].set_xlabel('Duration',fontsize=16)\n",
        "axes[1].set_ylabel('Driver Income',fontsize=16)\n",
        "\n",
        "axes[2].set_xlabel('Geo Distance',fontsize=16)\n",
        "axes[2].set_ylabel('Driver Income',fontsize=16)\n",
        "\n",
        "\n",
        "plt.show()\n",
        "\n"
      ],
      "metadata": {
        "colab": {
          "base_uri": "https://localhost:8080/"
        },
        "id": "IE1quiDyrIC_",
        "outputId": "c13b50b9-1665-4d4d-ec6b-520decf0ba00"
      },
      "execution_count": null,
      "outputs": [
        {
          "output_type": "stream",
          "name": "stderr",
          "text": [
            "WARNING:matplotlib.axes._axes:*c* argument looks like a single numeric RGB or RGBA sequence, which should be avoided as value-mapping will have precedence in case its length matches with *x* & *y*.  Please use the *color* keyword-argument or provide a 2-D array with a single row if you intend to specify the same RGB or RGBA value for all points.\n",
            "WARNING:matplotlib.axes._axes:*c* argument looks like a single numeric RGB or RGBA sequence, which should be avoided as value-mapping will have precedence in case its length matches with *x* & *y*.  Please use the *color* keyword-argument or provide a 2-D array with a single row if you intend to specify the same RGB or RGBA value for all points.\n",
            "WARNING:matplotlib.axes._axes:*c* argument looks like a single numeric RGB or RGBA sequence, which should be avoided as value-mapping will have precedence in case its length matches with *x* & *y*.  Please use the *color* keyword-argument or provide a 2-D array with a single row if you intend to specify the same RGB or RGBA value for all points.\n"
          ]
        },
        {
          "output_type": "display_data",
          "data": {
            "text/plain": [
              "<Figure size 864x432 with 3 Axes>"
            ],
            "image/png": "[encoded data removed]"
          },
          "metadata": {}
        }
      ]
    },
    {
      "cell_type": "markdown",
      "source": [
        "OK. It seems higher powers of selected attributes have a more linear relation with target."
      ],
      "metadata": {
        "id": "_CGkxTELw0GG"
      }
    },
    {
      "cell_type": "code",
      "source": [
        "df['Distance_Sq'] = np.power(df['Distance'], 2)\n",
        "df['GeoDistance_Sq'] = np.power(df['Geo Distance'], 2)\n"
      ],
      "metadata": {
        "colab": {
          "base_uri": "https://localhost:8080/"
        },
        "id": "Nv4Du6KAsF_U",
        "outputId": "fac67479-9eea-416f-ad88-cf454152a0ce"
      },
      "execution_count": null,
      "outputs": [
        {
          "output_type": "stream",
          "name": "stderr",
          "text": [
            "/usr/local/lib/python3.7/dist-packages/ipykernel_launcher.py:1: SettingWithCopyWarning: \n",
            "A value is trying to be set on a copy of a slice from a DataFrame.\n",
            "Try using .loc[row_indexer,col_indexer] = value instead\n",
            "\n",
            "See the caveats in the documentation: https://pandas.pydata.org/pandas-docs/stable/user_guide/indexing.html#returning-a-view-versus-a-copy\n",
            "  \"\"\"Entry point for launching an IPython kernel.\n",
            "/usr/local/lib/python3.7/dist-packages/ipykernel_launcher.py:2: SettingWithCopyWarning: \n",
            "A value is trying to be set on a copy of a slice from a DataFrame.\n",
            "Try using .loc[row_indexer,col_indexer] = value instead\n",
            "\n",
            "See the caveats in the documentation: https://pandas.pydata.org/pandas-docs/stable/user_guide/indexing.html#returning-a-view-versus-a-copy\n",
            "  \n"
          ]
        }
      ]
    },
    {
      "cell_type": "code",
      "source": [
        "# Create two subplots\n",
        "fig, axes = plt.subplots(nrows=1, ncols=2)\n",
        "\n",
        "# Plot the variables\n",
        "df.plot(ax=axes[0], kind = 'scatter', y='Driver Income',x='Distance_Sq',figsize=(12,6),stacked=True,s=40)\n",
        "df.plot(ax=axes[1], kind = 'scatter', y='Driver Income',x='GeoDistance_Sq',figsize=(12,6),stacked=True,s=40)\n",
        "\n",
        "# Now let's setup the labels, titles and format y axis as percentages\n",
        "axes[0].set_xlabel('Distance_Sq',fontsize=16)\n",
        "axes[0].set_ylabel('Driver Income',fontsize=16)\n",
        "\n",
        "axes[1].set_xlabel('GeoDistance_Sq',fontsize=16)\n",
        "axes[1].set_ylabel('Driver Income',fontsize=16)\n",
        "\n",
        "\n",
        "plt.show()"
      ],
      "metadata": {
        "colab": {
          "base_uri": "https://localhost:8080/"
        },
        "id": "o1sg43NywQ-M",
        "outputId": "5ecaedf3-259e-4ee7-a79b-94d11b58cffe"
      },
      "execution_count": null,
      "outputs": [
        {
          "output_type": "stream",
          "name": "stderr",
          "text": [
            "WARNING:matplotlib.axes._axes:*c* argument looks like a single numeric RGB or RGBA sequence, which should be avoided as value-mapping will have precedence in case its length matches with *x* & *y*.  Please use the *color* keyword-argument or provide a 2-D array with a single row if you intend to specify the same RGB or RGBA value for all points.\n",
            "WARNING:matplotlib.axes._axes:*c* argument looks like a single numeric RGB or RGBA sequence, which should be avoided as value-mapping will have precedence in case its length matches with *x* & *y*.  Please use the *color* keyword-argument or provide a 2-D array with a single row if you intend to specify the same RGB or RGBA value for all points.\n"
          ]
        },
        {
          "output_type": "display_data",
          "data": {
            "text/plain": [
              "<Figure size 864x432 with 2 Axes>"
            ],
            "image/png": "[encoded data removed]"
          },
          "metadata": {}
        }
      ]
    },
    {
      "cell_type": "markdown",
      "source": [
        "### Domain Knowledge\n"
      ],
      "metadata": {
        "id": "WFLAtrnazvft"
      }
    },
    {
      "cell_type": "markdown",
      "source": [
        "Whether the source and the destination are in the same province (state) can have many implications."
      ],
      "metadata": {
        "id": "9X9mJ2fuz-4k"
      }
    },
    {
      "cell_type": "code",
      "source": [
        "df['Same_State'] = df['Source State'] == df['Destination State']"
      ],
      "metadata": {
        "colab": {
          "base_uri": "https://localhost:8080/"
        },
        "id": "9kFlqpA-wv2R",
        "outputId": "6d3433ad-3dce-4f51-d9bc-05fa1c6271b0"
      },
      "execution_count": null,
      "outputs": [
        {
          "output_type": "stream",
          "name": "stderr",
          "text": [
            "/usr/local/lib/python3.7/dist-packages/ipykernel_launcher.py:1: SettingWithCopyWarning: \n",
            "A value is trying to be set on a copy of a slice from a DataFrame.\n",
            "Try using .loc[row_indexer,col_indexer] = value instead\n",
            "\n",
            "See the caveats in the documentation: https://pandas.pydata.org/pandas-docs/stable/user_guide/indexing.html#returning-a-view-versus-a-copy\n",
            "  \"\"\"Entry point for launching an IPython kernel.\n"
          ]
        }
      ]
    },
    {
      "cell_type": "markdown",
      "source": [
        "Also we may be interested in dispatches at night!"
      ],
      "metadata": {
        "id": "w6cOfKbv3_dc"
      }
    },
    {
      "cell_type": "code",
      "source": [
        "df['Dispatch_At_Night'] = df.apply(lambda x: x['Dispatch Datetime'].hour > 19, axis=1)"
      ],
      "metadata": {
        "id": "Y1ymzd3Y0iF1"
      },
      "execution_count": null,
      "outputs": []
    },
    {
      "cell_type": "markdown",
      "source": [
        "### Aggregation"
      ],
      "metadata": {
        "id": "UXxKTwqF4n2d"
      }
    },
    {
      "cell_type": "markdown",
      "source": [
        "We look at drivers income grouped by load type and distance of shippings grouped by vehicle type."
      ],
      "metadata": {
        "id": "ollGFKPQ57_3"
      }
    },
    {
      "cell_type": "code",
      "source": [
        "df['Distance_Avg_Vehicle_Group'] = df['Distance'].groupby(df['Vehicle Type']).transform('mean')\n",
        "df['Distance_Avg_Group_Ratio'] = df['Distance']/df['Distance_Avg_Vehicle_Group']\n",
        "\n",
        "df[['Vehicle Type','Distance','Distance_Avg_Vehicle_Group','Distance_Avg_Group_Ratio']].head(10)"
      ],
      "metadata": {
        "colab": {
          "base_uri": "https://localhost:8080/"
        },
        "id": "EvCmIoFv4T7v",
        "outputId": "50d9bdeb-1cf0-4e38-b0b5-800631b7eca1"
      },
      "execution_count": null,
      "outputs": [
        {
          "output_type": "execute_result",
          "data": {
            "text/plain": [
              "   Vehicle Type  Distance  Distance_Avg_Vehicle_Group  \\\n",
              "8        khavar  1014.692                  595.521628   \n",
              "9          joft   277.948                  665.821761   \n",
              "14       khavar   299.318                  595.521628   \n",
              "16       nissan  1154.497                  278.472887   \n",
              "17       nissan    29.471                  278.472887   \n",
              "18       nissan   203.412                  278.472887   \n",
              "19       treili   737.074                  770.370169   \n",
              "32       khavar   642.362                  595.521628   \n",
              "33       nissan   900.846                  278.472887   \n",
              "38         joft   535.640                  665.821761   \n",
              "\n",
              "    Distance_Avg_Group_Ratio  \n",
              "8                   1.703871  \n",
              "9                   0.417451  \n",
              "14                  0.502615  \n",
              "16                  4.145815  \n",
              "17                  0.105831  \n",
              "18                  0.730455  \n",
              "19                  0.956779  \n",
              "32                  1.078654  \n",
              "33                  3.234950  \n",
              "38                  0.804480  "
            ],
            "text/html": [
              "\n",
              "  <div id=\"df-07bf6c7d-945d-49e2-8ee8-746abf7d57f4\">\n",
              "    <div class=\"colab-df-container\">\n",
              "      <div>\n",
              "<style scoped>\n",
              "    .dataframe tbody tr th:only-of-type {\n",
              "        vertical-align: middle;\n",
              "    }\n",
              "\n",
              "    .dataframe tbody tr th {\n",
              "        vertical-align: top;\n",
              "    }\n",
              "\n",
              "    .dataframe thead th {\n",
              "        text-align: right;\n",
              "    }\n",
              "</style>\n",
              "<table border=\"1\" class=\"dataframe\">\n",
              "  <thead>\n",
              "    <tr style=\"text-align: right;\">\n",
              "      <th></th>\n",
              "      <th>Vehicle Type</th>\n",
              "      <th>Distance</th>\n",
              "      <th>Distance_Avg_Vehicle_Group</th>\n",
              "      <th>Distance_Avg_Group_Ratio</th>\n",
              "    </tr>\n",
              "  </thead>\n",
              "  <tbody>\n",
              "    <tr>\n",
              "      <th>8</th>\n",
              "      <td>khavar</td>\n",
              "      <td>1014.692</td>\n",
              "      <td>595.521628</td>\n",
              "      <td>1.703871</td>\n",
              "    </tr>\n",
              "    <tr>\n",
              "      <th>9</th>\n",
              "      <td>joft</td>\n",
              "      <td>277.948</td>\n",
              "      <td>665.821761</td>\n",
              "      <td>0.417451</td>\n",
              "    </tr>\n",
              "    <tr>\n",
              "      <th>14</th>\n",
              "      <td>khavar</td>\n",
              "      <td>299.318</td>\n",
              "      <td>595.521628</td>\n",
              "      <td>0.502615</td>\n",
              "    </tr>\n",
              "    <tr>\n",
              "      <th>16</th>\n",
              "      <td>nissan</td>\n",
              "      <td>1154.497</td>\n",
              "      <td>278.472887</td>\n",
              "      <td>4.145815</td>\n",
              "    </tr>\n",
              "    <tr>\n",
              "      <th>17</th>\n",
              "      <td>nissan</td>\n",
              "      <td>29.471</td>\n",
              "      <td>278.472887</td>\n",
              "      <td>0.105831</td>\n",
              "    </tr>\n",
              "    <tr>\n",
              "      <th>18</th>\n",
              "      <td>nissan</td>\n",
              "      <td>203.412</td>\n",
              "      <td>278.472887</td>\n",
              "      <td>0.730455</td>\n",
              "    </tr>\n",
              "    <tr>\n",
              "      <th>19</th>\n",
              "      <td>treili</td>\n",
              "      <td>737.074</td>\n",
              "      <td>770.370169</td>\n",
              "      <td>0.956779</td>\n",
              "    </tr>\n",
              "    <tr>\n",
              "      <th>32</th>\n",
              "      <td>khavar</td>\n",
              "      <td>642.362</td>\n",
              "      <td>595.521628</td>\n",
              "      <td>1.078654</td>\n",
              "    </tr>\n",
              "    <tr>\n",
              "      <th>33</th>\n",
              "      <td>nissan</td>\n",
              "      <td>900.846</td>\n",
              "      <td>278.472887</td>\n",
              "      <td>3.234950</td>\n",
              "    </tr>\n",
              "    <tr>\n",
              "      <th>38</th>\n",
              "      <td>joft</td>\n",
              "      <td>535.640</td>\n",
              "      <td>665.821761</td>\n",
              "      <td>0.804480</td>\n",
              "    </tr>\n",
              "  </tbody>\n",
              "</table>\n",
              "</div>\n",
              "      <button class=\"colab-df-convert\" onclick=\"convertToInteractive('df-07bf6c7d-945d-49e2-8ee8-746abf7d57f4')\"\n",
              "              title=\"Convert this dataframe to an interactive table.\"\n",
              "              style=\"display:none;\">\n",
              "        \n",
              "  <svg xmlns=\"http://www.w3.org/2000/svg\" height=\"24px\"viewBox=\"0 0 24 24\"\n",
              "       width=\"24px\">\n",
              "    <path d=\"M0 0h24v24H0V0z\" fill=\"none\"/>\n",
              "    <path d=\"M18.56 5.44l.94 2.06.94-2.06 2.06-.94-2.06-.94-.94-2.06-.94 2.06-2.06.94zm-11 1L8.5 8.5l.94-2.06 2.06-.94-2.06-.94L8.5 2.5l-.94 2.06-2.06.94zm10 10l.94 2.06.94-2.06 2.06-.94-2.06-.94-.94-2.06-.94 2.06-2.06.94z\"/><path d=\"M17.41 7.96l-1.37-1.37c-.4-.4-.92-.59-1.43-.59-.52 0-1.04.2-1.43.59L10.3 9.45l-7.72 7.72c-.78.78-.78 2.05 0 2.83L4 21.41c.39.39.9.59 1.41.59.51 0 1.02-.2 1.41-.59l7.78-7.78 2.81-2.81c.8-.78.8-2.07 0-2.86zM5.41 20L4 18.59l7.72-7.72 1.47 1.35L5.41 20z\"/>\n",
              "  </svg>\n",
              "      </button>\n",
              "      \n",
              "  <style>\n",
              "    .colab-df-container {\n",
              "      display:flex;\n",
              "      flex-wrap:wrap;\n",
              "      gap: 12px;\n",
              "    }\n",
              "\n",
              "    .colab-df-convert {\n",
              "      background-color: #E8F0FE;\n",
              "      border: none;\n",
              "      border-radius: 50%;\n",
              "      cursor: pointer;\n",
              "      display: none;\n",
              "      fill: #1967D2;\n",
              "      height: 32px;\n",
              "      padding: 0 0 0 0;\n",
              "      width: 32px;\n",
              "    }\n",
              "\n",
              "    .colab-df-convert:hover {\n",
              "      background-color: #E2EBFA;\n",
              "      box-shadow: 0px 1px 2px rgba(60, 64, 67, 0.3), 0px 1px 3px 1px rgba(60, 64, 67, 0.15);\n",
              "      fill: #174EA6;\n",
              "    }\n",
              "\n",
              "    [theme=dark] .colab-df-convert {\n",
              "      background-color: #3B4455;\n",
              "      fill: #D2E3FC;\n",
              "    }\n",
              "\n",
              "    [theme=dark] .colab-df-convert:hover {\n",
              "      background-color: #434B5C;\n",
              "      box-shadow: 0px 1px 3px 1px rgba(0, 0, 0, 0.15);\n",
              "      filter: drop-shadow(0px 1px 2px rgba(0, 0, 0, 0.3));\n",
              "      fill: #FFFFFF;\n",
              "    }\n",
              "  </style>\n",
              "\n",
              "      <script>\n",
              "        const buttonEl =\n",
              "          document.querySelector('#df-07bf6c7d-945d-49e2-8ee8-746abf7d57f4 button.colab-df-convert');\n",
              "        buttonEl.style.display =\n",
              "          google.colab.kernel.accessAllowed ? 'block' : 'none';\n",
              "\n",
              "        async function convertToInteractive(key) {\n",
              "          const element = document.querySelector('#df-07bf6c7d-945d-49e2-8ee8-746abf7d57f4');\n",
              "          const dataTable =\n",
              "            await google.colab.kernel.invokeFunction('convertToInteractive',\n",
              "                                                     [key], {});\n",
              "          if (!dataTable) return;\n",
              "\n",
              "          const docLinkHtml = 'Like what you see? Visit the ' +\n",
              "            '<a target=\"_blank\" href=https://colab.research.google.com/notebooks/data_table.ipynb>data table notebook</a>'\n",
              "            + ' to learn more about interactive tables.';\n",
              "          element.innerHTML = '';\n",
              "          dataTable['output_type'] = 'display_data';\n",
              "          await google.colab.output.renderOutput(dataTable, element);\n",
              "          const docLink = document.createElement('div');\n",
              "          docLink.innerHTML = docLinkHtml;\n",
              "          element.appendChild(docLink);\n",
              "        }\n",
              "      </script>\n",
              "    </div>\n",
              "  </div>\n",
              "  "
            ]
          },
          "metadata": {},
          "execution_count": 350
        }
      ]
    },
    {
      "cell_type": "markdown",
      "source": [
        "### Target Encoding"
      ],
      "metadata": {
        "id": "2ukL2wxJ6bAX"
      }
    },
    {
      "cell_type": "markdown",
      "source": [
        "Now we try to encode vehicle type by average distance."
      ],
      "metadata": {
        "id": "XoDlB1wx6gze"
      }
    },
    {
      "cell_type": "code",
      "source": [
        "# \"Smart\" categorical encoding\n",
        "means = df.groupby('Vehicle Type')['Driver Income'].mean()\n",
        "\n",
        "df['Vehicle_Income_Mean'] = df['Vehicle Type'].map(means)\n",
        "df.sort_values(by=['Vehicle_Income_Mean'], ascending=True,inplace=True)\n",
        "\n",
        "df['Vehicle_Target_Encoded'] = df['Vehicle_Income_Mean'].astype('category').cat.codes"
      ],
      "metadata": {
        "id": "RvTDavv-6cox"
      },
      "execution_count": null,
      "outputs": []
    },
    {
      "cell_type": "code",
      "source": [
        "df.sort_values(by=['Creation Datetime'], ascending=True,inplace=True)\n",
        "df[['Vehicle Type','Driver Income','Vehicle_Income_Mean','Vehicle_Target_Encoded']].head(10)"
      ],
      "metadata": {
        "colab": {
          "base_uri": "https://localhost:8080/"
        },
        "id": "CXC5QSM468Of",
        "outputId": "6b5dcb04-95f5-4d8c-9bc2-4eacf95fe12b"
      },
      "execution_count": null,
      "outputs": [
        {
          "output_type": "execute_result",
          "data": {
            "text/plain": [
              "      Vehicle Type  Driver Income  Vehicle_Income_Mean  Vehicle_Target_Encoded\n",
              "22871       treili      3650000.0         2.589724e+06                       4\n",
              "21076         joft      2800000.0         1.693002e+06                       3\n",
              "21132       treili         5000.0         2.589724e+06                       4\n",
              "21497       khavar       685000.0         7.931178e+05                       1\n",
              "21157          tak       840000.0         1.258561e+06                       2\n",
              "21152          tak       840000.0         1.258561e+06                       2\n",
              "1078           tak      1429000.0         1.258561e+06                       2\n",
              "312            tak      1429000.0         1.258561e+06                       2\n",
              "1168        treili      2400000.0         2.589724e+06                       4\n",
              "380         treili      2400000.0         2.589724e+06                       4"
            ],
            "text/html": [
              "\n",
              "  <div id=\"df-158814e0-c4af-4560-a4a4-54dc93654f0f\">\n",
              "    <div class=\"colab-df-container\">\n",
              "      <div>\n",
              "<style scoped>\n",
              "    .dataframe tbody tr th:only-of-type {\n",
              "        vertical-align: middle;\n",
              "    }\n",
              "\n",
              "    .dataframe tbody tr th {\n",
              "        vertical-align: top;\n",
              "    }\n",
              "\n",
              "    .dataframe thead th {\n",
              "        text-align: right;\n",
              "    }\n",
              "</style>\n",
              "<table border=\"1\" class=\"dataframe\">\n",
              "  <thead>\n",
              "    <tr style=\"text-align: right;\">\n",
              "      <th></th>\n",
              "      <th>Vehicle Type</th>\n",
              "      <th>Driver Income</th>\n",
              "      <th>Vehicle_Income_Mean</th>\n",
              "      <th>Vehicle_Target_Encoded</th>\n",
              "    </tr>\n",
              "  </thead>\n",
              "  <tbody>\n",
              "    <tr>\n",
              "      <th>22871</th>\n",
              "      <td>treili</td>\n",
              "      <td>3650000.0</td>\n",
              "      <td>2.589724e+06</td>\n",
              "      <td>4</td>\n",
              "    </tr>\n",
              "    <tr>\n",
              "      <th>21076</th>\n",
              "      <td>joft</td>\n",
              "      <td>2800000.0</td>\n",
              "      <td>1.693002e+06</td>\n",
              "      <td>3</td>\n",
              "    </tr>\n",
              "    <tr>\n",
              "      <th>21132</th>\n",
              "      <td>treili</td>\n",
              "      <td>5000.0</td>\n",
              "      <td>2.589724e+06</td>\n",
              "      <td>4</td>\n",
              "    </tr>\n",
              "    <tr>\n",
              "      <th>21497</th>\n",
              "      <td>khavar</td>\n",
              "      <td>685000.0</td>\n",
              "      <td>7.931178e+05</td>\n",
              "      <td>1</td>\n",
              "    </tr>\n",
              "    <tr>\n",
              "      <th>21157</th>\n",
              "      <td>tak</td>\n",
              "      <td>840000.0</td>\n",
              "      <td>1.258561e+06</td>\n",
              "      <td>2</td>\n",
              "    </tr>\n",
              "    <tr>\n",
              "      <th>21152</th>\n",
              "      <td>tak</td>\n",
              "      <td>840000.0</td>\n",
              "      <td>1.258561e+06</td>\n",
              "      <td>2</td>\n",
              "    </tr>\n",
              "    <tr>\n",
              "      <th>1078</th>\n",
              "      <td>tak</td>\n",
              "      <td>1429000.0</td>\n",
              "      <td>1.258561e+06</td>\n",
              "      <td>2</td>\n",
              "    </tr>\n",
              "    <tr>\n",
              "      <th>312</th>\n",
              "      <td>tak</td>\n",
              "      <td>1429000.0</td>\n",
              "      <td>1.258561e+06</td>\n",
              "      <td>2</td>\n",
              "    </tr>\n",
              "    <tr>\n",
              "      <th>1168</th>\n",
              "      <td>treili</td>\n",
              "      <td>2400000.0</td>\n",
              "      <td>2.589724e+06</td>\n",
              "      <td>4</td>\n",
              "    </tr>\n",
              "    <tr>\n",
              "      <th>380</th>\n",
              "      <td>treili</td>\n",
              "      <td>2400000.0</td>\n",
              "      <td>2.589724e+06</td>\n",
              "      <td>4</td>\n",
              "    </tr>\n",
              "  </tbody>\n",
              "</table>\n",
              "</div>\n",
              "      <button class=\"colab-df-convert\" onclick=\"convertToInteractive('df-158814e0-c4af-4560-a4a4-54dc93654f0f')\"\n",
              "              title=\"Convert this dataframe to an interactive table.\"\n",
              "              style=\"display:none;\">\n",
              "        \n",
              "  <svg xmlns=\"http://www.w3.org/2000/svg\" height=\"24px\"viewBox=\"0 0 24 24\"\n",
              "       width=\"24px\">\n",
              "    <path d=\"M0 0h24v24H0V0z\" fill=\"none\"/>\n",
              "    <path d=\"M18.56 5.44l.94 2.06.94-2.06 2.06-.94-2.06-.94-.94-2.06-.94 2.06-2.06.94zm-11 1L8.5 8.5l.94-2.06 2.06-.94-2.06-.94L8.5 2.5l-.94 2.06-2.06.94zm10 10l.94 2.06.94-2.06 2.06-.94-2.06-.94-.94-2.06-.94 2.06-2.06.94z\"/><path d=\"M17.41 7.96l-1.37-1.37c-.4-.4-.92-.59-1.43-.59-.52 0-1.04.2-1.43.59L10.3 9.45l-7.72 7.72c-.78.78-.78 2.05 0 2.83L4 21.41c.39.39.9.59 1.41.59.51 0 1.02-.2 1.41-.59l7.78-7.78 2.81-2.81c.8-.78.8-2.07 0-2.86zM5.41 20L4 18.59l7.72-7.72 1.47 1.35L5.41 20z\"/>\n",
              "  </svg>\n",
              "      </button>\n",
              "      \n",
              "  <style>\n",
              "    .colab-df-container {\n",
              "      display:flex;\n",
              "      flex-wrap:wrap;\n",
              "      gap: 12px;\n",
              "    }\n",
              "\n",
              "    .colab-df-convert {\n",
              "      background-color: #E8F0FE;\n",
              "      border: none;\n",
              "      border-radius: 50%;\n",
              "      cursor: pointer;\n",
              "      display: none;\n",
              "      fill: #1967D2;\n",
              "      height: 32px;\n",
              "      padding: 0 0 0 0;\n",
              "      width: 32px;\n",
              "    }\n",
              "\n",
              "    .colab-df-convert:hover {\n",
              "      background-color: #E2EBFA;\n",
              "      box-shadow: 0px 1px 2px rgba(60, 64, 67, 0.3), 0px 1px 3px 1px rgba(60, 64, 67, 0.15);\n",
              "      fill: #174EA6;\n",
              "    }\n",
              "\n",
              "    [theme=dark] .colab-df-convert {\n",
              "      background-color: #3B4455;\n",
              "      fill: #D2E3FC;\n",
              "    }\n",
              "\n",
              "    [theme=dark] .colab-df-convert:hover {\n",
              "      background-color: #434B5C;\n",
              "      box-shadow: 0px 1px 3px 1px rgba(0, 0, 0, 0.15);\n",
              "      filter: drop-shadow(0px 1px 2px rgba(0, 0, 0, 0.3));\n",
              "      fill: #FFFFFF;\n",
              "    }\n",
              "  </style>\n",
              "\n",
              "      <script>\n",
              "        const buttonEl =\n",
              "          document.querySelector('#df-158814e0-c4af-4560-a4a4-54dc93654f0f button.colab-df-convert');\n",
              "        buttonEl.style.display =\n",
              "          google.colab.kernel.accessAllowed ? 'block' : 'none';\n",
              "\n",
              "        async function convertToInteractive(key) {\n",
              "          const element = document.querySelector('#df-158814e0-c4af-4560-a4a4-54dc93654f0f');\n",
              "          const dataTable =\n",
              "            await google.colab.kernel.invokeFunction('convertToInteractive',\n",
              "                                                     [key], {});\n",
              "          if (!dataTable) return;\n",
              "\n",
              "          const docLinkHtml = 'Like what you see? Visit the ' +\n",
              "            '<a target=\"_blank\" href=https://colab.research.google.com/notebooks/data_table.ipynb>data table notebook</a>'\n",
              "            + ' to learn more about interactive tables.';\n",
              "          element.innerHTML = '';\n",
              "          dataTable['output_type'] = 'display_data';\n",
              "          await google.colab.output.renderOutput(dataTable, element);\n",
              "          const docLink = document.createElement('div');\n",
              "          docLink.innerHTML = docLinkHtml;\n",
              "          element.appendChild(docLink);\n",
              "        }\n",
              "      </script>\n",
              "    </div>\n",
              "  </div>\n",
              "  "
            ]
          },
          "metadata": {},
          "execution_count": 352
        }
      ]
    },
    {
      "cell_type": "markdown",
      "source": [
        "## Feature Selection"
      ],
      "metadata": {
        "id": "izrX6bzxFWgX"
      }
    },
    {
      "cell_type": "code",
      "source": [
        "# Cleaning\n",
        "for colname in df.select_dtypes(\"object\"):\n",
        "    df[colname], _ = df[colname].factorize()\n",
        "\n",
        "df[\"Dispatch Datetime\"] = df[\"Dispatch Datetime\"].values.astype(np.int64)\n",
        "df = df.drop([\"Transport Cost\", \"Creation Datetime\", \"Vehicle_Income_Mean\"], axis=1)\n",
        "df = df.dropna(axis=0)"
      ],
      "metadata": {
        "id": "YvuiBKi67OBx"
      },
      "execution_count": null,
      "outputs": []
    },
    {
      "cell_type": "markdown",
      "source": [
        "Here let's focus on income as the target."
      ],
      "metadata": {
        "id": "7aZ391gRGWe5"
      }
    },
    {
      "cell_type": "code",
      "source": [
        "target_column = df.pop(\"Driver Income\")"
      ],
      "metadata": {
        "id": "xcmEcQLfFefl"
      },
      "execution_count": null,
      "outputs": []
    },
    {
      "cell_type": "markdown",
      "source": [
        "### Mutual Information"
      ],
      "metadata": {
        "id": "PDi-MS4AOYYd"
      }
    },
    {
      "cell_type": "code",
      "source": [
        "from sklearn.feature_selection import SelectKBest, mutual_info_regression\n",
        "feature_selector = SelectKBest(score_func=mutual_info_regression, k = 'all').fit(df,target_column)"
      ],
      "metadata": {
        "colab": {
          "base_uri": "https://localhost:8080/"
        },
        "id": "2NrtqIIrK50J",
        "outputId": "c7e6ae38-8a27-46d0-b4d8-fe71b0446c80"
      },
      "execution_count": null,
      "outputs": [
        {
          "output_type": "stream",
          "name": "stderr",
          "text": [
            "/usr/local/lib/python3.7/dist-packages/sklearn/utils/validation.py:976: FutureWarning: Arrays of bytes/strings is being converted to decimal numbers if dtype='numeric'. This behavior is deprecated in 0.24 and will be removed in 1.1 (renaming of 0.26). Please convert your data to numeric values explicitly instead.\n",
            "  estimator=estimator,\n"
          ]
        }
      ]
    },
    {
      "cell_type": "code",
      "source": [
        "feature_scores = pd.DataFrame({'Feature':df.columns,'Score':feature_selector.scores_})\n",
        "feature_scores.sort_values(by=['Score'],inplace=True)\n",
        "\n",
        "feature_scores[0:20].plot(x='Feature',y='Score',kind='barh',figsize=(16,8))"
      ],
      "metadata": {
        "colab": {
          "base_uri": "https://localhost:8080/",
          "height": 502
        },
        "id": "-stHO0ZiK-kd",
        "outputId": "a6d9d57a-f36c-420c-d9f6-b79fb4a2ed82"
      },
      "execution_count": null,
      "outputs": [
        {
          "output_type": "execute_result",
          "data": {
            "text/plain": [
              "<matplotlib.axes._subplots.AxesSubplot at 0x7f0a3d49b190>"
            ]
          },
          "metadata": {},
          "execution_count": 356
        },
        {
          "output_type": "display_data",
          "data": {
            "text/plain": [
              "<Figure size 1152x576 with 1 Axes>"
            ],
            "image/png": "[encoded data removed]"
          },
          "metadata": {}
        }
      ]
    },
    {
      "cell_type": "markdown",
      "source": [
        "It is surprising to observe the high mutual information between our target and source state."
      ],
      "metadata": {
        "id": "alE90b9QPCZe"
      }
    },
    {
      "cell_type": "markdown",
      "source": [
        "### PCA"
      ],
      "metadata": {
        "id": "Gn_vdRGlNnyb"
      }
    },
    {
      "cell_type": "code",
      "source": [
        "from sklearn.preprocessing import StandardScaler\n",
        "normalized_df = StandardScaler().fit_transform(df)"
      ],
      "metadata": {
        "id": "gcyOBUcGNiI8"
      },
      "execution_count": null,
      "outputs": []
    },
    {
      "cell_type": "code",
      "source": [
        "from sklearn.decomposition import PCA\n",
        "pca = PCA(n_components=40)\n",
        "principalComponents = pca.fit_transform(normalized_df)\n",
        "df_pca = pd.DataFrame(data = normalized_df)\n",
        "df_pca.head()"
      ],
      "metadata": {
        "colab": {
          "base_uri": "https://localhost:8080/",
          "height": 299
        },
        "id": "5pxRm5lJNrNQ",
        "outputId": "f1af4e78-4c3b-46eb-f23b-ab5c44baa739"
      },
      "execution_count": null,
      "outputs": [
        {
          "output_type": "execute_result",
          "data": {
            "text/plain": [
              "         0         1         2         3         4         5         6   \\\n",
              "0 -0.549225 -0.809489 -0.843980 -1.083782 -1.763720 -0.821824 -0.791674   \n",
              "1 -0.549225 -0.786734 -0.829263 -0.931917 -1.623918 -0.808654 -0.781101   \n",
              "2 -0.543467 -0.763978 -0.814547 -0.780052 -1.484116 -0.795484 -0.770529   \n",
              "3 -0.537709 -0.763978 -0.799830 -0.780052 -1.344314 -0.795484 -0.759956   \n",
              "4 -0.531952 -0.741223 -0.785113 -0.628188 -1.204513 -0.782313 -0.749383   \n",
              "\n",
              "         7         8         9   ...        34        35        36        37  \\\n",
              "0 -0.719877  2.386845  2.822008  ... -2.049519 -0.610338  2.354345  4.192326   \n",
              "1 -0.719877  1.129750  2.273830  ... -2.047996 -0.253384  1.219087  2.969678   \n",
              "2 -0.719877 -0.825732 -0.695499  ... -2.041029 -0.686190 -0.767613 -0.693162   \n",
              "3 -0.719877 -0.825732 -0.004276  ... -2.040803 -0.797188 -0.767613 -0.286747   \n",
              "4 -0.719877  0.431363 -0.300648  ... -2.035936 -0.714748  0.367644 -0.494166   \n",
              "\n",
              "         38        39        40        41        42        43  \n",
              "0  4.182176 -0.448149 -0.253743  1.152212  1.610713  1.680671  \n",
              "1  3.009783 -0.448149 -0.253743  0.538329  1.629039  0.961949  \n",
              "2 -0.645779 -0.448149 -0.253743  1.152212 -0.804095  1.680671  \n",
              "3 -0.168670 -0.448149 -0.253743  0.125543 -0.050802 -0.475496  \n",
              "4 -0.486911 -0.448149 -0.253743  0.591402 -0.427450  0.243226  \n",
              "\n",
              "[5 rows x 44 columns]"
            ],
            "text/html": [
              "\n",
              "  <div id=\"df-f830d736-1b71-4f46-8cff-fe804c97a716\">\n",
              "    <div class=\"colab-df-container\">\n",
              "      <div>\n",
              "<style scoped>\n",
              "    .dataframe tbody tr th:only-of-type {\n",
              "        vertical-align: middle;\n",
              "    }\n",
              "\n",
              "    .dataframe tbody tr th {\n",
              "        vertical-align: top;\n",
              "    }\n",
              "\n",
              "    .dataframe thead th {\n",
              "        text-align: right;\n",
              "    }\n",
              "</style>\n",
              "<table border=\"1\" class=\"dataframe\">\n",
              "  <thead>\n",
              "    <tr style=\"text-align: right;\">\n",
              "      <th></th>\n",
              "      <th>0</th>\n",
              "      <th>1</th>\n",
              "      <th>2</th>\n",
              "      <th>3</th>\n",
              "      <th>4</th>\n",
              "      <th>5</th>\n",
              "      <th>6</th>\n",
              "      <th>7</th>\n",
              "      <th>8</th>\n",
              "      <th>9</th>\n",
              "      <th>...</th>\n",
              "      <th>34</th>\n",
              "      <th>35</th>\n",
              "      <th>36</th>\n",
              "      <th>37</th>\n",
              "      <th>38</th>\n",
              "      <th>39</th>\n",
              "      <th>40</th>\n",
              "      <th>41</th>\n",
              "      <th>42</th>\n",
              "      <th>43</th>\n",
              "    </tr>\n",
              "  </thead>\n",
              "  <tbody>\n",
              "    <tr>\n",
              "      <th>0</th>\n",
              "      <td>-0.549225</td>\n",
              "      <td>-0.809489</td>\n",
              "      <td>-0.843980</td>\n",
              "      <td>-1.083782</td>\n",
              "      <td>-1.763720</td>\n",
              "      <td>-0.821824</td>\n",
              "      <td>-0.791674</td>\n",
              "      <td>-0.719877</td>\n",
              "      <td>2.386845</td>\n",
              "      <td>2.822008</td>\n",
              "      <td>...</td>\n",
              "      <td>-2.049519</td>\n",
              "      <td>-0.610338</td>\n",
              "      <td>2.354345</td>\n",
              "      <td>4.192326</td>\n",
              "      <td>4.182176</td>\n",
              "      <td>-0.448149</td>\n",
              "      <td>-0.253743</td>\n",
              "      <td>1.152212</td>\n",
              "      <td>1.610713</td>\n",
              "      <td>1.680671</td>\n",
              "    </tr>\n",
              "    <tr>\n",
              "      <th>1</th>\n",
              "      <td>-0.549225</td>\n",
              "      <td>-0.786734</td>\n",
              "      <td>-0.829263</td>\n",
              "      <td>-0.931917</td>\n",
              "      <td>-1.623918</td>\n",
              "      <td>-0.808654</td>\n",
              "      <td>-0.781101</td>\n",
              "      <td>-0.719877</td>\n",
              "      <td>1.129750</td>\n",
              "      <td>2.273830</td>\n",
              "      <td>...</td>\n",
              "      <td>-2.047996</td>\n",
              "      <td>-0.253384</td>\n",
              "      <td>1.219087</td>\n",
              "      <td>2.969678</td>\n",
              "      <td>3.009783</td>\n",
              "      <td>-0.448149</td>\n",
              "      <td>-0.253743</td>\n",
              "      <td>0.538329</td>\n",
              "      <td>1.629039</td>\n",
              "      <td>0.961949</td>\n",
              "    </tr>\n",
              "    <tr>\n",
              "      <th>2</th>\n",
              "      <td>-0.543467</td>\n",
              "      <td>-0.763978</td>\n",
              "      <td>-0.814547</td>\n",
              "      <td>-0.780052</td>\n",
              "      <td>-1.484116</td>\n",
              "      <td>-0.795484</td>\n",
              "      <td>-0.770529</td>\n",
              "      <td>-0.719877</td>\n",
              "      <td>-0.825732</td>\n",
              "      <td>-0.695499</td>\n",
              "      <td>...</td>\n",
              "      <td>-2.041029</td>\n",
              "      <td>-0.686190</td>\n",
              "      <td>-0.767613</td>\n",
              "      <td>-0.693162</td>\n",
              "      <td>-0.645779</td>\n",
              "      <td>-0.448149</td>\n",
              "      <td>-0.253743</td>\n",
              "      <td>1.152212</td>\n",
              "      <td>-0.804095</td>\n",
              "      <td>1.680671</td>\n",
              "    </tr>\n",
              "    <tr>\n",
              "      <th>3</th>\n",
              "      <td>-0.537709</td>\n",
              "      <td>-0.763978</td>\n",
              "      <td>-0.799830</td>\n",
              "      <td>-0.780052</td>\n",
              "      <td>-1.344314</td>\n",
              "      <td>-0.795484</td>\n",
              "      <td>-0.759956</td>\n",
              "      <td>-0.719877</td>\n",
              "      <td>-0.825732</td>\n",
              "      <td>-0.004276</td>\n",
              "      <td>...</td>\n",
              "      <td>-2.040803</td>\n",
              "      <td>-0.797188</td>\n",
              "      <td>-0.767613</td>\n",
              "      <td>-0.286747</td>\n",
              "      <td>-0.168670</td>\n",
              "      <td>-0.448149</td>\n",
              "      <td>-0.253743</td>\n",
              "      <td>0.125543</td>\n",
              "      <td>-0.050802</td>\n",
              "      <td>-0.475496</td>\n",
              "    </tr>\n",
              "    <tr>\n",
              "      <th>4</th>\n",
              "      <td>-0.531952</td>\n",
              "      <td>-0.741223</td>\n",
              "      <td>-0.785113</td>\n",
              "      <td>-0.628188</td>\n",
              "      <td>-1.204513</td>\n",
              "      <td>-0.782313</td>\n",
              "      <td>-0.749383</td>\n",
              "      <td>-0.719877</td>\n",
              "      <td>0.431363</td>\n",
              "      <td>-0.300648</td>\n",
              "      <td>...</td>\n",
              "      <td>-2.035936</td>\n",
              "      <td>-0.714748</td>\n",
              "      <td>0.367644</td>\n",
              "      <td>-0.494166</td>\n",
              "      <td>-0.486911</td>\n",
              "      <td>-0.448149</td>\n",
              "      <td>-0.253743</td>\n",
              "      <td>0.591402</td>\n",
              "      <td>-0.427450</td>\n",
              "      <td>0.243226</td>\n",
              "    </tr>\n",
              "  </tbody>\n",
              "</table>\n",
              "<p>5 rows × 44 columns</p>\n",
              "</div>\n",
              "      <button class=\"colab-df-convert\" onclick=\"convertToInteractive('df-f830d736-1b71-4f46-8cff-fe804c97a716')\"\n",
              "              title=\"Convert this dataframe to an interactive table.\"\n",
              "              style=\"display:none;\">\n",
              "        \n",
              "  <svg xmlns=\"http://www.w3.org/2000/svg\" height=\"24px\"viewBox=\"0 0 24 24\"\n",
              "       width=\"24px\">\n",
              "    <path d=\"M0 0h24v24H0V0z\" fill=\"none\"/>\n",
              "    <path d=\"M18.56 5.44l.94 2.06.94-2.06 2.06-.94-2.06-.94-.94-2.06-.94 2.06-2.06.94zm-11 1L8.5 8.5l.94-2.06 2.06-.94-2.06-.94L8.5 2.5l-.94 2.06-2.06.94zm10 10l.94 2.06.94-2.06 2.06-.94-2.06-.94-.94-2.06-.94 2.06-2.06.94z\"/><path d=\"M17.41 7.96l-1.37-1.37c-.4-.4-.92-.59-1.43-.59-.52 0-1.04.2-1.43.59L10.3 9.45l-7.72 7.72c-.78.78-.78 2.05 0 2.83L4 21.41c.39.39.9.59 1.41.59.51 0 1.02-.2 1.41-.59l7.78-7.78 2.81-2.81c.8-.78.8-2.07 0-2.86zM5.41 20L4 18.59l7.72-7.72 1.47 1.35L5.41 20z\"/>\n",
              "  </svg>\n",
              "      </button>\n",
              "      \n",
              "  <style>\n",
              "    .colab-df-container {\n",
              "      display:flex;\n",
              "      flex-wrap:wrap;\n",
              "      gap: 12px;\n",
              "    }\n",
              "\n",
              "    .colab-df-convert {\n",
              "      background-color: #E8F0FE;\n",
              "      border: none;\n",
              "      border-radius: 50%;\n",
              "      cursor: pointer;\n",
              "      display: none;\n",
              "      fill: #1967D2;\n",
              "      height: 32px;\n",
              "      padding: 0 0 0 0;\n",
              "      width: 32px;\n",
              "    }\n",
              "\n",
              "    .colab-df-convert:hover {\n",
              "      background-color: #E2EBFA;\n",
              "      box-shadow: 0px 1px 2px rgba(60, 64, 67, 0.3), 0px 1px 3px 1px rgba(60, 64, 67, 0.15);\n",
              "      fill: #174EA6;\n",
              "    }\n",
              "\n",
              "    [theme=dark] .colab-df-convert {\n",
              "      background-color: #3B4455;\n",
              "      fill: #D2E3FC;\n",
              "    }\n",
              "\n",
              "    [theme=dark] .colab-df-convert:hover {\n",
              "      background-color: #434B5C;\n",
              "      box-shadow: 0px 1px 3px 1px rgba(0, 0, 0, 0.15);\n",
              "      filter: drop-shadow(0px 1px 2px rgba(0, 0, 0, 0.3));\n",
              "      fill: #FFFFFF;\n",
              "    }\n",
              "  </style>\n",
              "\n",
              "      <script>\n",
              "        const buttonEl =\n",
              "          document.querySelector('#df-f830d736-1b71-4f46-8cff-fe804c97a716 button.colab-df-convert');\n",
              "        buttonEl.style.display =\n",
              "          google.colab.kernel.accessAllowed ? 'block' : 'none';\n",
              "\n",
              "        async function convertToInteractive(key) {\n",
              "          const element = document.querySelector('#df-f830d736-1b71-4f46-8cff-fe804c97a716');\n",
              "          const dataTable =\n",
              "            await google.colab.kernel.invokeFunction('convertToInteractive',\n",
              "                                                     [key], {});\n",
              "          if (!dataTable) return;\n",
              "\n",
              "          const docLinkHtml = 'Like what you see? Visit the ' +\n",
              "            '<a target=\"_blank\" href=https://colab.research.google.com/notebooks/data_table.ipynb>data table notebook</a>'\n",
              "            + ' to learn more about interactive tables.';\n",
              "          element.innerHTML = '';\n",
              "          dataTable['output_type'] = 'display_data';\n",
              "          await google.colab.output.renderOutput(dataTable, element);\n",
              "          const docLink = document.createElement('div');\n",
              "          docLink.innerHTML = docLinkHtml;\n",
              "          element.appendChild(docLink);\n",
              "        }\n",
              "      </script>\n",
              "    </div>\n",
              "  </div>\n",
              "  "
            ]
          },
          "metadata": {},
          "execution_count": 358
        }
      ]
    },
    {
      "cell_type": "code",
      "source": [
        "from matplotlib.pyplot import figure\n",
        "\n",
        "figure(figsize=(12, 6))\n",
        "plt.plot(np.cumsum(pca.explained_variance_ratio_),lw=4)\n",
        "plt.xlabel('Component Number',fontsize=16)\n",
        "plt.ylabel('Cumulative Explained Variance',fontsize=16)\n",
        "plt.title(' ')\n"
      ],
      "metadata": {
        "colab": {
          "base_uri": "https://localhost:8080/",
          "height": 429
        },
        "id": "2OarQhf0N1X1",
        "outputId": "08c6c234-545d-4c31-8d52-18269c7bbef7"
      },
      "execution_count": null,
      "outputs": [
        {
          "output_type": "execute_result",
          "data": {
            "text/plain": [
              "Text(0.5, 1.0, ' ')"
            ]
          },
          "metadata": {},
          "execution_count": 359
        },
        {
          "output_type": "display_data",
          "data": {
            "text/plain": [
              "<Figure size 864x432 with 1 Axes>"
            ],
            "image/png": "[encoded data removed]"
          },
          "metadata": {}
        }
      ]
    },
    {
      "cell_type": "markdown",
      "source": [
        "As we can see, by around 25 components we can explain all of the variance."
      ],
      "metadata": {
        "id": "RYk_6veBOxTB"
      }
    },
    {
      "cell_type": "code",
      "source": [],
      "metadata": {
        "id": "nS4bQPe5O7Ft"
      },
      "execution_count": null,
      "outputs": []
    }
  ]
}