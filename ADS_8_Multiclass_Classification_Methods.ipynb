{
  "nbformat": 4,
  "nbformat_minor": 0,
  "metadata": {
    "colab": {
      "provenance": [],
      "toc_visible": true
    },
    "kernelspec": {
      "name": "python3",
      "display_name": "Python 3"
    },
    "language_info": {
      "name": "python"
    }
  },
  "cells": [
    {
      "cell_type": "markdown",
      "source": [
        "#Multiclass Classification"
      ],
      "metadata": {
        "id": "5pdZg5TY2RcJ"
      }
    },
    {
      "cell_type": "markdown",
      "source": [
        "In this notebook we will demonstrate different types of multiclass classifications and analyze each of them."
      ],
      "metadata": {
        "id": "6AWErgFW2c8o"
      }
    },
    {
      "cell_type": "code",
      "execution_count": null,
      "metadata": {
        "id": "Anl7Gl4bEtaN"
      },
      "outputs": [],
      "source": [
        "#@title Setup Environment\n",
        "import sklearn\n",
        "import pandas as pd\n",
        "import io\n",
        "import os\n",
        "import copy\n",
        "import numpy as np\n",
        "import seaborn as sns\n",
        "import matplotlib.pyplot as plt\n",
        "%matplotlib inline\n",
        "sns.set(color_codes=True)\n",
        "\n",
        "from google.colab import drive\n",
        "from tqdm.notebook import trange, tqdm\n",
        "from IPython.display import clear_output"
      ]
    },
    {
      "cell_type": "markdown",
      "source": [
        "## Loading the Dataset\n",
        "\n",
        "Now we will load orders dataset from personal google drive. So we must mount the drive and load the dataset from appropriate path."
      ],
      "metadata": {
        "id": "7sJn2TmELeGU"
      }
    },
    {
      "cell_type": "code",
      "source": [
        "#@title Connect to Google Drive\n",
        "\n",
        "drive.mount('/content/drive')"
      ],
      "metadata": {
        "colab": {
          "base_uri": "https://localhost:8080/"
        },
        "id": "ZvA60qo0Lh1V",
        "outputId": "a55539e5-d176-4faa-c6d5-7589b7355de3"
      },
      "execution_count": null,
      "outputs": [
        {
          "output_type": "stream",
          "name": "stdout",
          "text": [
            "Drive already mounted at /content/drive; to attempt to forcibly remount, call drive.mount(\"/content/drive\", force_remount=True).\n"
          ]
        }
      ]
    },
    {
      "cell_type": "code",
      "source": [
        "file_path = '/content/drive/MyDrive/Datasets/Ubaar/orders_data.csv'\n",
        "orders_data = pd.read_csv(file_path)\n",
        "print(\"Orders Dataset Shape: \", orders_data.shape)"
      ],
      "metadata": {
        "colab": {
          "base_uri": "https://localhost:8080/"
        },
        "id": "UvoIoq2ULluI",
        "outputId": "5c7c7bfa-b768-42ab-9f21-7fc3afe8e238"
      },
      "execution_count": null,
      "outputs": [
        {
          "output_type": "stream",
          "name": "stdout",
          "text": [
            "Orders Dataset Shape:  (44052, 30)\n"
          ]
        }
      ]
    },
    {
      "cell_type": "markdown",
      "source": [
        "## Getting Some Insights from Our Data\n",
        "\n",
        "Since a good visualization helps a lot in making sense of our data, we will draw some charts to get better insight about the Ubaar orders dataset. Also we will take a brief look at the dataset"
      ],
      "metadata": {
        "id": "mgdHv3MiLjOE"
      }
    },
    {
      "cell_type": "code",
      "source": [
        "orders_data.head(10)"
      ],
      "metadata": {
        "colab": {
          "base_uri": "https://localhost:8080/",
          "height": 627
        },
        "id": "ne-5IN1cLqj6",
        "outputId": "b0310087-22d6-4b96-a520-3185f4f44678"
      },
      "execution_count": null,
      "outputs": [
        {
          "output_type": "execute_result",
          "data": {
            "text/plain": [
              "                   Load Type Source City Destination City Source State  \\\n",
              "0                  بار صنعتی         یزد         بندرعباس          یزد   \n",
              "1                  بار صنعتی       قزوین            رودسر        قزوین   \n",
              "2                  بار صنعتی       تهران            همدان        تهران   \n",
              "3                  بار صنعتی         آمل            گرگان     مازندران   \n",
              "4             گلدان پلاستیکی      هشتگرد           اردبیل        البرز   \n",
              "5                  بار صنعتی      کازرون            تهران         فارس   \n",
              "6                  بار صنعتی     خوانسار             دیلم       اصفهان   \n",
              "7                  بار صنعتی      اصفهان       گنبد کاووس       اصفهان   \n",
              "8  انواع رنگ ومواد پاك کننده     اشتهارد             مشهد        البرز   \n",
              "9     انواع سموم وکودشیمیایی       تهران             اراک        تهران   \n",
              "\n",
              "  Destination State       Source Region Destination Region Who Added Role  \\\n",
              "0           هرمزگان                 یزد           بندرعباس      anonymous   \n",
              "1             گیلان               قزوین             چابکسر      anonymous   \n",
              "2             همدان               تهران              همدان      anonymous   \n",
              "3            گلستان                 آمل              گرگان      anonymous   \n",
              "4            اردبیل            پل کردان             اردبیل       baarbari   \n",
              "5             تهران           قیروکازین              تهران      anonymous   \n",
              "6             بوشهر             خوانسار          بندر دیلم      anonymous   \n",
              "7            گلستان              اصفهان         گنبد کاووس      anonymous   \n",
              "8       خراسان رضوی  شهرک صنعتی اشتهارد               مشهد       baarbari   \n",
              "9             مرکزی               تهران               اراک           user   \n",
              "\n",
              "   Driver Income  Weight  ...  Destination Lat  Destination Lng  \\\n",
              "0            0.0    24.0  ...        27.183222        56.266646   \n",
              "1            0.0     5.0  ...        36.980067        50.531772   \n",
              "2            0.0     2.0  ...        34.798857        48.515023   \n",
              "3            0.0    15.0  ...        36.845643        54.439336   \n",
              "4            0.0     2.0  ...        38.256645        48.317509   \n",
              "5            0.0     5.0  ...        35.688905        51.388435   \n",
              "6            0.0    10.0  ...        30.058981        50.167812   \n",
              "7            0.0     5.0  ...        37.238322        55.167322   \n",
              "8      1100000.0     4.0  ...        36.272622        59.600624   \n",
              "9       744000.0    15.0  ...        34.095355        49.701349   \n",
              "\n",
              "  Dispatch Time Delta Pickup Date Time Delta Order Channel  Packaging Type  \\\n",
              "0           23.928889                    NaN           NaN       hichkodam   \n",
              "1           23.970278                    NaN           NaN       hichkodam   \n",
              "2           23.962778                    NaN           NaN       hichkodam   \n",
              "3           23.974722                    NaN           NaN       hichkodam   \n",
              "4           16.749444              68.358889           web          karton   \n",
              "5           23.968056                    NaN           NaN       hichkodam   \n",
              "6           23.978889                    NaN           NaN       hichkodam   \n",
              "7           23.943889                    NaN           NaN       hichkodam   \n",
              "8            0.403056                    NaN       android          falleh   \n",
              "9           39.288611                    NaN       android     kiseh_gooni   \n",
              "\n",
              "                  Creation Datetime Unload Option  Has Comments   Load Status  \n",
              "0  2019-11-05 06:46:15.847289+00:00           NaN             0  reject_price  \n",
              "1  2019-11-05 20:01:46.763769+00:00           NaN             0  reject_price  \n",
              "2  2019-11-06 09:13:13.686217+00:00           NaN             0  reject_price  \n",
              "3  2019-10-31 09:52:30.930302+00:00           NaN             0  reject_price  \n",
              "4  2019-11-20 13:45:01.859383+00:00           day             0     delivered  \n",
              "5  2019-10-31 04:34:54.206605+00:00           NaN             0  reject_price  \n",
              "6  2019-11-02 19:46:15.870573+00:00           NaN             0  reject_price  \n",
              "7  2019-11-03 05:16:21.270880+00:00           NaN             0  reject_price  \n",
              "8  2019-10-15 07:35:48.686186+00:00           day             0     cancelled  \n",
              "9  2019-10-24 13:12:40.461622+00:00           day             1     cancelled  \n",
              "\n",
              "[10 rows x 30 columns]"
            ],
            "text/html": [
              "\n",
              "  <div id=\"df-f9304465-166a-4844-8fa2-8751af5a24b0\">\n",
              "    <div class=\"colab-df-container\">\n",
              "      <div>\n",
              "<style scoped>\n",
              "    .dataframe tbody tr th:only-of-type {\n",
              "        vertical-align: middle;\n",
              "    }\n",
              "\n",
              "    .dataframe tbody tr th {\n",
              "        vertical-align: top;\n",
              "    }\n",
              "\n",
              "    .dataframe thead th {\n",
              "        text-align: right;\n",
              "    }\n",
              "</style>\n",
              "<table border=\"1\" class=\"dataframe\">\n",
              "  <thead>\n",
              "    <tr style=\"text-align: right;\">\n",
              "      <th></th>\n",
              "      <th>Load Type</th>\n",
              "      <th>Source City</th>\n",
              "      <th>Destination City</th>\n",
              "      <th>Source State</th>\n",
              "      <th>Destination State</th>\n",
              "      <th>Source Region</th>\n",
              "      <th>Destination Region</th>\n",
              "      <th>Who Added Role</th>\n",
              "      <th>Driver Income</th>\n",
              "      <th>Weight</th>\n",
              "      <th>...</th>\n",
              "      <th>Destination Lat</th>\n",
              "      <th>Destination Lng</th>\n",
              "      <th>Dispatch Time Delta</th>\n",
              "      <th>Pickup Date Time Delta</th>\n",
              "      <th>Order Channel</th>\n",
              "      <th>Packaging Type</th>\n",
              "      <th>Creation Datetime</th>\n",
              "      <th>Unload Option</th>\n",
              "      <th>Has Comments</th>\n",
              "      <th>Load Status</th>\n",
              "    </tr>\n",
              "  </thead>\n",
              "  <tbody>\n",
              "    <tr>\n",
              "      <th>0</th>\n",
              "      <td>بار صنعتی</td>\n",
              "      <td>یزد</td>\n",
              "      <td>بندرعباس</td>\n",
              "      <td>یزد</td>\n",
              "      <td>هرمزگان</td>\n",
              "      <td>یزد</td>\n",
              "      <td>بندرعباس</td>\n",
              "      <td>anonymous</td>\n",
              "      <td>0.0</td>\n",
              "      <td>24.0</td>\n",
              "      <td>...</td>\n",
              "      <td>27.183222</td>\n",
              "      <td>56.266646</td>\n",
              "      <td>23.928889</td>\n",
              "      <td>NaN</td>\n",
              "      <td>NaN</td>\n",
              "      <td>hichkodam</td>\n",
              "      <td>2019-11-05 06:46:15.847289+00:00</td>\n",
              "      <td>NaN</td>\n",
              "      <td>0</td>\n",
              "      <td>reject_price</td>\n",
              "    </tr>\n",
              "    <tr>\n",
              "      <th>1</th>\n",
              "      <td>بار صنعتی</td>\n",
              "      <td>قزوین</td>\n",
              "      <td>رودسر</td>\n",
              "      <td>قزوین</td>\n",
              "      <td>گیلان</td>\n",
              "      <td>قزوین</td>\n",
              "      <td>چابکسر</td>\n",
              "      <td>anonymous</td>\n",
              "      <td>0.0</td>\n",
              "      <td>5.0</td>\n",
              "      <td>...</td>\n",
              "      <td>36.980067</td>\n",
              "      <td>50.531772</td>\n",
              "      <td>23.970278</td>\n",
              "      <td>NaN</td>\n",
              "      <td>NaN</td>\n",
              "      <td>hichkodam</td>\n",
              "      <td>2019-11-05 20:01:46.763769+00:00</td>\n",
              "      <td>NaN</td>\n",
              "      <td>0</td>\n",
              "      <td>reject_price</td>\n",
              "    </tr>\n",
              "    <tr>\n",
              "      <th>2</th>\n",
              "      <td>بار صنعتی</td>\n",
              "      <td>تهران</td>\n",
              "      <td>همدان</td>\n",
              "      <td>تهران</td>\n",
              "      <td>همدان</td>\n",
              "      <td>تهران</td>\n",
              "      <td>همدان</td>\n",
              "      <td>anonymous</td>\n",
              "      <td>0.0</td>\n",
              "      <td>2.0</td>\n",
              "      <td>...</td>\n",
              "      <td>34.798857</td>\n",
              "      <td>48.515023</td>\n",
              "      <td>23.962778</td>\n",
              "      <td>NaN</td>\n",
              "      <td>NaN</td>\n",
              "      <td>hichkodam</td>\n",
              "      <td>2019-11-06 09:13:13.686217+00:00</td>\n",
              "      <td>NaN</td>\n",
              "      <td>0</td>\n",
              "      <td>reject_price</td>\n",
              "    </tr>\n",
              "    <tr>\n",
              "      <th>3</th>\n",
              "      <td>بار صنعتی</td>\n",
              "      <td>آمل</td>\n",
              "      <td>گرگان</td>\n",
              "      <td>مازندران</td>\n",
              "      <td>گلستان</td>\n",
              "      <td>آمل</td>\n",
              "      <td>گرگان</td>\n",
              "      <td>anonymous</td>\n",
              "      <td>0.0</td>\n",
              "      <td>15.0</td>\n",
              "      <td>...</td>\n",
              "      <td>36.845643</td>\n",
              "      <td>54.439336</td>\n",
              "      <td>23.974722</td>\n",
              "      <td>NaN</td>\n",
              "      <td>NaN</td>\n",
              "      <td>hichkodam</td>\n",
              "      <td>2019-10-31 09:52:30.930302+00:00</td>\n",
              "      <td>NaN</td>\n",
              "      <td>0</td>\n",
              "      <td>reject_price</td>\n",
              "    </tr>\n",
              "    <tr>\n",
              "      <th>4</th>\n",
              "      <td>گلدان پلاستیکی</td>\n",
              "      <td>هشتگرد</td>\n",
              "      <td>اردبیل</td>\n",
              "      <td>البرز</td>\n",
              "      <td>اردبیل</td>\n",
              "      <td>پل کردان</td>\n",
              "      <td>اردبیل</td>\n",
              "      <td>baarbari</td>\n",
              "      <td>0.0</td>\n",
              "      <td>2.0</td>\n",
              "      <td>...</td>\n",
              "      <td>38.256645</td>\n",
              "      <td>48.317509</td>\n",
              "      <td>16.749444</td>\n",
              "      <td>68.358889</td>\n",
              "      <td>web</td>\n",
              "      <td>karton</td>\n",
              "      <td>2019-11-20 13:45:01.859383+00:00</td>\n",
              "      <td>day</td>\n",
              "      <td>0</td>\n",
              "      <td>delivered</td>\n",
              "    </tr>\n",
              "    <tr>\n",
              "      <th>5</th>\n",
              "      <td>بار صنعتی</td>\n",
              "      <td>کازرون</td>\n",
              "      <td>تهران</td>\n",
              "      <td>فارس</td>\n",
              "      <td>تهران</td>\n",
              "      <td>قیروکازین</td>\n",
              "      <td>تهران</td>\n",
              "      <td>anonymous</td>\n",
              "      <td>0.0</td>\n",
              "      <td>5.0</td>\n",
              "      <td>...</td>\n",
              "      <td>35.688905</td>\n",
              "      <td>51.388435</td>\n",
              "      <td>23.968056</td>\n",
              "      <td>NaN</td>\n",
              "      <td>NaN</td>\n",
              "      <td>hichkodam</td>\n",
              "      <td>2019-10-31 04:34:54.206605+00:00</td>\n",
              "      <td>NaN</td>\n",
              "      <td>0</td>\n",
              "      <td>reject_price</td>\n",
              "    </tr>\n",
              "    <tr>\n",
              "      <th>6</th>\n",
              "      <td>بار صنعتی</td>\n",
              "      <td>خوانسار</td>\n",
              "      <td>دیلم</td>\n",
              "      <td>اصفهان</td>\n",
              "      <td>بوشهر</td>\n",
              "      <td>خوانسار</td>\n",
              "      <td>بندر دیلم</td>\n",
              "      <td>anonymous</td>\n",
              "      <td>0.0</td>\n",
              "      <td>10.0</td>\n",
              "      <td>...</td>\n",
              "      <td>30.058981</td>\n",
              "      <td>50.167812</td>\n",
              "      <td>23.978889</td>\n",
              "      <td>NaN</td>\n",
              "      <td>NaN</td>\n",
              "      <td>hichkodam</td>\n",
              "      <td>2019-11-02 19:46:15.870573+00:00</td>\n",
              "      <td>NaN</td>\n",
              "      <td>0</td>\n",
              "      <td>reject_price</td>\n",
              "    </tr>\n",
              "    <tr>\n",
              "      <th>7</th>\n",
              "      <td>بار صنعتی</td>\n",
              "      <td>اصفهان</td>\n",
              "      <td>گنبد کاووس</td>\n",
              "      <td>اصفهان</td>\n",
              "      <td>گلستان</td>\n",
              "      <td>اصفهان</td>\n",
              "      <td>گنبد کاووس</td>\n",
              "      <td>anonymous</td>\n",
              "      <td>0.0</td>\n",
              "      <td>5.0</td>\n",
              "      <td>...</td>\n",
              "      <td>37.238322</td>\n",
              "      <td>55.167322</td>\n",
              "      <td>23.943889</td>\n",
              "      <td>NaN</td>\n",
              "      <td>NaN</td>\n",
              "      <td>hichkodam</td>\n",
              "      <td>2019-11-03 05:16:21.270880+00:00</td>\n",
              "      <td>NaN</td>\n",
              "      <td>0</td>\n",
              "      <td>reject_price</td>\n",
              "    </tr>\n",
              "    <tr>\n",
              "      <th>8</th>\n",
              "      <td>انواع رنگ ومواد پاك کننده</td>\n",
              "      <td>اشتهارد</td>\n",
              "      <td>مشهد</td>\n",
              "      <td>البرز</td>\n",
              "      <td>خراسان رضوی</td>\n",
              "      <td>شهرک صنعتی اشتهارد</td>\n",
              "      <td>مشهد</td>\n",
              "      <td>baarbari</td>\n",
              "      <td>1100000.0</td>\n",
              "      <td>4.0</td>\n",
              "      <td>...</td>\n",
              "      <td>36.272622</td>\n",
              "      <td>59.600624</td>\n",
              "      <td>0.403056</td>\n",
              "      <td>NaN</td>\n",
              "      <td>android</td>\n",
              "      <td>falleh</td>\n",
              "      <td>2019-10-15 07:35:48.686186+00:00</td>\n",
              "      <td>day</td>\n",
              "      <td>0</td>\n",
              "      <td>cancelled</td>\n",
              "    </tr>\n",
              "    <tr>\n",
              "      <th>9</th>\n",
              "      <td>انواع سموم وکودشیمیایی</td>\n",
              "      <td>تهران</td>\n",
              "      <td>اراک</td>\n",
              "      <td>تهران</td>\n",
              "      <td>مرکزی</td>\n",
              "      <td>تهران</td>\n",
              "      <td>اراک</td>\n",
              "      <td>user</td>\n",
              "      <td>744000.0</td>\n",
              "      <td>15.0</td>\n",
              "      <td>...</td>\n",
              "      <td>34.095355</td>\n",
              "      <td>49.701349</td>\n",
              "      <td>39.288611</td>\n",
              "      <td>NaN</td>\n",
              "      <td>android</td>\n",
              "      <td>kiseh_gooni</td>\n",
              "      <td>2019-10-24 13:12:40.461622+00:00</td>\n",
              "      <td>day</td>\n",
              "      <td>1</td>\n",
              "      <td>cancelled</td>\n",
              "    </tr>\n",
              "  </tbody>\n",
              "</table>\n",
              "<p>10 rows × 30 columns</p>\n",
              "</div>\n",
              "      <button class=\"colab-df-convert\" onclick=\"convertToInteractive('df-f9304465-166a-4844-8fa2-8751af5a24b0')\"\n",
              "              title=\"Convert this dataframe to an interactive table.\"\n",
              "              style=\"display:none;\">\n",
              "        \n",
              "  <svg xmlns=\"http://www.w3.org/2000/svg\" height=\"24px\"viewBox=\"0 0 24 24\"\n",
              "       width=\"24px\">\n",
              "    <path d=\"M0 0h24v24H0V0z\" fill=\"none\"/>\n",
              "    <path d=\"M18.56 5.44l.94 2.06.94-2.06 2.06-.94-2.06-.94-.94-2.06-.94 2.06-2.06.94zm-11 1L8.5 8.5l.94-2.06 2.06-.94-2.06-.94L8.5 2.5l-.94 2.06-2.06.94zm10 10l.94 2.06.94-2.06 2.06-.94-2.06-.94-.94-2.06-.94 2.06-2.06.94z\"/><path d=\"M17.41 7.96l-1.37-1.37c-.4-.4-.92-.59-1.43-.59-.52 0-1.04.2-1.43.59L10.3 9.45l-7.72 7.72c-.78.78-.78 2.05 0 2.83L4 21.41c.39.39.9.59 1.41.59.51 0 1.02-.2 1.41-.59l7.78-7.78 2.81-2.81c.8-.78.8-2.07 0-2.86zM5.41 20L4 18.59l7.72-7.72 1.47 1.35L5.41 20z\"/>\n",
              "  </svg>\n",
              "      </button>\n",
              "      \n",
              "  <style>\n",
              "    .colab-df-container {\n",
              "      display:flex;\n",
              "      flex-wrap:wrap;\n",
              "      gap: 12px;\n",
              "    }\n",
              "\n",
              "    .colab-df-convert {\n",
              "      background-color: #E8F0FE;\n",
              "      border: none;\n",
              "      border-radius: 50%;\n",
              "      cursor: pointer;\n",
              "      display: none;\n",
              "      fill: #1967D2;\n",
              "      height: 32px;\n",
              "      padding: 0 0 0 0;\n",
              "      width: 32px;\n",
              "    }\n",
              "\n",
              "    .colab-df-convert:hover {\n",
              "      background-color: #E2EBFA;\n",
              "      box-shadow: 0px 1px 2px rgba(60, 64, 67, 0.3), 0px 1px 3px 1px rgba(60, 64, 67, 0.15);\n",
              "      fill: #174EA6;\n",
              "    }\n",
              "\n",
              "    [theme=dark] .colab-df-convert {\n",
              "      background-color: #3B4455;\n",
              "      fill: #D2E3FC;\n",
              "    }\n",
              "\n",
              "    [theme=dark] .colab-df-convert:hover {\n",
              "      background-color: #434B5C;\n",
              "      box-shadow: 0px 1px 3px 1px rgba(0, 0, 0, 0.15);\n",
              "      filter: drop-shadow(0px 1px 2px rgba(0, 0, 0, 0.3));\n",
              "      fill: #FFFFFF;\n",
              "    }\n",
              "  </style>\n",
              "\n",
              "      <script>\n",
              "        const buttonEl =\n",
              "          document.querySelector('#df-f9304465-166a-4844-8fa2-8751af5a24b0 button.colab-df-convert');\n",
              "        buttonEl.style.display =\n",
              "          google.colab.kernel.accessAllowed ? 'block' : 'none';\n",
              "\n",
              "        async function convertToInteractive(key) {\n",
              "          const element = document.querySelector('#df-f9304465-166a-4844-8fa2-8751af5a24b0');\n",
              "          const dataTable =\n",
              "            await google.colab.kernel.invokeFunction('convertToInteractive',\n",
              "                                                     [key], {});\n",
              "          if (!dataTable) return;\n",
              "\n",
              "          const docLinkHtml = 'Like what you see? Visit the ' +\n",
              "            '<a target=\"_blank\" href=https://colab.research.google.com/notebooks/data_table.ipynb>data table notebook</a>'\n",
              "            + ' to learn more about interactive tables.';\n",
              "          element.innerHTML = '';\n",
              "          dataTable['output_type'] = 'display_data';\n",
              "          await google.colab.output.renderOutput(dataTable, element);\n",
              "          const docLink = document.createElement('div');\n",
              "          docLink.innerHTML = docLinkHtml;\n",
              "          element.appendChild(docLink);\n",
              "        }\n",
              "      </script>\n",
              "    </div>\n",
              "  </div>\n",
              "  "
            ]
          },
          "metadata": {},
          "execution_count": 4
        }
      ]
    },
    {
      "cell_type": "code",
      "source": [
        "orders_data.describe()"
      ],
      "metadata": {
        "colab": {
          "base_uri": "https://localhost:8080/",
          "height": 300
        },
        "id": "5_Mb_55cLv8Z",
        "outputId": "66e86dfc-1369-4e64-a2c1-b1f748b58e90"
      },
      "execution_count": null,
      "outputs": [
        {
          "output_type": "execute_result",
          "data": {
            "text/plain": [
              "       Driver Income        Weight      Distance      Duration  \\\n",
              "count   4.405200e+04  44052.000000  44052.000000  44052.000000   \n",
              "mean    3.677479e+11      7.860764    486.471045      5.681138   \n",
              "std     7.718487e+13      7.912958    440.643799      4.893344   \n",
              "min     0.000000e+00      0.020000      0.000000      0.000000   \n",
              "25%     0.000000e+00      2.000000     50.000000      1.000000   \n",
              "50%     1.800000e+05      4.000000    442.701000      4.861806   \n",
              "75%     1.000000e+06     11.000000    817.966000      9.536319   \n",
              "max     1.620000e+16     25.000000   2622.035000     28.618889   \n",
              "\n",
              "       Transport Cost    Source Lat    Source Lng  Destination Lat  \\\n",
              "count    4.405200e+04  44052.000000  44052.000000     44052.000000   \n",
              "mean     3.677479e+11     34.751266     51.545719        34.018325   \n",
              "std      7.718487e+13      2.201000      2.750519         3.039853   \n",
              "min      0.000000e+00     24.494214     28.953026        24.494214   \n",
              "25%      0.000000e+00     33.640419     50.681933        32.198349   \n",
              "50%      1.850000e+05     35.688905     51.388435        35.490586   \n",
              "75%      1.000000e+06     35.837669     51.667983        36.271035   \n",
              "max      1.620000e+16     41.052112     69.870829        41.052112   \n",
              "\n",
              "       Destination Lng  Dispatch Time Delta  Pickup Date Time Delta  \\\n",
              "count     44052.000000         44052.000000             2808.000000   \n",
              "mean         51.926935            28.755725               27.093312   \n",
              "std           3.837871            59.757645               22.847216   \n",
              "min          28.953026            -4.676944                0.006667   \n",
              "25%          49.587414             3.048333               17.518611   \n",
              "50%          51.388435            18.008333               21.120972   \n",
              "75%          53.031317            24.240069               29.626528   \n",
              "max          69.870829          2204.550833              481.925000   \n",
              "\n",
              "       Has Comments  \n",
              "count  44052.000000  \n",
              "mean       0.362458  \n",
              "std        0.480716  \n",
              "min        0.000000  \n",
              "25%        0.000000  \n",
              "50%        0.000000  \n",
              "75%        1.000000  \n",
              "max        1.000000  "
            ],
            "text/html": [
              "\n",
              "  <div id=\"df-e3ce1129-f002-4d4d-a395-3fd9ef005abd\">\n",
              "    <div class=\"colab-df-container\">\n",
              "      <div>\n",
              "<style scoped>\n",
              "    .dataframe tbody tr th:only-of-type {\n",
              "        vertical-align: middle;\n",
              "    }\n",
              "\n",
              "    .dataframe tbody tr th {\n",
              "        vertical-align: top;\n",
              "    }\n",
              "\n",
              "    .dataframe thead th {\n",
              "        text-align: right;\n",
              "    }\n",
              "</style>\n",
              "<table border=\"1\" class=\"dataframe\">\n",
              "  <thead>\n",
              "    <tr style=\"text-align: right;\">\n",
              "      <th></th>\n",
              "      <th>Driver Income</th>\n",
              "      <th>Weight</th>\n",
              "      <th>Distance</th>\n",
              "      <th>Duration</th>\n",
              "      <th>Transport Cost</th>\n",
              "      <th>Source Lat</th>\n",
              "      <th>Source Lng</th>\n",
              "      <th>Destination Lat</th>\n",
              "      <th>Destination Lng</th>\n",
              "      <th>Dispatch Time Delta</th>\n",
              "      <th>Pickup Date Time Delta</th>\n",
              "      <th>Has Comments</th>\n",
              "    </tr>\n",
              "  </thead>\n",
              "  <tbody>\n",
              "    <tr>\n",
              "      <th>count</th>\n",
              "      <td>4.405200e+04</td>\n",
              "      <td>44052.000000</td>\n",
              "      <td>44052.000000</td>\n",
              "      <td>44052.000000</td>\n",
              "      <td>4.405200e+04</td>\n",
              "      <td>44052.000000</td>\n",
              "      <td>44052.000000</td>\n",
              "      <td>44052.000000</td>\n",
              "      <td>44052.000000</td>\n",
              "      <td>44052.000000</td>\n",
              "      <td>2808.000000</td>\n",
              "      <td>44052.000000</td>\n",
              "    </tr>\n",
              "    <tr>\n",
              "      <th>mean</th>\n",
              "      <td>3.677479e+11</td>\n",
              "      <td>7.860764</td>\n",
              "      <td>486.471045</td>\n",
              "      <td>5.681138</td>\n",
              "      <td>3.677479e+11</td>\n",
              "      <td>34.751266</td>\n",
              "      <td>51.545719</td>\n",
              "      <td>34.018325</td>\n",
              "      <td>51.926935</td>\n",
              "      <td>28.755725</td>\n",
              "      <td>27.093312</td>\n",
              "      <td>0.362458</td>\n",
              "    </tr>\n",
              "    <tr>\n",
              "      <th>std</th>\n",
              "      <td>7.718487e+13</td>\n",
              "      <td>7.912958</td>\n",
              "      <td>440.643799</td>\n",
              "      <td>4.893344</td>\n",
              "      <td>7.718487e+13</td>\n",
              "      <td>2.201000</td>\n",
              "      <td>2.750519</td>\n",
              "      <td>3.039853</td>\n",
              "      <td>3.837871</td>\n",
              "      <td>59.757645</td>\n",
              "      <td>22.847216</td>\n",
              "      <td>0.480716</td>\n",
              "    </tr>\n",
              "    <tr>\n",
              "      <th>min</th>\n",
              "      <td>0.000000e+00</td>\n",
              "      <td>0.020000</td>\n",
              "      <td>0.000000</td>\n",
              "      <td>0.000000</td>\n",
              "      <td>0.000000e+00</td>\n",
              "      <td>24.494214</td>\n",
              "      <td>28.953026</td>\n",
              "      <td>24.494214</td>\n",
              "      <td>28.953026</td>\n",
              "      <td>-4.676944</td>\n",
              "      <td>0.006667</td>\n",
              "      <td>0.000000</td>\n",
              "    </tr>\n",
              "    <tr>\n",
              "      <th>25%</th>\n",
              "      <td>0.000000e+00</td>\n",
              "      <td>2.000000</td>\n",
              "      <td>50.000000</td>\n",
              "      <td>1.000000</td>\n",
              "      <td>0.000000e+00</td>\n",
              "      <td>33.640419</td>\n",
              "      <td>50.681933</td>\n",
              "      <td>32.198349</td>\n",
              "      <td>49.587414</td>\n",
              "      <td>3.048333</td>\n",
              "      <td>17.518611</td>\n",
              "      <td>0.000000</td>\n",
              "    </tr>\n",
              "    <tr>\n",
              "      <th>50%</th>\n",
              "      <td>1.800000e+05</td>\n",
              "      <td>4.000000</td>\n",
              "      <td>442.701000</td>\n",
              "      <td>4.861806</td>\n",
              "      <td>1.850000e+05</td>\n",
              "      <td>35.688905</td>\n",
              "      <td>51.388435</td>\n",
              "      <td>35.490586</td>\n",
              "      <td>51.388435</td>\n",
              "      <td>18.008333</td>\n",
              "      <td>21.120972</td>\n",
              "      <td>0.000000</td>\n",
              "    </tr>\n",
              "    <tr>\n",
              "      <th>75%</th>\n",
              "      <td>1.000000e+06</td>\n",
              "      <td>11.000000</td>\n",
              "      <td>817.966000</td>\n",
              "      <td>9.536319</td>\n",
              "      <td>1.000000e+06</td>\n",
              "      <td>35.837669</td>\n",
              "      <td>51.667983</td>\n",
              "      <td>36.271035</td>\n",
              "      <td>53.031317</td>\n",
              "      <td>24.240069</td>\n",
              "      <td>29.626528</td>\n",
              "      <td>1.000000</td>\n",
              "    </tr>\n",
              "    <tr>\n",
              "      <th>max</th>\n",
              "      <td>1.620000e+16</td>\n",
              "      <td>25.000000</td>\n",
              "      <td>2622.035000</td>\n",
              "      <td>28.618889</td>\n",
              "      <td>1.620000e+16</td>\n",
              "      <td>41.052112</td>\n",
              "      <td>69.870829</td>\n",
              "      <td>41.052112</td>\n",
              "      <td>69.870829</td>\n",
              "      <td>2204.550833</td>\n",
              "      <td>481.925000</td>\n",
              "      <td>1.000000</td>\n",
              "    </tr>\n",
              "  </tbody>\n",
              "</table>\n",
              "</div>\n",
              "      <button class=\"colab-df-convert\" onclick=\"convertToInteractive('df-e3ce1129-f002-4d4d-a395-3fd9ef005abd')\"\n",
              "              title=\"Convert this dataframe to an interactive table.\"\n",
              "              style=\"display:none;\">\n",
              "        \n",
              "  <svg xmlns=\"http://www.w3.org/2000/svg\" height=\"24px\"viewBox=\"0 0 24 24\"\n",
              "       width=\"24px\">\n",
              "    <path d=\"M0 0h24v24H0V0z\" fill=\"none\"/>\n",
              "    <path d=\"M18.56 5.44l.94 2.06.94-2.06 2.06-.94-2.06-.94-.94-2.06-.94 2.06-2.06.94zm-11 1L8.5 8.5l.94-2.06 2.06-.94-2.06-.94L8.5 2.5l-.94 2.06-2.06.94zm10 10l.94 2.06.94-2.06 2.06-.94-2.06-.94-.94-2.06-.94 2.06-2.06.94z\"/><path d=\"M17.41 7.96l-1.37-1.37c-.4-.4-.92-.59-1.43-.59-.52 0-1.04.2-1.43.59L10.3 9.45l-7.72 7.72c-.78.78-.78 2.05 0 2.83L4 21.41c.39.39.9.59 1.41.59.51 0 1.02-.2 1.41-.59l7.78-7.78 2.81-2.81c.8-.78.8-2.07 0-2.86zM5.41 20L4 18.59l7.72-7.72 1.47 1.35L5.41 20z\"/>\n",
              "  </svg>\n",
              "      </button>\n",
              "      \n",
              "  <style>\n",
              "    .colab-df-container {\n",
              "      display:flex;\n",
              "      flex-wrap:wrap;\n",
              "      gap: 12px;\n",
              "    }\n",
              "\n",
              "    .colab-df-convert {\n",
              "      background-color: #E8F0FE;\n",
              "      border: none;\n",
              "      border-radius: 50%;\n",
              "      cursor: pointer;\n",
              "      display: none;\n",
              "      fill: #1967D2;\n",
              "      height: 32px;\n",
              "      padding: 0 0 0 0;\n",
              "      width: 32px;\n",
              "    }\n",
              "\n",
              "    .colab-df-convert:hover {\n",
              "      background-color: #E2EBFA;\n",
              "      box-shadow: 0px 1px 2px rgba(60, 64, 67, 0.3), 0px 1px 3px 1px rgba(60, 64, 67, 0.15);\n",
              "      fill: #174EA6;\n",
              "    }\n",
              "\n",
              "    [theme=dark] .colab-df-convert {\n",
              "      background-color: #3B4455;\n",
              "      fill: #D2E3FC;\n",
              "    }\n",
              "\n",
              "    [theme=dark] .colab-df-convert:hover {\n",
              "      background-color: #434B5C;\n",
              "      box-shadow: 0px 1px 3px 1px rgba(0, 0, 0, 0.15);\n",
              "      filter: drop-shadow(0px 1px 2px rgba(0, 0, 0, 0.3));\n",
              "      fill: #FFFFFF;\n",
              "    }\n",
              "  </style>\n",
              "\n",
              "      <script>\n",
              "        const buttonEl =\n",
              "          document.querySelector('#df-e3ce1129-f002-4d4d-a395-3fd9ef005abd button.colab-df-convert');\n",
              "        buttonEl.style.display =\n",
              "          google.colab.kernel.accessAllowed ? 'block' : 'none';\n",
              "\n",
              "        async function convertToInteractive(key) {\n",
              "          const element = document.querySelector('#df-e3ce1129-f002-4d4d-a395-3fd9ef005abd');\n",
              "          const dataTable =\n",
              "            await google.colab.kernel.invokeFunction('convertToInteractive',\n",
              "                                                     [key], {});\n",
              "          if (!dataTable) return;\n",
              "\n",
              "          const docLinkHtml = 'Like what you see? Visit the ' +\n",
              "            '<a target=\"_blank\" href=https://colab.research.google.com/notebooks/data_table.ipynb>data table notebook</a>'\n",
              "            + ' to learn more about interactive tables.';\n",
              "          element.innerHTML = '';\n",
              "          dataTable['output_type'] = 'display_data';\n",
              "          await google.colab.output.renderOutput(dataTable, element);\n",
              "          const docLink = document.createElement('div');\n",
              "          docLink.innerHTML = docLinkHtml;\n",
              "          element.appendChild(docLink);\n",
              "        }\n",
              "      </script>\n",
              "    </div>\n",
              "  </div>\n",
              "  "
            ]
          },
          "metadata": {},
          "execution_count": 5
        }
      ]
    },
    {
      "cell_type": "code",
      "source": [
        "orders_data.info()"
      ],
      "metadata": {
        "colab": {
          "base_uri": "https://localhost:8080/"
        },
        "id": "RfdYRsrKPKTS",
        "outputId": "d3b034d7-1be3-497e-c00c-91b39827beb4"
      },
      "execution_count": null,
      "outputs": [
        {
          "output_type": "stream",
          "name": "stdout",
          "text": [
            "<class 'pandas.core.frame.DataFrame'>\n",
            "RangeIndex: 44052 entries, 0 to 44051\n",
            "Data columns (total 30 columns):\n",
            " #   Column                  Non-Null Count  Dtype  \n",
            "---  ------                  --------------  -----  \n",
            " 0   Load Type               44052 non-null  object \n",
            " 1   Source City             44052 non-null  object \n",
            " 2   Destination City        44052 non-null  object \n",
            " 3   Source State            44052 non-null  object \n",
            " 4   Destination State       44052 non-null  object \n",
            " 5   Source Region           44052 non-null  object \n",
            " 6   Destination Region      44052 non-null  object \n",
            " 7   Who Added Role          44052 non-null  object \n",
            " 8   Driver Income           44052 non-null  float64\n",
            " 9   Weight                  44052 non-null  float64\n",
            " 10  Distance                44052 non-null  float64\n",
            " 11  Duration                44052 non-null  float64\n",
            " 12  Vehicle Type            44052 non-null  object \n",
            " 13  Vehicle Options         44052 non-null  object \n",
            " 14  Baarnameh Type          38366 non-null  object \n",
            " 15  Transport Cost          44052 non-null  float64\n",
            " 16  Dispatch Date           44052 non-null  object \n",
            " 17  Dipatch Time            44052 non-null  object \n",
            " 18  Source Lat              44052 non-null  float64\n",
            " 19  Source Lng              44052 non-null  float64\n",
            " 20  Destination Lat         44052 non-null  float64\n",
            " 21  Destination Lng         44052 non-null  float64\n",
            " 22  Dispatch Time Delta     44052 non-null  float64\n",
            " 23  Pickup Date Time Delta  2808 non-null   float64\n",
            " 24  Order Channel           35868 non-null  object \n",
            " 25  Packaging Type          44052 non-null  object \n",
            " 26  Creation Datetime       44052 non-null  object \n",
            " 27  Unload Option           37949 non-null  object \n",
            " 28  Has Comments            44052 non-null  int64  \n",
            " 29  Load Status             44052 non-null  object \n",
            "dtypes: float64(11), int64(1), object(18)\n",
            "memory usage: 10.1+ MB\n"
          ]
        }
      ]
    },
    {
      "cell_type": "markdown",
      "source": [
        "### Data Visualization\n"
      ],
      "metadata": {
        "id": "x3f9PSqfYc1V"
      }
    },
    {
      "cell_type": "code",
      "source": [
        "orders_data['Load Status'].value_counts()[:].plot.barh(figsize=(15,7.5), title='Load Status', color='green')\n",
        "plt.xlabel('Orders Count')\n",
        "plt.show()"
      ],
      "metadata": {
        "colab": {
          "base_uri": "https://localhost:8080/",
          "height": 491
        },
        "id": "_bYqc_aAOcMo",
        "outputId": "5f747a6d-465a-4cea-ba85-3d05cee256cc"
      },
      "execution_count": null,
      "outputs": [
        {
          "output_type": "display_data",
          "data": {
            "text/plain": [
              "<Figure size 1080x540 with 1 Axes>"
            ],
            "image/png": "[encoded data removed]"
          },
          "metadata": {}
        }
      ]
    },
    {
      "cell_type": "code",
      "source": [
        "ax = orders_data['Dispatch Date'].value_counts().sort_index(ascending=True).plot.line(x='index', y='Dispatch Date', figsize=(15,7.5),lw=4)\n",
        "orders_data[(orders_data['Load Status'].isin(['delivered', 'pickedup']))]['Dispatch Date'].value_counts().sort_index(ascending=True).plot.line(x='index', y='Dispatch Date', figsize=(15,7.5),lw=4, ax=ax,color='green')\n",
        "orders_data[(orders_data['Load Status'].isin(['cancelled', 'notfound', 'reject_price']))]['Dispatch Date'].value_counts().sort_index(ascending=True).plot.line(x='index', y='Dispatch Date', figsize=(15,7.5),lw=4, ax=ax,color='red')\n",
        "plt.suptitle('Number of orders from 07-23 to 11-08 in year 1398')\n",
        "plt.legend(['Total', 'Successed', 'Failed'])\n",
        "plt.ylabel('Order Count')\n",
        "plt.xlabel('Date')\n",
        "plt.show()"
      ],
      "metadata": {
        "colab": {
          "base_uri": "https://localhost:8080/",
          "height": 529
        },
        "id": "I1Vr5BSEfln3",
        "outputId": "2c2a3ed5-1916-42fe-cd6f-b3dfe8265522"
      },
      "execution_count": null,
      "outputs": [
        {
          "output_type": "display_data",
          "data": {
            "text/plain": [
              "<Figure size 1080x540 with 1 Axes>"
            ],
            "image/png": "[encoded data removed]"
          },
          "metadata": {}
        }
      ]
    },
    {
      "cell_type": "code",
      "source": [
        "\n",
        "orders_data[(orders_data['Load Status'].isin(['delivered', 'pickedup']))]['Dispatch Date'].value_counts().sort_index(ascending=True).plot.line(x='index', y='Dispatch Date', figsize=(10,5),lw=4)\n",
        "plt.suptitle('Number of successed orders from 07-23 to 11-08 in year 1398')\n",
        "plt.ylabel('Order Count')\n",
        "plt.xlabel('Date')\n",
        "plt.show()"
      ],
      "metadata": {
        "colab": {
          "base_uri": "https://localhost:8080/",
          "height": 375
        },
        "id": "iI2835tVpY-g",
        "outputId": "8b36195a-b946-485b-c946-e4415a773033"
      },
      "execution_count": null,
      "outputs": [
        {
          "output_type": "display_data",
          "data": {
            "text/plain": [
              "<Figure size 720x360 with 1 Axes>"
            ],
            "image/png": "[encoded data removed]"
          },
          "metadata": {}
        }
      ]
    },
    {
      "cell_type": "code",
      "source": [
        "orders_data['Baarnameh Type'].value_counts().plot.pie(autopct='%1.0f%%',radius=2,ylabel='')\n",
        "plt.title('Baarnameh Type', y=1.5,fontsize=16)\n",
        "plt.show()"
      ],
      "metadata": {
        "id": "zSt_RVWAQAsW",
        "colab": {
          "base_uri": "https://localhost:8080/",
          "height": 441
        },
        "outputId": "7e9b42eb-5e22-44c0-c9ed-2d80ec0fac63"
      },
      "execution_count": null,
      "outputs": [
        {
          "output_type": "display_data",
          "data": {
            "text/plain": [
              "<Figure size 432x288 with 1 Axes>"
            ],
            "image/png": "[encoded data removed]"
          },
          "metadata": {}
        }
      ]
    },
    {
      "cell_type": "code",
      "source": [
        "orders_data['Packaging Type'].value_counts().plot.pie(autopct='%1.0f%%',radius=2,ylabel='')\n",
        "plt.title('Packaging Type', y=1.5,fontsize=16)\n",
        "plt.show()"
      ],
      "metadata": {
        "colab": {
          "base_uri": "https://localhost:8080/",
          "height": 447
        },
        "id": "QfdkUbOrTz31",
        "outputId": "68d8706e-55f6-40ed-d2ea-90c235b1ed7f"
      },
      "execution_count": null,
      "outputs": [
        {
          "output_type": "display_data",
          "data": {
            "text/plain": [
              "<Figure size 432x288 with 1 Axes>"
            ],
            "image/png": "[encoded data removed]"
          },
          "metadata": {}
        }
      ]
    },
    {
      "cell_type": "code",
      "source": [
        "orders_data['Who Added Role'].value_counts().plot.bar(figsize=(10,4), title='Who Added Role')\n",
        "plt.title('Who Added Role',fontsize=16)\n",
        "plt.show()"
      ],
      "metadata": {
        "colab": {
          "base_uri": "https://localhost:8080/",
          "height": 340
        },
        "id": "5zY2UrJGWn-6",
        "outputId": "264d7ac2-7989-4c4c-89f1-27575b913337"
      },
      "execution_count": null,
      "outputs": [
        {
          "output_type": "display_data",
          "data": {
            "text/plain": [
              "<Figure size 720x288 with 1 Axes>"
            ],
            "image/png": "[encoded data removed]"
          },
          "metadata": {}
        }
      ]
    },
    {
      "cell_type": "markdown",
      "source": [
        "## Data Prepreocessing\n",
        "\n",
        " At the last step we will do some feature engineering and normalization and finally seprate the training and testing datasets\n"
      ],
      "metadata": {
        "id": "8t_fiCf8PraE"
      }
    },
    {
      "cell_type": "markdown",
      "source": [
        "### Feature Engineering"
      ],
      "metadata": {
        "id": "fiQcU6x_5fFP"
      }
    },
    {
      "cell_type": "code",
      "source": [
        "orders_data['Order Channel'] = orders_data['Order Channel'].fillna('Unknown')\n",
        "orders_data['Baarnameh Type'] = orders_data['Baarnameh Type'].fillna('Unknown')\n",
        "# orders_data['Unload Option'] = orders_data['Unload Option'].fillna('Unknown')\n",
        "orders_data['Pickup Date Time Delta'] = orders_data['Pickup Date Time Delta'].fillna(0)"
      ],
      "metadata": {
        "id": "xgfg4ZETEbdP"
      },
      "execution_count": null,
      "outputs": []
    },
    {
      "cell_type": "code",
      "source": [
        "orders_data['vehicle_typ_enc'] = orders_data['Vehicle Type'].astype('category').cat.codes\n",
        "orders_data['baarnameh_typ_enc'] = orders_data['Baarnameh Type'].astype('category').cat.codes\n",
        "orders_data['order_channel_enc'] = orders_data['Order Channel'].astype('category').cat.codes\n",
        "\n",
        "\n",
        "orders_data.loc[0:200, ['Vehicle Type', 'vehicle_typ_enc', 'baarnameh_typ_enc', 'Baarnameh Type', 'order_channel_enc', 'Order Channel']]"
      ],
      "metadata": {
        "colab": {
          "base_uri": "https://localhost:8080/",
          "height": 424
        },
        "id": "Cy6V_DKW5mRC",
        "outputId": "205467c6-9a5b-447b-ec9d-48cf04f690bd"
      },
      "execution_count": null,
      "outputs": [
        {
          "output_type": "execute_result",
          "data": {
            "text/plain": [
              "    Vehicle Type  vehicle_typ_enc  baarnameh_typ_enc  Baarnameh Type  \\\n",
              "0         treili                4                  0         Unknown   \n",
              "1         khavar                1                  0         Unknown   \n",
              "2         nissan                2                  0         Unknown   \n",
              "3           joft                0                  0         Unknown   \n",
              "4         khavar                1                  5  self_baarnameh   \n",
              "..           ...              ...                ...             ...   \n",
              "196       khavar                1                  1       baarnameh   \n",
              "197       khavar                1                  0         Unknown   \n",
              "198       khavar                1                  1       baarnameh   \n",
              "199       khavar                1                  1       baarnameh   \n",
              "200       khavar                1                  5  self_baarnameh   \n",
              "\n",
              "     order_channel_enc Order Channel  \n",
              "0                    0       Unknown  \n",
              "1                    0       Unknown  \n",
              "2                    0       Unknown  \n",
              "3                    0       Unknown  \n",
              "4                    3           web  \n",
              "..                 ...           ...  \n",
              "196                  1       android  \n",
              "197                  0       Unknown  \n",
              "198                  1       android  \n",
              "199                  3           web  \n",
              "200                  3           web  \n",
              "\n",
              "[201 rows x 6 columns]"
            ],
            "text/html": [
              "\n",
              "  <div id=\"df-0053bb54-c3e8-4a47-8a99-07efdfb7158f\">\n",
              "    <div class=\"colab-df-container\">\n",
              "      <div>\n",
              "<style scoped>\n",
              "    .dataframe tbody tr th:only-of-type {\n",
              "        vertical-align: middle;\n",
              "    }\n",
              "\n",
              "    .dataframe tbody tr th {\n",
              "        vertical-align: top;\n",
              "    }\n",
              "\n",
              "    .dataframe thead th {\n",
              "        text-align: right;\n",
              "    }\n",
              "</style>\n",
              "<table border=\"1\" class=\"dataframe\">\n",
              "  <thead>\n",
              "    <tr style=\"text-align: right;\">\n",
              "      <th></th>\n",
              "      <th>Vehicle Type</th>\n",
              "      <th>vehicle_typ_enc</th>\n",
              "      <th>baarnameh_typ_enc</th>\n",
              "      <th>Baarnameh Type</th>\n",
              "      <th>order_channel_enc</th>\n",
              "      <th>Order Channel</th>\n",
              "    </tr>\n",
              "  </thead>\n",
              "  <tbody>\n",
              "    <tr>\n",
              "      <th>0</th>\n",
              "      <td>treili</td>\n",
              "      <td>4</td>\n",
              "      <td>0</td>\n",
              "      <td>Unknown</td>\n",
              "      <td>0</td>\n",
              "      <td>Unknown</td>\n",
              "    </tr>\n",
              "    <tr>\n",
              "      <th>1</th>\n",
              "      <td>khavar</td>\n",
              "      <td>1</td>\n",
              "      <td>0</td>\n",
              "      <td>Unknown</td>\n",
              "      <td>0</td>\n",
              "      <td>Unknown</td>\n",
              "    </tr>\n",
              "    <tr>\n",
              "      <th>2</th>\n",
              "      <td>nissan</td>\n",
              "      <td>2</td>\n",
              "      <td>0</td>\n",
              "      <td>Unknown</td>\n",
              "      <td>0</td>\n",
              "      <td>Unknown</td>\n",
              "    </tr>\n",
              "    <tr>\n",
              "      <th>3</th>\n",
              "      <td>joft</td>\n",
              "      <td>0</td>\n",
              "      <td>0</td>\n",
              "      <td>Unknown</td>\n",
              "      <td>0</td>\n",
              "      <td>Unknown</td>\n",
              "    </tr>\n",
              "    <tr>\n",
              "      <th>4</th>\n",
              "      <td>khavar</td>\n",
              "      <td>1</td>\n",
              "      <td>5</td>\n",
              "      <td>self_baarnameh</td>\n",
              "      <td>3</td>\n",
              "      <td>web</td>\n",
              "    </tr>\n",
              "    <tr>\n",
              "      <th>...</th>\n",
              "      <td>...</td>\n",
              "      <td>...</td>\n",
              "      <td>...</td>\n",
              "      <td>...</td>\n",
              "      <td>...</td>\n",
              "      <td>...</td>\n",
              "    </tr>\n",
              "    <tr>\n",
              "      <th>196</th>\n",
              "      <td>khavar</td>\n",
              "      <td>1</td>\n",
              "      <td>1</td>\n",
              "      <td>baarnameh</td>\n",
              "      <td>1</td>\n",
              "      <td>android</td>\n",
              "    </tr>\n",
              "    <tr>\n",
              "      <th>197</th>\n",
              "      <td>khavar</td>\n",
              "      <td>1</td>\n",
              "      <td>0</td>\n",
              "      <td>Unknown</td>\n",
              "      <td>0</td>\n",
              "      <td>Unknown</td>\n",
              "    </tr>\n",
              "    <tr>\n",
              "      <th>198</th>\n",
              "      <td>khavar</td>\n",
              "      <td>1</td>\n",
              "      <td>1</td>\n",
              "      <td>baarnameh</td>\n",
              "      <td>1</td>\n",
              "      <td>android</td>\n",
              "    </tr>\n",
              "    <tr>\n",
              "      <th>199</th>\n",
              "      <td>khavar</td>\n",
              "      <td>1</td>\n",
              "      <td>1</td>\n",
              "      <td>baarnameh</td>\n",
              "      <td>3</td>\n",
              "      <td>web</td>\n",
              "    </tr>\n",
              "    <tr>\n",
              "      <th>200</th>\n",
              "      <td>khavar</td>\n",
              "      <td>1</td>\n",
              "      <td>5</td>\n",
              "      <td>self_baarnameh</td>\n",
              "      <td>3</td>\n",
              "      <td>web</td>\n",
              "    </tr>\n",
              "  </tbody>\n",
              "</table>\n",
              "<p>201 rows × 6 columns</p>\n",
              "</div>\n",
              "      <button class=\"colab-df-convert\" onclick=\"convertToInteractive('df-0053bb54-c3e8-4a47-8a99-07efdfb7158f')\"\n",
              "              title=\"Convert this dataframe to an interactive table.\"\n",
              "              style=\"display:none;\">\n",
              "        \n",
              "  <svg xmlns=\"http://www.w3.org/2000/svg\" height=\"24px\"viewBox=\"0 0 24 24\"\n",
              "       width=\"24px\">\n",
              "    <path d=\"M0 0h24v24H0V0z\" fill=\"none\"/>\n",
              "    <path d=\"M18.56 5.44l.94 2.06.94-2.06 2.06-.94-2.06-.94-.94-2.06-.94 2.06-2.06.94zm-11 1L8.5 8.5l.94-2.06 2.06-.94-2.06-.94L8.5 2.5l-.94 2.06-2.06.94zm10 10l.94 2.06.94-2.06 2.06-.94-2.06-.94-.94-2.06-.94 2.06-2.06.94z\"/><path d=\"M17.41 7.96l-1.37-1.37c-.4-.4-.92-.59-1.43-.59-.52 0-1.04.2-1.43.59L10.3 9.45l-7.72 7.72c-.78.78-.78 2.05 0 2.83L4 21.41c.39.39.9.59 1.41.59.51 0 1.02-.2 1.41-.59l7.78-7.78 2.81-2.81c.8-.78.8-2.07 0-2.86zM5.41 20L4 18.59l7.72-7.72 1.47 1.35L5.41 20z\"/>\n",
              "  </svg>\n",
              "      </button>\n",
              "      \n",
              "  <style>\n",
              "    .colab-df-container {\n",
              "      display:flex;\n",
              "      flex-wrap:wrap;\n",
              "      gap: 12px;\n",
              "    }\n",
              "\n",
              "    .colab-df-convert {\n",
              "      background-color: #E8F0FE;\n",
              "      border: none;\n",
              "      border-radius: 50%;\n",
              "      cursor: pointer;\n",
              "      display: none;\n",
              "      fill: #1967D2;\n",
              "      height: 32px;\n",
              "      padding: 0 0 0 0;\n",
              "      width: 32px;\n",
              "    }\n",
              "\n",
              "    .colab-df-convert:hover {\n",
              "      background-color: #E2EBFA;\n",
              "      box-shadow: 0px 1px 2px rgba(60, 64, 67, 0.3), 0px 1px 3px 1px rgba(60, 64, 67, 0.15);\n",
              "      fill: #174EA6;\n",
              "    }\n",
              "\n",
              "    [theme=dark] .colab-df-convert {\n",
              "      background-color: #3B4455;\n",
              "      fill: #D2E3FC;\n",
              "    }\n",
              "\n",
              "    [theme=dark] .colab-df-convert:hover {\n",
              "      background-color: #434B5C;\n",
              "      box-shadow: 0px 1px 3px 1px rgba(0, 0, 0, 0.15);\n",
              "      filter: drop-shadow(0px 1px 2px rgba(0, 0, 0, 0.3));\n",
              "      fill: #FFFFFF;\n",
              "    }\n",
              "  </style>\n",
              "\n",
              "      <script>\n",
              "        const buttonEl =\n",
              "          document.querySelector('#df-0053bb54-c3e8-4a47-8a99-07efdfb7158f button.colab-df-convert');\n",
              "        buttonEl.style.display =\n",
              "          google.colab.kernel.accessAllowed ? 'block' : 'none';\n",
              "\n",
              "        async function convertToInteractive(key) {\n",
              "          const element = document.querySelector('#df-0053bb54-c3e8-4a47-8a99-07efdfb7158f');\n",
              "          const dataTable =\n",
              "            await google.colab.kernel.invokeFunction('convertToInteractive',\n",
              "                                                     [key], {});\n",
              "          if (!dataTable) return;\n",
              "\n",
              "          const docLinkHtml = 'Like what you see? Visit the ' +\n",
              "            '<a target=\"_blank\" href=https://colab.research.google.com/notebooks/data_table.ipynb>data table notebook</a>'\n",
              "            + ' to learn more about interactive tables.';\n",
              "          element.innerHTML = '';\n",
              "          dataTable['output_type'] = 'display_data';\n",
              "          await google.colab.output.renderOutput(dataTable, element);\n",
              "          const docLink = document.createElement('div');\n",
              "          docLink.innerHTML = docLinkHtml;\n",
              "          element.appendChild(docLink);\n",
              "        }\n",
              "      </script>\n",
              "    </div>\n",
              "  </div>\n",
              "  "
            ]
          },
          "metadata": {},
          "execution_count": 14
        }
      ]
    },
    {
      "cell_type": "markdown",
      "source": [
        "### Data Cleaning\n",
        "First of all we need to do some data cleaning."
      ],
      "metadata": {
        "id": "M6iv9O4EYmHD"
      }
    },
    {
      "cell_type": "code",
      "source": [
        "orders_data.select_dtypes(include = \"object\").columns"
      ],
      "metadata": {
        "colab": {
          "base_uri": "https://localhost:8080/"
        },
        "id": "SNk8XYonedlZ",
        "outputId": "c86fc18b-a861-481e-93c8-3f0b69cad5dc"
      },
      "execution_count": null,
      "outputs": [
        {
          "output_type": "execute_result",
          "data": {
            "text/plain": [
              "Index(['Load Type', 'Source City', 'Destination City', 'Source State',\n",
              "       'Destination State', 'Source Region', 'Destination Region',\n",
              "       'Who Added Role', 'Vehicle Type', 'Vehicle Options', 'Baarnameh Type',\n",
              "       'Dispatch Date', 'Dipatch Time', 'Order Channel', 'Packaging Type',\n",
              "       'Creation Datetime', 'Unload Option', 'Load Status'],\n",
              "      dtype='object')"
            ]
          },
          "metadata": {},
          "execution_count": 15
        }
      ]
    },
    {
      "cell_type": "code",
      "source": [
        "df_orig = copy.deepcopy(orders_data)\n",
        "to_drop_columns = ['Vehicle Options','Source City', 'Destination City', 'Source State', 'Destination State', 'Source Region', 'Destination Region']\n",
        "orders_data.drop(to_drop_columns, axis=1, inplace=True)"
      ],
      "metadata": {
        "id": "tFskwD__qs-X"
      },
      "execution_count": null,
      "outputs": []
    },
    {
      "cell_type": "markdown",
      "source": [
        "Now let's see what other columns we have with non-numeric values"
      ],
      "metadata": {
        "id": "WL6kuRllsydC"
      }
    },
    {
      "cell_type": "code",
      "source": [
        "for col_name in list(orders_data.select_dtypes(include = \"object\").columns):\n",
        "  print('Number of unique values in column %s is %d\\n' %(col_name,len(orders_data[col_name].unique())))"
      ],
      "metadata": {
        "colab": {
          "base_uri": "https://localhost:8080/"
        },
        "id": "hXyw--y8szYB",
        "outputId": "06472910-8a12-4f12-a3b5-fece90499ccd"
      },
      "execution_count": null,
      "outputs": [
        {
          "output_type": "stream",
          "name": "stdout",
          "text": [
            "Number of unique values in column Load Type is 1194\n",
            "\n",
            "Number of unique values in column Who Added Role is 4\n",
            "\n",
            "Number of unique values in column Vehicle Type is 5\n",
            "\n",
            "Number of unique values in column Baarnameh Type is 6\n",
            "\n",
            "Number of unique values in column Dispatch Date is 84\n",
            "\n",
            "Number of unique values in column Dipatch Time is 1098\n",
            "\n",
            "Number of unique values in column Order Channel is 4\n",
            "\n",
            "Number of unique values in column Packaging Type is 7\n",
            "\n",
            "Number of unique values in column Creation Datetime is 26863\n",
            "\n",
            "Number of unique values in column Unload Option is 3\n",
            "\n",
            "Number of unique values in column Load Status is 5\n",
            "\n"
          ]
        }
      ]
    },
    {
      "cell_type": "markdown",
      "source": [
        "We can convert some of these columns to a numerical ones."
      ],
      "metadata": {
        "id": "I4RTHvWvBXek"
      }
    },
    {
      "cell_type": "code",
      "source": [
        "#@title Reformat Date and Time Columns Utilities\n",
        "def reformat_date(date):\n",
        "  return date.replace(\"-\", '')\n",
        "\n",
        "def reformat_time(time):\n",
        "  time = time.replace(\":\", '')\n",
        "  return time[:-2]\n",
        "\n",
        "def reformat_datetime(datetime):\n",
        "  return datetime[:datetime.find('.')]\n",
        "\n",
        "def extract_date(datetime):\n",
        "  return datetime[:datetime.find(' ')]\n",
        "\n",
        "def extract_time(datetime):\n",
        "  return datetime[datetime.find(' '):]\n",
        "\n",
        "def extract_day(date):\n",
        "  return int(date[-2:])\n",
        "\n",
        "def extract_month(date):\n",
        "  return int(date[-4:-2])\n",
        "\n",
        "def extract_year(date):\n",
        "  return int(date[:4])\n",
        "\n",
        "def extract_hour(time):\n",
        "  return int(time[:-2])\n",
        "\n",
        "def extract_mins(time):\n",
        "  return int(time[-2:])"
      ],
      "metadata": {
        "cellView": "form",
        "id": "6nIc87yrtPpy"
      },
      "execution_count": null,
      "outputs": []
    },
    {
      "cell_type": "markdown",
      "source": [
        "Now we will reformat date and time columns and convert them to numerical columns. And finally we drop unnecessary columns. As all the data in the same year we will not create column for dispatch and creation year"
      ],
      "metadata": {
        "id": "joElGqcA6etJ"
      }
    },
    {
      "cell_type": "code",
      "source": [
        "orders_data['Dispatch Date'] = orders_data['Dispatch Date'].apply(reformat_date)\n",
        "orders_data['Dipatch Time'] = orders_data['Dipatch Time'].apply(reformat_time)\n",
        "\n",
        "orders_data['Creation Datetime'] = orders_data['Creation Datetime'].apply(reformat_datetime)\n",
        "\n",
        "orders_data['Creation Date'] = orders_data['Creation Datetime'].apply(extract_date)\n",
        "orders_data['Creation Time'] = orders_data['Creation Datetime'].apply(extract_time)\n",
        "orders_data['Creation Date'] = orders_data['Creation Date'].apply(reformat_date)\n",
        "orders_data['Creation Time'] = orders_data['Creation Time'].apply(reformat_time)\n",
        "\n",
        "orders_data['Dispatch Month'] = orders_data['Dispatch Date'].apply(extract_month)\n",
        "orders_data['Dispatch Day'] = orders_data['Dispatch Date'].apply(extract_day)\n",
        "orders_data['Creation Month'] = orders_data['Creation Date'].apply(extract_month)\n",
        "orders_data['Creation Day'] = orders_data['Creation Date'].apply(extract_day)\n",
        "\n",
        "orders_data['Dispatch Hour'] = orders_data['Dipatch Time'].apply(extract_hour)\n",
        "orders_data['Dispatch Minuts'] = orders_data['Dipatch Time'].apply(extract_mins)\n",
        "orders_data['Creation Hour'] = orders_data['Creation Time'].apply(extract_hour)\n",
        "orders_data['Creation Minuts'] = orders_data['Creation Time'].apply(extract_mins)\n",
        "\n",
        "to_drop_columns = ['Dispatch Date','Dipatch Time', 'Creation Datetime', 'Creation Date', 'Creation Time']\n",
        "orders_data.drop(to_drop_columns, axis=1, inplace=True)"
      ],
      "metadata": {
        "id": "HsvK2KrjwO4m"
      },
      "execution_count": null,
      "outputs": []
    },
    {
      "cell_type": "markdown",
      "source": [
        "We have more than 1000 types of Load Type in our dataset. So we need to set a threshold to reduce this diversity"
      ],
      "metadata": {
        "id": "pb4kUZYBJ46O"
      }
    },
    {
      "cell_type": "code",
      "source": [
        "#@title Load Type Frequency Threshold\n",
        "\n",
        "frequency_threshold = 10 #@param {type:\"integer\"}\n",
        "\n",
        "orig_orders_data = copy.deepcopy(orders_data)\n",
        "\n",
        "freq = orders_data['Load Type'].value_counts()\n",
        "idx = freq.values\n",
        "print(\"Number of unique Load Type values: \",len(freq[freq.values > frequency_threshold]))\n",
        "print(\"From raw dataset {0:.2f} will remains after using the above threshold\".format(\n",
        "    (freq[freq.values > frequency_threshold].sum())/orders_data.shape[0]*100)\n",
        "  )\n",
        "freq_ser = freq[freq.values > frequency_threshold]\n",
        "orders_data = orders_data[orders_data['Load Type'].isin(freq_ser.index)]\n"
      ],
      "metadata": {
        "colab": {
          "base_uri": "https://localhost:8080/"
        },
        "id": "FGiW1E5N66n2",
        "outputId": "e51ceaf7-da12-4134-8f45-8688ef191163"
      },
      "execution_count": null,
      "outputs": [
        {
          "output_type": "stream",
          "name": "stdout",
          "text": [
            "Number of unique Load Type values:  208\n",
            "From raw dataset 93.56 will remains after using the above threshold\n"
          ]
        }
      ]
    },
    {
      "cell_type": "code",
      "source": [
        "for col_name in list(orders_data.select_dtypes(include = \"object\").columns):\n",
        "  print('Number of unique values in column %s is %d\\n' %(col_name,len(orders_data[col_name].unique())))"
      ],
      "metadata": {
        "colab": {
          "base_uri": "https://localhost:8080/"
        },
        "id": "j6fZO6zG6M2P",
        "outputId": "40e95bb1-07c4-4505-f027-618d9bba21d4"
      },
      "execution_count": null,
      "outputs": [
        {
          "output_type": "stream",
          "name": "stdout",
          "text": [
            "Number of unique values in column Load Type is 208\n",
            "\n",
            "Number of unique values in column Who Added Role is 4\n",
            "\n",
            "Number of unique values in column Vehicle Type is 5\n",
            "\n",
            "Number of unique values in column Baarnameh Type is 6\n",
            "\n",
            "Number of unique values in column Order Channel is 4\n",
            "\n",
            "Number of unique values in column Packaging Type is 7\n",
            "\n",
            "Number of unique values in column Unload Option is 3\n",
            "\n",
            "Number of unique values in column Load Status is 5\n",
            "\n"
          ]
        }
      ]
    },
    {
      "cell_type": "markdown",
      "source": [
        "Given that the range of unique values for each column is not that large, let's use one-hot encoding."
      ],
      "metadata": {
        "id": "imuVe16qBJar"
      }
    },
    {
      "cell_type": "code",
      "source": [
        "orders_data = orders_data[(orders_data['Load Status'].isin(['delivered', 'pickedup']))]\n",
        "#First, let's separate the target column, price\n",
        "y = orders_data.pop('Packaging Type')"
      ],
      "metadata": {
        "id": "r-cuWAsg3zS9"
      },
      "execution_count": null,
      "outputs": []
    },
    {
      "cell_type": "code",
      "source": [
        "to_drop_columns = orders_data.select_dtypes(include = \"object\").columns\n",
        "orders_data.drop(to_drop_columns, axis=1, inplace=True)"
      ],
      "metadata": {
        "id": "IZVWy-WWDB1v"
      },
      "execution_count": null,
      "outputs": []
    },
    {
      "cell_type": "markdown",
      "source": [
        "### Data Normalization\n",
        "\n"
      ],
      "metadata": {
        "id": "3g1bQUy5myF7"
      }
    },
    {
      "cell_type": "code",
      "source": [
        "from sklearn.preprocessing import StandardScaler\n",
        "\n",
        "scaler = StandardScaler()\n",
        "\n",
        "standard_scaling_columns = ['Driver Income', 'Weight', 'Distance', 'Duration', 'Transport Cost', 'Source Lat', 'Source Lng', 'Destination Lat', 'Destination Lng']\n",
        "orders_data[standard_scaling_columns] = scaler.fit_transform(orders_data[standard_scaling_columns])\n",
        "orders_data[standard_scaling_columns].describe()"
      ],
      "metadata": {
        "colab": {
          "base_uri": "https://localhost:8080/",
          "height": 300
        },
        "id": "fP3kEOHfYGWl",
        "outputId": "920748cc-5f47-492e-bf7e-125c601bddc9"
      },
      "execution_count": null,
      "outputs": [
        {
          "output_type": "execute_result",
          "data": {
            "text/plain": [
              "       Driver Income        Weight      Distance      Duration  \\\n",
              "count   2.562000e+03  2.562000e+03  2.562000e+03  2.562000e+03   \n",
              "mean   -1.941374e-17 -4.298756e-17  4.437425e-17 -8.320173e-17   \n",
              "std     1.000195e+00  1.000195e+00  1.000195e+00  1.000195e+00   \n",
              "min    -9.165993e-01 -7.664315e-01 -7.135835e-01 -8.230528e-01   \n",
              "25%    -5.712024e-01 -4.135564e-01 -6.242074e-01 -6.114955e-01   \n",
              "50%    -4.498467e-01 -4.135564e-01 -5.619496e-01 -5.814280e-01   \n",
              "75%     2.036069e-01 -4.210898e-02  4.036522e-01  4.949957e-01   \n",
              "max     6.028679e+00  8.129735e+00  4.770752e+00  4.491065e+00   \n",
              "\n",
              "       Transport Cost    Source Lat    Source Lng  Destination Lat  \\\n",
              "count    2.562000e+03  2.562000e+03  2.562000e+03     2.562000e+03   \n",
              "mean    -2.773391e-18 -4.375024e-15 -4.861754e-15     6.926544e-16   \n",
              "std      1.000195e+00  1.000195e+00  1.000195e+00     1.000195e+00   \n",
              "min     -9.166124e-01 -8.183200e+00 -1.650846e+01    -4.932054e+00   \n",
              "25%     -5.712185e-01  1.417168e-01 -8.871019e-02     1.517269e-02   \n",
              "50%     -4.498639e-01  1.417168e-01 -1.314478e-02     3.547712e-01   \n",
              "75%      2.035840e-01  2.317025e-01  1.741040e-01     3.547712e-01   \n",
              "max      6.028605e+00  5.245140e+00  7.234980e+00     1.824137e+00   \n",
              "\n",
              "       Destination Lng  \n",
              "count     2.562000e+03  \n",
              "mean     -4.412465e-15  \n",
              "std       1.000195e+00  \n",
              "min      -2.741199e+00  \n",
              "25%      -4.955656e-02  \n",
              "50%       2.545196e-02  \n",
              "75%       2.545196e-02  \n",
              "max       7.948289e+00  "
            ],
            "text/html": [
              "\n",
              "  <div id=\"df-d8ee2961-33fb-4406-a1d7-0d31a7d6ad6d\">\n",
              "    <div class=\"colab-df-container\">\n",
              "      <div>\n",
              "<style scoped>\n",
              "    .dataframe tbody tr th:only-of-type {\n",
              "        vertical-align: middle;\n",
              "    }\n",
              "\n",
              "    .dataframe tbody tr th {\n",
              "        vertical-align: top;\n",
              "    }\n",
              "\n",
              "    .dataframe thead th {\n",
              "        text-align: right;\n",
              "    }\n",
              "</style>\n",
              "<table border=\"1\" class=\"dataframe\">\n",
              "  <thead>\n",
              "    <tr style=\"text-align: right;\">\n",
              "      <th></th>\n",
              "      <th>Driver Income</th>\n",
              "      <th>Weight</th>\n",
              "      <th>Distance</th>\n",
              "      <th>Duration</th>\n",
              "      <th>Transport Cost</th>\n",
              "      <th>Source Lat</th>\n",
              "      <th>Source Lng</th>\n",
              "      <th>Destination Lat</th>\n",
              "      <th>Destination Lng</th>\n",
              "    </tr>\n",
              "  </thead>\n",
              "  <tbody>\n",
              "    <tr>\n",
              "      <th>count</th>\n",
              "      <td>2.562000e+03</td>\n",
              "      <td>2.562000e+03</td>\n",
              "      <td>2.562000e+03</td>\n",
              "      <td>2.562000e+03</td>\n",
              "      <td>2.562000e+03</td>\n",
              "      <td>2.562000e+03</td>\n",
              "      <td>2.562000e+03</td>\n",
              "      <td>2.562000e+03</td>\n",
              "      <td>2.562000e+03</td>\n",
              "    </tr>\n",
              "    <tr>\n",
              "      <th>mean</th>\n",
              "      <td>-1.941374e-17</td>\n",
              "      <td>-4.298756e-17</td>\n",
              "      <td>4.437425e-17</td>\n",
              "      <td>-8.320173e-17</td>\n",
              "      <td>-2.773391e-18</td>\n",
              "      <td>-4.375024e-15</td>\n",
              "      <td>-4.861754e-15</td>\n",
              "      <td>6.926544e-16</td>\n",
              "      <td>-4.412465e-15</td>\n",
              "    </tr>\n",
              "    <tr>\n",
              "      <th>std</th>\n",
              "      <td>1.000195e+00</td>\n",
              "      <td>1.000195e+00</td>\n",
              "      <td>1.000195e+00</td>\n",
              "      <td>1.000195e+00</td>\n",
              "      <td>1.000195e+00</td>\n",
              "      <td>1.000195e+00</td>\n",
              "      <td>1.000195e+00</td>\n",
              "      <td>1.000195e+00</td>\n",
              "      <td>1.000195e+00</td>\n",
              "    </tr>\n",
              "    <tr>\n",
              "      <th>min</th>\n",
              "      <td>-9.165993e-01</td>\n",
              "      <td>-7.664315e-01</td>\n",
              "      <td>-7.135835e-01</td>\n",
              "      <td>-8.230528e-01</td>\n",
              "      <td>-9.166124e-01</td>\n",
              "      <td>-8.183200e+00</td>\n",
              "      <td>-1.650846e+01</td>\n",
              "      <td>-4.932054e+00</td>\n",
              "      <td>-2.741199e+00</td>\n",
              "    </tr>\n",
              "    <tr>\n",
              "      <th>25%</th>\n",
              "      <td>-5.712024e-01</td>\n",
              "      <td>-4.135564e-01</td>\n",
              "      <td>-6.242074e-01</td>\n",
              "      <td>-6.114955e-01</td>\n",
              "      <td>-5.712185e-01</td>\n",
              "      <td>1.417168e-01</td>\n",
              "      <td>-8.871019e-02</td>\n",
              "      <td>1.517269e-02</td>\n",
              "      <td>-4.955656e-02</td>\n",
              "    </tr>\n",
              "    <tr>\n",
              "      <th>50%</th>\n",
              "      <td>-4.498467e-01</td>\n",
              "      <td>-4.135564e-01</td>\n",
              "      <td>-5.619496e-01</td>\n",
              "      <td>-5.814280e-01</td>\n",
              "      <td>-4.498639e-01</td>\n",
              "      <td>1.417168e-01</td>\n",
              "      <td>-1.314478e-02</td>\n",
              "      <td>3.547712e-01</td>\n",
              "      <td>2.545196e-02</td>\n",
              "    </tr>\n",
              "    <tr>\n",
              "      <th>75%</th>\n",
              "      <td>2.036069e-01</td>\n",
              "      <td>-4.210898e-02</td>\n",
              "      <td>4.036522e-01</td>\n",
              "      <td>4.949957e-01</td>\n",
              "      <td>2.035840e-01</td>\n",
              "      <td>2.317025e-01</td>\n",
              "      <td>1.741040e-01</td>\n",
              "      <td>3.547712e-01</td>\n",
              "      <td>2.545196e-02</td>\n",
              "    </tr>\n",
              "    <tr>\n",
              "      <th>max</th>\n",
              "      <td>6.028679e+00</td>\n",
              "      <td>8.129735e+00</td>\n",
              "      <td>4.770752e+00</td>\n",
              "      <td>4.491065e+00</td>\n",
              "      <td>6.028605e+00</td>\n",
              "      <td>5.245140e+00</td>\n",
              "      <td>7.234980e+00</td>\n",
              "      <td>1.824137e+00</td>\n",
              "      <td>7.948289e+00</td>\n",
              "    </tr>\n",
              "  </tbody>\n",
              "</table>\n",
              "</div>\n",
              "      <button class=\"colab-df-convert\" onclick=\"convertToInteractive('df-d8ee2961-33fb-4406-a1d7-0d31a7d6ad6d')\"\n",
              "              title=\"Convert this dataframe to an interactive table.\"\n",
              "              style=\"display:none;\">\n",
              "        \n",
              "  <svg xmlns=\"http://www.w3.org/2000/svg\" height=\"24px\"viewBox=\"0 0 24 24\"\n",
              "       width=\"24px\">\n",
              "    <path d=\"M0 0h24v24H0V0z\" fill=\"none\"/>\n",
              "    <path d=\"M18.56 5.44l.94 2.06.94-2.06 2.06-.94-2.06-.94-.94-2.06-.94 2.06-2.06.94zm-11 1L8.5 8.5l.94-2.06 2.06-.94-2.06-.94L8.5 2.5l-.94 2.06-2.06.94zm10 10l.94 2.06.94-2.06 2.06-.94-2.06-.94-.94-2.06-.94 2.06-2.06.94z\"/><path d=\"M17.41 7.96l-1.37-1.37c-.4-.4-.92-.59-1.43-.59-.52 0-1.04.2-1.43.59L10.3 9.45l-7.72 7.72c-.78.78-.78 2.05 0 2.83L4 21.41c.39.39.9.59 1.41.59.51 0 1.02-.2 1.41-.59l7.78-7.78 2.81-2.81c.8-.78.8-2.07 0-2.86zM5.41 20L4 18.59l7.72-7.72 1.47 1.35L5.41 20z\"/>\n",
              "  </svg>\n",
              "      </button>\n",
              "      \n",
              "  <style>\n",
              "    .colab-df-container {\n",
              "      display:flex;\n",
              "      flex-wrap:wrap;\n",
              "      gap: 12px;\n",
              "    }\n",
              "\n",
              "    .colab-df-convert {\n",
              "      background-color: #E8F0FE;\n",
              "      border: none;\n",
              "      border-radius: 50%;\n",
              "      cursor: pointer;\n",
              "      display: none;\n",
              "      fill: #1967D2;\n",
              "      height: 32px;\n",
              "      padding: 0 0 0 0;\n",
              "      width: 32px;\n",
              "    }\n",
              "\n",
              "    .colab-df-convert:hover {\n",
              "      background-color: #E2EBFA;\n",
              "      box-shadow: 0px 1px 2px rgba(60, 64, 67, 0.3), 0px 1px 3px 1px rgba(60, 64, 67, 0.15);\n",
              "      fill: #174EA6;\n",
              "    }\n",
              "\n",
              "    [theme=dark] .colab-df-convert {\n",
              "      background-color: #3B4455;\n",
              "      fill: #D2E3FC;\n",
              "    }\n",
              "\n",
              "    [theme=dark] .colab-df-convert:hover {\n",
              "      background-color: #434B5C;\n",
              "      box-shadow: 0px 1px 3px 1px rgba(0, 0, 0, 0.15);\n",
              "      filter: drop-shadow(0px 1px 2px rgba(0, 0, 0, 0.3));\n",
              "      fill: #FFFFFF;\n",
              "    }\n",
              "  </style>\n",
              "\n",
              "      <script>\n",
              "        const buttonEl =\n",
              "          document.querySelector('#df-d8ee2961-33fb-4406-a1d7-0d31a7d6ad6d button.colab-df-convert');\n",
              "        buttonEl.style.display =\n",
              "          google.colab.kernel.accessAllowed ? 'block' : 'none';\n",
              "\n",
              "        async function convertToInteractive(key) {\n",
              "          const element = document.querySelector('#df-d8ee2961-33fb-4406-a1d7-0d31a7d6ad6d');\n",
              "          const dataTable =\n",
              "            await google.colab.kernel.invokeFunction('convertToInteractive',\n",
              "                                                     [key], {});\n",
              "          if (!dataTable) return;\n",
              "\n",
              "          const docLinkHtml = 'Like what you see? Visit the ' +\n",
              "            '<a target=\"_blank\" href=https://colab.research.google.com/notebooks/data_table.ipynb>data table notebook</a>'\n",
              "            + ' to learn more about interactive tables.';\n",
              "          element.innerHTML = '';\n",
              "          dataTable['output_type'] = 'display_data';\n",
              "          await google.colab.output.renderOutput(dataTable, element);\n",
              "          const docLink = document.createElement('div');\n",
              "          docLink.innerHTML = docLinkHtml;\n",
              "          element.appendChild(docLink);\n",
              "        }\n",
              "      </script>\n",
              "    </div>\n",
              "  </div>\n",
              "  "
            ]
          },
          "metadata": {},
          "execution_count": 24
        }
      ]
    },
    {
      "cell_type": "code",
      "source": [
        "from sklearn.model_selection import train_test_split, cross_val_score\n",
        "\n",
        "X_train,X_test,y_train,y_test=train_test_split(orders_data,y,test_size=0.3)\n",
        "print(X_train.shape)\n",
        "print(X_test.shape)"
      ],
      "metadata": {
        "id": "8HbO-cOjmxzE",
        "colab": {
          "base_uri": "https://localhost:8080/"
        },
        "outputId": "0219b529-b303-4779-cce2-eb9c010eadbc"
      },
      "execution_count": null,
      "outputs": [
        {
          "output_type": "stream",
          "name": "stdout",
          "text": [
            "(1793, 23)\n",
            "(769, 23)\n"
          ]
        }
      ]
    },
    {
      "cell_type": "markdown",
      "source": [
        "## Classification\n",
        "Now it is time to test classification algorithms in action, starting from linear classifiers."
      ],
      "metadata": {
        "id": "XTHIZvq501Of"
      }
    },
    {
      "cell_type": "markdown",
      "source": [
        "### SVM Classification\n"
      ],
      "metadata": {
        "id": "Ymow-kky2BzD"
      }
    },
    {
      "cell_type": "code",
      "source": [
        "from sklearn.svm import SVC\n",
        "model = SVC(C=2,kernel='linear',decision_function_shape = \"ovr\",max_iter=20000)    # C > 0 means we are having some l2-regularization  penalty\n",
        "model.fit(X_train, y_train)"
      ],
      "metadata": {
        "colab": {
          "base_uri": "https://localhost:8080/"
        },
        "id": "Fx7SG82K09EE",
        "outputId": "eb1bc7ad-6494-4a72-a637-7234aab7dc69"
      },
      "execution_count": null,
      "outputs": [
        {
          "output_type": "stream",
          "name": "stderr",
          "text": [
            "/usr/local/lib/python3.7/dist-packages/sklearn/svm/_base.py:289: ConvergenceWarning: Solver terminated early (max_iter=20000).  Consider pre-processing your data with StandardScaler or MinMaxScaler.\n",
            "  ConvergenceWarning,\n"
          ]
        },
        {
          "output_type": "execute_result",
          "data": {
            "text/plain": [
              "SVC(C=2, kernel='linear', max_iter=20000)"
            ]
          },
          "metadata": {},
          "execution_count": 26
        }
      ]
    },
    {
      "cell_type": "code",
      "source": [
        "predictions = model.predict(X_test)"
      ],
      "metadata": {
        "id": "cv8mYhPy37WF"
      },
      "execution_count": null,
      "outputs": []
    },
    {
      "cell_type": "code",
      "source": [
        "from sklearn.metrics import f1_score\n",
        "print('Macro F1-score is %.2f' %f1_score(y_test, predictions, average='macro'))"
      ],
      "metadata": {
        "colab": {
          "base_uri": "https://localhost:8080/"
        },
        "id": "3lAiAjYI384X",
        "outputId": "3b0ba138-b2fb-46cf-916b-473a3a39dd30"
      },
      "execution_count": null,
      "outputs": [
        {
          "output_type": "stream",
          "name": "stdout",
          "text": [
            "Macro F1-score is 0.38\n"
          ]
        }
      ]
    },
    {
      "cell_type": "markdown",
      "source": [
        "Let's also try SVM with nonlinear kernels"
      ],
      "metadata": {
        "id": "IPCU8QaxC7ht"
      }
    },
    {
      "cell_type": "code",
      "source": [
        "model = SVC(C=2,kernel='rbf',decision_function_shape = \"ovr\",max_iter=20000)    # C > 0 means we are having some l2-regularization  penalty\n",
        "model.fit(X_train, y_train)\n",
        "\n",
        "# Predict the results\n",
        "predictions = model.predict(X_test)\n",
        "\n",
        "# Evaluate the score\n",
        "from sklearn.metrics import f1_score\n",
        "print('Macro F1-score is %.2f' %f1_score(y_test, predictions, average='macro'))"
      ],
      "metadata": {
        "colab": {
          "base_uri": "https://localhost:8080/"
        },
        "id": "AZYrHWk3C9tq",
        "outputId": "f9f1b979-48c8-4c1e-c009-e820cb156061"
      },
      "execution_count": null,
      "outputs": [
        {
          "output_type": "stream",
          "name": "stdout",
          "text": [
            "Macro F1-score is 0.25\n"
          ]
        }
      ]
    },
    {
      "cell_type": "markdown",
      "source": [
        "A Confusion matrix could help us see which classes are being misclassified most:"
      ],
      "metadata": {
        "id": "Q3z9TXN1DDd1"
      }
    },
    {
      "cell_type": "code",
      "source": [
        "from sklearn.metrics import plot_confusion_matrix\n",
        "fig, ax = plt.subplots(figsize=(10, 10))\n",
        "plot_confusion_matrix(model, X_test, y_test,ax=ax)\n",
        "plt.show()"
      ],
      "metadata": {
        "colab": {
          "base_uri": "https://localhost:8080/",
          "height": 635
        },
        "id": "D8_Zkb6_C_Mg",
        "outputId": "e21c37e5-1549-415b-ece5-d893c367c027"
      },
      "execution_count": null,
      "outputs": [
        {
          "output_type": "stream",
          "name": "stderr",
          "text": [
            "/usr/local/lib/python3.7/dist-packages/sklearn/utils/deprecation.py:87: FutureWarning: Function plot_confusion_matrix is deprecated; Function `plot_confusion_matrix` is deprecated in 1.0 and will be removed in 1.2. Use one of the class methods: ConfusionMatrixDisplay.from_predictions or ConfusionMatrixDisplay.from_estimator.\n",
            "  warnings.warn(msg, category=FutureWarning)\n"
          ]
        },
        {
          "output_type": "display_data",
          "data": {
            "text/plain": [
              "<Figure size 720x720 with 2 Axes>"
            ],
            "image/png": "[encoded data removed]"
          },
          "metadata": {}
        }
      ]
    },
    {
      "cell_type": "markdown",
      "source": [
        "### Logistic Regression"
      ],
      "metadata": {
        "id": "UU-ppolZDIkX"
      }
    },
    {
      "cell_type": "markdown",
      "source": [
        "In this section we will use logistic regression by OVR and Multinomail approaches. Also we calculate log loss for each of the outputs"
      ],
      "metadata": {
        "id": "4_10b3VoFa4t"
      }
    },
    {
      "cell_type": "code",
      "source": [
        "# Diable warnings about max_itr not reached etc.!\n",
        "def warn(*args, **kwargs):\n",
        "    pass\n",
        "import warnings\n",
        "warnings.warn = warn"
      ],
      "metadata": {
        "id": "BoduOvySDPGp"
      },
      "execution_count": null,
      "outputs": []
    },
    {
      "cell_type": "markdown",
      "source": [
        "First of all we will use OVR technique to classfy packaging type with logistic regression"
      ],
      "metadata": {
        "id": "LrBWqHFKTa4J"
      }
    },
    {
      "cell_type": "code",
      "source": [
        "from sklearn.linear_model import LogisticRegression\n",
        "model = LogisticRegression(penalty='none',max_iter=400,multi_class='ovr')\n",
        "model.fit(X_train, y_train)"
      ],
      "metadata": {
        "colab": {
          "base_uri": "https://localhost:8080/"
        },
        "id": "RfURlxvRDZcU",
        "outputId": "0d4d1239-1b01-4da4-c7de-9224f8319442"
      },
      "execution_count": null,
      "outputs": [
        {
          "output_type": "execute_result",
          "data": {
            "text/plain": [
              "LogisticRegression(max_iter=400, multi_class='ovr', penalty='none')"
            ]
          },
          "metadata": {},
          "execution_count": 142
        }
      ]
    },
    {
      "cell_type": "code",
      "source": [
        "predictions = model.predict(X_test)\n",
        "print('Macro F1-score is %.2f' %f1_score(y_test, predictions, average='macro'))"
      ],
      "metadata": {
        "id": "XKENf726Dbj_",
        "colab": {
          "base_uri": "https://localhost:8080/"
        },
        "outputId": "af5846a5-0c9e-41a2-87a0-ff1cf3d72ff7"
      },
      "execution_count": null,
      "outputs": [
        {
          "output_type": "stream",
          "name": "stdout",
          "text": [
            "Macro F1-score is 0.45\n"
          ]
        }
      ]
    },
    {
      "cell_type": "code",
      "source": [
        "from sklearn.metrics import log_loss\n",
        "\n",
        "print('Log loss of the output is %.2f' %log_loss(y_test, predictions))"
      ],
      "metadata": {
        "id": "KloX9pvKDdXU"
      },
      "execution_count": null,
      "outputs": []
    },
    {
      "cell_type": "markdown",
      "source": [
        "Now we will use multinomail approach"
      ],
      "metadata": {
        "id": "HfzmMbyLDmDI"
      }
    },
    {
      "cell_type": "code",
      "source": [
        "model = LogisticRegression(penalty='none',max_iter=400,multi_class='multinomial')\n",
        "model.fit(X_train, y_train)"
      ],
      "metadata": {
        "colab": {
          "base_uri": "https://localhost:8080/"
        },
        "id": "MHIV6c7iDuoi",
        "outputId": "dc4f5e2c-3a85-4ebe-f6ff-fcd6f67d5f3f"
      },
      "execution_count": null,
      "outputs": [
        {
          "output_type": "execute_result",
          "data": {
            "text/plain": [
              "LogisticRegression(max_iter=400, multi_class='multinomial', penalty='none')"
            ]
          },
          "metadata": {},
          "execution_count": 35
        }
      ]
    },
    {
      "cell_type": "code",
      "source": [
        "predictions = model.predict(X_test)\n",
        "print('Macro F1-score is %.2f' %f1_score(y_test, predictions, average='macro'))"
      ],
      "metadata": {
        "colab": {
          "base_uri": "https://localhost:8080/"
        },
        "id": "ts6S9fnFDugs",
        "outputId": "053c519f-2fe6-4fa1-a3a0-d4dd916308f9"
      },
      "execution_count": null,
      "outputs": [
        {
          "output_type": "stream",
          "name": "stdout",
          "text": [
            "Macro F1-score is 0.44\n"
          ]
        }
      ]
    },
    {
      "cell_type": "code",
      "source": [
        "print('Log loss of the output is %.2f' %log_loss(y_test, predictions))"
      ],
      "metadata": {
        "id": "OeMRELaNJaYX"
      },
      "execution_count": null,
      "outputs": []
    },
    {
      "cell_type": "markdown",
      "source": [
        "### KNN"
      ],
      "metadata": {
        "id": "AhNdYMqmZBiC"
      }
    },
    {
      "cell_type": "markdown",
      "source": [
        "In this section we try to classify packaging type and tune it for the best number of neighbors"
      ],
      "metadata": {
        "id": "9TJ0L130Cbbh"
      }
    },
    {
      "cell_type": "code",
      "source": [
        "from sklearn.neighbors import KNeighborsClassifier\n",
        "model = KNeighborsClassifier(n_neighbors=6,weights='distance')\n",
        "model.fit(X_train, y_train)\n",
        "predictions = model.predict(X_test)\n",
        "print('Macro F1-score on Training set is %.2f' %f1_score(y_test, predictions, average='macro'))"
      ],
      "metadata": {
        "colab": {
          "base_uri": "https://localhost:8080/"
        },
        "id": "TdXZ1E2MaUet",
        "outputId": "89edb572-1062-41d0-c6a0-707bbc35ca98"
      },
      "execution_count": null,
      "outputs": [
        {
          "output_type": "stream",
          "name": "stdout",
          "text": [
            "Macro F1-score on Training set is 0.72\n"
          ]
        }
      ]
    },
    {
      "cell_type": "code",
      "source": [
        "scores = []\n",
        "neighbors_list = [2,3,5,8,10,12,15,18,20,25,27,30,35,40,50]\n",
        "scores = []\n",
        "scores_train = []\n",
        "for n in neighbors_list:\n",
        "\n",
        "    # Create the model\n",
        "    model = KNeighborsClassifier(n_neighbors=n,weights='distance')\n",
        "    model.fit(X_train, y_train)\n",
        "    predictions_train = model.predict(X_train)\n",
        "    F1_train = f1_score(y_train, predictions_train, average='macro')\n",
        "    scores_train.append(F1_train)\n",
        "\n",
        "    predictions = model.predict(X_test)\n",
        "    F1 = f1_score(y_test, predictions, average='macro')\n",
        "    scores.append(F1)\n",
        "\n",
        "\n",
        "# Plot the results\n",
        "plt.figure(figsize=(20,8))\n",
        "plt.plot(neighbors_list,scores,lw=5)\n",
        "plt.plot(neighbors_list,scores_train,lw=5,color='orange')\n",
        "plt.xlabel('Number of neighbors')\n",
        "plt.ylabel('F1-Score')\n",
        "plt.legend(['F1: Test Set','F1: Train Set'])\n",
        "plt.show()\n"
      ],
      "metadata": {
        "colab": {
          "base_uri": "https://localhost:8080/",
          "height": 502
        },
        "id": "fpCWJBdEaXqT",
        "outputId": "b9898d90-3e43-42c8-f28c-2355e90a8990"
      },
      "execution_count": null,
      "outputs": [
        {
          "output_type": "display_data",
          "data": {
            "text/plain": [
              "<Figure size 1440x576 with 1 Axes>"
            ],
            "image/png": "[encoded data removed]"
          },
          "metadata": {}
        }
      ]
    },
    {
      "cell_type": "markdown",
      "source": [
        "The best value for number of neighbors is **18**"
      ],
      "metadata": {
        "id": "BMiZtOhLDMif"
      }
    },
    {
      "cell_type": "markdown",
      "source": [
        "### Decision Tree\n",
        "In this section we will use decision trees to classify packaging types"
      ],
      "metadata": {
        "id": "r-5forjEahwH"
      }
    },
    {
      "cell_type": "code",
      "source": [
        "from sklearn.tree import DecisionTreeClassifier\n",
        "model = DecisionTreeClassifier(criterion='gini',max_depth=10)\n",
        "model.fit(X_train, y_train)"
      ],
      "metadata": {
        "colab": {
          "base_uri": "https://localhost:8080/"
        },
        "id": "lgaxXMPmands",
        "outputId": "a41d8ee4-7909-4f7d-f8fb-83504d5231d4"
      },
      "execution_count": null,
      "outputs": [
        {
          "output_type": "execute_result",
          "data": {
            "text/plain": [
              "DecisionTreeClassifier(max_depth=10)"
            ]
          },
          "metadata": {},
          "execution_count": 40
        }
      ]
    },
    {
      "cell_type": "code",
      "source": [
        "predictions = model.predict(X_test)\n",
        "print('Macro F1-score is %.2f' %f1_score(y_test, predictions, average='macro'))"
      ],
      "metadata": {
        "colab": {
          "base_uri": "https://localhost:8080/"
        },
        "id": "ci__12u9apnd",
        "outputId": "a085fc0b-901a-4823-a0dc-12038a4933ac"
      },
      "execution_count": null,
      "outputs": [
        {
          "output_type": "stream",
          "name": "stdout",
          "text": [
            "Macro F1-score is 0.65\n"
          ]
        }
      ]
    },
    {
      "cell_type": "markdown",
      "source": [
        "### Boosting\n",
        "By boosting algorithms we will try to predict the packageing type of each order. So we will try three different boosting approaches. First of all we will try XGBoosting and then use LightGBM and Catboost approaches"
      ],
      "metadata": {
        "id": "sZLK04kIb_I_"
      }
    },
    {
      "cell_type": "code",
      "source": [
        "from xgboost import XGBClassifier\n",
        "model = XGBClassifier(n_estimators=50)\n",
        "model.fit(X_train, y_train,eval_metric=f1_score)"
      ],
      "metadata": {
        "colab": {
          "base_uri": "https://localhost:8080/"
        },
        "id": "BxChaRBVcGmm",
        "outputId": "3a5fbb45-d80b-4d50-aefd-84f36ced99d0"
      },
      "execution_count": null,
      "outputs": [
        {
          "output_type": "execute_result",
          "data": {
            "text/plain": [
              "XGBClassifier(n_estimators=50, objective='multi:softprob')"
            ]
          },
          "metadata": {},
          "execution_count": 42
        }
      ]
    },
    {
      "cell_type": "code",
      "source": [
        "predictions = model.predict(X_test)\n",
        "print('Macro F1-score is %.2f' %f1_score(y_test, predictions, average='macro'))"
      ],
      "metadata": {
        "id": "312rBddBcIce",
        "outputId": "1edcea08-1c98-4871-f60a-c91e18389c88",
        "colab": {
          "base_uri": "https://localhost:8080/"
        }
      },
      "execution_count": null,
      "outputs": [
        {
          "output_type": "stream",
          "name": "stdout",
          "text": [
            "Macro F1-score is 0.65\n"
          ]
        }
      ]
    },
    {
      "cell_type": "markdown",
      "source": [
        "Now we use LightGBM Boosting algorithm"
      ],
      "metadata": {
        "id": "cPgQfdSpHHo1"
      }
    },
    {
      "cell_type": "code",
      "source": [
        "import lightgbm as lgb\n",
        "\n",
        "model = lgb.LGBMClassifier(learning_rate=0.09,max_depth=10)\n",
        "model.fit(X_train,y_train,eval_metric=f1_score) #'logloss')"
      ],
      "metadata": {
        "id": "k11wD-AEcI_F",
        "colab": {
          "base_uri": "https://localhost:8080/"
        },
        "outputId": "98ceb5e7-53ad-4c63-d406-5a730eb02cda"
      },
      "execution_count": null,
      "outputs": [
        {
          "output_type": "execute_result",
          "data": {
            "text/plain": [
              "LGBMClassifier(learning_rate=0.09, max_depth=10)"
            ]
          },
          "metadata": {},
          "execution_count": 44
        }
      ]
    },
    {
      "cell_type": "code",
      "source": [
        "predictions = model.predict(X_test)\n",
        "print('Macro F1-score is %.2f' %f1_score(y_test, predictions, average='macro'))"
      ],
      "metadata": {
        "colab": {
          "base_uri": "https://localhost:8080/"
        },
        "id": "dfOzwBMAHQx0",
        "outputId": "16979766-bb1f-4026-fa74-c31dc94db704"
      },
      "execution_count": null,
      "outputs": [
        {
          "output_type": "stream",
          "name": "stdout",
          "text": [
            "Macro F1-score is 0.74\n"
          ]
        }
      ]
    },
    {
      "cell_type": "markdown",
      "source": [
        "And finally we try Catboost algorithm"
      ],
      "metadata": {
        "id": "r9NX24uIHaWl"
      }
    },
    {
      "cell_type": "code",
      "source": [
        "#@title Install CatBoost\n",
        "!pip install catboost\n",
        "clear_output()\n",
        "print(\"Done!\")"
      ],
      "metadata": {
        "colab": {
          "base_uri": "https://localhost:8080/"
        },
        "cellView": "form",
        "id": "A7R7--msHfAW",
        "outputId": "822d68b6-dc67-40b9-e18f-4fc364e43bfa"
      },
      "execution_count": null,
      "outputs": [
        {
          "output_type": "stream",
          "name": "stdout",
          "text": [
            "Done!\n"
          ]
        }
      ]
    },
    {
      "cell_type": "code",
      "source": [
        "from catboost import CatBoostClassifier\n",
        "model = CatBoostClassifier(iterations=100,\n",
        "                          learning_rate=.3,\n",
        "                          depth=5,\n",
        "                          verbose=False,\n",
        "                          )\n",
        "model.fit(X_train,y_train)"
      ],
      "metadata": {
        "colab": {
          "base_uri": "https://localhost:8080/"
        },
        "id": "_y7mjZDZHjIf",
        "outputId": "9877b80f-58e0-4632-8451-4b1a94315ca0"
      },
      "execution_count": null,
      "outputs": [
        {
          "output_type": "execute_result",
          "data": {
            "text/plain": [
              "<catboost.core.CatBoostClassifier at 0x7fd91af0f3d0>"
            ]
          },
          "metadata": {},
          "execution_count": 47
        }
      ]
    },
    {
      "cell_type": "code",
      "source": [
        "predictions = model.predict(X_test)\n",
        "print('Macro F1-score is %.2f' %f1_score(y_test, predictions, average='macro'))"
      ],
      "metadata": {
        "colab": {
          "base_uri": "https://localhost:8080/"
        },
        "id": "ir2CU66LHy2h",
        "outputId": "9dc70bbb-7f75-45cf-b24c-a8a8f4b55a1a"
      },
      "execution_count": null,
      "outputs": [
        {
          "output_type": "stream",
          "name": "stdout",
          "text": [
            "Macro F1-score is 0.74\n"
          ]
        }
      ]
    },
    {
      "cell_type": "markdown",
      "source": [
        "## Bonus"
      ],
      "metadata": {
        "id": "4kDI-7TlFp9N"
      }
    },
    {
      "cell_type": "code",
      "source": [
        "from google.colab import drive\n",
        "drive.mount('/content/gdrive')\n",
        "\n",
        "os.environ['KAGGLE_CONFIG_DIR'] = \"/content/gdrive/My Drive/Kaggle\"\n",
        "\n",
        "! kaggle datasets download -d sujaypandit/fifa19-player-and-league-dataset"
      ],
      "metadata": {
        "colab": {
          "base_uri": "https://localhost:8080/"
        },
        "id": "FFetVrYFH2OP",
        "outputId": "55593df6-f14e-4f68-a62d-e3148ccd5fc0"
      },
      "execution_count": null,
      "outputs": [
        {
          "output_type": "stream",
          "name": "stdout",
          "text": [
            "Drive already mounted at /content/gdrive; to attempt to forcibly remount, call drive.mount(\"/content/gdrive\", force_remount=True).\n",
            "Downloading fifa19-player-and-league-dataset.zip to /content\n",
            "  0% 0.00/1.94M [00:00<?, ?B/s]\n",
            "100% 1.94M/1.94M [00:00<00:00, 120MB/s]\n"
          ]
        }
      ]
    },
    {
      "cell_type": "code",
      "source": [
        "!unzip \\*.zip && rm *.zip"
      ],
      "metadata": {
        "colab": {
          "base_uri": "https://localhost:8080/"
        },
        "id": "ERALeq1yFuxo",
        "outputId": "193e7a94-c155-4775-9402-1b6dc8918aee"
      },
      "execution_count": null,
      "outputs": [
        {
          "output_type": "stream",
          "name": "stdout",
          "text": [
            "Archive:  fifa19-player-and-league-dataset.zip\n",
            "replace Fifa19.csv? [y]es, [n]o, [A]ll, [N]one, [r]ename: y\n",
            "  inflating: Fifa19.csv              \n"
          ]
        }
      ]
    },
    {
      "cell_type": "code",
      "source": [
        "df = pd.read_csv('Fifa19.csv')\n",
        "print(df.shape)"
      ],
      "metadata": {
        "colab": {
          "base_uri": "https://localhost:8080/"
        },
        "id": "Pi0g9eyGGE1G",
        "outputId": "7905b7ea-e487-44fa-cb99-0797025568ab"
      },
      "execution_count": null,
      "outputs": [
        {
          "output_type": "stream",
          "name": "stdout",
          "text": [
            "(16344, 89)\n"
          ]
        }
      ]
    },
    {
      "cell_type": "markdown",
      "source": [
        "It seems we have too many positions! We can combine some of them together to simplify the problem:"
      ],
      "metadata": {
        "id": "P90ZkNF3Kkqv"
      }
    },
    {
      "cell_type": "code",
      "source": [
        "# We go for a 4-3-3 formation!\n",
        "df.loc[df['Position']=='ST','Position']='CF'              # All strickers are now counte as Central Forward (CF)\n",
        "df.loc[df['Position']=='RS','Position']='RF'              # All right strikers are counted as Right Forward (RF)\n",
        "df.loc[df['Position']=='LS','Position']='LF'              # All left strikers are counted as Left Forward (RF)\n",
        "\n",
        "# Midfield\n",
        "df.loc[df['Position'].isin(['RCM','RAM','RDM']),'Position']='RM'      # All variants right Middfieldsers (i.e. attacking and defending) are now counted as right middfielders\n",
        "df.loc[df['Position'].isin(['LCM','LAM','LDM']),'Position']='LM'      # All variants left Middfieldsers (i.e. attacking and defending) are now counted as left middfielders\n",
        "df.loc[df['Position'].isin(['CAM','CDM']),'Position']='CM'              # All central midfielders grouped together\n",
        "\n",
        "# Defense\n",
        "df.loc[df['Position'].isin(['RW','RWB']),'Position']='RB'      # All variants right defenders (i.e. wing and wing back) are now counted as right defenders\n",
        "df.loc[df['Position'].isin(['LW','LWB','CB']),'Position']='LB'      # All variants Left defenders (i.e. wing and wing back) are now counted as left defenders"
      ],
      "metadata": {
        "id": "bl6jVIBZGFJg"
      },
      "execution_count": null,
      "outputs": []
    },
    {
      "cell_type": "markdown",
      "source": [
        "Data cleaning"
      ],
      "metadata": {
        "id": "dr2PQJuOKtHV"
      }
    },
    {
      "cell_type": "code",
      "source": [
        "for col_name in list(df.columns):\n",
        "  no_null_values = sum(df[col_name].isnull())\n",
        "  if no_null_values:\n",
        "    print('Number of null values in column %s is %d' %(col_name,no_null_values))"
      ],
      "metadata": {
        "colab": {
          "base_uri": "https://localhost:8080/"
        },
        "id": "wi_DYNKpKvla",
        "outputId": "768b8d42-a8ab-419e-a954-74bd594026ab"
      },
      "execution_count": null,
      "outputs": [
        {
          "output_type": "stream",
          "name": "stdout",
          "text": [
            "Number of null values in column Preferred Foot is 40\n",
            "Number of null values in column International Reputation is 40\n",
            "Number of null values in column Weak Foot is 40\n",
            "Number of null values in column Skill Moves is 40\n",
            "Number of null values in column Work Rate is 40\n",
            "Number of null values in column Body Type is 40\n",
            "Number of null values in column Real Face is 40\n",
            "Number of null values in column Position is 40\n",
            "Number of null values in column Jersey Number is 40\n",
            "Number of null values in column Joined is 1174\n",
            "Number of null values in column Loaned From is 15210\n",
            "Number of null values in column Contract Valid Until is 40\n",
            "Number of null values in column Height is 40\n",
            "Number of null values in column Weight is 40\n",
            "Number of null values in column LS is 1859\n",
            "Number of null values in column ST is 1859\n",
            "Number of null values in column RS is 1859\n",
            "Number of null values in column LW is 1859\n",
            "Number of null values in column LF is 1859\n",
            "Number of null values in column CF is 1859\n",
            "Number of null values in column RF is 1859\n",
            "Number of null values in column RW is 1859\n",
            "Number of null values in column LAM is 1859\n",
            "Number of null values in column CAM is 1859\n",
            "Number of null values in column RAM is 1859\n",
            "Number of null values in column LM is 1859\n",
            "Number of null values in column LCM is 1859\n",
            "Number of null values in column CM is 1859\n",
            "Number of null values in column RCM is 1859\n",
            "Number of null values in column RM is 1859\n",
            "Number of null values in column LWB is 1859\n",
            "Number of null values in column LDM is 1859\n",
            "Number of null values in column CDM is 1859\n",
            "Number of null values in column RDM is 1859\n",
            "Number of null values in column RWB is 1859\n",
            "Number of null values in column LB is 1859\n",
            "Number of null values in column LCB is 1859\n",
            "Number of null values in column CB is 1859\n",
            "Number of null values in column RCB is 1859\n",
            "Number of null values in column RB is 1859\n",
            "Number of null values in column Crossing is 40\n",
            "Number of null values in column Finishing is 40\n",
            "Number of null values in column HeadingAccuracy is 40\n",
            "Number of null values in column ShortPassing is 40\n",
            "Number of null values in column Volleys is 40\n",
            "Number of null values in column Dribbling is 40\n",
            "Number of null values in column Curve is 40\n",
            "Number of null values in column FKAccuracy is 40\n",
            "Number of null values in column LongPassing is 40\n",
            "Number of null values in column BallControl is 40\n",
            "Number of null values in column Acceleration is 40\n",
            "Number of null values in column SprintSpeed is 40\n",
            "Number of null values in column Agility is 40\n",
            "Number of null values in column Reactions is 40\n",
            "Number of null values in column Balance is 40\n",
            "Number of null values in column ShotPower is 40\n",
            "Number of null values in column Jumping is 40\n",
            "Number of null values in column Stamina is 40\n",
            "Number of null values in column Strength is 40\n",
            "Number of null values in column LongShots is 40\n",
            "Number of null values in column Aggression is 40\n",
            "Number of null values in column Interceptions is 40\n",
            "Number of null values in column Positioning is 40\n",
            "Number of null values in column Vision is 40\n",
            "Number of null values in column Penalties is 40\n",
            "Number of null values in column Composure is 40\n",
            "Number of null values in column Marking is 40\n",
            "Number of null values in column StandingTackle is 40\n",
            "Number of null values in column SlidingTackle is 40\n",
            "Number of null values in column GKDiving is 40\n",
            "Number of null values in column GKHandling is 40\n",
            "Number of null values in column GKKicking is 40\n",
            "Number of null values in column GKPositioning is 40\n",
            "Number of null values in column GKReflexes is 40\n",
            "Number of null values in column Release Clause is 1184\n"
          ]
        }
      ]
    },
    {
      "cell_type": "code",
      "source": [
        "df['Joined'].value_counts()"
      ],
      "metadata": {
        "colab": {
          "base_uri": "https://localhost:8080/"
        },
        "id": "EQ2s1i8XV_yz",
        "outputId": "dfa6bb64-31cc-4a52-ae58-ae6b63010a1b"
      },
      "execution_count": null,
      "outputs": [
        {
          "output_type": "execute_result",
          "data": {
            "text/plain": [
              "Jul 1, 2018     1465\n",
              "Jul 1, 2017     1086\n",
              "Jul 1, 2016      578\n",
              "Jan 1, 2018      509\n",
              "Jul 1, 2015      345\n",
              "                ... \n",
              "May 21, 2017       1\n",
              "Mar 16, 2016       1\n",
              "Mar 19, 2016       1\n",
              "Jun 12, 2014       1\n",
              "Oct 31, 2015       1\n",
              "Name: Joined, Length: 1688, dtype: int64"
            ]
          },
          "metadata": {},
          "execution_count": 128
        }
      ]
    },
    {
      "cell_type": "markdown",
      "source": [],
      "metadata": {
        "id": "VjKZuTOpLIUK"
      }
    },
    {
      "cell_type": "code",
      "source": [
        "df.dropna(inplace=True)"
      ],
      "metadata": {
        "id": "fx3VgZ3yXFQW"
      },
      "execution_count": null,
      "outputs": []
    },
    {
      "cell_type": "code",
      "source": [
        "skills_columns = ['LS','ST','RS','LW','LF','CF','RF','RW','LAM','CAM','RAM',\n",
        "                  'LM','LCM','CM','RCM','RM','LWB','LDM','CDM','RDM','RWB',\n",
        "                  'LB','LCB','CB','RCB','RB']\n",
        "for col_name in skills_columns:\n",
        "  df[col_name] = df[col_name].str.split('+').str[0]\n",
        "  df[col_name] = df[col_name].astype(int)"
      ],
      "metadata": {
        "id": "L-4s5u6pV2UG"
      },
      "execution_count": null,
      "outputs": []
    },
    {
      "cell_type": "code",
      "source": [
        "def convert_currency_to_number(x):\n",
        "      output = x.replace('€','')\n",
        "      if 'M' in x:\n",
        "        output = output.replace('M','')\n",
        "        output = float(output) * 1e6\n",
        "      elif 'K' in x:\n",
        "        output = output.replace('K','')\n",
        "        output = float(output) * 1e3\n",
        "      output = float(output)\n",
        "      return output"
      ],
      "metadata": {
        "id": "wbUdj0VNWMXa"
      },
      "execution_count": null,
      "outputs": []
    },
    {
      "cell_type": "code",
      "source": [
        "df['Value'] = df['Value'].apply(convert_currency_to_number)\n",
        "df['Wage'] = df['Wage'].apply(convert_currency_to_number)\n",
        "df['Release Clause'] = df['Release Clause'].apply(convert_currency_to_number)"
      ],
      "metadata": {
        "id": "21G8yXC4WM4w"
      },
      "execution_count": null,
      "outputs": []
    },
    {
      "cell_type": "code",
      "source": [
        "def convert_height_to_number(x):\n",
        "    output = x.replace(\"'\",'.')\n",
        "    return float(output)* 30.48\n",
        "\n",
        "def convert_weight_to_number(x):\n",
        "    output = x.replace(\"lbs\",'')\n",
        "    return float(output)* .4205"
      ],
      "metadata": {
        "id": "2mHG9BtOXMH1"
      },
      "execution_count": null,
      "outputs": []
    },
    {
      "cell_type": "code",
      "source": [
        "df['Height'] = df['Height'].apply(convert_height_to_number)\n",
        "df['Weight'] = df['Weight'].apply(convert_weight_to_number)"
      ],
      "metadata": {
        "id": "Bp-iBdKjXM8E"
      },
      "execution_count": null,
      "outputs": []
    },
    {
      "cell_type": "code",
      "source": [
        "for col_name in list(df.select_dtypes(include = \"object\").columns):\n",
        "  print('Number of unique values in column %s is %d\\n' %(col_name,len(df[col_name].unique())))"
      ],
      "metadata": {
        "colab": {
          "base_uri": "https://localhost:8080/"
        },
        "id": "eCVcu29IXZuP",
        "outputId": "a23c83f0-c93e-42fa-bda9-f5a42d5bef74"
      },
      "execution_count": null,
      "outputs": [
        {
          "output_type": "stream",
          "name": "stdout",
          "text": [
            "Number of unique values in column Club is 0\n",
            "\n",
            "Number of unique values in column Playing_in_League is 0\n",
            "\n",
            "Number of unique values in column Name is 0\n",
            "\n",
            "Number of unique values in column Photo is 0\n",
            "\n",
            "Number of unique values in column Nationality is 0\n",
            "\n",
            "Number of unique values in column Flag is 0\n",
            "\n",
            "Number of unique values in column Club Logo is 0\n",
            "\n",
            "Number of unique values in column Value is 0\n",
            "\n",
            "Number of unique values in column Wage is 0\n",
            "\n",
            "Number of unique values in column Preferred Foot is 0\n",
            "\n",
            "Number of unique values in column Work Rate is 0\n",
            "\n",
            "Number of unique values in column Body Type is 0\n",
            "\n",
            "Number of unique values in column Real Face is 0\n",
            "\n",
            "Number of unique values in column Position is 0\n",
            "\n",
            "Number of unique values in column Joined is 0\n",
            "\n",
            "Number of unique values in column Loaned From is 0\n",
            "\n",
            "Number of unique values in column Contract Valid Until is 0\n",
            "\n",
            "Number of unique values in column Height is 0\n",
            "\n",
            "Number of unique values in column Weight is 0\n",
            "\n",
            "Number of unique values in column Release Clause is 0\n",
            "\n"
          ]
        }
      ]
    },
    {
      "cell_type": "code",
      "source": [
        "target_positions = df.pop('Position')\n",
        "to_one_hot_columns = list(df.select_dtypes(include = \"object\").columns)\n",
        "onehot_column_names = []\n",
        "for column in to_one_hot_columns:\n",
        "    encoded_df = pd.get_dummies(df[column])\n",
        "    df[encoded_df.columns] = encoded_df     # Insert the newly encoded columns into the dataset\n",
        "    onehot_column_names += list(encoded_df.columns)\n",
        "df.head()"
      ],
      "metadata": {
        "colab": {
          "base_uri": "https://localhost:8080/",
          "height": 79
        },
        "id": "qySx3fD_XfW6",
        "outputId": "a24f7dd8-287e-4e1f-be1f-cec0286ca8a4"
      },
      "execution_count": null,
      "outputs": [
        {
          "output_type": "execute_result",
          "data": {
            "text/plain": [
              "Empty DataFrame\n",
              "Columns: [Club, Playing_in_League, ID, Name, Age, Photo, Nationality, Flag, Overall, Potential, Club Logo, Value, Wage, Special, Preferred Foot, International Reputation, Weak Foot, Skill Moves, Work Rate, Body Type, Real Face, Jersey Number, Joined, Loaned From, Contract Valid Until, Height, Weight, LS, ST, RS, LW, LF, CF, RF, RW, LAM, CAM, RAM, LM, LCM, CM, RCM, RM, LWB, LDM, CDM, RDM, RWB, LB, LCB, CB, RCB, RB, Crossing, Finishing, HeadingAccuracy, ShortPassing, Volleys, Dribbling, Curve, FKAccuracy, LongPassing, BallControl, Acceleration, SprintSpeed, Agility, Reactions, Balance, ShotPower, Jumping, Stamina, Strength, LongShots, Aggression, Interceptions, Positioning, Vision, Penalties, Composure, Marking, StandingTackle, SlidingTackle, GKDiving, GKHandling, GKKicking, GKPositioning, GKReflexes, Release Clause]\n",
              "Index: []\n",
              "\n",
              "[0 rows x 88 columns]"
            ],
            "text/html": [
              "\n",
              "  <div id=\"df-1c052789-1915-4c34-a4cb-882b0fe7752f\">\n",
              "    <div class=\"colab-df-container\">\n",
              "      <div>\n",
              "<style scoped>\n",
              "    .dataframe tbody tr th:only-of-type {\n",
              "        vertical-align: middle;\n",
              "    }\n",
              "\n",
              "    .dataframe tbody tr th {\n",
              "        vertical-align: top;\n",
              "    }\n",
              "\n",
              "    .dataframe thead th {\n",
              "        text-align: right;\n",
              "    }\n",
              "</style>\n",
              "<table border=\"1\" class=\"dataframe\">\n",
              "  <thead>\n",
              "    <tr style=\"text-align: right;\">\n",
              "      <th></th>\n",
              "      <th>Club</th>\n",
              "      <th>Playing_in_League</th>\n",
              "      <th>ID</th>\n",
              "      <th>Name</th>\n",
              "      <th>Age</th>\n",
              "      <th>Photo</th>\n",
              "      <th>Nationality</th>\n",
              "      <th>Flag</th>\n",
              "      <th>Overall</th>\n",
              "      <th>Potential</th>\n",
              "      <th>...</th>\n",
              "      <th>Composure</th>\n",
              "      <th>Marking</th>\n",
              "      <th>StandingTackle</th>\n",
              "      <th>SlidingTackle</th>\n",
              "      <th>GKDiving</th>\n",
              "      <th>GKHandling</th>\n",
              "      <th>GKKicking</th>\n",
              "      <th>GKPositioning</th>\n",
              "      <th>GKReflexes</th>\n",
              "      <th>Release Clause</th>\n",
              "    </tr>\n",
              "  </thead>\n",
              "  <tbody>\n",
              "  </tbody>\n",
              "</table>\n",
              "<p>0 rows × 88 columns</p>\n",
              "</div>\n",
              "      <button class=\"colab-df-convert\" onclick=\"convertToInteractive('df-1c052789-1915-4c34-a4cb-882b0fe7752f')\"\n",
              "              title=\"Convert this dataframe to an interactive table.\"\n",
              "              style=\"display:none;\">\n",
              "        \n",
              "  <svg xmlns=\"http://www.w3.org/2000/svg\" height=\"24px\"viewBox=\"0 0 24 24\"\n",
              "       width=\"24px\">\n",
              "    <path d=\"M0 0h24v24H0V0z\" fill=\"none\"/>\n",
              "    <path d=\"M18.56 5.44l.94 2.06.94-2.06 2.06-.94-2.06-.94-.94-2.06-.94 2.06-2.06.94zm-11 1L8.5 8.5l.94-2.06 2.06-.94-2.06-.94L8.5 2.5l-.94 2.06-2.06.94zm10 10l.94 2.06.94-2.06 2.06-.94-2.06-.94-.94-2.06-.94 2.06-2.06.94z\"/><path d=\"M17.41 7.96l-1.37-1.37c-.4-.4-.92-.59-1.43-.59-.52 0-1.04.2-1.43.59L10.3 9.45l-7.72 7.72c-.78.78-.78 2.05 0 2.83L4 21.41c.39.39.9.59 1.41.59.51 0 1.02-.2 1.41-.59l7.78-7.78 2.81-2.81c.8-.78.8-2.07 0-2.86zM5.41 20L4 18.59l7.72-7.72 1.47 1.35L5.41 20z\"/>\n",
              "  </svg>\n",
              "      </button>\n",
              "      \n",
              "  <style>\n",
              "    .colab-df-container {\n",
              "      display:flex;\n",
              "      flex-wrap:wrap;\n",
              "      gap: 12px;\n",
              "    }\n",
              "\n",
              "    .colab-df-convert {\n",
              "      background-color: #E8F0FE;\n",
              "      border: none;\n",
              "      border-radius: 50%;\n",
              "      cursor: pointer;\n",
              "      display: none;\n",
              "      fill: #1967D2;\n",
              "      height: 32px;\n",
              "      padding: 0 0 0 0;\n",
              "      width: 32px;\n",
              "    }\n",
              "\n",
              "    .colab-df-convert:hover {\n",
              "      background-color: #E2EBFA;\n",
              "      box-shadow: 0px 1px 2px rgba(60, 64, 67, 0.3), 0px 1px 3px 1px rgba(60, 64, 67, 0.15);\n",
              "      fill: #174EA6;\n",
              "    }\n",
              "\n",
              "    [theme=dark] .colab-df-convert {\n",
              "      background-color: #3B4455;\n",
              "      fill: #D2E3FC;\n",
              "    }\n",
              "\n",
              "    [theme=dark] .colab-df-convert:hover {\n",
              "      background-color: #434B5C;\n",
              "      box-shadow: 0px 1px 3px 1px rgba(0, 0, 0, 0.15);\n",
              "      filter: drop-shadow(0px 1px 2px rgba(0, 0, 0, 0.3));\n",
              "      fill: #FFFFFF;\n",
              "    }\n",
              "  </style>\n",
              "\n",
              "      <script>\n",
              "        const buttonEl =\n",
              "          document.querySelector('#df-1c052789-1915-4c34-a4cb-882b0fe7752f button.colab-df-convert');\n",
              "        buttonEl.style.display =\n",
              "          google.colab.kernel.accessAllowed ? 'block' : 'none';\n",
              "\n",
              "        async function convertToInteractive(key) {\n",
              "          const element = document.querySelector('#df-1c052789-1915-4c34-a4cb-882b0fe7752f');\n",
              "          const dataTable =\n",
              "            await google.colab.kernel.invokeFunction('convertToInteractive',\n",
              "                                                     [key], {});\n",
              "          if (!dataTable) return;\n",
              "\n",
              "          const docLinkHtml = 'Like what you see? Visit the ' +\n",
              "            '<a target=\"_blank\" href=https://colab.research.google.com/notebooks/data_table.ipynb>data table notebook</a>'\n",
              "            + ' to learn more about interactive tables.';\n",
              "          element.innerHTML = '';\n",
              "          dataTable['output_type'] = 'display_data';\n",
              "          await google.colab.output.renderOutput(dataTable, element);\n",
              "          const docLink = document.createElement('div');\n",
              "          docLink.innerHTML = docLinkHtml;\n",
              "          element.appendChild(docLink);\n",
              "        }\n",
              "      </script>\n",
              "    </div>\n",
              "  </div>\n",
              "  "
            ]
          },
          "metadata": {},
          "execution_count": 136
        }
      ]
    },
    {
      "cell_type": "code",
      "source": [
        "df.drop(to_one_hot_columns, axis=1, inplace=True)"
      ],
      "metadata": {
        "id": "aj-Gs7qsXkGz"
      },
      "execution_count": null,
      "outputs": []
    },
    {
      "cell_type": "markdown",
      "source": [
        "Prepare train and test sets"
      ],
      "metadata": {
        "id": "fdP79pBkYDqP"
      }
    },
    {
      "cell_type": "code",
      "source": [
        "# First, let's separate the target column, price\n",
        "y = target_positions"
      ],
      "metadata": {
        "id": "mNIzYMURYH3J"
      },
      "execution_count": null,
      "outputs": []
    },
    {
      "cell_type": "markdown",
      "source": [
        "Using LightGBM"
      ],
      "metadata": {
        "id": "HmLbuWCZLCM1"
      }
    },
    {
      "cell_type": "code",
      "source": [
        "import lightgbm as lgb\n",
        "\n",
        "model = lgb.LGBMClassifier(learning_rate=0.09,max_depth=10)\n",
        "model.fit(X_train,y_train,eval_metric=f1_score) #'logloss')"
      ],
      "metadata": {
        "colab": {
          "base_uri": "https://localhost:8080/"
        },
        "id": "F6Dsu1k0LEya",
        "outputId": "044ce3b0-ebfb-44f3-eb5b-962d0b5d0e91"
      },
      "execution_count": null,
      "outputs": [
        {
          "output_type": "execute_result",
          "data": {
            "text/plain": [
              "LGBMClassifier(learning_rate=0.09, max_depth=10)"
            ]
          },
          "metadata": {},
          "execution_count": 140
        }
      ]
    },
    {
      "cell_type": "code",
      "source": [
        "predictions = model.predict(X_test)\n",
        "print('Macro F1-score is %.2f' %f1_score(y_test, predictions, average='macro'))"
      ],
      "metadata": {
        "colab": {
          "base_uri": "https://localhost:8080/"
        },
        "id": "r25GkOBRLGS5",
        "outputId": "9389cd5b-377f-4634-93c7-293513157113"
      },
      "execution_count": null,
      "outputs": [
        {
          "output_type": "stream",
          "name": "stdout",
          "text": [
            "Macro F1-score is 0.74\n"
          ]
        }
      ]
    }
  ]
}